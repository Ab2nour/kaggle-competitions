{
 "cells": [
  {
   "cell_type": "markdown",
   "metadata": {},
   "source": [
    "# Import des outils / jeu de données"
   ]
  },
  {
   "cell_type": "code",
   "execution_count": null,
   "metadata": {},
   "outputs": [],
   "source": [
    "import matplotlib.pyplot as plt\n",
    "import numpy as np\n",
    "import pandas as pd\n",
    "import seaborn as sns\n",
    "from catboost import CatBoostClassifier\n",
    "from imblearn.over_sampling import SMOTEN, SMOTENC\n",
    "from keras import layers\n",
    "from lightgbm import LGBMClassifier\n",
    "from scipy.stats import boxcox\n",
    "from sklearn.compose import ColumnTransformer\n",
    "from sklearn.discriminant_analysis import LinearDiscriminantAnalysis\n",
    "from sklearn.dummy import DummyClassifier\n",
    "from sklearn.ensemble import IsolationForest, RandomForestClassifier, VotingClassifier\n",
    "from sklearn.feature_selection import mutual_info_regression\n",
    "from sklearn.gaussian_process import GaussianProcessClassifier\n",
    "from sklearn.impute import SimpleImputer\n",
    "from sklearn.inspection import permutation_importance\n",
    "from sklearn.linear_model import LogisticRegression\n",
    "from sklearn.metrics import (\n",
    "    ConfusionMatrixDisplay,\n",
    "    accuracy_score,\n",
    "    classification_report,\n",
    "    confusion_matrix,\n",
    "    f1_score,\n",
    "    make_scorer,\n",
    "    recall_score,\n",
    ")\n",
    "from sklearn.model_selection import GridSearchCV, cross_val_score, train_test_split\n",
    "from sklearn.naive_bayes import BernoulliNB, ComplementNB\n",
    "from sklearn.neighbors import KNeighborsClassifier\n",
    "from sklearn.pipeline import Pipeline\n",
    "from sklearn.preprocessing import (\n",
    "    LabelEncoder,\n",
    "    OneHotEncoder,\n",
    "    OrdinalEncoder,\n",
    "    RobustScaler,\n",
    "    StandardScaler,\n",
    ")\n",
    "from sklearn.svm import LinearSVC\n",
    "from sklearn.tree import DecisionTreeClassifier\n",
    "from tensorflow import keras\n",
    "from xgboost import XGBClassifier"
   ]
  },
  {
   "cell_type": "code",
   "execution_count": null,
   "metadata": {},
   "outputs": [],
   "source": [
    "SEED = 0"
   ]
  },
  {
   "cell_type": "code",
   "execution_count": null,
   "metadata": {},
   "outputs": [],
   "source": [
    "np.random.seed(SEED)\n",
    "sns.set_theme()"
   ]
  },
  {
   "cell_type": "code",
   "execution_count": null,
   "metadata": {},
   "outputs": [],
   "source": [
    "ID_COL = \"PassengerId\"\n",
    "TARGET = \"Survived\""
   ]
  },
  {
   "cell_type": "code",
   "execution_count": null,
   "metadata": {},
   "outputs": [],
   "source": [
    "df = pd.read_csv(\n",
    "    \"data/train.csv\",\n",
    "    index_col=ID_COL,\n",
    ")"
   ]
  },
  {
   "cell_type": "markdown",
   "metadata": {},
   "source": [
    "## Variables globales"
   ]
  },
  {
   "cell_type": "code",
   "execution_count": null,
   "metadata": {},
   "outputs": [],
   "source": [
    "LABELS = df[TARGET].unique()"
   ]
  },
  {
   "cell_type": "code",
   "execution_count": null,
   "metadata": {},
   "outputs": [],
   "source": [
    "var_quanti = [\n",
    "    \"Age\",\n",
    "    \"Fare\",\n",
    "]"
   ]
  },
  {
   "cell_type": "code",
   "execution_count": null,
   "metadata": {},
   "outputs": [],
   "source": [
    "var_quali = [\n",
    "    \"Pclass\",\n",
    "    \"Sex\",\n",
    "    \"SibSp\",\n",
    "    \"Parch\",\n",
    "    \"Embarked\",\n",
    "]"
   ]
  },
  {
   "cell_type": "code",
   "execution_count": null,
   "metadata": {},
   "outputs": [],
   "source": [
    "X = df.copy()[var_quanti + var_quali]\n",
    "y = df[TARGET].copy()"
   ]
  },
  {
   "cell_type": "code",
   "execution_count": null,
   "metadata": {},
   "outputs": [],
   "source": [
    "# le = LabelEncoder()\n",
    "# y = le.fit_transform(y)"
   ]
  },
  {
   "cell_type": "markdown",
   "metadata": {},
   "source": [
    "## Fonctions et variables utiles"
   ]
  },
  {
   "cell_type": "code",
   "execution_count": null,
   "metadata": {},
   "outputs": [],
   "source": [
    "score_modeles = []"
   ]
  },
  {
   "cell_type": "markdown",
   "metadata": {},
   "source": [
    "**Tableau.** Informations sur notre classification\n",
    "\n",
    "|:---------------------------|:----------------------------------|\n",
    "| **Objectif métier**        | Prédire l'acceptation à une campagne marketing |\n",
    "| **Problème technique**     | Classification binaire supervisée |\n",
    "| **Métrique**               | Score F1 sur la classe 1 (clients qui acceptent)<br>À score F1 égal, on choisit la meilleure précision sur la classe 1 |\n",
    "| **Méthode d'entraînement** | Validation croisée en 5 blocs     |\n",
    "| **Pré-traitement**         | Variables quantitatives : centrer/réduire<br>Variables qualitatives : OneHot Encoding (Tableau Disjonctif Complet) |\n",
    "| **Équilibrage des classes**| 1) Aucun<br>2) Sous-échantillonnage aléatoire manuel<br>3) Sur-échantillonnage avec SMOTE |\n"
   ]
  },
  {
   "cell_type": "code",
   "execution_count": null,
   "metadata": {},
   "outputs": [],
   "source": [
    "def evaluate_models(models, prefix, X_train, X_test, y_train, y_test):\n",
    "    \"\"\"Evalue tous les modèles dans `models` et sauvegarde les résultats avec un préfixe `prefix`\n",
    "    (utile pour distinguer les différentes stratégies de pré-traitement des données).\"\"\"\n",
    "    results = []\n",
    "\n",
    "    for model_name, model in models.items():\n",
    "        name = f\"{prefix}/{model_name}\"\n",
    "        print(name)\n",
    "\n",
    "        scores = cross_val_score(\n",
    "            model,\n",
    "            X_train,\n",
    "            y_train,\n",
    "            cv=5,\n",
    "            scoring=\"accuracy\",\n",
    "        )\n",
    "\n",
    "        scores_mean = scores.mean()\n",
    "        scores_std = scores.std()\n",
    "\n",
    "        results.append(\n",
    "            [\n",
    "                name,\n",
    "                scores_mean,\n",
    "                scores_std,\n",
    "            ]\n",
    "        )\n",
    "        score_modeles.extend(\n",
    "            (\n",
    "                [\n",
    "                    name,\n",
    "                    \"score_f1_classe1\",\n",
    "                    scores_mean,\n",
    "                    scores_std,\n",
    "                ],\n",
    "            )\n",
    "        )\n",
    "\n",
    "    print(sorted(results, key=lambda x: x[1], reverse=True))\n",
    "\n",
    "    return results"
   ]
  },
  {
   "cell_type": "markdown",
   "metadata": {},
   "source": [
    "# Liste des modèles"
   ]
  },
  {
   "cell_type": "markdown",
   "metadata": {},
   "source": [
    "**Tableau.** Liste des modèles de notre étude\n",
    "\n",
    "|||\n",
    "|:---------------------------|:----------------------------------|\n",
    "| **Modèles de référence**   | Classificateur Idiot Uniforme (50% de oui et 50% de non)<br>Classificateur Idiot Constant 1 (100% de oui) |\n",
    "| **Modèles linéaires**  | Régression logistique<br>Analyse Discriminante Linéaire |\n",
    "| **Arbres de décision**               | Arbre de décision<br>Forêt d'arbres de décision (Random Forest) |\n",
    "| **Gradient Boosting** | XGBoost<br>LightGBM<br>CatBoost |\n",
    "| **Machine à vecteurs de support (SVM)** | Classificateur SVM linéaire |\n",
    "| **k plus proches voisins (k-NN)** | Classificateur k-nn (5 voisins)<br>Classificateur k-nn (15 voisins) |\n",
    "| **Modèle de vote**| Modèle de \"Vote à la majorité\" sur 5 modèles :<br>- Régression logistique<br>- Analyse discriminante linéaire<br>- Random Forest<br>- XGBoost<br>- CatBoost |\n",
    "| **Réseau de neurones**| Réseau de neurones à 5 couches et 1 600 neurones |\n"
   ]
  },
  {
   "cell_type": "code",
   "execution_count": null,
   "metadata": {},
   "outputs": [],
   "source": [
    "models = {\n",
    "    \"DummyClassifier_Uniform\": DummyClassifier(strategy=\"uniform\", random_state=SEED),\n",
    "    \"DummyClassifier_MostFrequent\": DummyClassifier(\n",
    "        strategy=\"most_frequent\", random_state=SEED\n",
    "    ),\n",
    "    \"KNeighborsClassifier5\": KNeighborsClassifier(),\n",
    "    \"LinearSVC\": LinearSVC(random_state=SEED),\n",
    "    \"LogisticRegression\": LogisticRegression(random_state=SEED),\n",
    "    \"LinearDiscriminantAnalysis\": LinearDiscriminantAnalysis(),\n",
    "    \"RandomForestClassifier\": RandomForestClassifier(random_state=SEED),\n",
    "    \"XGBClassifier\": XGBClassifier(random_state=SEED),\n",
    "    \"CatBoostClassifier\": CatBoostClassifier(random_state=SEED, verbose=False),\n",
    "    \"LGBMClassifier\": LGBMClassifier(random_state=SEED),\n",
    "}"
   ]
  },
  {
   "cell_type": "markdown",
   "metadata": {},
   "source": [
    "# Todo"
   ]
  },
  {
   "cell_type": "markdown",
   "metadata": {},
   "source": [
    "- refactor code\n",
    "- refactor: include MCA in pipeline\n",
    "- feature selection\n",
    "- feature selection: train only on MCA columns? only MCA cols + some selected original variables?\n",
    "- feature engineering: add clusters to variables\n",
    "- SMOTE categorical\n",
    "- code Tetsu https://www.kaggle.com/code/tetsutani/ps3e13-eda-decomposition-ensemble-rankpredict/notebook\n",
    "- rajouter le temps pris par chaque algo dans la fonction qui évalue les modèles\n",
    "\n"
   ]
  },
  {
   "cell_type": "markdown",
   "metadata": {},
   "source": [
    "# Traitement des données"
   ]
  },
  {
   "cell_type": "markdown",
   "metadata": {},
   "source": [
    "## Pipeline Scaler & OneHotEncoding"
   ]
  },
  {
   "cell_type": "code",
   "execution_count": null,
   "metadata": {},
   "outputs": [],
   "source": [
    "var_cat_non_ohe = []"
   ]
  },
  {
   "cell_type": "code",
   "execution_count": null,
   "metadata": {},
   "outputs": [],
   "source": [
    "var_cat_ohe = var_quali"
   ]
  },
  {
   "cell_type": "code",
   "execution_count": null,
   "metadata": {},
   "outputs": [],
   "source": [
    "quanti_processor = Pipeline(\n",
    "    steps=[\n",
    "        (\"imputer\", SimpleImputer()),\n",
    "        (\"scaler\", StandardScaler()),\n",
    "    ]\n",
    ")"
   ]
  },
  {
   "cell_type": "code",
   "execution_count": null,
   "metadata": {},
   "outputs": [],
   "source": [
    "quali_processor = Pipeline(\n",
    "    steps=[\n",
    "        (\"imputer\", SimpleImputer(strategy=\"most_frequent\")),\n",
    "        (\n",
    "            \"encoder\",\n",
    "            OrdinalEncoder(handle_unknown=\"use_encoded_value\", unknown_value=np.nan),\n",
    "        ),\n",
    "    ]\n",
    ")"
   ]
  },
  {
   "cell_type": "code",
   "execution_count": null,
   "metadata": {},
   "outputs": [],
   "source": [
    "preprocessor = ColumnTransformer(\n",
    "    remainder=\"passthrough\",\n",
    "    transformers=[\n",
    "        #         (\n",
    "        #             \"ohe\",\n",
    "        #             OneHotEncoder(handle_unknown=\"infrequent_if_exist\", sparse_output=False),\n",
    "        #             var_cat_ohe,\n",
    "        #         ),\n",
    "        (\"quali_processor\", quali_processor, var_quali),\n",
    "        (\"quanti_processor\", quanti_processor, var_quanti),\n",
    "    ],\n",
    ")"
   ]
  },
  {
   "cell_type": "code",
   "execution_count": null,
   "metadata": {},
   "outputs": [],
   "source": [
    "nouveau_df = pd.DataFrame(\n",
    "    preprocessor.fit_transform(X),\n",
    "    index=df.index,\n",
    "    columns=preprocessor.get_feature_names_out(),\n",
    ")"
   ]
  },
  {
   "cell_type": "code",
   "execution_count": null,
   "metadata": {},
   "outputs": [
    {
     "data": {
      "text/plain": [
       "(891, 7)"
      ]
     },
     "execution_count": null,
     "metadata": {},
     "output_type": "execute_result"
    }
   ],
   "source": [
    "nouveau_df.shape"
   ]
  },
  {
   "cell_type": "markdown",
   "metadata": {},
   "source": [
    "## Par défaut"
   ]
  },
  {
   "cell_type": "code",
   "execution_count": null,
   "metadata": {},
   "outputs": [],
   "source": [
    "X_train, X_test, y_train, y_test = train_test_split(\n",
    "    nouveau_df, y, test_size=0.2, random_state=SEED\n",
    ")"
   ]
  },
  {
   "cell_type": "code",
   "execution_count": null,
   "metadata": {},
   "outputs": [
    {
     "data": {
      "text/plain": [
       "PassengerId\n",
       "141    0\n",
       "440    0\n",
       "818    0\n",
       "379    0\n",
       "492    0\n",
       "Name: Survived, dtype: int64"
      ]
     },
     "execution_count": null,
     "metadata": {},
     "output_type": "execute_result"
    }
   ],
   "source": [
    "y_train.head()"
   ]
  },
  {
   "cell_type": "code",
   "execution_count": null,
   "metadata": {},
   "outputs": [
    {
     "name": "stdout",
     "output_type": "stream",
     "text": [
      "défaut/DummyClassifier_Uniform\n",
      "défaut/DummyClassifier_MostFrequent\n",
      "défaut/KNeighborsClassifier5\n",
      "défaut/LinearSVC\n"
     ]
    },
    {
     "name": "stderr",
     "output_type": "stream",
     "text": [
      "/home/ab2/.cache/pypoetry/virtualenvs/kaggle-competitions-ww632Mhq-py3.10/lib/python3.10/site-packages/sklearn/svm/_base.py:1244: ConvergenceWarning: Liblinear failed to converge, increase the number of iterations.\n",
      "  warnings.warn(\n",
      "/home/ab2/.cache/pypoetry/virtualenvs/kaggle-competitions-ww632Mhq-py3.10/lib/python3.10/site-packages/sklearn/svm/_base.py:1244: ConvergenceWarning: Liblinear failed to converge, increase the number of iterations.\n",
      "  warnings.warn(\n",
      "/home/ab2/.cache/pypoetry/virtualenvs/kaggle-competitions-ww632Mhq-py3.10/lib/python3.10/site-packages/sklearn/svm/_base.py:1244: ConvergenceWarning: Liblinear failed to converge, increase the number of iterations.\n",
      "  warnings.warn(\n",
      "/home/ab2/.cache/pypoetry/virtualenvs/kaggle-competitions-ww632Mhq-py3.10/lib/python3.10/site-packages/sklearn/svm/_base.py:1244: ConvergenceWarning: Liblinear failed to converge, increase the number of iterations.\n",
      "  warnings.warn(\n",
      "/home/ab2/.cache/pypoetry/virtualenvs/kaggle-competitions-ww632Mhq-py3.10/lib/python3.10/site-packages/sklearn/svm/_base.py:1244: ConvergenceWarning: Liblinear failed to converge, increase the number of iterations.\n",
      "  warnings.warn(\n"
     ]
    },
    {
     "name": "stdout",
     "output_type": "stream",
     "text": [
      "défaut/LogisticRegression\n",
      "défaut/LinearDiscriminantAnalysis\n",
      "défaut/RandomForestClassifier\n",
      "défaut/XGBClassifier\n",
      "défaut/CatBoostClassifier\n",
      "défaut/LGBMClassifier\n",
      "[['défaut/CatBoostClassifier', 0.8229882793263075, 0.01889518371218075], ['défaut/LGBMClassifier', 0.8103614695163991, 0.019609010246083153], ['défaut/LinearSVC', 0.7963656062247612, 0.036797617433123125], ['défaut/LinearDiscriminantAnalysis', 0.7963459076135132, 0.03469373133000308], ['défaut/RandomForestClassifier', 0.7935487048163103, 0.02241115079215675], ['défaut/LogisticRegression', 0.792159952723333, 0.029508897707739568], ['défaut/XGBClassifier', 0.7921205555008373, 0.021657666780955345], ['défaut/KNeighborsClassifier5', 0.7822712498768837, 0.0404883546788373], ['défaut/DummyClassifier_MostFrequent', 0.6165763813651137, 0.002749420918840616], ['défaut/DummyClassifier_Uniform', 0.47193932827735646, 0.039742667051208304]]\n"
     ]
    }
   ],
   "source": [
    "prefix = \"défaut\"\n",
    "results = evaluate_models(models, prefix, X_train, X_test, y_train, y_test)"
   ]
  },
  {
   "cell_type": "code",
   "execution_count": null,
   "metadata": {},
   "outputs": [
    {
     "data": {
      "text/plain": [
       "[['défaut/CatBoostClassifier', 0.8229882793263075, 0.01889518371218075],\n",
       " ['défaut/LGBMClassifier', 0.8103614695163991, 0.019609010246083153],\n",
       " ['défaut/LinearSVC', 0.7963656062247612, 0.036797617433123125],\n",
       " ['défaut/LinearDiscriminantAnalysis',\n",
       "  0.7963459076135132,\n",
       "  0.03469373133000308],\n",
       " ['défaut/RandomForestClassifier', 0.7935487048163103, 0.02241115079215675],\n",
       " ['défaut/LogisticRegression', 0.792159952723333, 0.029508897707739568],\n",
       " ['défaut/XGBClassifier', 0.7921205555008373, 0.021657666780955345],\n",
       " ['défaut/KNeighborsClassifier5', 0.7822712498768837, 0.0404883546788373],\n",
       " ['défaut/DummyClassifier_MostFrequent',\n",
       "  0.6165763813651137,\n",
       "  0.002749420918840616],\n",
       " ['défaut/DummyClassifier_Uniform', 0.47193932827735646, 0.039742667051208304]]"
      ]
     },
     "execution_count": null,
     "metadata": {},
     "output_type": "execute_result"
    }
   ],
   "source": [
    "sorted(results, key=lambda x: x[1], reverse=True)"
   ]
  },
  {
   "cell_type": "markdown",
   "metadata": {},
   "source": [
    "# Diagnostic du modèle"
   ]
  },
  {
   "cell_type": "markdown",
   "metadata": {},
   "source": [
    "## RandomForest feature importance"
   ]
  },
  {
   "cell_type": "code",
   "execution_count": null,
   "metadata": {},
   "outputs": [],
   "source": [
    "nom_colonnes = preprocessor.get_feature_names_out(X.columns)"
   ]
  },
  {
   "cell_type": "code",
   "execution_count": null,
   "metadata": {},
   "outputs": [],
   "source": [
    "nom_colonnes = list(map(lambda x: x.split(\"__\")[1], nom_colonnes))"
   ]
  },
  {
   "cell_type": "code",
   "execution_count": null,
   "metadata": {},
   "outputs": [],
   "source": [
    "nom_colonnes = nom_colonnes + list(df.columns[len(nom_colonnes) :])"
   ]
  },
  {
   "cell_type": "code",
   "execution_count": null,
   "metadata": {},
   "outputs": [],
   "source": [
    "model_to_diagnose = models[6][0]"
   ]
  },
  {
   "cell_type": "code",
   "execution_count": null,
   "metadata": {},
   "outputs": [
    {
     "data": {
      "text/plain": [
       "<catboost.core.CatBoostClassifier>"
      ]
     },
     "execution_count": null,
     "metadata": {},
     "output_type": "execute_result"
    }
   ],
   "source": [
    "model_to_diagnose.fit(X_train, y_train)"
   ]
  },
  {
   "cell_type": "code",
   "execution_count": null,
   "metadata": {},
   "outputs": [],
   "source": [
    "fi = model_to_diagnose.feature_importances_"
   ]
  },
  {
   "cell_type": "code",
   "execution_count": null,
   "metadata": {},
   "outputs": [
    {
     "data": {
      "text/plain": [
       "25"
      ]
     },
     "execution_count": null,
     "metadata": {},
     "output_type": "execute_result"
    }
   ],
   "source": [
    "len(fi)"
   ]
  },
  {
   "cell_type": "code",
   "execution_count": null,
   "metadata": {},
   "outputs": [],
   "source": [
    "fi = pd.DataFrame(fi.reshape((1, len(fi))), columns=nom_colonnes)"
   ]
  },
  {
   "cell_type": "code",
   "execution_count": null,
   "metadata": {},
   "outputs": [],
   "source": [
    "fi = fi.sort_values(\n",
    "    by=0, axis=1, ascending=False\n",
    ")  # trier les colonnes en fonction de la ligne 0"
   ]
  },
  {
   "cell_type": "code",
   "execution_count": null,
   "metadata": {},
   "outputs": [
    {
     "data": {
      "text/plain": [
       "<Axes: title={'center': \"Importance donnée par le modèle <class 'catboost.core.CatBoostClassifier'>\"}>"
      ]
     },
     "execution_count": null,
     "metadata": {},
     "output_type": "execute_result"
    },
    {
     "data": {
      "image/png": "[encoded data removed]",
      "text/plain": [
       "<Figure size 500x1500 with 1 Axes>"
      ]
     },
     "metadata": {},
     "output_type": "display_data"
    }
   ],
   "source": [
    "plt.figure(figsize=(5, 15))\n",
    "plt.title(f\"Importance donnée par le modèle {model_to_diagnose.__class__}\")\n",
    "sns.barplot(fi, orient=\"h\", color=\"gray\")"
   ]
  },
  {
   "cell_type": "markdown",
   "metadata": {},
   "source": [
    "## Permutation importance"
   ]
  },
  {
   "cell_type": "code",
   "execution_count": null,
   "metadata": {},
   "outputs": [],
   "source": [
    "result = permutation_importance(\n",
    "    model_to_diagnose, X_test, y_test, n_repeats=10, random_state=SEED\n",
    ")"
   ]
  },
  {
   "cell_type": "code",
   "execution_count": null,
   "metadata": {},
   "outputs": [],
   "source": [
    "# sns.histplot(result.importances_std < 0.015)"
   ]
  },
  {
   "cell_type": "code",
   "execution_count": null,
   "metadata": {},
   "outputs": [],
   "source": [
    "pi_results = result.importances_mean"
   ]
  },
  {
   "cell_type": "code",
   "execution_count": null,
   "metadata": {},
   "outputs": [],
   "source": [
    "pi_results = pd.DataFrame(\n",
    "    pi_results.reshape((1, len(pi_results))), columns=nom_colonnes\n",
    ")\n",
    "pi_results = pi_results.sort_values(by=0, axis=1, ascending=False)"
   ]
  },
  {
   "cell_type": "code",
   "execution_count": null,
   "metadata": {},
   "outputs": [
    {
     "data": {
      "text/plain": [
       "Index(['ohe__Sex_male', 'scaler__Age', 'ohe__Pclass_3', 'scaler__Fare',\n",
       "       'ohe__SibSp_1', 'ohe__Sex_female', 'ohe__Parch_1', 'ohe__SibSp_0',\n",
       "       'ohe__Pclass_2', 'ohe__Parch_0', 'ohe__Pclass_1', 'ohe__SibSp_8',\n",
       "       'ohe__SibSp_4', 'ohe__Parch_3', 'ohe__Parch_4', 'ohe__Parch_5',\n",
       "       'ohe__Parch_6', 'ohe__Embarked_C', 'ohe__Embarked_Q', 'ohe__Embarked_S',\n",
       "       'ohe__Embarked_nan', 'ohe__SibSp_5', 'ohe__SibSp_2', 'ohe__SibSp_3',\n",
       "       'ohe__Parch_2'],\n",
       "      dtype='object')"
      ]
     },
     "execution_count": null,
     "metadata": {},
     "output_type": "execute_result"
    }
   ],
   "source": [
    "(pi_results.T > 0).index"
   ]
  },
  {
   "cell_type": "code",
   "execution_count": null,
   "metadata": {},
   "outputs": [
    {
     "data": {
      "text/plain": [
       "<Axes: title={'center': \"Importance de Permutation du modèle <class 'catboost.core.CatBoostClassifier'>\"}>"
      ]
     },
     "execution_count": null,
     "metadata": {},
     "output_type": "execute_result"
    },
    {
     "data": {
      "image/png": "[encoded data removed]",
      "text/plain": [
       "<Figure size 500x1500 with 1 Axes>"
      ]
     },
     "metadata": {},
     "output_type": "display_data"
    }
   ],
   "source": [
    "plt.figure(figsize=(5, 15))\n",
    "plt.title(f\"Importance de Permutation du modèle {model_to_diagnose.__class__}\")\n",
    "sns.barplot(pi_results, orient=\"h\", color=\"gray\")"
   ]
  },
  {
   "cell_type": "markdown",
   "metadata": {},
   "source": [
    "# Feature selection"
   ]
  },
  {
   "cell_type": "markdown",
   "metadata": {},
   "source": [
    "## Permutation Importance"
   ]
  },
  {
   "cell_type": "code",
   "execution_count": null,
   "metadata": {},
   "outputs": [],
   "source": [
    "pi_variables1 = [\n",
    "    \"ohe__SibSp_8\",\n",
    "    \"ohe__SibSp_4\",\n",
    "    \"ohe__Parch_3\",\n",
    "    \"ohe__Parch_4\",\n",
    "    \"ohe__Parch_5\",\n",
    "    \"ohe__Parch_6\",\n",
    "    \"ohe__Embarked_C\",\n",
    "    \"ohe__Embarked_Q\",\n",
    "    \"ohe__Embarked_S\",\n",
    "    \"ohe__Embarked_nan\",\n",
    "    \"ohe__SibSp_5\",\n",
    "    \"ohe__SibSp_2\",\n",
    "    \"ohe__SibSp_3\",\n",
    "    \"ohe__Parch_2\",\n",
    "]"
   ]
  },
  {
   "cell_type": "code",
   "execution_count": null,
   "metadata": {},
   "outputs": [],
   "source": [
    "pi_variables = pi_variables1"
   ]
  },
  {
   "cell_type": "code",
   "execution_count": null,
   "metadata": {},
   "outputs": [],
   "source": [
    "X_train, X_test, y_train, y_test = train_test_split(\n",
    "    nouveau_df, y, test_size=0.2, random_state=SEED\n",
    ")"
   ]
  },
  {
   "cell_type": "code",
   "execution_count": null,
   "metadata": {},
   "outputs": [],
   "source": [
    "X_train.drop(pi_variables, axis=1, inplace=True)"
   ]
  },
  {
   "cell_type": "code",
   "execution_count": null,
   "metadata": {},
   "outputs": [
    {
     "name": "stdout",
     "output_type": "stream",
     "text": [
      "pi/DummyClassifier_Uniform\n",
      "pi/DummyClassifier_MostFrequent\n",
      "pi/LogisticRegression\n",
      "pi/LinearDiscriminantAnalysis\n",
      "pi/RandomForestClassifier\n",
      "pi/XGBClassifier\n",
      "pi/CatBoostClassifier\n",
      "pi/LGBMClassifier\n",
      "[['pi/CatBoostClassifier', 0.8089924160346695, 0.019930736152543416], ['pi/LGBMClassifier', 0.806175514626219, 0.020647100107749422], ['pi/LinearDiscriminantAnalysis', 0.803398010440264, 0.029983645012275125], ['pi/XGBClassifier', 0.8019797104304146, 0.014829764262890108], ['pi/LogisticRegression', 0.8005712597261894, 0.03399472676161792], ['pi/RandomForestClassifier', 0.7864966019895597, 0.02778247324920939], ['pi/DummyClassifier_MostFrequent', 0.6165763813651137, 0.002749420918840616], ['pi/DummyClassifier_Uniform', 0.47193932827735646, 0.039742667051208304]]\n"
     ]
    }
   ],
   "source": [
    "prefix = \"pi\"\n",
    "results = evaluate_models(models, prefix, X_train, X_test, y_train, y_test)"
   ]
  },
  {
   "cell_type": "code",
   "execution_count": null,
   "metadata": {},
   "outputs": [
    {
     "data": {
      "text/plain": [
       "[['pi/CatBoostClassifier', 0.8089924160346695, 0.019930736152543416],\n",
       " ['pi/LGBMClassifier', 0.806175514626219, 0.020647100107749422],\n",
       " ['pi/LinearDiscriminantAnalysis', 0.803398010440264, 0.029983645012275125],\n",
       " ['pi/XGBClassifier', 0.8019797104304146, 0.014829764262890108],\n",
       " ['pi/LogisticRegression', 0.8005712597261894, 0.03399472676161792],\n",
       " ['pi/RandomForestClassifier', 0.7864966019895597, 0.02778247324920939],\n",
       " ['pi/DummyClassifier_MostFrequent', 0.6165763813651137, 0.002749420918840616],\n",
       " ['pi/DummyClassifier_Uniform', 0.47193932827735646, 0.039742667051208304]]"
      ]
     },
     "execution_count": null,
     "metadata": {},
     "output_type": "execute_result"
    }
   ],
   "source": [
    "sorted(results, key=lambda x: x[1], reverse=True)"
   ]
  },
  {
   "cell_type": "markdown",
   "metadata": {},
   "source": [
    "# Pour aller plus loin"
   ]
  },
  {
   "cell_type": "markdown",
   "metadata": {},
   "source": [
    "- afficher les intervalles de confiance des scores de validation croisée\n",
    "- optimiser les hyper-paramètres des modèles (avec une recherche en grille ou une recherche bayésienne)\n",
    "- tester les modèles sur différents sous-ensembles de variables pour les comparer"
   ]
  },
  {
   "cell_type": "markdown",
   "metadata": {},
   "source": [
    "# Sauvegarde des données"
   ]
  },
  {
   "cell_type": "code",
   "execution_count": null,
   "metadata": {},
   "outputs": [],
   "source": [
    "score_modeles_df = pd.DataFrame(\n",
    "    score_modeles, columns=[\"Modèle\", \"Métrique\", \"Valeur\", \"Ecart type\"]\n",
    ")"
   ]
  },
  {
   "cell_type": "code",
   "execution_count": null,
   "metadata": {},
   "outputs": [],
   "source": [
    "score_modeles_df.to_csv(\"data/results/classifications.csv\", index=False)"
   ]
  },
  {
   "cell_type": "markdown",
   "metadata": {},
   "source": [
    "# Soumission Kaggle"
   ]
  },
  {
   "cell_type": "code",
   "execution_count": null,
   "metadata": {},
   "outputs": [],
   "source": [
    "X_kaggle = pd.read_csv(\"data/test.csv\", index_col=ID_COL)"
   ]
  },
  {
   "cell_type": "code",
   "execution_count": null,
   "metadata": {},
   "outputs": [
    {
     "data": {
      "text/html": [
       "<div>\n",
       "<style scoped>\n",
       "    .dataframe tbody tr th:only-of-type {\n",
       "        vertical-align: middle;\n",
       "    }\n",
       "\n",
       "    .dataframe tbody tr th {\n",
       "        vertical-align: top;\n",
       "    }\n",
       "\n",
       "    .dataframe thead th {\n",
       "        text-align: right;\n",
       "    }\n",
       "</style>\n",
       "<table border=\"1\" class=\"dataframe\">\n",
       "  <thead>\n",
       "    <tr style=\"text-align: right;\">\n",
       "      <th></th>\n",
       "      <th>Pclass</th>\n",
       "      <th>Name</th>\n",
       "      <th>Sex</th>\n",
       "      <th>Age</th>\n",
       "      <th>SibSp</th>\n",
       "      <th>Parch</th>\n",
       "      <th>Ticket</th>\n",
       "      <th>Fare</th>\n",
       "      <th>Cabin</th>\n",
       "      <th>Embarked</th>\n",
       "    </tr>\n",
       "    <tr>\n",
       "      <th>PassengerId</th>\n",
       "      <th></th>\n",
       "      <th></th>\n",
       "      <th></th>\n",
       "      <th></th>\n",
       "      <th></th>\n",
       "      <th></th>\n",
       "      <th></th>\n",
       "      <th></th>\n",
       "      <th></th>\n",
       "      <th></th>\n",
       "    </tr>\n",
       "  </thead>\n",
       "  <tbody>\n",
       "    <tr>\n",
       "      <th>892</th>\n",
       "      <td>3</td>\n",
       "      <td>Kelly, Mr. James</td>\n",
       "      <td>male</td>\n",
       "      <td>34.5</td>\n",
       "      <td>0</td>\n",
       "      <td>0</td>\n",
       "      <td>330911</td>\n",
       "      <td>7.8292</td>\n",
       "      <td>NaN</td>\n",
       "      <td>Q</td>\n",
       "    </tr>\n",
       "    <tr>\n",
       "      <th>893</th>\n",
       "      <td>3</td>\n",
       "      <td>Wilkes, Mrs. James (Ellen Needs)</td>\n",
       "      <td>female</td>\n",
       "      <td>47.0</td>\n",
       "      <td>1</td>\n",
       "      <td>0</td>\n",
       "      <td>363272</td>\n",
       "      <td>7.0000</td>\n",
       "      <td>NaN</td>\n",
       "      <td>S</td>\n",
       "    </tr>\n",
       "    <tr>\n",
       "      <th>894</th>\n",
       "      <td>2</td>\n",
       "      <td>Myles, Mr. Thomas Francis</td>\n",
       "      <td>male</td>\n",
       "      <td>62.0</td>\n",
       "      <td>0</td>\n",
       "      <td>0</td>\n",
       "      <td>240276</td>\n",
       "      <td>9.6875</td>\n",
       "      <td>NaN</td>\n",
       "      <td>Q</td>\n",
       "    </tr>\n",
       "    <tr>\n",
       "      <th>895</th>\n",
       "      <td>3</td>\n",
       "      <td>Wirz, Mr. Albert</td>\n",
       "      <td>male</td>\n",
       "      <td>27.0</td>\n",
       "      <td>0</td>\n",
       "      <td>0</td>\n",
       "      <td>315154</td>\n",
       "      <td>8.6625</td>\n",
       "      <td>NaN</td>\n",
       "      <td>S</td>\n",
       "    </tr>\n",
       "    <tr>\n",
       "      <th>896</th>\n",
       "      <td>3</td>\n",
       "      <td>Hirvonen, Mrs. Alexander (Helga E Lindqvist)</td>\n",
       "      <td>female</td>\n",
       "      <td>22.0</td>\n",
       "      <td>1</td>\n",
       "      <td>1</td>\n",
       "      <td>3101298</td>\n",
       "      <td>12.2875</td>\n",
       "      <td>NaN</td>\n",
       "      <td>S</td>\n",
       "    </tr>\n",
       "  </tbody>\n",
       "</table>\n",
       "</div>"
      ],
      "text/plain": [
       "             Pclass                                          Name     Sex  \\\n",
       "PassengerId                                                                 \n",
       "892               3                              Kelly, Mr. James    male   \n",
       "893               3              Wilkes, Mrs. James (Ellen Needs)  female   \n",
       "894               2                     Myles, Mr. Thomas Francis    male   \n",
       "895               3                              Wirz, Mr. Albert    male   \n",
       "896               3  Hirvonen, Mrs. Alexander (Helga E Lindqvist)  female   \n",
       "\n",
       "              Age  SibSp  Parch   Ticket     Fare Cabin Embarked  \n",
       "PassengerId                                                       \n",
       "892          34.5      0      0   330911   7.8292   NaN        Q  \n",
       "893          47.0      1      0   363272   7.0000   NaN        S  \n",
       "894          62.0      0      0   240276   9.6875   NaN        Q  \n",
       "895          27.0      0      0   315154   8.6625   NaN        S  \n",
       "896          22.0      1      1  3101298  12.2875   NaN        S  "
      ]
     },
     "execution_count": null,
     "metadata": {},
     "output_type": "execute_result"
    }
   ],
   "source": [
    "X_kaggle.head()"
   ]
  },
  {
   "cell_type": "code",
   "execution_count": null,
   "metadata": {},
   "outputs": [
    {
     "data": {
      "text/plain": [
       "<catboost.core.CatBoostClassifier>"
      ]
     },
     "execution_count": null,
     "metadata": {},
     "output_type": "execute_result"
    }
   ],
   "source": [
    "best_model = models[\"CatBoostClassifier\"]\n",
    "best_model"
   ]
  },
  {
   "cell_type": "code",
   "execution_count": null,
   "metadata": {},
   "outputs": [],
   "source": [
    "X_preprocessed = preprocessor.transform(X)"
   ]
  },
  {
   "cell_type": "code",
   "execution_count": null,
   "metadata": {},
   "outputs": [
    {
     "data": {
      "text/html": [
       "<div>\n",
       "<style scoped>\n",
       "    .dataframe tbody tr th:only-of-type {\n",
       "        vertical-align: middle;\n",
       "    }\n",
       "\n",
       "    .dataframe tbody tr th {\n",
       "        vertical-align: top;\n",
       "    }\n",
       "\n",
       "    .dataframe thead th {\n",
       "        text-align: right;\n",
       "    }\n",
       "</style>\n",
       "<table border=\"1\" class=\"dataframe\">\n",
       "  <thead>\n",
       "    <tr style=\"text-align: right;\">\n",
       "      <th></th>\n",
       "      <th>quali_processor__Pclass</th>\n",
       "      <th>quali_processor__Sex</th>\n",
       "      <th>quali_processor__SibSp</th>\n",
       "      <th>quali_processor__Parch</th>\n",
       "      <th>quali_processor__Embarked</th>\n",
       "      <th>quanti_processor__Age</th>\n",
       "      <th>quanti_processor__Fare</th>\n",
       "    </tr>\n",
       "  </thead>\n",
       "  <tbody>\n",
       "    <tr>\n",
       "      <th>0</th>\n",
       "      <td>2.0</td>\n",
       "      <td>1.0</td>\n",
       "      <td>1.0</td>\n",
       "      <td>0.0</td>\n",
       "      <td>2.0</td>\n",
       "      <td>-0.592481</td>\n",
       "      <td>-0.502445</td>\n",
       "    </tr>\n",
       "    <tr>\n",
       "      <th>1</th>\n",
       "      <td>0.0</td>\n",
       "      <td>0.0</td>\n",
       "      <td>1.0</td>\n",
       "      <td>0.0</td>\n",
       "      <td>0.0</td>\n",
       "      <td>0.638789</td>\n",
       "      <td>0.786845</td>\n",
       "    </tr>\n",
       "    <tr>\n",
       "      <th>2</th>\n",
       "      <td>2.0</td>\n",
       "      <td>0.0</td>\n",
       "      <td>0.0</td>\n",
       "      <td>0.0</td>\n",
       "      <td>2.0</td>\n",
       "      <td>-0.284663</td>\n",
       "      <td>-0.488854</td>\n",
       "    </tr>\n",
       "    <tr>\n",
       "      <th>3</th>\n",
       "      <td>0.0</td>\n",
       "      <td>0.0</td>\n",
       "      <td>1.0</td>\n",
       "      <td>0.0</td>\n",
       "      <td>2.0</td>\n",
       "      <td>0.407926</td>\n",
       "      <td>0.420730</td>\n",
       "    </tr>\n",
       "    <tr>\n",
       "      <th>4</th>\n",
       "      <td>2.0</td>\n",
       "      <td>1.0</td>\n",
       "      <td>0.0</td>\n",
       "      <td>0.0</td>\n",
       "      <td>2.0</td>\n",
       "      <td>0.407926</td>\n",
       "      <td>-0.486337</td>\n",
       "    </tr>\n",
       "    <tr>\n",
       "      <th>...</th>\n",
       "      <td>...</td>\n",
       "      <td>...</td>\n",
       "      <td>...</td>\n",
       "      <td>...</td>\n",
       "      <td>...</td>\n",
       "      <td>...</td>\n",
       "      <td>...</td>\n",
       "    </tr>\n",
       "    <tr>\n",
       "      <th>886</th>\n",
       "      <td>1.0</td>\n",
       "      <td>1.0</td>\n",
       "      <td>0.0</td>\n",
       "      <td>0.0</td>\n",
       "      <td>2.0</td>\n",
       "      <td>-0.207709</td>\n",
       "      <td>-0.386671</td>\n",
       "    </tr>\n",
       "    <tr>\n",
       "      <th>887</th>\n",
       "      <td>0.0</td>\n",
       "      <td>0.0</td>\n",
       "      <td>0.0</td>\n",
       "      <td>0.0</td>\n",
       "      <td>2.0</td>\n",
       "      <td>-0.823344</td>\n",
       "      <td>-0.044381</td>\n",
       "    </tr>\n",
       "    <tr>\n",
       "      <th>888</th>\n",
       "      <td>2.0</td>\n",
       "      <td>0.0</td>\n",
       "      <td>1.0</td>\n",
       "      <td>2.0</td>\n",
       "      <td>2.0</td>\n",
       "      <td>0.000000</td>\n",
       "      <td>-0.176263</td>\n",
       "    </tr>\n",
       "    <tr>\n",
       "      <th>889</th>\n",
       "      <td>0.0</td>\n",
       "      <td>1.0</td>\n",
       "      <td>0.0</td>\n",
       "      <td>0.0</td>\n",
       "      <td>0.0</td>\n",
       "      <td>-0.284663</td>\n",
       "      <td>-0.044381</td>\n",
       "    </tr>\n",
       "    <tr>\n",
       "      <th>890</th>\n",
       "      <td>2.0</td>\n",
       "      <td>1.0</td>\n",
       "      <td>0.0</td>\n",
       "      <td>0.0</td>\n",
       "      <td>1.0</td>\n",
       "      <td>0.177063</td>\n",
       "      <td>-0.492378</td>\n",
       "    </tr>\n",
       "  </tbody>\n",
       "</table>\n",
       "<p>891 rows × 7 columns</p>\n",
       "</div>"
      ],
      "text/plain": [
       "     quali_processor__Pclass  quali_processor__Sex  quali_processor__SibSp  \\\n",
       "0                        2.0                   1.0                     1.0   \n",
       "1                        0.0                   0.0                     1.0   \n",
       "2                        2.0                   0.0                     0.0   \n",
       "3                        0.0                   0.0                     1.0   \n",
       "4                        2.0                   1.0                     0.0   \n",
       "..                       ...                   ...                     ...   \n",
       "886                      1.0                   1.0                     0.0   \n",
       "887                      0.0                   0.0                     0.0   \n",
       "888                      2.0                   0.0                     1.0   \n",
       "889                      0.0                   1.0                     0.0   \n",
       "890                      2.0                   1.0                     0.0   \n",
       "\n",
       "     quali_processor__Parch  quali_processor__Embarked  quanti_processor__Age  \\\n",
       "0                       0.0                        2.0              -0.592481   \n",
       "1                       0.0                        0.0               0.638789   \n",
       "2                       0.0                        2.0              -0.284663   \n",
       "3                       0.0                        2.0               0.407926   \n",
       "4                       0.0                        2.0               0.407926   \n",
       "..                      ...                        ...                    ...   \n",
       "886                     0.0                        2.0              -0.207709   \n",
       "887                     0.0                        2.0              -0.823344   \n",
       "888                     2.0                        2.0               0.000000   \n",
       "889                     0.0                        0.0              -0.284663   \n",
       "890                     0.0                        1.0               0.177063   \n",
       "\n",
       "     quanti_processor__Fare  \n",
       "0                 -0.502445  \n",
       "1                  0.786845  \n",
       "2                 -0.488854  \n",
       "3                  0.420730  \n",
       "4                 -0.486337  \n",
       "..                      ...  \n",
       "886               -0.386671  \n",
       "887               -0.044381  \n",
       "888               -0.176263  \n",
       "889               -0.044381  \n",
       "890               -0.492378  \n",
       "\n",
       "[891 rows x 7 columns]"
      ]
     },
     "execution_count": null,
     "metadata": {},
     "output_type": "execute_result"
    }
   ],
   "source": [
    "pd.DataFrame(X_preprocessed, columns=preprocessor.get_feature_names_out())"
   ]
  },
  {
   "cell_type": "code",
   "execution_count": null,
   "metadata": {},
   "outputs": [
    {
     "data": {
      "text/plain": [
       "<catboost.core.CatBoostClassifier>"
      ]
     },
     "execution_count": null,
     "metadata": {},
     "output_type": "execute_result"
    }
   ],
   "source": [
    "best_model.fit(X_train, y_train)"
   ]
  },
  {
   "cell_type": "code",
   "execution_count": null,
   "metadata": {},
   "outputs": [],
   "source": [
    "X_kaggle_processed = pd.DataFrame(\n",
    "    preprocessor.transform(X_kaggle),\n",
    "    columns=preprocessor.get_feature_names_out(),\n",
    ")"
   ]
  },
  {
   "cell_type": "code",
   "execution_count": null,
   "metadata": {},
   "outputs": [],
   "source": [
    "# X_kaggle_processed.drop(pi_variables, axis=1, inplace=True)"
   ]
  },
  {
   "cell_type": "code",
   "execution_count": null,
   "metadata": {},
   "outputs": [],
   "source": [
    "y_pred = best_model.predict(X_kaggle_processed)"
   ]
  },
  {
   "cell_type": "code",
   "execution_count": null,
   "metadata": {},
   "outputs": [],
   "source": [
    "liste_predictions = pd.DataFrame(y_pred, index=X_kaggle.index, columns=[TARGET])"
   ]
  },
  {
   "cell_type": "code",
   "execution_count": null,
   "metadata": {},
   "outputs": [],
   "source": [
    "submission_name = \"ordinal_encoder\""
   ]
  },
  {
   "cell_type": "code",
   "execution_count": null,
   "metadata": {},
   "outputs": [],
   "source": [
    "liste_predictions.to_csv(f\"data/results/{submission_name}.csv\")"
   ]
  }
 ],
 "metadata": {
  "kernelspec": {
   "display_name": "python3",
   "language": "python",
   "name": "python3"
  }
 },
 "nbformat": 4,
 "nbformat_minor": 1
}
