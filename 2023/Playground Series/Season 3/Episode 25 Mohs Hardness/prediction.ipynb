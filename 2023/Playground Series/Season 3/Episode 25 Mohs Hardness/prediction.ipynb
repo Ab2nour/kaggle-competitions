{
 "cells": [
  {
   "cell_type": "markdown",
   "metadata": {},
   "source": [
    "# Import des outils / jeu de données"
   ]
  },
  {
   "cell_type": "code",
   "execution_count": 1,
   "metadata": {},
   "outputs": [],
   "source": [
    "import numpy as np\n",
    "import pandas as pd\n",
    "import seaborn as sns\n",
    "from column_names import id_col, quali_var, quanti_var, target\n",
    "#from grid_search import gs_xgboost\n",
    "from models import create_models\n",
    "from pipelines import add_original_data, create_x_pipeline, create_y_pipeline\n",
    "from prediction import evaluate_models, make_prediction\n",
    "from sklearn.model_selection import train_test_split\n",
    "#from xgboost import XGBClassifier\n",
    "\n",
    "#from scripts.helper import print_shapes"
   ]
  },
  {
   "cell_type": "code",
   "execution_count": 2,
   "metadata": {},
   "outputs": [],
   "source": [
    "seed = 0\n",
    "np.random.seed(seed)\n",
    "sns.set_theme()"
   ]
  },
  {
   "cell_type": "code",
   "execution_count": 3,
   "metadata": {},
   "outputs": [],
   "source": [
    "original_data = pd.read_csv(\"data/dataset/raw/original_dataset_train.csv\")\n",
    "df = pd.read_csv(\"data/dataset/raw/train.csv\", index_col=id_col)\n",
    "X_kaggle = pd.read_csv(\"data/dataset/raw/test.csv\", index_col=id_col)"
   ]
  },
  {
   "cell_type": "markdown",
   "metadata": {},
   "source": [
    "## Variables globales"
   ]
  },
  {
   "cell_type": "code",
   "execution_count": 4,
   "metadata": {},
   "outputs": [],
   "source": [
    "X = df[quanti_var + quali_var].copy()\n",
    "y = df[target].copy()"
   ]
  },
  {
   "cell_type": "code",
   "execution_count": 5,
   "metadata": {},
   "outputs": [],
   "source": [
    "# X = X.head(200)\n",
    "# y = y.head(200)"
   ]
  },
  {
   "cell_type": "code",
   "execution_count": 6,
   "metadata": {},
   "outputs": [],
   "source": [
    "# X_original_data = original_data[quanti_var + quali_var].copy()\n",
    "# y_original_data = original_data[target].copy()"
   ]
  },
  {
   "cell_type": "markdown",
   "metadata": {},
   "source": [
    "# Liste des modèles"
   ]
  },
  {
   "cell_type": "code",
   "execution_count": 5,
   "metadata": {},
   "outputs": [],
   "source": [
    "models = create_models(seed)\n",
    "X_preprocessor = create_x_pipeline()\n",
    "y_preprocessor = create_y_pipeline()"
   ]
  },
  {
   "cell_type": "markdown",
   "metadata": {},
   "source": [
    "# Traitement des données"
   ]
  },
  {
   "cell_type": "markdown",
   "metadata": {},
   "source": [
    "## Pipelines"
   ]
  },
  {
   "cell_type": "code",
   "execution_count": 6,
   "metadata": {},
   "outputs": [],
   "source": [
    "processed_X = X_preprocessor.fit_transform(X)\n",
    "processed_y = y"
   ]
  },
  {
   "cell_type": "code",
   "execution_count": 9,
   "metadata": {},
   "outputs": [],
   "source": [
    "# processed_X_original_data = X_preprocessor.transform(X_original_data)\n",
    "# processed_y_original_data = y_preprocessor.transform(y_original_data)"
   ]
  },
  {
   "cell_type": "code",
   "execution_count": 10,
   "metadata": {},
   "outputs": [],
   "source": [
    "# print_shapes(\n",
    "#     processed_X, processed_y, processed_X_original_data, processed_y_original_data\n",
    "# )"
   ]
  },
  {
   "cell_type": "markdown",
   "metadata": {},
   "source": [
    "## Par défaut"
   ]
  },
  {
   "cell_type": "code",
   "execution_count": 7,
   "metadata": {},
   "outputs": [],
   "source": [
    "X_train, X_test, y_train, y_test = train_test_split(\n",
    "    processed_X,\n",
    "    processed_y,\n",
    "    test_size=0.05,\n",
    "    random_state=seed,\n",
    ")"
   ]
  },
  {
   "cell_type": "code",
   "execution_count": 12,
   "metadata": {},
   "outputs": [],
   "source": [
    "# X_train, y_train = add_original_data(\n",
    "#     X_train, y_train, processed_X_original_data, processed_y_original_data\n",
    "# )"
   ]
  },
  {
   "cell_type": "markdown",
   "metadata": {},
   "source": [
    "## Temp grid search CV"
   ]
  },
  {
   "cell_type": "code",
   "execution_count": 13,
   "metadata": {},
   "outputs": [],
   "source": [
    "#gs_xgboost(X_train, y_train)"
   ]
  },
  {
   "cell_type": "markdown",
   "metadata": {},
   "source": [
    "## The rest"
   ]
  },
  {
   "cell_type": "code",
   "execution_count": 8,
   "metadata": {},
   "outputs": [
    {
     "name": "stdout",
     "output_type": "stream",
     "text": [
      "default/LinearRegression\n",
      "default/RandomForestRegressor\n",
      "default/ExtraTreesRegressor\n",
      "default/HistGradientBoostingRegressor\n",
      "default/XGBRegressor\n",
      "default/CatBoostRegressor\n",
      "default/LGBMRegressor\n"
     ]
    }
   ],
   "source": [
    "prefix = \"default\"\n",
    "results = evaluate_models(models, prefix, X_train, y_train)"
   ]
  },
  {
   "cell_type": "code",
   "execution_count": 9,
   "metadata": {},
   "outputs": [
    {
     "data": {
      "text/plain": [
       "[['default/LGBMRegressor',\n",
       "  -0.634802244927279,\n",
       "  -0.6296421407331567,\n",
       "  0.030492625186511135,\n",
       "  -0.6962835571789032,\n",
       "  0.4402796745300293],\n",
       " ['default/HistGradientBoostingRegressor',\n",
       "  -0.6432434252743808,\n",
       "  -0.6403665415777149,\n",
       "  0.031624428429472086,\n",
       "  -0.7023350057037463,\n",
       "  1.109798288345337],\n",
       " ['default/ExtraTreesRegressor',\n",
       "  -0.6466999999999997,\n",
       "  -0.658999999999998,\n",
       "  0.04267036442309907,\n",
       "  -0.7099999999999991,\n",
       "  5.218614888191223],\n",
       " ['default/RandomForestRegressor',\n",
       "  -0.6527999999999998,\n",
       "  -0.6507499999999997,\n",
       "  0.027133190007811826,\n",
       "  -0.6980000000000017,\n",
       "  15.131552958488465],\n",
       " ['default/CatBoostRegressor',\n",
       "  -0.6595746414250416,\n",
       "  -0.6584758554357684,\n",
       "  0.029105646434010635,\n",
       "  -0.7092817575025769,\n",
       "  14.204113602638245],\n",
       " ['default/XGBRegressor',\n",
       "  -0.6596030616760252,\n",
       "  -0.6726747632026673,\n",
       "  0.04539035406484487,\n",
       "  -0.7256546020507812,\n",
       "  0.709552812576294],\n",
       " ['default/LinearRegression',\n",
       "  -0.9581892945180401,\n",
       "  -0.9551259435872539,\n",
       "  0.020832942514837863,\n",
       "  -1.002704158619795,\n",
       "  0.009451484680175782]]"
      ]
     },
     "execution_count": 9,
     "metadata": {},
     "output_type": "execute_result"
    }
   ],
   "source": [
    "sorted(results, key=lambda x: x[1], reverse=True)"
   ]
  },
  {
   "cell_type": "markdown",
   "metadata": {},
   "source": [
    "# Save & submit"
   ]
  },
  {
   "cell_type": "markdown",
   "metadata": {},
   "source": [
    "## Save the results"
   ]
  },
  {
   "cell_type": "code",
   "execution_count": 10,
   "metadata": {},
   "outputs": [
    {
     "data": {
      "text/html": [
       "<div>\n",
       "<style scoped>\n",
       "    .dataframe tbody tr th:only-of-type {\n",
       "        vertical-align: middle;\n",
       "    }\n",
       "\n",
       "    .dataframe tbody tr th {\n",
       "        vertical-align: top;\n",
       "    }\n",
       "\n",
       "    .dataframe thead th {\n",
       "        text-align: right;\n",
       "    }\n",
       "</style>\n",
       "<table border=\"1\" class=\"dataframe\">\n",
       "  <thead>\n",
       "    <tr style=\"text-align: right;\">\n",
       "      <th></th>\n",
       "      <th>Estimator</th>\n",
       "      <th>Mean Score</th>\n",
       "      <th>Median Score</th>\n",
       "      <th>Std</th>\n",
       "      <th>Min Score</th>\n",
       "      <th>Fit Time</th>\n",
       "    </tr>\n",
       "  </thead>\n",
       "  <tbody>\n",
       "    <tr>\n",
       "      <th>0</th>\n",
       "      <td>default/LinearRegression</td>\n",
       "      <td>-0.958189</td>\n",
       "      <td>-0.955126</td>\n",
       "      <td>0.020833</td>\n",
       "      <td>-1.002704</td>\n",
       "      <td>0.009451</td>\n",
       "    </tr>\n",
       "    <tr>\n",
       "      <th>1</th>\n",
       "      <td>default/RandomForestRegressor</td>\n",
       "      <td>-0.652800</td>\n",
       "      <td>-0.650750</td>\n",
       "      <td>0.027133</td>\n",
       "      <td>-0.698000</td>\n",
       "      <td>15.131553</td>\n",
       "    </tr>\n",
       "    <tr>\n",
       "      <th>2</th>\n",
       "      <td>default/ExtraTreesRegressor</td>\n",
       "      <td>-0.646700</td>\n",
       "      <td>-0.659000</td>\n",
       "      <td>0.042670</td>\n",
       "      <td>-0.710000</td>\n",
       "      <td>5.218615</td>\n",
       "    </tr>\n",
       "    <tr>\n",
       "      <th>3</th>\n",
       "      <td>default/HistGradientBoostingRegressor</td>\n",
       "      <td>-0.643243</td>\n",
       "      <td>-0.640367</td>\n",
       "      <td>0.031624</td>\n",
       "      <td>-0.702335</td>\n",
       "      <td>1.109798</td>\n",
       "    </tr>\n",
       "    <tr>\n",
       "      <th>4</th>\n",
       "      <td>default/XGBRegressor</td>\n",
       "      <td>-0.659603</td>\n",
       "      <td>-0.672675</td>\n",
       "      <td>0.045390</td>\n",
       "      <td>-0.725655</td>\n",
       "      <td>0.709553</td>\n",
       "    </tr>\n",
       "    <tr>\n",
       "      <th>5</th>\n",
       "      <td>default/CatBoostRegressor</td>\n",
       "      <td>-0.659575</td>\n",
       "      <td>-0.658476</td>\n",
       "      <td>0.029106</td>\n",
       "      <td>-0.709282</td>\n",
       "      <td>14.204114</td>\n",
       "    </tr>\n",
       "    <tr>\n",
       "      <th>6</th>\n",
       "      <td>default/LGBMRegressor</td>\n",
       "      <td>-0.634802</td>\n",
       "      <td>-0.629642</td>\n",
       "      <td>0.030493</td>\n",
       "      <td>-0.696284</td>\n",
       "      <td>0.440280</td>\n",
       "    </tr>\n",
       "  </tbody>\n",
       "</table>\n",
       "</div>"
      ],
      "text/plain": [
       "                               Estimator  Mean Score  Median Score       Std  \\\n",
       "0               default/LinearRegression   -0.958189     -0.955126  0.020833   \n",
       "1          default/RandomForestRegressor   -0.652800     -0.650750  0.027133   \n",
       "2            default/ExtraTreesRegressor   -0.646700     -0.659000  0.042670   \n",
       "3  default/HistGradientBoostingRegressor   -0.643243     -0.640367  0.031624   \n",
       "4                   default/XGBRegressor   -0.659603     -0.672675  0.045390   \n",
       "5              default/CatBoostRegressor   -0.659575     -0.658476  0.029106   \n",
       "6                  default/LGBMRegressor   -0.634802     -0.629642  0.030493   \n",
       "\n",
       "   Min Score   Fit Time  \n",
       "0  -1.002704   0.009451  \n",
       "1  -0.698000  15.131553  \n",
       "2  -0.710000   5.218615  \n",
       "3  -0.702335   1.109798  \n",
       "4  -0.725655   0.709553  \n",
       "5  -0.709282  14.204114  \n",
       "6  -0.696284   0.440280  "
      ]
     },
     "execution_count": 10,
     "metadata": {},
     "output_type": "execute_result"
    }
   ],
   "source": [
    "results_df = pd.DataFrame(\n",
    "    results,\n",
    "    columns=[\"Estimator\", \"Mean Score\", \"Median Score\", \"Std\", \"Min Score\", \"Fit Time\"],\n",
    ")\n",
    "results_df"
   ]
  },
  {
   "cell_type": "code",
   "execution_count": 11,
   "metadata": {},
   "outputs": [],
   "source": [
    "results_df.to_csv(f\"data/results/{prefix}.csv\", index=False)"
   ]
  },
  {
   "cell_type": "markdown",
   "metadata": {},
   "source": [
    "## Kaggle submission"
   ]
  },
  {
   "cell_type": "code",
   "execution_count": 33,
   "metadata": {},
   "outputs": [],
   "source": [
    "best_model = models[\"LGBMRegressor\"]\n",
    "submission_name = \"LGBMRegressor\""
   ]
  },
  {
   "cell_type": "code",
   "execution_count": null,
   "metadata": {},
   "outputs": [],
   "source": [
    "best_model = XGBClassifier(\n",
    "    **{\n",
    "        \"colsample_bytree\": 0.3,\n",
    "        \"learning_rate\": 0.05,\n",
    "        \"max_depth\": 6,\n",
    "        \"n_estimators\": 1000,\n",
    "    },\n",
    "    random_state=0\n",
    ")"
   ]
  },
  {
   "cell_type": "code",
   "execution_count": 34,
   "metadata": {},
   "outputs": [
    {
     "name": "stdout",
     "output_type": "stream",
     "text": [
      "[LightGBM] [Info] Auto-choosing col-wise multi-threading, the overhead of testing was 0.002422 seconds.\n",
      "You can set `force_col_wise=true` to remove the overhead.\n",
      "[LightGBM] [Info] Total Bins 2480\n",
      "[LightGBM] [Info] Number of data points in the train set: 10407, number of used features: 11\n",
      "[LightGBM] [Info] Start training from score 4.647126\n"
     ]
    },
    {
     "data": {
      "text/html": [
       "<style>#sk-container-id-2 {color: black;}#sk-container-id-2 pre{padding: 0;}#sk-container-id-2 div.sk-toggleable {background-color: white;}#sk-container-id-2 label.sk-toggleable__label {cursor: pointer;display: block;width: 100%;margin-bottom: 0;padding: 0.3em;box-sizing: border-box;text-align: center;}#sk-container-id-2 label.sk-toggleable__label-arrow:before {content: \"▸\";float: left;margin-right: 0.25em;color: #696969;}#sk-container-id-2 label.sk-toggleable__label-arrow:hover:before {color: black;}#sk-container-id-2 div.sk-estimator:hover label.sk-toggleable__label-arrow:before {color: black;}#sk-container-id-2 div.sk-toggleable__content {max-height: 0;max-width: 0;overflow: hidden;text-align: left;background-color: #f0f8ff;}#sk-container-id-2 div.sk-toggleable__content pre {margin: 0.2em;color: black;border-radius: 0.25em;background-color: #f0f8ff;}#sk-container-id-2 input.sk-toggleable__control:checked~div.sk-toggleable__content {max-height: 200px;max-width: 100%;overflow: auto;}#sk-container-id-2 input.sk-toggleable__control:checked~label.sk-toggleable__label-arrow:before {content: \"▾\";}#sk-container-id-2 div.sk-estimator input.sk-toggleable__control:checked~label.sk-toggleable__label {background-color: #d4ebff;}#sk-container-id-2 div.sk-label input.sk-toggleable__control:checked~label.sk-toggleable__label {background-color: #d4ebff;}#sk-container-id-2 input.sk-hidden--visually {border: 0;clip: rect(1px 1px 1px 1px);clip: rect(1px, 1px, 1px, 1px);height: 1px;margin: -1px;overflow: hidden;padding: 0;position: absolute;width: 1px;}#sk-container-id-2 div.sk-estimator {font-family: monospace;background-color: #f0f8ff;border: 1px dotted black;border-radius: 0.25em;box-sizing: border-box;margin-bottom: 0.5em;}#sk-container-id-2 div.sk-estimator:hover {background-color: #d4ebff;}#sk-container-id-2 div.sk-parallel-item::after {content: \"\";width: 100%;border-bottom: 1px solid gray;flex-grow: 1;}#sk-container-id-2 div.sk-label:hover label.sk-toggleable__label {background-color: #d4ebff;}#sk-container-id-2 div.sk-serial::before {content: \"\";position: absolute;border-left: 1px solid gray;box-sizing: border-box;top: 0;bottom: 0;left: 50%;z-index: 0;}#sk-container-id-2 div.sk-serial {display: flex;flex-direction: column;align-items: center;background-color: white;padding-right: 0.2em;padding-left: 0.2em;position: relative;}#sk-container-id-2 div.sk-item {position: relative;z-index: 1;}#sk-container-id-2 div.sk-parallel {display: flex;align-items: stretch;justify-content: center;background-color: white;position: relative;}#sk-container-id-2 div.sk-item::before, #sk-container-id-2 div.sk-parallel-item::before {content: \"\";position: absolute;border-left: 1px solid gray;box-sizing: border-box;top: 0;bottom: 0;left: 50%;z-index: -1;}#sk-container-id-2 div.sk-parallel-item {display: flex;flex-direction: column;z-index: 1;position: relative;background-color: white;}#sk-container-id-2 div.sk-parallel-item:first-child::after {align-self: flex-end;width: 50%;}#sk-container-id-2 div.sk-parallel-item:last-child::after {align-self: flex-start;width: 50%;}#sk-container-id-2 div.sk-parallel-item:only-child::after {width: 0;}#sk-container-id-2 div.sk-dashed-wrapped {border: 1px dashed gray;margin: 0 0.4em 0.5em 0.4em;box-sizing: border-box;padding-bottom: 0.4em;background-color: white;}#sk-container-id-2 div.sk-label label {font-family: monospace;font-weight: bold;display: inline-block;line-height: 1.2em;}#sk-container-id-2 div.sk-label-container {text-align: center;}#sk-container-id-2 div.sk-container {/* jupyter's `normalize.less` sets `[hidden] { display: none; }` but bootstrap.min.css set `[hidden] { display: none !important; }` so we also need the `!important` here to be able to override the default hidden behavior on the sphinx rendered scikit-learn.org. See: https://github.com/scikit-learn/scikit-learn/issues/21755 */display: inline-block !important;position: relative;}#sk-container-id-2 div.sk-text-repr-fallback {display: none;}</style><div id=\"sk-container-id-2\" class=\"sk-top-container\"><div class=\"sk-text-repr-fallback\"><pre>LGBMRegressor(n_jobs=-3, random_state=0)</pre><b>In a Jupyter environment, please rerun this cell to show the HTML representation or trust the notebook. <br />On GitHub, the HTML representation is unable to render, please try loading this page with nbviewer.org.</b></div><div class=\"sk-container\" hidden><div class=\"sk-item\"><div class=\"sk-estimator sk-toggleable\"><input class=\"sk-toggleable__control sk-hidden--visually\" id=\"sk-estimator-id-2\" type=\"checkbox\" checked><label for=\"sk-estimator-id-2\" class=\"sk-toggleable__label sk-toggleable__label-arrow\">LGBMRegressor</label><div class=\"sk-toggleable__content\"><pre>LGBMRegressor(n_jobs=-3, random_state=0)</pre></div></div></div></div></div>"
      ],
      "text/plain": [
       "LGBMRegressor(n_jobs=-3, random_state=0)"
      ]
     },
     "execution_count": 34,
     "metadata": {},
     "output_type": "execute_result"
    }
   ],
   "source": [
    "best_model.fit(processed_X, processed_y)"
   ]
  },
  {
   "cell_type": "code",
   "execution_count": 36,
   "metadata": {},
   "outputs": [],
   "source": [
    "\n",
    "def make_prediction(\n",
    "    model,  # todo: maybe type isn't 100% accurate\n",
    "    X_train: pd.DataFrame | np.ndarray,\n",
    "    y_train: pd.DataFrame | np.ndarray,\n",
    "    X_kaggle: pd.DataFrame | np.ndarray,\n",
    "    X_preprocessor,  # todo: maybe type isn't 100% accurate\n",
    "    y_preprocessor,  # todo: maybe type isn't 100% accurate\n",
    ") -> pd.DataFrame:\n",
    "    \"\"\"todo\"\"\"\n",
    "    model.fit(X_train, y_train)\n",
    "\n",
    "    X_kaggle_processed = pd.DataFrame(\n",
    "        X_preprocessor.transform(X_kaggle),\n",
    "        # columns=X_preprocessor.get_feature_names_out(), #fixme: redo this line\n",
    "    )\n",
    "    raw_predictions = model.predict(X_kaggle_processed)\n",
    "    # y_pred = y_preprocessor.inverse_transform(raw_predictions)\n",
    "\n",
    "    return pd.DataFrame(raw_predictions, index=X_kaggle.index, columns=[target])"
   ]
  },
  {
   "cell_type": "code",
   "execution_count": 37,
   "metadata": {},
   "outputs": [
    {
     "name": "stdout",
     "output_type": "stream",
     "text": [
      "[LightGBM] [Info] Auto-choosing col-wise multi-threading, the overhead of testing was 0.002393 seconds.\n",
      "You can set `force_col_wise=true` to remove the overhead.\n",
      "[LightGBM] [Info] Total Bins 2480\n",
      "[LightGBM] [Info] Number of data points in the train set: 10407, number of used features: 11\n",
      "[LightGBM] [Info] Start training from score 4.647126\n"
     ]
    }
   ],
   "source": [
    "liste_predictions = make_prediction(\n",
    "    best_model, processed_X, processed_y, X_kaggle, X_preprocessor, y_preprocessor\n",
    ")"
   ]
  },
  {
   "cell_type": "code",
   "execution_count": 38,
   "metadata": {},
   "outputs": [],
   "source": [
    "liste_predictions.to_csv(f\"data/predictions/{submission_name}.csv\")"
   ]
  }
 ],
 "metadata": {
  "kernelspec": {
   "display_name": "Python 3 (ipykernel)",
   "language": "python",
   "name": "python3"
  },
  "language_info": {
   "codemirror_mode": {
    "name": "ipython",
    "version": 3
   },
   "file_extension": ".py",
   "mimetype": "text/x-python",
   "name": "python",
   "nbconvert_exporter": "python",
   "pygments_lexer": "ipython3",
   "version": "3.10.13"
  }
 },
 "nbformat": 4,
 "nbformat_minor": 4
}
