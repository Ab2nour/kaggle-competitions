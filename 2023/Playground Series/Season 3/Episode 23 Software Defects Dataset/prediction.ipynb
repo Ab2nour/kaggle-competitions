{
 "cells": [
  {
   "cell_type": "markdown",
   "metadata": {},
   "source": [
    "# Import des outils / jeu de données"
   ]
  },
  {
   "cell_type": "code",
   "execution_count": null,
   "metadata": {},
   "outputs": [],
   "source": [
    "import numpy as np\n",
    "import pandas as pd\n",
    "import seaborn as sns\n",
    "from column_names import id_col, quali_var, quanti_var, target\n",
    "from prediction import (\n",
    "    add_original_data,\n",
    "    create_models,\n",
    "    create_x_pipeline,\n",
    "    create_y_pipeline,\n",
    "    evaluate_models,\n",
    "    make_prediction,\n",
    ")\n",
    "from sklearn.model_selection import train_test_split\n",
    "\n",
    "from scripts.helper import print_shapes"
   ]
  },
  {
   "cell_type": "code",
   "execution_count": null,
   "metadata": {},
   "outputs": [],
   "source": [
    "SEED = 0\n",
    "np.random.seed(SEED)\n",
    "sns.set_theme()"
   ]
  },
  {
   "cell_type": "code",
   "execution_count": null,
   "metadata": {},
   "outputs": [],
   "source": [
    "original_data = pd.read_csv(\"data/original_dataset_train.csv\")\n",
    "df = pd.read_csv(\"data/train.csv\", index_col=id_col)\n",
    "X_kaggle = pd.read_csv(\"data/test.csv\", index_col=id_col)"
   ]
  },
  {
   "cell_type": "markdown",
   "metadata": {},
   "source": [
    "## Variables globales"
   ]
  },
  {
   "cell_type": "code",
   "execution_count": null,
   "metadata": {},
   "outputs": [],
   "source": [
    "X = df[quanti_var + quali_var].copy()\n",
    "y = df[target].copy()"
   ]
  },
  {
   "cell_type": "code",
   "execution_count": null,
   "metadata": {},
   "outputs": [],
   "source": [
    "X_original_data = original_data[quanti_var + quali_var].copy()\n",
    "y_original_data = original_data[target].copy()"
   ]
  },
  {
   "cell_type": "markdown",
   "metadata": {},
   "source": [
    "# Liste des modèles"
   ]
  },
  {
   "cell_type": "code",
   "execution_count": null,
   "metadata": {},
   "outputs": [],
   "source": [
    "models = create_models(SEED)\n",
    "X_preprocessor = create_x_pipeline()\n",
    "y_preprocessor = create_y_pipeline()"
   ]
  },
  {
   "cell_type": "markdown",
   "metadata": {},
   "source": [
    "# Traitement des données"
   ]
  },
  {
   "cell_type": "markdown",
   "metadata": {},
   "source": [
    "## Pipelines"
   ]
  },
  {
   "cell_type": "code",
   "execution_count": null,
   "metadata": {},
   "outputs": [],
   "source": [
    "processed_X = X_preprocessor.fit_transform(X)\n",
    "processed_y = y_preprocessor.fit_transform(y)"
   ]
  },
  {
   "cell_type": "code",
   "execution_count": null,
   "metadata": {},
   "outputs": [],
   "source": [
    "processed_X_original_data = X_preprocessor.transform(X_original_data)\n",
    "processed_y_original_data = y_preprocessor.transform(y_original_data)"
   ]
  },
  {
   "cell_type": "code",
   "execution_count": null,
   "metadata": {},
   "outputs": [],
   "source": [
    "print_shapes(\n",
    "    processed_X, processed_y, processed_X_original_data, processed_y_original_data\n",
    ")"
   ]
  },
  {
   "cell_type": "markdown",
   "metadata": {},
   "source": [
    "## Par défaut"
   ]
  },
  {
   "cell_type": "code",
   "execution_count": null,
   "metadata": {},
   "outputs": [],
   "source": [
    "X_train, X_test, y_train, y_test = train_test_split(\n",
    "    processed_X,\n",
    "    processed_y,\n",
    "    test_size=0.2,\n",
    "    random_state=SEED,\n",
    ")"
   ]
  },
  {
   "cell_type": "code",
   "execution_count": null,
   "metadata": {},
   "outputs": [],
   "source": [
    "X_train, y_train = add_original_data(\n",
    "    X_train, y_train, processed_X_original_data, processed_y_original_data\n",
    ")"
   ]
  },
  {
   "cell_type": "code",
   "execution_count": null,
   "metadata": {},
   "outputs": [
    {
     "name": "stdout",
     "output_type": "stream",
     "text": [
      "défaut/DummyClassifier_Uniform\n",
      "défaut/DummyClassifier_MostFrequent\n",
      "défaut/LogisticRegression\n",
      "défaut/LinearDiscriminantAnalysis\n",
      "défaut/RandomForestClassifier\n",
      "défaut/ExtraTreesClassifier\n",
      "défaut/HistGradientBoostingClassifier\n",
      "défaut/XGBClassifier\n",
      "défaut/CatBoostClassifier\n",
      "défaut/LGBMClassifier\n"
     ]
    }
   ],
   "source": [
    "prefix = \"défaut\"\n",
    "results = evaluate_models(models, prefix, X_train, y_train)"
   ]
  },
  {
   "cell_type": "code",
   "execution_count": null,
   "metadata": {},
   "outputs": [
    {
     "data": {
      "text/plain": "[['défaut/HistGradientBoostingClassifier',\n  0.7894400014080019,\n  0.005860555336886468],\n ['défaut/LGBMClassifier', 0.7890647600726886, 0.005721219884766251],\n ['défaut/CatBoostClassifier', 0.7886836357752831, 0.005990954496163058],\n ['défaut/XGBClassifier', 0.7824958908980149, 0.0049096771705528335],\n ['défaut/LogisticRegression', 0.7783761595522817, 0.006898149261480394],\n ['défaut/LinearDiscriminantAnalysis',\n  0.7752789677736074,\n  0.006606206149622996],\n ['défaut/RandomForestClassifier', 0.768326376577785, 0.006601345639290572],\n ['défaut/ExtraTreesClassifier', 0.7622407779909116, 0.006283742006656959],\n ['défaut/DummyClassifier_Uniform', 0.5, 0.0],\n ['défaut/DummyClassifier_MostFrequent', 0.5, 0.0]]"
     },
     "execution_count": null,
     "metadata": {},
     "output_type": "execute_result"
    }
   ],
   "source": [
    "sorted(results, key=lambda x: x[1], reverse=True)"
   ]
  },
  {
   "cell_type": "code",
   "execution_count": null,
   "metadata": {},
   "outputs": [
    {
     "data": {
      "text/plain": "[['défaut/LGBMClassifier', 0.7226320251937984, 0.05131130800567399],\n ['défaut/LGBMClassifier', 0.7327216569767442, 0.05401907759948498],\n ['défaut/LGBMClassifier', 0.7241884689922481, 0.05918404365777867],\n ['défaut/LGBMClassifier', 0.7280826065891473, 0.04706282329868854]]"
     },
     "execution_count": null,
     "metadata": {},
     "output_type": "execute_result"
    }
   ],
   "source": [
    "[\n",
    "    [\"défaut/LGBMClassifier\", 0.7890647600726886, 0.005721219884766251],\n",
    "    [\"défaut/CatBoostClassifier\", 0.7886836357752831, 0.005990954496163058],\n",
    "    [\"défaut/XGBClassifier\", 0.7824958908980149, 0.0049096771705528335],\n",
    "    [\"défaut/LinearSVC\", 0.7804629386099445, 0.006285261717020909],\n",
    "    [\"défaut/LogisticRegression\", 0.7783761595522817, 0.006898149261480394],\n",
    "    [\"défaut/LinearDiscriminantAnalysis\", 0.7752789677736074, 0.006606206149622996],\n",
    "    [\"défaut/RandomForestClassifier\", 0.768326376577785, 0.006601345639290572],\n",
    "    [\"défaut/KNeighborsClassifier5\", 0.7228585296707217, 0.00745246179014146],\n",
    "    [\"défaut/DummyClassifier_Uniform\", 0.5, 0.0],\n",
    "    [\"défaut/DummyClassifier_MostFrequent\", 0.5, 0.0],\n",
    "]"
   ]
  },
  {
   "cell_type": "markdown",
   "metadata": {},
   "source": [
    "# Soumission Kaggle"
   ]
  },
  {
   "cell_type": "code",
   "execution_count": null,
   "metadata": {},
   "outputs": [],
   "source": [
    "best_model = models[\"LGBMClassifier\"]\n",
    "submission_name = \"first_submission\""
   ]
  },
  {
   "cell_type": "code",
   "execution_count": null,
   "metadata": {},
   "outputs": [],
   "source": [
    "liste_predictions = make_prediction(\n",
    "    best_model, processed_X, processed_y, X_kaggle, X_preprocessor, y_preprocessor\n",
    ")"
   ]
  },
  {
   "cell_type": "code",
   "execution_count": null,
   "metadata": {},
   "outputs": [],
   "source": [
    "liste_predictions.to_csv(f\"data/results/{submission_name}.csv\")"
   ]
  }
 ],
 "metadata": {
  "kernelspec": {
   "display_name": "python3",
   "language": "python",
   "name": "python3"
  }
 },
 "nbformat": 4,
 "nbformat_minor": 1
}
