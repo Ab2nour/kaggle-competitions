{
 "cells": [
  {
   "cell_type": "markdown",
   "metadata": {},
   "source": [
    "# Import des outils / jeu de données"
   ]
  },
  {
   "cell_type": "code",
   "execution_count": null,
   "metadata": {},
   "outputs": [],
   "source": [
    "import numpy as np\n",
    "import pandas as pd\n",
    "import seaborn as sns\n",
    "from column_names import id_col, quali_var, quanti_var, target\n",
    "from prediction import (\n",
    "    add_original_data,\n",
    "    create_models,\n",
    "    create_x_pipeline,\n",
    "    create_y_pipeline,\n",
    "    evaluate_models,\n",
    "    make_prediction,\n",
    ")\n",
    "from sklearn.model_selection import train_test_split\n",
    "\n",
    "from scripts.helper import print_shapes"
   ]
  },
  {
   "cell_type": "code",
   "execution_count": null,
   "metadata": {},
   "outputs": [],
   "source": [
    "SEED = 0\n",
    "np.random.seed(SEED)\n",
    "sns.set_theme()"
   ]
  },
  {
   "cell_type": "code",
   "execution_count": null,
   "metadata": {},
   "outputs": [],
   "source": [
    "original_data = pd.read_csv(\"data/original_dataset_train.csv\")\n",
    "df = pd.read_csv(\"data/train.csv\", index_col=id_col)\n",
    "X_kaggle = pd.read_csv(\"data/test.csv\", index_col=id_col)"
   ]
  },
  {
   "cell_type": "markdown",
   "metadata": {},
   "source": [
    "## Variables globales"
   ]
  },
  {
   "cell_type": "code",
   "execution_count": null,
   "metadata": {},
   "outputs": [],
   "source": [
    "X = df[quanti_var + quali_var].copy()\n",
    "y = df[target].copy()"
   ]
  },
  {
   "cell_type": "code",
   "execution_count": null,
   "metadata": {},
   "outputs": [],
   "source": [
    "X_original_data = original_data[quanti_var + quali_var].copy()\n",
    "y_original_data = original_data[target].copy()"
   ]
  },
  {
   "cell_type": "markdown",
   "metadata": {},
   "source": [
    "# Liste des modèles"
   ]
  },
  {
   "cell_type": "code",
   "execution_count": null,
   "metadata": {},
   "outputs": [],
   "source": [
    "models = create_models(SEED)\n",
    "X_preprocessor = create_x_pipeline()\n",
    "y_preprocessor = create_y_pipeline()"
   ]
  },
  {
   "cell_type": "markdown",
   "metadata": {},
   "source": [
    "# Traitement des données"
   ]
  },
  {
   "cell_type": "markdown",
   "metadata": {},
   "source": [
    "## Pipelines"
   ]
  },
  {
   "cell_type": "code",
   "execution_count": null,
   "metadata": {},
   "outputs": [],
   "source": [
    "processed_X = X_preprocessor.fit_transform(X)\n",
    "processed_y = y_preprocessor.fit_transform(y)"
   ]
  },
  {
   "cell_type": "code",
   "execution_count": null,
   "metadata": {},
   "outputs": [],
   "source": [
    "processed_X_original_data = X_preprocessor.transform(X_original_data)\n",
    "processed_y_original_data = y_preprocessor.transform(y_original_data)"
   ]
  },
  {
   "cell_type": "code",
   "execution_count": null,
   "metadata": {},
   "outputs": [
    {
     "name": "stdout",
     "output_type": "stream",
     "text": [
      "processed_X.shape = (1235, 70)\n",
      "processed_y.shape = (1235,)\n",
      "processed_X_original_data.shape = (299, 70)\n",
      "processed_y_original_data.shape = (299,)\n"
     ]
    }
   ],
   "source": [
    "print_shapes(\n",
    "    processed_X, processed_y, processed_X_original_data, processed_y_original_data\n",
    ")"
   ]
  },
  {
   "cell_type": "markdown",
   "metadata": {},
   "source": [
    "## Par défaut"
   ]
  },
  {
   "cell_type": "code",
   "execution_count": null,
   "metadata": {},
   "outputs": [],
   "source": [
    "X_train, X_test, y_train, y_test = train_test_split(\n",
    "    processed_X,\n",
    "    processed_y,\n",
    "    test_size=0.2,\n",
    "    random_state=SEED,\n",
    ")"
   ]
  },
  {
   "cell_type": "code",
   "execution_count": null,
   "metadata": {},
   "outputs": [],
   "source": [
    "X_train, y_train = add_original_data(\n",
    "    X_train, y_train, processed_X_original_data, processed_y_original_data\n",
    ")"
   ]
  },
  {
   "cell_type": "code",
   "execution_count": null,
   "metadata": {},
   "outputs": [
    {
     "name": "stdout",
     "output_type": "stream",
     "text": [
      "défaut/DummyClassifier_Uniform\n",
      "défaut/DummyClassifier_MostFrequent\n",
      "défaut/LGBMClassifier\n"
     ]
    }
   ],
   "source": [
    "prefix = \"défaut\"\n",
    "results = evaluate_models(models, prefix, X_train, y_train)"
   ]
  },
  {
   "cell_type": "code",
   "execution_count": null,
   "metadata": {},
   "outputs": [
    {
     "data": {
      "text/plain": "[['défaut/LGBMClassifier', 0.7327216569767442, 0.05401907759948498],\n ['défaut/DummyClassifier_MostFrequent',\n  0.49416787790697675,\n  0.0026137333854799978],\n ['défaut/DummyClassifier_Uniform', 0.36982800387596904, 0.027225387160455063]]"
     },
     "execution_count": null,
     "metadata": {},
     "output_type": "execute_result"
    }
   ],
   "source": [
    "sorted(results, key=lambda x: x[1], reverse=True)"
   ]
  },
  {
   "cell_type": "code",
   "execution_count": null,
   "metadata": {},
   "outputs": [
    {
     "data": {
      "text/plain": "[['défaut/LGBMClassifier', 0.7226320251937984, 0.05131130800567399],\n ['défaut/LGBMClassifier', 0.7327216569767442, 0.05401907759948498],\n ['défaut/LGBMClassifier', 0.7241884689922481, 0.05918404365777867],\n ['défaut/LGBMClassifier', 0.7280826065891473, 0.04706282329868854]]"
     },
     "execution_count": null,
     "metadata": {},
     "output_type": "execute_result"
    }
   ],
   "source": [
    "[\n",
    "    [\"défaut/LGBMClassifier\", 0.7226320251937984, 0.05131130800567399],  # no FE\n",
    "    [\n",
    "        \"défaut/LGBMClassifier\",\n",
    "        0.7327216569767442,\n",
    "        0.05401907759948498,\n",
    "    ],  # deviation temp\n",
    "    [\"défaut/LGBMClassifier\", 0.7241884689922481, 0.05918404365777867],  # is generated\n",
    "    [\"défaut/LGBMClassifier\", 0.7280826065891473, 0.04706282329868854],  # both\n",
    "]"
   ]
  },
  {
   "cell_type": "markdown",
   "metadata": {},
   "source": [
    "# Soumission Kaggle"
   ]
  },
  {
   "cell_type": "code",
   "execution_count": null,
   "metadata": {},
   "outputs": [],
   "source": [
    "best_model = models[\"LGBMClassifier\"]\n",
    "submission_name = \"original_data_deviation_temp\""
   ]
  },
  {
   "cell_type": "code",
   "execution_count": null,
   "metadata": {},
   "outputs": [],
   "source": [
    "liste_predictions = make_prediction(\n",
    "    best_model, processed_X, processed_y, X_kaggle, X_preprocessor, y_preprocessor\n",
    ")"
   ]
  },
  {
   "cell_type": "code",
   "execution_count": null,
   "metadata": {},
   "outputs": [],
   "source": [
    "liste_predictions.to_csv(f\"data/results/{submission_name}.csv\")"
   ]
  }
 ],
 "metadata": {
  "kernelspec": {
   "display_name": "python3",
   "language": "python",
   "name": "python3"
  }
 },
 "nbformat": 4,
 "nbformat_minor": 1
}
