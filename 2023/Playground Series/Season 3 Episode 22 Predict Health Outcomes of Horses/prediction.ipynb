{
 "cells": [
  {
   "cell_type": "markdown",
   "metadata": {},
   "source": [
    "# Import des outils / jeu de données"
   ]
  },
  {
   "cell_type": "code",
   "execution_count": 1,
   "metadata": {
    "ExecuteTime": {
     "end_time": "2023-09-30T17:37:32.406343346Z",
     "start_time": "2023-09-30T17:37:31.638210093Z"
    }
   },
   "outputs": [],
   "source": [
    "import matplotlib.pyplot as plt\n",
    "import numpy as np\n",
    "import pandas as pd\n",
    "import seaborn as sns\n",
    "from column_names import id_col, quali_var, quanti_var, target\n",
    "from prediction import create_models, evaluate_models, make_prediction\n",
    "from sklearn.compose import ColumnTransformer\n",
    "from sklearn.feature_selection import mutual_info_regression\n",
    "from sklearn.gaussian_process import GaussianProcessClassifier\n",
    "from sklearn.impute import SimpleImputer\n",
    "from sklearn.inspection import permutation_importance\n",
    "from sklearn.metrics import (\n",
    "    ConfusionMatrixDisplay,\n",
    "    accuracy_score,\n",
    "    classification_report,\n",
    "    confusion_matrix,\n",
    "    f1_score,\n",
    "    make_scorer,\n",
    "    recall_score,\n",
    ")\n",
    "from sklearn.model_selection import GridSearchCV, cross_val_score, train_test_split\n",
    "from sklearn.naive_bayes import BernoulliNB, ComplementNB\n",
    "from sklearn.pipeline import Pipeline\n",
    "from sklearn.preprocessing import (\n",
    "    LabelEncoder,\n",
    "    OneHotEncoder,\n",
    "    OrdinalEncoder,\n",
    "    RobustScaler,\n",
    "    StandardScaler,\n",
    ")"
   ]
  },
  {
   "cell_type": "code",
   "execution_count": 2,
   "metadata": {
    "ExecuteTime": {
     "end_time": "2023-09-30T17:37:32.406734107Z",
     "start_time": "2023-09-30T17:37:32.385070150Z"
    }
   },
   "outputs": [],
   "source": [
    "SEED = 0\n",
    "np.random.seed(SEED)\n",
    "sns.set_theme()"
   ]
  },
  {
   "cell_type": "code",
   "execution_count": 28,
   "outputs": [],
   "source": [
    "original_data = pd.read_csv(\"data/original_dataset_train.csv\")"
   ],
   "metadata": {
    "collapsed": false,
    "ExecuteTime": {
     "end_time": "2023-09-30T19:39:47.704769968Z",
     "start_time": "2023-09-30T19:39:47.663498678Z"
    }
   }
  },
  {
   "cell_type": "code",
   "execution_count": 35,
   "metadata": {
    "ExecuteTime": {
     "end_time": "2023-09-30T19:41:20.763074372Z",
     "start_time": "2023-09-30T19:41:20.719546053Z"
    }
   },
   "outputs": [],
   "source": [
    "df = pd.read_csv(\"data/train.csv\", index_col=id_col)"
   ]
  },
  {
   "cell_type": "code",
   "execution_count": 36,
   "outputs": [],
   "source": [
    "df = pd.concat((original_data, df))"
   ],
   "metadata": {
    "collapsed": false,
    "ExecuteTime": {
     "end_time": "2023-09-30T19:41:21.015767314Z",
     "start_time": "2023-09-30T19:41:20.968813300Z"
    }
   }
  },
  {
   "cell_type": "markdown",
   "metadata": {},
   "source": [
    "## Variables globales"
   ]
  },
  {
   "cell_type": "code",
   "execution_count": 37,
   "metadata": {
    "ExecuteTime": {
     "end_time": "2023-09-30T19:41:21.901507833Z",
     "start_time": "2023-09-30T19:41:21.894033520Z"
    }
   },
   "outputs": [],
   "source": [
    "LABELS = df[target].unique()"
   ]
  },
  {
   "cell_type": "code",
   "execution_count": 38,
   "metadata": {
    "ExecuteTime": {
     "end_time": "2023-09-30T19:41:22.581630024Z",
     "start_time": "2023-09-30T19:41:22.572187223Z"
    }
   },
   "outputs": [],
   "source": [
    "X = df[quanti_var + quali_var].copy()\n",
    "y = df[target].copy()"
   ]
  },
  {
   "cell_type": "code",
   "execution_count": 39,
   "metadata": {
    "ExecuteTime": {
     "end_time": "2023-09-30T19:41:23.009339616Z",
     "start_time": "2023-09-30T19:41:22.996124559Z"
    }
   },
   "outputs": [],
   "source": [
    "le = LabelEncoder()\n",
    "y = le.fit_transform(y)"
   ]
  },
  {
   "cell_type": "markdown",
   "metadata": {},
   "source": [
    "# Liste des modèles"
   ]
  },
  {
   "cell_type": "code",
   "execution_count": 40,
   "metadata": {
    "ExecuteTime": {
     "end_time": "2023-09-30T19:41:23.987576270Z",
     "start_time": "2023-09-30T19:41:23.979114545Z"
    }
   },
   "outputs": [],
   "source": [
    "models = create_models(SEED)"
   ]
  },
  {
   "cell_type": "markdown",
   "metadata": {},
   "source": [
    "# Traitement des données"
   ]
  },
  {
   "cell_type": "markdown",
   "metadata": {},
   "source": [
    "## Pipeline Scaler & OneHotEncoding"
   ]
  },
  {
   "cell_type": "code",
   "execution_count": 41,
   "metadata": {
    "ExecuteTime": {
     "end_time": "2023-09-30T19:41:24.842975977Z",
     "start_time": "2023-09-30T19:41:24.837446994Z"
    }
   },
   "outputs": [],
   "source": [
    "var_cat_non_ohe = [\n",
    "    \"surgery\",\n",
    "    \"age\",\n",
    "    \"capillary_refill_time\",\n",
    "    \"nasogastric_reflux\",\n",
    "    \"surgical_lesion\",\n",
    "    \"cp_data\",\n",
    "]"
   ]
  },
  {
   "cell_type": "code",
   "execution_count": 42,
   "metadata": {
    "ExecuteTime": {
     "end_time": "2023-09-30T19:41:25.373345165Z",
     "start_time": "2023-09-30T19:41:25.359354300Z"
    }
   },
   "outputs": [],
   "source": [
    "var_cat_ohe = [\n",
    "    \"temp_of_extremities\",\n",
    "    \"peripheral_pulse\",\n",
    "    \"mucous_membrane\",\n",
    "    \"pain\",\n",
    "    \"peristalsis\",\n",
    "    \"abdominal_distention\",\n",
    "    \"nasogastric_tube\",\n",
    "    \"rectal_exam_feces\",\n",
    "    \"abdomen\",\n",
    "    \"abdomo_appearance\",\n",
    "]  # quali_var"
   ]
  },
  {
   "cell_type": "code",
   "execution_count": 43,
   "metadata": {
    "ExecuteTime": {
     "end_time": "2023-09-30T19:41:25.600803420Z",
     "start_time": "2023-09-30T19:41:25.558209050Z"
    }
   },
   "outputs": [],
   "source": [
    "quanti_processor = Pipeline(\n",
    "    steps=[\n",
    "        (\"imputer\", SimpleImputer()),\n",
    "        (\"scaler\", StandardScaler()),\n",
    "    ]\n",
    ")"
   ]
  },
  {
   "cell_type": "code",
   "execution_count": 44,
   "metadata": {
    "ExecuteTime": {
     "end_time": "2023-09-30T19:41:25.787417892Z",
     "start_time": "2023-09-30T19:41:25.776257865Z"
    }
   },
   "outputs": [],
   "source": [
    "quali_processor = Pipeline(\n",
    "    steps=[\n",
    "        (\"imputer\", SimpleImputer(strategy=\"most_frequent\")),\n",
    "        (\n",
    "            \"encoder\",\n",
    "            OrdinalEncoder(handle_unknown=\"use_encoded_value\", unknown_value=np.nan),\n",
    "        ),\n",
    "    ]\n",
    ")"
   ]
  },
  {
   "cell_type": "code",
   "execution_count": 45,
   "metadata": {
    "ExecuteTime": {
     "end_time": "2023-09-30T19:41:25.958643445Z",
     "start_time": "2023-09-30T19:41:25.948392359Z"
    }
   },
   "outputs": [],
   "source": [
    "preprocessor = ColumnTransformer(\n",
    "    remainder=\"passthrough\",\n",
    "    transformers=[\n",
    "        (\n",
    "            \"quali_ohe\",\n",
    "            OneHotEncoder(handle_unknown=\"infrequent_if_exist\", sparse_output=False),\n",
    "            var_cat_ohe,\n",
    "        ),\n",
    "        (\"quali_non_ohe\", quali_processor, var_cat_non_ohe),\n",
    "        (\"quanti_processor\", quanti_processor, quanti_var),\n",
    "    ],\n",
    ")"
   ]
  },
  {
   "cell_type": "code",
   "execution_count": 46,
   "metadata": {
    "ExecuteTime": {
     "end_time": "2023-09-30T19:41:26.191605798Z",
     "start_time": "2023-09-30T19:41:26.142272965Z"
    }
   },
   "outputs": [],
   "source": [
    "nouveau_df = pd.DataFrame(\n",
    "    preprocessor.fit_transform(X),\n",
    "    index=df.index,\n",
    "    columns=preprocessor.get_feature_names_out(),\n",
    ")"
   ]
  },
  {
   "cell_type": "code",
   "execution_count": 47,
   "metadata": {
    "ExecuteTime": {
     "end_time": "2023-09-30T19:41:26.517207030Z",
     "start_time": "2023-09-30T19:41:26.505294880Z"
    }
   },
   "outputs": [
    {
     "data": {
      "text/plain": "(1534, 79)"
     },
     "execution_count": 47,
     "metadata": {},
     "output_type": "execute_result"
    }
   ],
   "source": [
    "nouveau_df.shape"
   ]
  },
  {
   "cell_type": "markdown",
   "metadata": {},
   "source": [
    "## Par défaut"
   ]
  },
  {
   "cell_type": "code",
   "execution_count": 48,
   "metadata": {
    "ExecuteTime": {
     "end_time": "2023-09-30T19:41:27.165309327Z",
     "start_time": "2023-09-30T19:41:27.158514242Z"
    }
   },
   "outputs": [],
   "source": [
    "X_train, X_test, y_train, y_test = train_test_split(\n",
    "    nouveau_df, y, test_size=0.2, random_state=SEED\n",
    ")"
   ]
  },
  {
   "cell_type": "code",
   "execution_count": 49,
   "metadata": {
    "ExecuteTime": {
     "end_time": "2023-09-30T19:41:55.319885896Z",
     "start_time": "2023-09-30T19:41:27.521394037Z"
    }
   },
   "outputs": [
    {
     "name": "stdout",
     "output_type": "stream",
     "text": [
      "défaut/DummyClassifier_Uniform\n",
      "défaut/DummyClassifier_MostFrequent\n",
      "défaut/KNeighborsClassifier5\n",
      "défaut/LinearSVC\n"
     ]
    },
    {
     "name": "stderr",
     "output_type": "stream",
     "text": [
      "/home/ab2/.cache/pypoetry/virtualenvs/kaggle-competitions-ww632Mhq-py3.10/lib/python3.10/site-packages/sklearn/svm/_classes.py:32: FutureWarning: The default value of `dual` will change from `True` to `'auto'` in 1.5. Set the value of `dual` explicitly to suppress the warning.\n",
      "  warnings.warn(\n",
      "/home/ab2/.cache/pypoetry/virtualenvs/kaggle-competitions-ww632Mhq-py3.10/lib/python3.10/site-packages/sklearn/svm/_base.py:1250: ConvergenceWarning: Liblinear failed to converge, increase the number of iterations.\n",
      "  warnings.warn(\n",
      "/home/ab2/.cache/pypoetry/virtualenvs/kaggle-competitions-ww632Mhq-py3.10/lib/python3.10/site-packages/sklearn/svm/_classes.py:32: FutureWarning: The default value of `dual` will change from `True` to `'auto'` in 1.5. Set the value of `dual` explicitly to suppress the warning.\n",
      "  warnings.warn(\n",
      "/home/ab2/.cache/pypoetry/virtualenvs/kaggle-competitions-ww632Mhq-py3.10/lib/python3.10/site-packages/sklearn/svm/_base.py:1250: ConvergenceWarning: Liblinear failed to converge, increase the number of iterations.\n",
      "  warnings.warn(\n",
      "/home/ab2/.cache/pypoetry/virtualenvs/kaggle-competitions-ww632Mhq-py3.10/lib/python3.10/site-packages/sklearn/svm/_classes.py:32: FutureWarning: The default value of `dual` will change from `True` to `'auto'` in 1.5. Set the value of `dual` explicitly to suppress the warning.\n",
      "  warnings.warn(\n",
      "/home/ab2/.cache/pypoetry/virtualenvs/kaggle-competitions-ww632Mhq-py3.10/lib/python3.10/site-packages/sklearn/svm/_base.py:1250: ConvergenceWarning: Liblinear failed to converge, increase the number of iterations.\n",
      "  warnings.warn(\n",
      "/home/ab2/.cache/pypoetry/virtualenvs/kaggle-competitions-ww632Mhq-py3.10/lib/python3.10/site-packages/sklearn/svm/_classes.py:32: FutureWarning: The default value of `dual` will change from `True` to `'auto'` in 1.5. Set the value of `dual` explicitly to suppress the warning.\n",
      "  warnings.warn(\n",
      "/home/ab2/.cache/pypoetry/virtualenvs/kaggle-competitions-ww632Mhq-py3.10/lib/python3.10/site-packages/sklearn/svm/_base.py:1250: ConvergenceWarning: Liblinear failed to converge, increase the number of iterations.\n",
      "  warnings.warn(\n",
      "/home/ab2/.cache/pypoetry/virtualenvs/kaggle-competitions-ww632Mhq-py3.10/lib/python3.10/site-packages/sklearn/svm/_classes.py:32: FutureWarning: The default value of `dual` will change from `True` to `'auto'` in 1.5. Set the value of `dual` explicitly to suppress the warning.\n",
      "  warnings.warn(\n",
      "/home/ab2/.cache/pypoetry/virtualenvs/kaggle-competitions-ww632Mhq-py3.10/lib/python3.10/site-packages/sklearn/svm/_base.py:1250: ConvergenceWarning: Liblinear failed to converge, increase the number of iterations.\n",
      "  warnings.warn(\n",
      "/home/ab2/.cache/pypoetry/virtualenvs/kaggle-competitions-ww632Mhq-py3.10/lib/python3.10/site-packages/sklearn/svm/_classes.py:32: FutureWarning: The default value of `dual` will change from `True` to `'auto'` in 1.5. Set the value of `dual` explicitly to suppress the warning.\n",
      "  warnings.warn(\n",
      "/home/ab2/.cache/pypoetry/virtualenvs/kaggle-competitions-ww632Mhq-py3.10/lib/python3.10/site-packages/sklearn/svm/_base.py:1250: ConvergenceWarning: Liblinear failed to converge, increase the number of iterations.\n",
      "  warnings.warn(\n",
      "/home/ab2/.cache/pypoetry/virtualenvs/kaggle-competitions-ww632Mhq-py3.10/lib/python3.10/site-packages/sklearn/svm/_classes.py:32: FutureWarning: The default value of `dual` will change from `True` to `'auto'` in 1.5. Set the value of `dual` explicitly to suppress the warning.\n",
      "  warnings.warn(\n",
      "/home/ab2/.cache/pypoetry/virtualenvs/kaggle-competitions-ww632Mhq-py3.10/lib/python3.10/site-packages/sklearn/svm/_base.py:1250: ConvergenceWarning: Liblinear failed to converge, increase the number of iterations.\n",
      "  warnings.warn(\n",
      "/home/ab2/.cache/pypoetry/virtualenvs/kaggle-competitions-ww632Mhq-py3.10/lib/python3.10/site-packages/sklearn/svm/_classes.py:32: FutureWarning: The default value of `dual` will change from `True` to `'auto'` in 1.5. Set the value of `dual` explicitly to suppress the warning.\n",
      "  warnings.warn(\n",
      "/home/ab2/.cache/pypoetry/virtualenvs/kaggle-competitions-ww632Mhq-py3.10/lib/python3.10/site-packages/sklearn/svm/_base.py:1250: ConvergenceWarning: Liblinear failed to converge, increase the number of iterations.\n",
      "  warnings.warn(\n",
      "/home/ab2/.cache/pypoetry/virtualenvs/kaggle-competitions-ww632Mhq-py3.10/lib/python3.10/site-packages/sklearn/svm/_classes.py:32: FutureWarning: The default value of `dual` will change from `True` to `'auto'` in 1.5. Set the value of `dual` explicitly to suppress the warning.\n",
      "  warnings.warn(\n",
      "/home/ab2/.cache/pypoetry/virtualenvs/kaggle-competitions-ww632Mhq-py3.10/lib/python3.10/site-packages/sklearn/svm/_base.py:1250: ConvergenceWarning: Liblinear failed to converge, increase the number of iterations.\n",
      "  warnings.warn(\n",
      "/home/ab2/.cache/pypoetry/virtualenvs/kaggle-competitions-ww632Mhq-py3.10/lib/python3.10/site-packages/sklearn/svm/_classes.py:32: FutureWarning: The default value of `dual` will change from `True` to `'auto'` in 1.5. Set the value of `dual` explicitly to suppress the warning.\n",
      "  warnings.warn(\n",
      "/home/ab2/.cache/pypoetry/virtualenvs/kaggle-competitions-ww632Mhq-py3.10/lib/python3.10/site-packages/sklearn/svm/_base.py:1250: ConvergenceWarning: Liblinear failed to converge, increase the number of iterations.\n",
      "  warnings.warn(\n"
     ]
    },
    {
     "name": "stdout",
     "output_type": "stream",
     "text": [
      "défaut/LogisticRegression\n"
     ]
    },
    {
     "name": "stderr",
     "output_type": "stream",
     "text": [
      "/home/ab2/.cache/pypoetry/virtualenvs/kaggle-competitions-ww632Mhq-py3.10/lib/python3.10/site-packages/sklearn/linear_model/_logistic.py:460: ConvergenceWarning: lbfgs failed to converge (status=1):\n",
      "STOP: TOTAL NO. of ITERATIONS REACHED LIMIT.\n",
      "\n",
      "Increase the number of iterations (max_iter) or scale the data as shown in:\n",
      "    https://scikit-learn.org/stable/modules/preprocessing.html\n",
      "Please also refer to the documentation for alternative solver options:\n",
      "    https://scikit-learn.org/stable/modules/linear_model.html#logistic-regression\n",
      "  n_iter_i = _check_optimize_result(\n",
      "/home/ab2/.cache/pypoetry/virtualenvs/kaggle-competitions-ww632Mhq-py3.10/lib/python3.10/site-packages/sklearn/linear_model/_logistic.py:460: ConvergenceWarning: lbfgs failed to converge (status=1):\n",
      "STOP: TOTAL NO. of ITERATIONS REACHED LIMIT.\n",
      "\n",
      "Increase the number of iterations (max_iter) or scale the data as shown in:\n",
      "    https://scikit-learn.org/stable/modules/preprocessing.html\n",
      "Please also refer to the documentation for alternative solver options:\n",
      "    https://scikit-learn.org/stable/modules/linear_model.html#logistic-regression\n",
      "  n_iter_i = _check_optimize_result(\n",
      "/home/ab2/.cache/pypoetry/virtualenvs/kaggle-competitions-ww632Mhq-py3.10/lib/python3.10/site-packages/sklearn/linear_model/_logistic.py:460: ConvergenceWarning: lbfgs failed to converge (status=1):\n",
      "STOP: TOTAL NO. of ITERATIONS REACHED LIMIT.\n",
      "\n",
      "Increase the number of iterations (max_iter) or scale the data as shown in:\n",
      "    https://scikit-learn.org/stable/modules/preprocessing.html\n",
      "Please also refer to the documentation for alternative solver options:\n",
      "    https://scikit-learn.org/stable/modules/linear_model.html#logistic-regression\n",
      "  n_iter_i = _check_optimize_result(\n",
      "/home/ab2/.cache/pypoetry/virtualenvs/kaggle-competitions-ww632Mhq-py3.10/lib/python3.10/site-packages/sklearn/linear_model/_logistic.py:460: ConvergenceWarning: lbfgs failed to converge (status=1):\n",
      "STOP: TOTAL NO. of ITERATIONS REACHED LIMIT.\n",
      "\n",
      "Increase the number of iterations (max_iter) or scale the data as shown in:\n",
      "    https://scikit-learn.org/stable/modules/preprocessing.html\n",
      "Please also refer to the documentation for alternative solver options:\n",
      "    https://scikit-learn.org/stable/modules/linear_model.html#logistic-regression\n",
      "  n_iter_i = _check_optimize_result(\n",
      "/home/ab2/.cache/pypoetry/virtualenvs/kaggle-competitions-ww632Mhq-py3.10/lib/python3.10/site-packages/sklearn/linear_model/_logistic.py:460: ConvergenceWarning: lbfgs failed to converge (status=1):\n",
      "STOP: TOTAL NO. of ITERATIONS REACHED LIMIT.\n",
      "\n",
      "Increase the number of iterations (max_iter) or scale the data as shown in:\n",
      "    https://scikit-learn.org/stable/modules/preprocessing.html\n",
      "Please also refer to the documentation for alternative solver options:\n",
      "    https://scikit-learn.org/stable/modules/linear_model.html#logistic-regression\n",
      "  n_iter_i = _check_optimize_result(\n",
      "/home/ab2/.cache/pypoetry/virtualenvs/kaggle-competitions-ww632Mhq-py3.10/lib/python3.10/site-packages/sklearn/linear_model/_logistic.py:460: ConvergenceWarning: lbfgs failed to converge (status=1):\n",
      "STOP: TOTAL NO. of ITERATIONS REACHED LIMIT.\n",
      "\n",
      "Increase the number of iterations (max_iter) or scale the data as shown in:\n",
      "    https://scikit-learn.org/stable/modules/preprocessing.html\n",
      "Please also refer to the documentation for alternative solver options:\n",
      "    https://scikit-learn.org/stable/modules/linear_model.html#logistic-regression\n",
      "  n_iter_i = _check_optimize_result(\n",
      "/home/ab2/.cache/pypoetry/virtualenvs/kaggle-competitions-ww632Mhq-py3.10/lib/python3.10/site-packages/sklearn/linear_model/_logistic.py:460: ConvergenceWarning: lbfgs failed to converge (status=1):\n",
      "STOP: TOTAL NO. of ITERATIONS REACHED LIMIT.\n",
      "\n",
      "Increase the number of iterations (max_iter) or scale the data as shown in:\n",
      "    https://scikit-learn.org/stable/modules/preprocessing.html\n",
      "Please also refer to the documentation for alternative solver options:\n",
      "    https://scikit-learn.org/stable/modules/linear_model.html#logistic-regression\n",
      "  n_iter_i = _check_optimize_result(\n",
      "/home/ab2/.cache/pypoetry/virtualenvs/kaggle-competitions-ww632Mhq-py3.10/lib/python3.10/site-packages/sklearn/linear_model/_logistic.py:460: ConvergenceWarning: lbfgs failed to converge (status=1):\n",
      "STOP: TOTAL NO. of ITERATIONS REACHED LIMIT.\n",
      "\n",
      "Increase the number of iterations (max_iter) or scale the data as shown in:\n",
      "    https://scikit-learn.org/stable/modules/preprocessing.html\n",
      "Please also refer to the documentation for alternative solver options:\n",
      "    https://scikit-learn.org/stable/modules/linear_model.html#logistic-regression\n",
      "  n_iter_i = _check_optimize_result(\n",
      "/home/ab2/.cache/pypoetry/virtualenvs/kaggle-competitions-ww632Mhq-py3.10/lib/python3.10/site-packages/sklearn/linear_model/_logistic.py:460: ConvergenceWarning: lbfgs failed to converge (status=1):\n",
      "STOP: TOTAL NO. of ITERATIONS REACHED LIMIT.\n",
      "\n",
      "Increase the number of iterations (max_iter) or scale the data as shown in:\n",
      "    https://scikit-learn.org/stable/modules/preprocessing.html\n",
      "Please also refer to the documentation for alternative solver options:\n",
      "    https://scikit-learn.org/stable/modules/linear_model.html#logistic-regression\n",
      "  n_iter_i = _check_optimize_result(\n",
      "/home/ab2/.cache/pypoetry/virtualenvs/kaggle-competitions-ww632Mhq-py3.10/lib/python3.10/site-packages/sklearn/linear_model/_logistic.py:460: ConvergenceWarning: lbfgs failed to converge (status=1):\n",
      "STOP: TOTAL NO. of ITERATIONS REACHED LIMIT.\n",
      "\n",
      "Increase the number of iterations (max_iter) or scale the data as shown in:\n",
      "    https://scikit-learn.org/stable/modules/preprocessing.html\n",
      "Please also refer to the documentation for alternative solver options:\n",
      "    https://scikit-learn.org/stable/modules/linear_model.html#logistic-regression\n",
      "  n_iter_i = _check_optimize_result(\n"
     ]
    },
    {
     "name": "stdout",
     "output_type": "stream",
     "text": [
      "défaut/LinearDiscriminantAnalysis\n",
      "défaut/RandomForestClassifier\n",
      "défaut/XGBClassifier\n",
      "défaut/CatBoostClassifier\n",
      "défaut/LGBMClassifier\n",
      "[['défaut/LGBMClassifier', 0.7302079168332667, 0.0360492185095391], ['défaut/XGBClassifier', 0.7203851792616287, 0.05087913491842679], ['défaut/CatBoostClassifier', 0.7179394908703186, 0.038338609160074796], ['défaut/RandomForestClassifier', 0.7, 0.04089569699427146], ['défaut/LinearDiscriminantAnalysis', 0.6739304278288685, 0.05260557545411276], ['défaut/LinearSVC', 0.6723044115687058, 0.048964848776472884], ['défaut/LogisticRegression', 0.6682060509129681, 0.05346744010235199], ['défaut/KNeighborsClassifier5', 0.6445755031320806, 0.06154547736417482], ['défaut/DummyClassifier_MostFrequent', 0.4930694388911102, 0.003182714630483682], ['défaut/DummyClassifier_Uniform', 0.34308276689324274, 0.05011327073780119]]\n"
     ]
    }
   ],
   "source": [
    "prefix = \"défaut\"\n",
    "results = evaluate_models(models, prefix, X_train, y_train)"
   ]
  },
  {
   "cell_type": "code",
   "execution_count": 50,
   "metadata": {
    "ExecuteTime": {
     "end_time": "2023-09-30T19:41:55.320393573Z",
     "start_time": "2023-09-30T19:41:55.297219109Z"
    }
   },
   "outputs": [
    {
     "data": {
      "text/plain": "[['défaut/LGBMClassifier', 0.7302079168332667, 0.0360492185095391],\n ['défaut/XGBClassifier', 0.7203851792616287, 0.05087913491842679],\n ['défaut/CatBoostClassifier', 0.7179394908703186, 0.038338609160074796],\n ['défaut/RandomForestClassifier', 0.7, 0.04089569699427146],\n ['défaut/LinearDiscriminantAnalysis',\n  0.6739304278288685,\n  0.05260557545411276],\n ['défaut/LinearSVC', 0.6723044115687058, 0.048964848776472884],\n ['défaut/LogisticRegression', 0.6682060509129681, 0.05346744010235199],\n ['défaut/KNeighborsClassifier5', 0.6445755031320806, 0.06154547736417482],\n ['défaut/DummyClassifier_MostFrequent',\n  0.4930694388911102,\n  0.003182714630483682],\n ['défaut/DummyClassifier_Uniform', 0.34308276689324274, 0.05011327073780119]]"
     },
     "execution_count": 50,
     "metadata": {},
     "output_type": "execute_result"
    }
   ],
   "source": [
    "sorted(results, key=lambda x: x[1], reverse=True)"
   ]
  },
  {
   "cell_type": "markdown",
   "metadata": {},
   "source": [
    "# Soumission Kaggle"
   ]
  },
  {
   "cell_type": "code",
   "execution_count": 51,
   "metadata": {
    "ExecuteTime": {
     "end_time": "2023-09-30T19:42:09.954622442Z",
     "start_time": "2023-09-30T19:42:09.910725942Z"
    }
   },
   "outputs": [],
   "source": [
    "X_kaggle = pd.read_csv(\"data/test.csv\", index_col=id_col)"
   ]
  },
  {
   "cell_type": "code",
   "execution_count": 52,
   "metadata": {
    "ExecuteTime": {
     "end_time": "2023-09-30T19:42:10.142745815Z",
     "start_time": "2023-09-30T19:42:10.140278073Z"
    }
   },
   "outputs": [
    {
     "data": {
      "text/plain": "     surgery    age  hospital_number  rectal_temp  pulse  respiratory_rate  \\\nid                                                                           \n1235      no  adult           534053         38.6   40.0              20.0   \n1236     yes  adult           528469         38.2  112.0              48.0   \n1237     yes  adult           528178         37.7   66.0              12.0   \n1238      no  adult           534784         37.1   88.0              20.0   \n1239     yes  adult           529840         38.3   50.0              12.0   \n\n     temp_of_extremities peripheral_pulse mucous_membrane  \\\nid                                                          \n1235              normal           normal     normal_pink   \n1236                cool          reduced     bright_pink   \n1237                cool           normal      bright_red   \n1238                cool          reduced   pale_cyanotic   \n1239                None           normal     bright_pink   \n\n     capillary_refill_time  ...        abdomen packed_cell_volume  \\\nid                          ...                                     \n1235            less_3_sec  ...  distend_small               42.0   \n1236            more_3_sec  ...  distend_small               44.0   \n1237            less_3_sec  ...  distend_small               31.5   \n1238            less_3_sec  ...  distend_large               75.0   \n1239            less_3_sec  ...  distend_small               37.0   \n\n     total_protein abdomo_appearance abdomo_protein  surgical_lesion lesion_1  \\\nid                                                                              \n1235           7.5             clear            2.3               no        0   \n1236           6.0     serosanguious            2.6               no     2208   \n1237           6.0            cloudy            1.6              yes     2205   \n1238          81.0              None            1.0              yes     1400   \n1239           6.8            cloudy            2.6              yes     2208   \n\n     lesion_2  lesion_3  cp_data  \nid                                \n1235        0         0       no  \n1236        0         0      yes  \n1237        0         0      yes  \n1238        0         0       no  \n1239        0         0      yes  \n\n[5 rows x 27 columns]",
      "text/html": "<div>\n<style scoped>\n    .dataframe tbody tr th:only-of-type {\n        vertical-align: middle;\n    }\n\n    .dataframe tbody tr th {\n        vertical-align: top;\n    }\n\n    .dataframe thead th {\n        text-align: right;\n    }\n</style>\n<table border=\"1\" class=\"dataframe\">\n  <thead>\n    <tr style=\"text-align: right;\">\n      <th></th>\n      <th>surgery</th>\n      <th>age</th>\n      <th>hospital_number</th>\n      <th>rectal_temp</th>\n      <th>pulse</th>\n      <th>respiratory_rate</th>\n      <th>temp_of_extremities</th>\n      <th>peripheral_pulse</th>\n      <th>mucous_membrane</th>\n      <th>capillary_refill_time</th>\n      <th>...</th>\n      <th>abdomen</th>\n      <th>packed_cell_volume</th>\n      <th>total_protein</th>\n      <th>abdomo_appearance</th>\n      <th>abdomo_protein</th>\n      <th>surgical_lesion</th>\n      <th>lesion_1</th>\n      <th>lesion_2</th>\n      <th>lesion_3</th>\n      <th>cp_data</th>\n    </tr>\n    <tr>\n      <th>id</th>\n      <th></th>\n      <th></th>\n      <th></th>\n      <th></th>\n      <th></th>\n      <th></th>\n      <th></th>\n      <th></th>\n      <th></th>\n      <th></th>\n      <th></th>\n      <th></th>\n      <th></th>\n      <th></th>\n      <th></th>\n      <th></th>\n      <th></th>\n      <th></th>\n      <th></th>\n      <th></th>\n      <th></th>\n    </tr>\n  </thead>\n  <tbody>\n    <tr>\n      <th>1235</th>\n      <td>no</td>\n      <td>adult</td>\n      <td>534053</td>\n      <td>38.6</td>\n      <td>40.0</td>\n      <td>20.0</td>\n      <td>normal</td>\n      <td>normal</td>\n      <td>normal_pink</td>\n      <td>less_3_sec</td>\n      <td>...</td>\n      <td>distend_small</td>\n      <td>42.0</td>\n      <td>7.5</td>\n      <td>clear</td>\n      <td>2.3</td>\n      <td>no</td>\n      <td>0</td>\n      <td>0</td>\n      <td>0</td>\n      <td>no</td>\n    </tr>\n    <tr>\n      <th>1236</th>\n      <td>yes</td>\n      <td>adult</td>\n      <td>528469</td>\n      <td>38.2</td>\n      <td>112.0</td>\n      <td>48.0</td>\n      <td>cool</td>\n      <td>reduced</td>\n      <td>bright_pink</td>\n      <td>more_3_sec</td>\n      <td>...</td>\n      <td>distend_small</td>\n      <td>44.0</td>\n      <td>6.0</td>\n      <td>serosanguious</td>\n      <td>2.6</td>\n      <td>no</td>\n      <td>2208</td>\n      <td>0</td>\n      <td>0</td>\n      <td>yes</td>\n    </tr>\n    <tr>\n      <th>1237</th>\n      <td>yes</td>\n      <td>adult</td>\n      <td>528178</td>\n      <td>37.7</td>\n      <td>66.0</td>\n      <td>12.0</td>\n      <td>cool</td>\n      <td>normal</td>\n      <td>bright_red</td>\n      <td>less_3_sec</td>\n      <td>...</td>\n      <td>distend_small</td>\n      <td>31.5</td>\n      <td>6.0</td>\n      <td>cloudy</td>\n      <td>1.6</td>\n      <td>yes</td>\n      <td>2205</td>\n      <td>0</td>\n      <td>0</td>\n      <td>yes</td>\n    </tr>\n    <tr>\n      <th>1238</th>\n      <td>no</td>\n      <td>adult</td>\n      <td>534784</td>\n      <td>37.1</td>\n      <td>88.0</td>\n      <td>20.0</td>\n      <td>cool</td>\n      <td>reduced</td>\n      <td>pale_cyanotic</td>\n      <td>less_3_sec</td>\n      <td>...</td>\n      <td>distend_large</td>\n      <td>75.0</td>\n      <td>81.0</td>\n      <td>None</td>\n      <td>1.0</td>\n      <td>yes</td>\n      <td>1400</td>\n      <td>0</td>\n      <td>0</td>\n      <td>no</td>\n    </tr>\n    <tr>\n      <th>1239</th>\n      <td>yes</td>\n      <td>adult</td>\n      <td>529840</td>\n      <td>38.3</td>\n      <td>50.0</td>\n      <td>12.0</td>\n      <td>None</td>\n      <td>normal</td>\n      <td>bright_pink</td>\n      <td>less_3_sec</td>\n      <td>...</td>\n      <td>distend_small</td>\n      <td>37.0</td>\n      <td>6.8</td>\n      <td>cloudy</td>\n      <td>2.6</td>\n      <td>yes</td>\n      <td>2208</td>\n      <td>0</td>\n      <td>0</td>\n      <td>yes</td>\n    </tr>\n  </tbody>\n</table>\n<p>5 rows × 27 columns</p>\n</div>"
     },
     "execution_count": 52,
     "metadata": {},
     "output_type": "execute_result"
    }
   ],
   "source": [
    "X_kaggle.head()"
   ]
  },
  {
   "cell_type": "code",
   "execution_count": 53,
   "metadata": {
    "ExecuteTime": {
     "end_time": "2023-09-30T19:42:10.560667703Z",
     "start_time": "2023-09-30T19:42:10.420272124Z"
    }
   },
   "outputs": [
    {
     "data": {
      "text/plain": "LGBMClassifier(random_state=0)",
      "text/html": "<style>#sk-container-id-3 {color: black;}#sk-container-id-3 pre{padding: 0;}#sk-container-id-3 div.sk-toggleable {background-color: white;}#sk-container-id-3 label.sk-toggleable__label {cursor: pointer;display: block;width: 100%;margin-bottom: 0;padding: 0.3em;box-sizing: border-box;text-align: center;}#sk-container-id-3 label.sk-toggleable__label-arrow:before {content: \"▸\";float: left;margin-right: 0.25em;color: #696969;}#sk-container-id-3 label.sk-toggleable__label-arrow:hover:before {color: black;}#sk-container-id-3 div.sk-estimator:hover label.sk-toggleable__label-arrow:before {color: black;}#sk-container-id-3 div.sk-toggleable__content {max-height: 0;max-width: 0;overflow: hidden;text-align: left;background-color: #f0f8ff;}#sk-container-id-3 div.sk-toggleable__content pre {margin: 0.2em;color: black;border-radius: 0.25em;background-color: #f0f8ff;}#sk-container-id-3 input.sk-toggleable__control:checked~div.sk-toggleable__content {max-height: 200px;max-width: 100%;overflow: auto;}#sk-container-id-3 input.sk-toggleable__control:checked~label.sk-toggleable__label-arrow:before {content: \"▾\";}#sk-container-id-3 div.sk-estimator input.sk-toggleable__control:checked~label.sk-toggleable__label {background-color: #d4ebff;}#sk-container-id-3 div.sk-label input.sk-toggleable__control:checked~label.sk-toggleable__label {background-color: #d4ebff;}#sk-container-id-3 input.sk-hidden--visually {border: 0;clip: rect(1px 1px 1px 1px);clip: rect(1px, 1px, 1px, 1px);height: 1px;margin: -1px;overflow: hidden;padding: 0;position: absolute;width: 1px;}#sk-container-id-3 div.sk-estimator {font-family: monospace;background-color: #f0f8ff;border: 1px dotted black;border-radius: 0.25em;box-sizing: border-box;margin-bottom: 0.5em;}#sk-container-id-3 div.sk-estimator:hover {background-color: #d4ebff;}#sk-container-id-3 div.sk-parallel-item::after {content: \"\";width: 100%;border-bottom: 1px solid gray;flex-grow: 1;}#sk-container-id-3 div.sk-label:hover label.sk-toggleable__label {background-color: #d4ebff;}#sk-container-id-3 div.sk-serial::before {content: \"\";position: absolute;border-left: 1px solid gray;box-sizing: border-box;top: 0;bottom: 0;left: 50%;z-index: 0;}#sk-container-id-3 div.sk-serial {display: flex;flex-direction: column;align-items: center;background-color: white;padding-right: 0.2em;padding-left: 0.2em;position: relative;}#sk-container-id-3 div.sk-item {position: relative;z-index: 1;}#sk-container-id-3 div.sk-parallel {display: flex;align-items: stretch;justify-content: center;background-color: white;position: relative;}#sk-container-id-3 div.sk-item::before, #sk-container-id-3 div.sk-parallel-item::before {content: \"\";position: absolute;border-left: 1px solid gray;box-sizing: border-box;top: 0;bottom: 0;left: 50%;z-index: -1;}#sk-container-id-3 div.sk-parallel-item {display: flex;flex-direction: column;z-index: 1;position: relative;background-color: white;}#sk-container-id-3 div.sk-parallel-item:first-child::after {align-self: flex-end;width: 50%;}#sk-container-id-3 div.sk-parallel-item:last-child::after {align-self: flex-start;width: 50%;}#sk-container-id-3 div.sk-parallel-item:only-child::after {width: 0;}#sk-container-id-3 div.sk-dashed-wrapped {border: 1px dashed gray;margin: 0 0.4em 0.5em 0.4em;box-sizing: border-box;padding-bottom: 0.4em;background-color: white;}#sk-container-id-3 div.sk-label label {font-family: monospace;font-weight: bold;display: inline-block;line-height: 1.2em;}#sk-container-id-3 div.sk-label-container {text-align: center;}#sk-container-id-3 div.sk-container {/* jupyter's `normalize.less` sets `[hidden] { display: none; }` but bootstrap.min.css set `[hidden] { display: none !important; }` so we also need the `!important` here to be able to override the default hidden behavior on the sphinx rendered scikit-learn.org. See: https://github.com/scikit-learn/scikit-learn/issues/21755 */display: inline-block !important;position: relative;}#sk-container-id-3 div.sk-text-repr-fallback {display: none;}</style><div id=\"sk-container-id-3\" class=\"sk-top-container\"><div class=\"sk-text-repr-fallback\"><pre>LGBMClassifier(random_state=0)</pre><b>In a Jupyter environment, please rerun this cell to show the HTML representation or trust the notebook. <br />On GitHub, the HTML representation is unable to render, please try loading this page with nbviewer.org.</b></div><div class=\"sk-container\" hidden><div class=\"sk-item\"><div class=\"sk-estimator sk-toggleable\"><input class=\"sk-toggleable__control sk-hidden--visually\" id=\"sk-estimator-id-3\" type=\"checkbox\" checked><label for=\"sk-estimator-id-3\" class=\"sk-toggleable__label sk-toggleable__label-arrow\">LGBMClassifier</label><div class=\"sk-toggleable__content\"><pre>LGBMClassifier(random_state=0)</pre></div></div></div></div></div>"
     },
     "execution_count": 53,
     "metadata": {},
     "output_type": "execute_result"
    }
   ],
   "source": [
    "best_model = models[\"LGBMClassifier\"]\n",
    "best_model"
   ]
  },
  {
   "cell_type": "code",
   "execution_count": 54,
   "outputs": [],
   "source": [
    "liste_predictions = make_prediction(\n",
    "    best_model, X_train, y_train, X_kaggle, preprocessor, le\n",
    ")"
   ],
   "metadata": {
    "collapsed": false,
    "ExecuteTime": {
     "end_time": "2023-09-30T19:42:12.238170564Z",
     "start_time": "2023-09-30T19:42:11.545709306Z"
    }
   }
  },
  {
   "cell_type": "code",
   "execution_count": 56,
   "metadata": {
    "ExecuteTime": {
     "end_time": "2023-09-30T19:42:19.044612705Z",
     "start_time": "2023-09-30T19:42:19.027466204Z"
    }
   },
   "outputs": [],
   "source": [
    "submission_name = \"original_data\""
   ]
  },
  {
   "cell_type": "code",
   "execution_count": 57,
   "metadata": {
    "ExecuteTime": {
     "end_time": "2023-09-30T19:42:21.144175559Z",
     "start_time": "2023-09-30T19:42:21.134482162Z"
    }
   },
   "outputs": [],
   "source": [
    "liste_predictions.to_csv(f\"data/results/{submission_name}.csv\")"
   ]
  }
 ],
 "metadata": {
  "kernelspec": {
   "display_name": "python3",
   "language": "python",
   "name": "python3"
  }
 },
 "nbformat": 4,
 "nbformat_minor": 1
}
