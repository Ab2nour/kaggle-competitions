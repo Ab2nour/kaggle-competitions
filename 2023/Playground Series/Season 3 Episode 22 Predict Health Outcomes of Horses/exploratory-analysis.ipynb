{
 "cells": [
  {
   "cell_type": "markdown",
   "source": [
    "# Import des outils / jeu de données"
   ],
   "metadata": {
    "collapsed": false
   }
  },
  {
   "cell_type": "code",
   "execution_count": 1,
   "outputs": [],
   "source": [
    "import matplotlib.pyplot as plt\n",
    "import numpy as np\n",
    "import pandas as pd\n",
    "import seaborn as sns"
   ],
   "metadata": {
    "collapsed": false,
    "ExecuteTime": {
     "end_time": "2023-09-14T07:59:17.448836366Z",
     "start_time": "2023-09-14T07:59:10.613603015Z"
    }
   }
  },
  {
   "cell_type": "code",
   "execution_count": 2,
   "outputs": [
    {
     "name": "stdout",
     "output_type": "stream",
     "text": [
      "ok\n"
     ]
    }
   ],
   "source": [
    "print(\"ok\")"
   ],
   "metadata": {
    "collapsed": false,
    "ExecuteTime": {
     "end_time": "2023-09-14T07:59:22.347192510Z",
     "start_time": "2023-09-14T07:59:20.494594053Z"
    }
   }
  },
  {
   "cell_type": "code",
   "execution_count": 2,
   "outputs": [],
   "source": [
    "np.random.seed(0)\n",
    "sns.set_theme()"
   ],
   "metadata": {
    "collapsed": false,
    "ExecuteTime": {
     "start_time": "2023-04-19T12:20:43.492672Z",
     "end_time": "2023-04-19T12:20:43.500619Z"
    }
   }
  },
  {
   "cell_type": "code",
   "execution_count": 3,
   "outputs": [],
   "source": [
    "df = pd.read_csv(\n",
    "    \"data/train.csv\",\n",
    "    index_col=\"id\",\n",
    ")"
   ],
   "metadata": {
    "collapsed": false,
    "ExecuteTime": {
     "start_time": "2023-04-19T12:20:43.502365Z",
     "end_time": "2023-04-19T12:20:43.545218Z"
    }
   }
  },
  {
   "cell_type": "markdown",
   "source": [
    "# Présentation"
   ],
   "metadata": {
    "collapsed": false
   }
  },
  {
   "cell_type": "markdown",
   "source": [
    "## Jeu de données"
   ],
   "metadata": {
    "collapsed": false
   }
  },
  {
   "cell_type": "markdown",
   "source": [
    "### Lecture des données"
   ],
   "metadata": {
    "collapsed": false
   }
  },
  {
   "cell_type": "markdown",
   "source": [
    "### Présentation des variables"
   ],
   "metadata": {
    "collapsed": false
   }
  },
  {
   "cell_type": "code",
   "execution_count": 4,
   "outputs": [
    {
     "data": {
      "text/plain": "    sudden_fever  headache  mouth_bleed  nose_bleed  muscle_pain  joint_pain  \\\nid                                                                             \n0            1.0       1.0          0.0         1.0          1.0         1.0   \n1            0.0       0.0          0.0         0.0          0.0         0.0   \n2            0.0       1.0          1.0         1.0          0.0         1.0   \n3            0.0       0.0          1.0         1.0          1.0         1.0   \n4            0.0       0.0          0.0         0.0          0.0         0.0   \n\n    vomiting  rash  diarrhea  hypotension  ...  breathing_restriction  \\\nid                                         ...                          \n0        1.0   0.0       1.0          1.0  ...                    0.0   \n1        1.0   0.0       1.0          0.0  ...                    0.0   \n2        1.0   1.0       1.0          1.0  ...                    1.0   \n3        0.0   1.0       0.0          1.0  ...                    0.0   \n4        0.0   0.0       1.0          0.0  ...                    0.0   \n\n    toe_inflammation  finger_inflammation  lips_irritation  itchiness  ulcers  \\\nid                                                                              \n0                0.0                  0.0              0.0        0.0     0.0   \n1                0.0                  0.0              0.0        0.0     0.0   \n2                1.0                  1.0              1.0        1.0     0.0   \n3                0.0                  0.0              0.0        0.0     0.0   \n4                1.0                  0.0              0.0        1.0     1.0   \n\n    toenail_loss  speech_problem  bullseye_rash          prognosis  \nid                                                                  \n0            0.0             0.0            0.0       Lyme_disease  \n1            0.0             0.0            0.0          Tungiasis  \n2            1.0             1.0            1.0       Lyme_disease  \n3            0.0             0.0            0.0               Zika  \n4            1.0             0.0            0.0  Rift_Valley_fever  \n\n[5 rows x 65 columns]",
      "text/html": "<div>\n<style scoped>\n    .dataframe tbody tr th:only-of-type {\n        vertical-align: middle;\n    }\n\n    .dataframe tbody tr th {\n        vertical-align: top;\n    }\n\n    .dataframe thead th {\n        text-align: right;\n    }\n</style>\n<table border=\"1\" class=\"dataframe\">\n  <thead>\n    <tr style=\"text-align: right;\">\n      <th></th>\n      <th>sudden_fever</th>\n      <th>headache</th>\n      <th>mouth_bleed</th>\n      <th>nose_bleed</th>\n      <th>muscle_pain</th>\n      <th>joint_pain</th>\n      <th>vomiting</th>\n      <th>rash</th>\n      <th>diarrhea</th>\n      <th>hypotension</th>\n      <th>...</th>\n      <th>breathing_restriction</th>\n      <th>toe_inflammation</th>\n      <th>finger_inflammation</th>\n      <th>lips_irritation</th>\n      <th>itchiness</th>\n      <th>ulcers</th>\n      <th>toenail_loss</th>\n      <th>speech_problem</th>\n      <th>bullseye_rash</th>\n      <th>prognosis</th>\n    </tr>\n    <tr>\n      <th>id</th>\n      <th></th>\n      <th></th>\n      <th></th>\n      <th></th>\n      <th></th>\n      <th></th>\n      <th></th>\n      <th></th>\n      <th></th>\n      <th></th>\n      <th></th>\n      <th></th>\n      <th></th>\n      <th></th>\n      <th></th>\n      <th></th>\n      <th></th>\n      <th></th>\n      <th></th>\n      <th></th>\n      <th></th>\n    </tr>\n  </thead>\n  <tbody>\n    <tr>\n      <th>0</th>\n      <td>1.0</td>\n      <td>1.0</td>\n      <td>0.0</td>\n      <td>1.0</td>\n      <td>1.0</td>\n      <td>1.0</td>\n      <td>1.0</td>\n      <td>0.0</td>\n      <td>1.0</td>\n      <td>1.0</td>\n      <td>...</td>\n      <td>0.0</td>\n      <td>0.0</td>\n      <td>0.0</td>\n      <td>0.0</td>\n      <td>0.0</td>\n      <td>0.0</td>\n      <td>0.0</td>\n      <td>0.0</td>\n      <td>0.0</td>\n      <td>Lyme_disease</td>\n    </tr>\n    <tr>\n      <th>1</th>\n      <td>0.0</td>\n      <td>0.0</td>\n      <td>0.0</td>\n      <td>0.0</td>\n      <td>0.0</td>\n      <td>0.0</td>\n      <td>1.0</td>\n      <td>0.0</td>\n      <td>1.0</td>\n      <td>0.0</td>\n      <td>...</td>\n      <td>0.0</td>\n      <td>0.0</td>\n      <td>0.0</td>\n      <td>0.0</td>\n      <td>0.0</td>\n      <td>0.0</td>\n      <td>0.0</td>\n      <td>0.0</td>\n      <td>0.0</td>\n      <td>Tungiasis</td>\n    </tr>\n    <tr>\n      <th>2</th>\n      <td>0.0</td>\n      <td>1.0</td>\n      <td>1.0</td>\n      <td>1.0</td>\n      <td>0.0</td>\n      <td>1.0</td>\n      <td>1.0</td>\n      <td>1.0</td>\n      <td>1.0</td>\n      <td>1.0</td>\n      <td>...</td>\n      <td>1.0</td>\n      <td>1.0</td>\n      <td>1.0</td>\n      <td>1.0</td>\n      <td>1.0</td>\n      <td>0.0</td>\n      <td>1.0</td>\n      <td>1.0</td>\n      <td>1.0</td>\n      <td>Lyme_disease</td>\n    </tr>\n    <tr>\n      <th>3</th>\n      <td>0.0</td>\n      <td>0.0</td>\n      <td>1.0</td>\n      <td>1.0</td>\n      <td>1.0</td>\n      <td>1.0</td>\n      <td>0.0</td>\n      <td>1.0</td>\n      <td>0.0</td>\n      <td>1.0</td>\n      <td>...</td>\n      <td>0.0</td>\n      <td>0.0</td>\n      <td>0.0</td>\n      <td>0.0</td>\n      <td>0.0</td>\n      <td>0.0</td>\n      <td>0.0</td>\n      <td>0.0</td>\n      <td>0.0</td>\n      <td>Zika</td>\n    </tr>\n    <tr>\n      <th>4</th>\n      <td>0.0</td>\n      <td>0.0</td>\n      <td>0.0</td>\n      <td>0.0</td>\n      <td>0.0</td>\n      <td>0.0</td>\n      <td>0.0</td>\n      <td>0.0</td>\n      <td>1.0</td>\n      <td>0.0</td>\n      <td>...</td>\n      <td>0.0</td>\n      <td>1.0</td>\n      <td>0.0</td>\n      <td>0.0</td>\n      <td>1.0</td>\n      <td>1.0</td>\n      <td>1.0</td>\n      <td>0.0</td>\n      <td>0.0</td>\n      <td>Rift_Valley_fever</td>\n    </tr>\n  </tbody>\n</table>\n<p>5 rows × 65 columns</p>\n</div>"
     },
     "execution_count": 4,
     "metadata": {},
     "output_type": "execute_result"
    }
   ],
   "source": [
    "df.head()"
   ],
   "metadata": {
    "collapsed": false,
    "ExecuteTime": {
     "start_time": "2023-04-19T12:20:43.545060Z",
     "end_time": "2023-04-19T12:20:43.596337Z"
    }
   }
  },
  {
   "cell_type": "code",
   "execution_count": 5,
   "outputs": [
    {
     "name": "stdout",
     "output_type": "stream",
     "text": [
      "Il y a 65 variables et 707 individus.\n"
     ]
    }
   ],
   "source": [
    "print(f\"Il y a {df.shape[1]} variables et {df.shape[0]} individus.\")"
   ],
   "metadata": {
    "collapsed": false,
    "ExecuteTime": {
     "start_time": "2023-04-19T12:20:43.589835Z",
     "end_time": "2023-04-19T12:20:43.597362Z"
    }
   }
  },
  {
   "cell_type": "code",
   "execution_count": 8,
   "outputs": [],
   "source": [
    "TARGET = \"prognosis\""
   ],
   "metadata": {
    "collapsed": false,
    "ExecuteTime": {
     "start_time": "2023-04-19T12:22:15.879204Z",
     "end_time": "2023-04-19T12:22:15.882609Z"
    }
   }
  },
  {
   "cell_type": "code",
   "execution_count": null,
   "outputs": [],
   "source": [
    "# var_quali ="
   ],
   "metadata": {
    "collapsed": false
   }
  },
  {
   "cell_type": "markdown",
   "source": [
    "#### Variables"
   ],
   "metadata": {
    "collapsed": false
   }
  },
  {
   "cell_type": "code",
   "execution_count": 9,
   "outputs": [],
   "source": [
    "X = df.copy()\n",
    "y = X.pop(TARGET)"
   ],
   "metadata": {
    "collapsed": false,
    "ExecuteTime": {
     "start_time": "2023-04-19T12:22:18.840326Z",
     "end_time": "2023-04-19T12:22:18.857371Z"
    }
   }
  },
  {
   "cell_type": "code",
   "execution_count": 10,
   "outputs": [
    {
     "data": {
      "text/plain": "id\n0         Lyme_disease\n1            Tungiasis\n2         Lyme_disease\n3                 Zika\n4    Rift_Valley_fever\nName: prognosis, dtype: object"
     },
     "execution_count": 10,
     "metadata": {},
     "output_type": "execute_result"
    }
   ],
   "source": [
    "y.head()"
   ],
   "metadata": {
    "collapsed": false,
    "ExecuteTime": {
     "start_time": "2023-04-19T12:22:19.418106Z",
     "end_time": "2023-04-19T12:22:19.422208Z"
    }
   }
  },
  {
   "cell_type": "code",
   "execution_count": 11,
   "outputs": [
    {
     "data": {
      "text/plain": "    sudden_fever  headache  mouth_bleed  nose_bleed  muscle_pain  joint_pain  \\\nid                                                                             \n0            1.0       1.0          0.0         1.0          1.0         1.0   \n1            0.0       0.0          0.0         0.0          0.0         0.0   \n2            0.0       1.0          1.0         1.0          0.0         1.0   \n3            0.0       0.0          1.0         1.0          1.0         1.0   \n4            0.0       0.0          0.0         0.0          0.0         0.0   \n\n    vomiting  rash  diarrhea  hypotension  ...  lymph_swells  \\\nid                                         ...                 \n0        1.0   0.0       1.0          1.0  ...           0.0   \n1        1.0   0.0       1.0          0.0  ...           0.0   \n2        1.0   1.0       1.0          1.0  ...           1.0   \n3        0.0   1.0       0.0          1.0  ...           0.0   \n4        0.0   0.0       1.0          0.0  ...           0.0   \n\n    breathing_restriction  toe_inflammation  finger_inflammation  \\\nid                                                                 \n0                     0.0               0.0                  0.0   \n1                     0.0               0.0                  0.0   \n2                     1.0               1.0                  1.0   \n3                     0.0               0.0                  0.0   \n4                     0.0               1.0                  0.0   \n\n    lips_irritation  itchiness  ulcers  toenail_loss  speech_problem  \\\nid                                                                     \n0               0.0        0.0     0.0           0.0             0.0   \n1               0.0        0.0     0.0           0.0             0.0   \n2               1.0        1.0     0.0           1.0             1.0   \n3               0.0        0.0     0.0           0.0             0.0   \n4               0.0        1.0     1.0           1.0             0.0   \n\n    bullseye_rash  \nid                 \n0             0.0  \n1             0.0  \n2             1.0  \n3             0.0  \n4             0.0  \n\n[5 rows x 64 columns]",
      "text/html": "<div>\n<style scoped>\n    .dataframe tbody tr th:only-of-type {\n        vertical-align: middle;\n    }\n\n    .dataframe tbody tr th {\n        vertical-align: top;\n    }\n\n    .dataframe thead th {\n        text-align: right;\n    }\n</style>\n<table border=\"1\" class=\"dataframe\">\n  <thead>\n    <tr style=\"text-align: right;\">\n      <th></th>\n      <th>sudden_fever</th>\n      <th>headache</th>\n      <th>mouth_bleed</th>\n      <th>nose_bleed</th>\n      <th>muscle_pain</th>\n      <th>joint_pain</th>\n      <th>vomiting</th>\n      <th>rash</th>\n      <th>diarrhea</th>\n      <th>hypotension</th>\n      <th>...</th>\n      <th>lymph_swells</th>\n      <th>breathing_restriction</th>\n      <th>toe_inflammation</th>\n      <th>finger_inflammation</th>\n      <th>lips_irritation</th>\n      <th>itchiness</th>\n      <th>ulcers</th>\n      <th>toenail_loss</th>\n      <th>speech_problem</th>\n      <th>bullseye_rash</th>\n    </tr>\n    <tr>\n      <th>id</th>\n      <th></th>\n      <th></th>\n      <th></th>\n      <th></th>\n      <th></th>\n      <th></th>\n      <th></th>\n      <th></th>\n      <th></th>\n      <th></th>\n      <th></th>\n      <th></th>\n      <th></th>\n      <th></th>\n      <th></th>\n      <th></th>\n      <th></th>\n      <th></th>\n      <th></th>\n      <th></th>\n      <th></th>\n    </tr>\n  </thead>\n  <tbody>\n    <tr>\n      <th>0</th>\n      <td>1.0</td>\n      <td>1.0</td>\n      <td>0.0</td>\n      <td>1.0</td>\n      <td>1.0</td>\n      <td>1.0</td>\n      <td>1.0</td>\n      <td>0.0</td>\n      <td>1.0</td>\n      <td>1.0</td>\n      <td>...</td>\n      <td>0.0</td>\n      <td>0.0</td>\n      <td>0.0</td>\n      <td>0.0</td>\n      <td>0.0</td>\n      <td>0.0</td>\n      <td>0.0</td>\n      <td>0.0</td>\n      <td>0.0</td>\n      <td>0.0</td>\n    </tr>\n    <tr>\n      <th>1</th>\n      <td>0.0</td>\n      <td>0.0</td>\n      <td>0.0</td>\n      <td>0.0</td>\n      <td>0.0</td>\n      <td>0.0</td>\n      <td>1.0</td>\n      <td>0.0</td>\n      <td>1.0</td>\n      <td>0.0</td>\n      <td>...</td>\n      <td>0.0</td>\n      <td>0.0</td>\n      <td>0.0</td>\n      <td>0.0</td>\n      <td>0.0</td>\n      <td>0.0</td>\n      <td>0.0</td>\n      <td>0.0</td>\n      <td>0.0</td>\n      <td>0.0</td>\n    </tr>\n    <tr>\n      <th>2</th>\n      <td>0.0</td>\n      <td>1.0</td>\n      <td>1.0</td>\n      <td>1.0</td>\n      <td>0.0</td>\n      <td>1.0</td>\n      <td>1.0</td>\n      <td>1.0</td>\n      <td>1.0</td>\n      <td>1.0</td>\n      <td>...</td>\n      <td>1.0</td>\n      <td>1.0</td>\n      <td>1.0</td>\n      <td>1.0</td>\n      <td>1.0</td>\n      <td>1.0</td>\n      <td>0.0</td>\n      <td>1.0</td>\n      <td>1.0</td>\n      <td>1.0</td>\n    </tr>\n    <tr>\n      <th>3</th>\n      <td>0.0</td>\n      <td>0.0</td>\n      <td>1.0</td>\n      <td>1.0</td>\n      <td>1.0</td>\n      <td>1.0</td>\n      <td>0.0</td>\n      <td>1.0</td>\n      <td>0.0</td>\n      <td>1.0</td>\n      <td>...</td>\n      <td>0.0</td>\n      <td>0.0</td>\n      <td>0.0</td>\n      <td>0.0</td>\n      <td>0.0</td>\n      <td>0.0</td>\n      <td>0.0</td>\n      <td>0.0</td>\n      <td>0.0</td>\n      <td>0.0</td>\n    </tr>\n    <tr>\n      <th>4</th>\n      <td>0.0</td>\n      <td>0.0</td>\n      <td>0.0</td>\n      <td>0.0</td>\n      <td>0.0</td>\n      <td>0.0</td>\n      <td>0.0</td>\n      <td>0.0</td>\n      <td>1.0</td>\n      <td>0.0</td>\n      <td>...</td>\n      <td>0.0</td>\n      <td>0.0</td>\n      <td>1.0</td>\n      <td>0.0</td>\n      <td>0.0</td>\n      <td>1.0</td>\n      <td>1.0</td>\n      <td>1.0</td>\n      <td>0.0</td>\n      <td>0.0</td>\n    </tr>\n  </tbody>\n</table>\n<p>5 rows × 64 columns</p>\n</div>"
     },
     "execution_count": 11,
     "metadata": {},
     "output_type": "execute_result"
    }
   ],
   "source": [
    "X.head()"
   ],
   "metadata": {
    "collapsed": false,
    "ExecuteTime": {
     "start_time": "2023-04-19T12:22:19.967688Z",
     "end_time": "2023-04-19T12:22:20.009123Z"
    }
   }
  },
  {
   "cell_type": "markdown",
   "source": [
    "# Découverte des données"
   ],
   "metadata": {
    "collapsed": false
   }
  },
  {
   "cell_type": "markdown",
   "source": [
    "## Analyse univariée"
   ],
   "metadata": {
    "collapsed": false
   }
  },
  {
   "cell_type": "code",
   "execution_count": null,
   "outputs": [],
   "source": [
    "df.describe()"
   ],
   "metadata": {
    "collapsed": false,
    "ExecuteTime": {
     "start_time": "2023-04-08T14:30:02.078441Z",
     "end_time": "2023-04-08T14:30:02.091233Z"
    }
   }
  },
  {
   "cell_type": "code",
   "execution_count": null,
   "outputs": [],
   "source": [
    "df.nunique()"
   ],
   "metadata": {
    "collapsed": false,
    "ExecuteTime": {
     "start_time": "2023-04-08T14:30:28.885903Z",
     "end_time": "2023-04-08T14:30:28.938707Z"
    }
   }
  },
  {
   "cell_type": "markdown",
   "source": [
    "## Visualisation"
   ],
   "metadata": {
    "collapsed": false
   }
  },
  {
   "cell_type": "markdown",
   "source": [
    "### Variables numériques"
   ],
   "metadata": {
    "collapsed": false
   }
  },
  {
   "cell_type": "code",
   "execution_count": null,
   "outputs": [],
   "source": [
    "for var in X.columns:\n",
    "    _, ax = plt.subplots(1, 2, figsize=(8, 2))\n",
    "    sns.boxplot(df[var], width=0.25, ax=ax[0])\n",
    "    sns.histplot(df[var], kde=True, ax=ax[1])\n",
    "    plt.show()"
   ],
   "metadata": {
    "collapsed": false,
    "ExecuteTime": {
     "start_time": "2023-04-08T12:19:44.430281Z",
     "end_time": "2023-04-08T12:19:45.715182Z"
    }
   }
  },
  {
   "cell_type": "code",
   "execution_count": null,
   "outputs": [],
   "source": [
    "sns.heatmap(\n",
    "    X.corr()[X.corr().abs() > 0.5],\n",
    "    annot=True,\n",
    "    cmap=\"BrBG\",\n",
    "    linewidths=0.5,\n",
    "    vmax=1,\n",
    "    vmin=-1,\n",
    ")"
   ],
   "metadata": {
    "collapsed": false,
    "ExecuteTime": {
     "start_time": "2023-04-08T12:24:25.006941Z",
     "end_time": "2023-04-08T12:24:25.235337Z"
    }
   }
  },
  {
   "cell_type": "code",
   "execution_count": null,
   "outputs": [],
   "source": [
    "df.isna().sum()"
   ],
   "metadata": {
    "collapsed": false,
    "ExecuteTime": {
     "start_time": "2023-04-08T12:24:50.345606Z",
     "end_time": "2023-04-08T12:24:50.352039Z"
    }
   }
  },
  {
   "cell_type": "markdown",
   "source": [
    "### Variable cible"
   ],
   "metadata": {
    "collapsed": false
   }
  },
  {
   "cell_type": "code",
   "execution_count": 15,
   "outputs": [
    {
     "data": {
      "text/plain": "<Figure size 640x480 with 1 Axes>",
      "image/png": "[encoded data removed]"
     },
     "metadata": {},
     "output_type": "display_data"
    }
   ],
   "source": [
    "sns.histplot(y=y.astype(str), shrink=0.3, stat=\"probability\")\n",
    "plt.show()"
   ],
   "metadata": {
    "collapsed": false,
    "ExecuteTime": {
     "start_time": "2023-04-19T12:24:17.453233Z",
     "end_time": "2023-04-19T12:24:17.635346Z"
    }
   }
  },
  {
   "cell_type": "code",
   "execution_count": 13,
   "outputs": [
    {
     "data": {
      "text/plain": "West_Nile_fever          0.120226\nJapanese_encephalitis    0.114569\nTungiasis                0.099010\nRift_Valley_fever        0.099010\nChikungunya              0.093352\nDengue                   0.089109\nYellow_Fever             0.086280\nZika                     0.082037\nPlague                   0.074965\nLyme_disease             0.073550\nMalaria                  0.067893\nName: prognosis, dtype: float64"
     },
     "execution_count": 13,
     "metadata": {},
     "output_type": "execute_result"
    }
   ],
   "source": [
    "y.value_counts(normalize=True)"
   ],
   "metadata": {
    "collapsed": false,
    "ExecuteTime": {
     "start_time": "2023-04-19T12:24:10.871187Z",
     "end_time": "2023-04-19T12:24:10.879282Z"
    }
   }
  },
  {
   "cell_type": "code",
   "execution_count": 14,
   "outputs": [
    {
     "data": {
      "text/plain": "West_Nile_fever          85\nJapanese_encephalitis    81\nTungiasis                70\nRift_Valley_fever        70\nChikungunya              66\nDengue                   63\nYellow_Fever             61\nZika                     58\nPlague                   53\nLyme_disease             52\nMalaria                  48\nName: prognosis, dtype: int64"
     },
     "execution_count": 14,
     "metadata": {},
     "output_type": "execute_result"
    }
   ],
   "source": [
    "y.value_counts()"
   ],
   "metadata": {
    "collapsed": false,
    "ExecuteTime": {
     "start_time": "2023-04-19T12:24:11.797858Z",
     "end_time": "2023-04-19T12:24:11.802989Z"
    }
   }
  },
  {
   "cell_type": "markdown",
   "source": [
    "### Variable cible en fonction des autres variables"
   ],
   "metadata": {
    "collapsed": false
   }
  },
  {
   "cell_type": "code",
   "execution_count": null,
   "outputs": [],
   "source": [
    "for var in X.columns:\n",
    "    _, ax = plt.subplots(1, 2, figsize=(10, 2))\n",
    "    sns.boxplot(x=X[var], y=y.astype(str), width=0.25, ax=ax[0])\n",
    "    sns.histplot(\n",
    "        x=X[var],\n",
    "        kde=True,\n",
    "        ax=ax[1],\n",
    "        hue=y.astype(str),\n",
    "        stat=\"probability\",\n",
    "        common_norm=False,\n",
    "    )\n",
    "    plt.show()"
   ],
   "metadata": {
    "collapsed": false,
    "ExecuteTime": {
     "start_time": "2023-04-08T12:27:23.798795Z",
     "end_time": "2023-04-08T12:27:25.663874Z"
    }
   }
  },
  {
   "cell_type": "markdown",
   "source": [
    "# Sauvegarde du Dataframe"
   ],
   "metadata": {
    "collapsed": false
   }
  },
  {
   "cell_type": "code",
   "execution_count": null,
   "outputs": [],
   "source": [
    "df.to_csv(\"data/data.csv\")"
   ],
   "metadata": {
    "collapsed": false
   }
  }
 ],
 "metadata": {
  "kernelspec": {
   "display_name": "Python 3",
   "language": "python",
   "name": "python3"
  },
  "language_info": {
   "codemirror_mode": {
    "name": "ipython",
    "version": 2
   },
   "file_extension": ".py",
   "mimetype": "text/x-python",
   "name": "python",
   "nbconvert_exporter": "python",
   "pygments_lexer": "ipython2",
   "version": "2.7.6"
  }
 },
 "nbformat": 4,
 "nbformat_minor": 0
}
