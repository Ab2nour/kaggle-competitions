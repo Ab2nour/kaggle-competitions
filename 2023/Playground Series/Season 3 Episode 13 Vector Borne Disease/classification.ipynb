{
 "cells": [
  {
   "cell_type": "markdown",
   "metadata": {},
   "source": [
    "# Import des outils / jeu de données"
   ]
  },
  {
   "cell_type": "code",
   "execution_count": 35,
   "metadata": {
    "ExecuteTime": {
     "start_time": "2023-04-19T12:34:20.781322Z",
     "end_time": "2023-04-19T12:34:20.787479Z"
    }
   },
   "outputs": [],
   "source": [
    "import matplotlib.pyplot as plt\n",
    "import numpy as np\n",
    "import pandas as pd\n",
    "import seaborn as sns\n",
    "import xgboost\n",
    "from catboost import CatBoostClassifier\n",
    "from imblearn.over_sampling import SMOTENC\n",
    "from keras import layers\n",
    "from lightgbm import LGBMClassifier\n",
    "from scipy.stats import boxcox\n",
    "from sklearn.compose import ColumnTransformer\n",
    "from sklearn.discriminant_analysis import LinearDiscriminantAnalysis\n",
    "from sklearn.dummy import DummyClassifier\n",
    "from sklearn.ensemble import IsolationForest, RandomForestClassifier, VotingClassifier\n",
    "from sklearn.feature_selection import mutual_info_regression\n",
    "from sklearn.gaussian_process import GaussianProcessClassifier\n",
    "from sklearn.inspection import permutation_importance\n",
    "from sklearn.linear_model import LogisticRegression\n",
    "from sklearn.metrics import (\n",
    "    ConfusionMatrixDisplay,\n",
    "    accuracy_score,\n",
    "    classification_report,\n",
    "    confusion_matrix,\n",
    "    f1_score,\n",
    "    make_scorer,\n",
    ")\n",
    "from sklearn.model_selection import GridSearchCV, cross_val_score, train_test_split\n",
    "from sklearn.naive_bayes import BernoulliNB, ComplementNB\n",
    "from sklearn.neighbors import KNeighborsClassifier\n",
    "from sklearn.pipeline import Pipeline\n",
    "from sklearn.preprocessing import OneHotEncoder, LabelEncoder, RobustScaler, StandardScaler\n",
    "from sklearn.svm import LinearSVC\n",
    "from sklearn.tree import DecisionTreeClassifier\n",
    "from tensorflow import keras\n",
    "from sklearn.metrics import recall_score"
   ]
  },
  {
   "cell_type": "code",
   "execution_count": 2,
   "metadata": {
    "ExecuteTime": {
     "start_time": "2023-04-19T12:26:17.453955Z",
     "end_time": "2023-04-19T12:26:17.499887Z"
    }
   },
   "outputs": [],
   "source": [
    "SEED = 0"
   ]
  },
  {
   "cell_type": "code",
   "execution_count": 3,
   "metadata": {
    "ExecuteTime": {
     "start_time": "2023-04-19T12:26:17.456009Z",
     "end_time": "2023-04-19T12:26:17.500009Z"
    }
   },
   "outputs": [],
   "source": [
    "np.random.seed(SEED)\n",
    "sns.set_theme()"
   ]
  },
  {
   "cell_type": "code",
   "execution_count": 23,
   "metadata": {
    "ExecuteTime": {
     "start_time": "2023-04-19T12:30:10.487029Z",
     "end_time": "2023-04-19T12:30:10.537190Z"
    }
   },
   "outputs": [],
   "source": [
    "df = pd.read_csv(\n",
    "    \"data/train.csv\",\n",
    "    index_col=\"id\",\n",
    ")"
   ]
  },
  {
   "cell_type": "markdown",
   "metadata": {},
   "source": [
    "## Variables globales"
   ]
  },
  {
   "cell_type": "code",
   "execution_count": 24,
   "outputs": [],
   "source": [
    "TARGET = \"prognosis\"\n",
    "LABELS = df[TARGET].unique()"
   ],
   "metadata": {
    "collapsed": false,
    "ExecuteTime": {
     "start_time": "2023-04-19T12:30:10.952612Z",
     "end_time": "2023-04-19T12:30:11.001927Z"
    }
   }
  },
  {
   "cell_type": "code",
   "execution_count": 26,
   "outputs": [],
   "source": [
    "X = df.copy()\n",
    "y = X.pop(TARGET)"
   ],
   "metadata": {
    "collapsed": false,
    "ExecuteTime": {
     "start_time": "2023-04-19T12:30:11.476907Z",
     "end_time": "2023-04-19T12:30:11.526219Z"
    }
   }
  },
  {
   "cell_type": "code",
   "execution_count": 41,
   "outputs": [],
   "source": [
    "le = LabelEncoder()\n",
    "y = le.fit_transform(y)"
   ],
   "metadata": {
    "collapsed": false,
    "ExecuteTime": {
     "start_time": "2023-04-19T12:35:39.084180Z",
     "end_time": "2023-04-19T12:35:39.125098Z"
    }
   }
  },
  {
   "cell_type": "code",
   "execution_count": 27,
   "outputs": [],
   "source": [
    "var_numeriques = []"
   ],
   "metadata": {
    "collapsed": false,
    "ExecuteTime": {
     "start_time": "2023-04-19T12:30:11.925429Z",
     "end_time": "2023-04-19T12:30:11.968758Z"
    }
   }
  },
  {
   "cell_type": "code",
   "execution_count": 28,
   "outputs": [],
   "source": [
    "var_categoriques = X.columns"
   ],
   "metadata": {
    "collapsed": false,
    "ExecuteTime": {
     "start_time": "2023-04-19T12:30:12.287512Z",
     "end_time": "2023-04-19T12:30:12.333013Z"
    }
   }
  },
  {
   "cell_type": "markdown",
   "metadata": {},
   "source": [
    "## Fonctions et variables utiles"
   ]
  },
  {
   "cell_type": "code",
   "execution_count": 11,
   "metadata": {
    "ExecuteTime": {
     "start_time": "2023-04-19T12:27:00.888366Z",
     "end_time": "2023-04-19T12:27:00.944484Z"
    }
   },
   "outputs": [],
   "source": [
    "score_modeles = []"
   ]
  },
  {
   "cell_type": "markdown",
   "metadata": {},
   "source": [
    "**Tableau.** Informations sur notre classification\n",
    "\n",
    "|:---------------------------|:----------------------------------|\n",
    "| **Objectif métier**        | Prédire l'acceptation à une campagne marketing |\n",
    "| **Problème technique**     | Classification binaire supervisée |\n",
    "| **Métrique**               | Score F1 sur la classe 1 (clients qui acceptent)<br>À score F1 égal, on choisit la meilleure précision sur la classe 1 |\n",
    "| **Méthode d'entraînement** | Validation croisée en 5 blocs     |\n",
    "| **Pré-traitement**         | Variables quantitatives : centrer/réduire<br>Variables qualitatives : OneHot Encoding (Tableau Disjonctif Complet) |\n",
    "| **Équilibrage des classes**| 1) Aucun<br>2) Sous-échantillonnage aléatoire manuel<br>3) Sur-échantillonnage avec SMOTE |\n"
   ]
  },
  {
   "cell_type": "code",
   "execution_count": 12,
   "metadata": {
    "ExecuteTime": {
     "start_time": "2023-04-19T12:27:02.001914Z",
     "end_time": "2023-04-19T12:27:02.056725Z"
    }
   },
   "outputs": [],
   "source": [
    "def evaluate_models(models, prefix, X_train, X_test, y_train, y_test):\n",
    "    \"\"\"Evalue tous les modèles dans `models` et sauvegarde les résultats avec un préfixe `prefix`\n",
    "    (utile pour distinguer les différentes stratégies de pré-traitement des données).\"\"\"\n",
    "    results = []\n",
    "\n",
    "    for model, model_name in models:\n",
    "        name = f\"{prefix}/{model_name}\"\n",
    "\n",
    "        model.fit(X_train, y_train)\n",
    "        y_pred = model.predict(X_test)\n",
    "        precision = accuracy_score(y_test, y_pred)\n",
    "        scores = cross_val_score(\n",
    "            model,\n",
    "            X_train,\n",
    "            y_train,\n",
    "            cv=5,\n",
    "            scoring=make_scorer(f1_score, labels=[LABELS[1]]),\n",
    "        )\n",
    "        scores_mean = scores.mean()\n",
    "        scores_std = scores.std()\n",
    "\n",
    "        # clf_report = pd.DataFrame(\n",
    "        #     classification_report(y_test, y_pred, output_dict=True)\n",
    "        # ).T\n",
    "        # cm = confusion_matrix(y_test, y_pred, labels=LABELS, normalize=\"true\")\n",
    "        # # sns.heatmap(cm, annot=True, cmap=\"Purples\", vmin=0, vmax=1)\n",
    "        #\n",
    "        # score_f1_classe1 = clf_report.iloc[1, 2]\n",
    "\n",
    "        results.append(\n",
    "            [\n",
    "                name,\n",
    "                scores_mean,\n",
    "                #             scores_std,\n",
    "            ]\n",
    "        )\n",
    "        score_modeles.extend(\n",
    "            (\n",
    "                [\n",
    "                    name,\n",
    "                    \"score_f1_classe1\",\n",
    "                    scores_mean,\n",
    "                    #               scores_std,\n",
    "                    precision,\n",
    "                ],\n",
    "            )\n",
    "        )\n",
    "\n",
    "    return results"
   ]
  },
  {
   "cell_type": "markdown",
   "source": [
    "## MAP@K"
   ],
   "metadata": {
    "collapsed": false
   }
  },
  {
   "cell_type": "code",
   "execution_count": 152,
   "outputs": [],
   "source": [
    "def apk(actual, predicted, k=10):\n",
    "    \"\"\"\n",
    "    Computes the average precision at k.\n",
    "    This function computes the average prescision at k between two lists of\n",
    "    items.\n",
    "    Parameters\n",
    "    ----------\n",
    "    actual : list\n",
    "             A list of elements that are to be predicted (order doesn't matter)\n",
    "    predicted : list\n",
    "                A list of predicted elements (order does matter)\n",
    "    k : int, optional\n",
    "        The maximum number of predicted elements\n",
    "    Returns\n",
    "    -------\n",
    "    score : double\n",
    "            The average precision at k over the input lists\n",
    "    \"\"\"\n",
    "    if len(predicted) > k:\n",
    "        predicted = predicted[:k]\n",
    "\n",
    "    score = 0.0\n",
    "    num_hits = 0.0\n",
    "\n",
    "    for i, p in enumerate(predicted):\n",
    "        if p in actual and p not in predicted[:i]:\n",
    "            num_hits += 1.0\n",
    "            score += num_hits / (i + 1.0)\n",
    "\n",
    "    if not actual:\n",
    "        return 0.0\n",
    "\n",
    "    return score / min(len(actual), k)\n",
    "\n",
    "\n",
    "def mapk(actual, predicted, k=3):\n",
    "    \"\"\"\n",
    "    Computes the mean average precision at k.\n",
    "    This function computes the mean average prescision at k between two lists\n",
    "    of lists of items.\n",
    "    Parameters\n",
    "    ----------\n",
    "    actual : list\n",
    "             A list of lists of elements that are to be predicted\n",
    "             (order doesn't matter in the lists)\n",
    "    predicted : list\n",
    "                A list of lists of predicted elements\n",
    "                (order matters in the lists)\n",
    "    k : int, optional\n",
    "        The maximum number of predicted elements\n",
    "    Returns\n",
    "    -------\n",
    "    score : double\n",
    "            The mean average precision at k over the input lists\n",
    "    \"\"\"\n",
    "    return np.mean([apk(a, p, k) for a, p in zip(actual, predicted)])"
   ],
   "metadata": {
    "collapsed": false,
    "ExecuteTime": {
     "start_time": "2023-04-19T13:52:27.679583Z",
     "end_time": "2023-04-19T13:52:27.689243Z"
    }
   }
  },
  {
   "cell_type": "code",
   "execution_count": 153,
   "outputs": [],
   "source": [
    "def map3_score(y_true, y_pred):\n",
    "    \"\"\" Renvoie le score MAP@3 des données prédites y_pred par rapport aux vraies données y_true. \"\"\"\n",
    "    sorted_prediction_ids = np.argsort(-y_pred, axis=1)\n",
    "    top_3_prediction_ids = sorted_prediction_ids[:, :3]\n",
    "\n",
    "    return mapk(y_true.reshape(-1, 1), top_3_prediction_ids, k=3)"
   ],
   "metadata": {
    "collapsed": false,
    "ExecuteTime": {
     "start_time": "2023-04-19T13:52:27.888701Z",
     "end_time": "2023-04-19T13:52:27.888931Z"
    }
   }
  },
  {
   "cell_type": "code",
   "execution_count": 154,
   "outputs": [],
   "source": [
    "def top3_predictions(model, X, label_encoder=le):\n",
    "    y_pred = model.predict_proba(X)\n",
    "\n",
    "    sorted_prediction_ids = np.argsort(-y_pred, axis=1)\n",
    "    top_3_prediction_ids = sorted_prediction_ids[:, :3]\n",
    "\n",
    "    original_shape = top_3_prediction_ids.shape\n",
    "    top_3_predictions_array = label_encoder.inverse_transform(top_3_prediction_ids.reshape(-1, 1))\n",
    "    top_3_predictions_array = top_3_predictions_array.reshape(original_shape)\n",
    "\n",
    "    return top_3_predictions_array"
   ],
   "metadata": {
    "collapsed": false,
    "ExecuteTime": {
     "start_time": "2023-04-19T13:52:27.998395Z",
     "end_time": "2023-04-19T13:52:28.041165Z"
    }
   }
  },
  {
   "cell_type": "markdown",
   "metadata": {},
   "source": [
    "# Liste des modèles"
   ]
  },
  {
   "cell_type": "markdown",
   "metadata": {},
   "source": [
    "**Tableau.** Liste des modèles de notre étude\n",
    "\n",
    "|:---------------------------|:----------------------------------|\n",
    "| **Modèles de référence**   | Classificateur Idiot Uniforme (50% de oui et 50% de non)<br>Classificateur Idiot Constant 1 (100% de oui) |\n",
    "| **Modèles linéaires**  | Régression logistique<br>Analyse Discriminante Linéaire |\n",
    "| **Arbres de décision**               | Arbre de décision<br>Forêt d'arbres de décision (Random Forest) |\n",
    "| **Gradient Boosting** | XGBoost<br>LightGBM<br>CatBoost |\n",
    "| **Machine à vecteurs de support (SVM)** | Classificateur SVM linéaire |\n",
    "| **k plus proches voisins (k-NN)** | Classificateur k-nn (5 voisins)<br>Classificateur k-nn (15 voisins) |\n",
    "| **Modèle de vote**| Modèle de \"Vote à la majorité\" sur 5 modèles :<br>- Régression logistique<br>- Analyse discriminante linéaire<br>- Random Forest<br>- XGBoost<br>- CatBoost |\n",
    "| **Réseau de neurones**| Réseau de neurones à 5 couches et 1 600 neurones |\n"
   ]
  },
  {
   "cell_type": "code",
   "execution_count": 14,
   "outputs": [],
   "source": [
    "LABEL_DUMMY_CONSTANT = LABELS[0]"
   ],
   "metadata": {
    "collapsed": false,
    "ExecuteTime": {
     "start_time": "2023-04-19T12:28:00.078937Z",
     "end_time": "2023-04-19T12:28:00.087644Z"
    }
   }
  },
  {
   "cell_type": "code",
   "execution_count": 15,
   "metadata": {
    "ExecuteTime": {
     "start_time": "2023-04-19T12:28:00.400338Z",
     "end_time": "2023-04-19T12:28:00.446553Z"
    }
   },
   "outputs": [],
   "source": [
    "models = [\n",
    "    [DummyClassifier(strategy=\"uniform\", random_state=SEED), \"DummyClassifier_Uniform\"],\n",
    "    [\n",
    "        DummyClassifier(strategy=\"constant\", constant=LABEL_DUMMY_CONSTANT, random_state=SEED),\n",
    "        f\"DummyClassifier_Constant_{LABEL_DUMMY_CONSTANT}\",\n",
    "    ],\n",
    "    [LogisticRegression(random_state=SEED), \"LogisticRegression\"],\n",
    "    [LinearDiscriminantAnalysis(), \"LinearDiscriminantAnalysis\"],\n",
    "    [DecisionTreeClassifier(random_state=SEED), \"DecisionTreeClassifier\"],\n",
    "    [RandomForestClassifier(random_state=SEED), \"RandomForestClassifier\"],\n",
    "    [xgboost.XGBClassifier(random_state=SEED), \"XGBClassifier\"],\n",
    "    [CatBoostClassifier(random_state=SEED, verbose=False), \"CatBoostClassifier\"],\n",
    "    [LGBMClassifier(random_state=SEED), \"LGBMClassifier\"],\n",
    "    [LinearSVC(random_state=SEED), \"LinearSVC\"],\n",
    "    # [BernoulliNB(), \"BernoulliNB\"],\n",
    "    # [ComplementNB(), \"ComplementNB\"],\n",
    "    [KNeighborsClassifier(), \"KNeighborsClassifier5\"],\n",
    "    [KNeighborsClassifier(n_neighbors=15), \"KNeighborsClassifier15\"],\n",
    "    [\n",
    "        VotingClassifier(\n",
    "            estimators=[\n",
    "                (\"lr\", LogisticRegression(random_state=SEED)),\n",
    "                (\"lda\", LinearDiscriminantAnalysis()),\n",
    "                (\"dt\", RandomForestClassifier(random_state=SEED)),\n",
    "                (\"xgb\", xgboost.XGBClassifier(random_state=SEED)),\n",
    "                (\"catboost\", CatBoostClassifier(random_state=SEED, verbose=False)),\n",
    "            ],\n",
    "            voting=\"soft\",\n",
    "        ),\n",
    "        \"VotingClassifier\",\n",
    "    ],\n",
    "]"
   ]
  },
  {
   "cell_type": "markdown",
   "metadata": {},
   "source": [
    "# Traitement des données"
   ]
  },
  {
   "cell_type": "markdown",
   "metadata": {},
   "source": [
    "## Pipeline Scaler & OneHotEncoding"
   ]
  },
  {
   "cell_type": "code",
   "execution_count": 20,
   "metadata": {
    "ExecuteTime": {
     "start_time": "2023-04-19T12:29:49.680070Z",
     "end_time": "2023-04-19T12:29:49.751892Z"
    }
   },
   "outputs": [],
   "source": [
    "var_cat_non_ohe = X.columns"
   ]
  },
  {
   "cell_type": "code",
   "execution_count": 21,
   "metadata": {
    "ExecuteTime": {
     "start_time": "2023-04-19T12:29:54.649181Z",
     "end_time": "2023-04-19T12:29:54.658581Z"
    }
   },
   "outputs": [],
   "source": [
    "var_cat_ohe = []"
   ]
  },
  {
   "cell_type": "code",
   "execution_count": 29,
   "metadata": {
    "ExecuteTime": {
     "start_time": "2023-04-19T12:30:22.783402Z",
     "end_time": "2023-04-19T12:30:22.809971Z"
    }
   },
   "outputs": [
    {
     "data": {
      "text/plain": "    sudden_fever  headache  mouth_bleed  nose_bleed  muscle_pain  joint_pain  \\\nid                                                                             \n0            1.0       1.0          0.0         1.0          1.0         1.0   \n1            0.0       0.0          0.0         0.0          0.0         0.0   \n2            0.0       1.0          1.0         1.0          0.0         1.0   \n3            0.0       0.0          1.0         1.0          1.0         1.0   \n4            0.0       0.0          0.0         0.0          0.0         0.0   \n\n    vomiting  rash  diarrhea  hypotension  ...  lymph_swells  \\\nid                                         ...                 \n0        1.0   0.0       1.0          1.0  ...           0.0   \n1        1.0   0.0       1.0          0.0  ...           0.0   \n2        1.0   1.0       1.0          1.0  ...           1.0   \n3        0.0   1.0       0.0          1.0  ...           0.0   \n4        0.0   0.0       1.0          0.0  ...           0.0   \n\n    breathing_restriction  toe_inflammation  finger_inflammation  \\\nid                                                                 \n0                     0.0               0.0                  0.0   \n1                     0.0               0.0                  0.0   \n2                     1.0               1.0                  1.0   \n3                     0.0               0.0                  0.0   \n4                     0.0               1.0                  0.0   \n\n    lips_irritation  itchiness  ulcers  toenail_loss  speech_problem  \\\nid                                                                     \n0               0.0        0.0     0.0           0.0             0.0   \n1               0.0        0.0     0.0           0.0             0.0   \n2               1.0        1.0     0.0           1.0             1.0   \n3               0.0        0.0     0.0           0.0             0.0   \n4               0.0        1.0     1.0           1.0             0.0   \n\n    bullseye_rash  \nid                 \n0             0.0  \n1             0.0  \n2             1.0  \n3             0.0  \n4             0.0  \n\n[5 rows x 64 columns]",
      "text/html": "<div>\n<style scoped>\n    .dataframe tbody tr th:only-of-type {\n        vertical-align: middle;\n    }\n\n    .dataframe tbody tr th {\n        vertical-align: top;\n    }\n\n    .dataframe thead th {\n        text-align: right;\n    }\n</style>\n<table border=\"1\" class=\"dataframe\">\n  <thead>\n    <tr style=\"text-align: right;\">\n      <th></th>\n      <th>sudden_fever</th>\n      <th>headache</th>\n      <th>mouth_bleed</th>\n      <th>nose_bleed</th>\n      <th>muscle_pain</th>\n      <th>joint_pain</th>\n      <th>vomiting</th>\n      <th>rash</th>\n      <th>diarrhea</th>\n      <th>hypotension</th>\n      <th>...</th>\n      <th>lymph_swells</th>\n      <th>breathing_restriction</th>\n      <th>toe_inflammation</th>\n      <th>finger_inflammation</th>\n      <th>lips_irritation</th>\n      <th>itchiness</th>\n      <th>ulcers</th>\n      <th>toenail_loss</th>\n      <th>speech_problem</th>\n      <th>bullseye_rash</th>\n    </tr>\n    <tr>\n      <th>id</th>\n      <th></th>\n      <th></th>\n      <th></th>\n      <th></th>\n      <th></th>\n      <th></th>\n      <th></th>\n      <th></th>\n      <th></th>\n      <th></th>\n      <th></th>\n      <th></th>\n      <th></th>\n      <th></th>\n      <th></th>\n      <th></th>\n      <th></th>\n      <th></th>\n      <th></th>\n      <th></th>\n      <th></th>\n    </tr>\n  </thead>\n  <tbody>\n    <tr>\n      <th>0</th>\n      <td>1.0</td>\n      <td>1.0</td>\n      <td>0.0</td>\n      <td>1.0</td>\n      <td>1.0</td>\n      <td>1.0</td>\n      <td>1.0</td>\n      <td>0.0</td>\n      <td>1.0</td>\n      <td>1.0</td>\n      <td>...</td>\n      <td>0.0</td>\n      <td>0.0</td>\n      <td>0.0</td>\n      <td>0.0</td>\n      <td>0.0</td>\n      <td>0.0</td>\n      <td>0.0</td>\n      <td>0.0</td>\n      <td>0.0</td>\n      <td>0.0</td>\n    </tr>\n    <tr>\n      <th>1</th>\n      <td>0.0</td>\n      <td>0.0</td>\n      <td>0.0</td>\n      <td>0.0</td>\n      <td>0.0</td>\n      <td>0.0</td>\n      <td>1.0</td>\n      <td>0.0</td>\n      <td>1.0</td>\n      <td>0.0</td>\n      <td>...</td>\n      <td>0.0</td>\n      <td>0.0</td>\n      <td>0.0</td>\n      <td>0.0</td>\n      <td>0.0</td>\n      <td>0.0</td>\n      <td>0.0</td>\n      <td>0.0</td>\n      <td>0.0</td>\n      <td>0.0</td>\n    </tr>\n    <tr>\n      <th>2</th>\n      <td>0.0</td>\n      <td>1.0</td>\n      <td>1.0</td>\n      <td>1.0</td>\n      <td>0.0</td>\n      <td>1.0</td>\n      <td>1.0</td>\n      <td>1.0</td>\n      <td>1.0</td>\n      <td>1.0</td>\n      <td>...</td>\n      <td>1.0</td>\n      <td>1.0</td>\n      <td>1.0</td>\n      <td>1.0</td>\n      <td>1.0</td>\n      <td>1.0</td>\n      <td>0.0</td>\n      <td>1.0</td>\n      <td>1.0</td>\n      <td>1.0</td>\n    </tr>\n    <tr>\n      <th>3</th>\n      <td>0.0</td>\n      <td>0.0</td>\n      <td>1.0</td>\n      <td>1.0</td>\n      <td>1.0</td>\n      <td>1.0</td>\n      <td>0.0</td>\n      <td>1.0</td>\n      <td>0.0</td>\n      <td>1.0</td>\n      <td>...</td>\n      <td>0.0</td>\n      <td>0.0</td>\n      <td>0.0</td>\n      <td>0.0</td>\n      <td>0.0</td>\n      <td>0.0</td>\n      <td>0.0</td>\n      <td>0.0</td>\n      <td>0.0</td>\n      <td>0.0</td>\n    </tr>\n    <tr>\n      <th>4</th>\n      <td>0.0</td>\n      <td>0.0</td>\n      <td>0.0</td>\n      <td>0.0</td>\n      <td>0.0</td>\n      <td>0.0</td>\n      <td>0.0</td>\n      <td>0.0</td>\n      <td>1.0</td>\n      <td>0.0</td>\n      <td>...</td>\n      <td>0.0</td>\n      <td>0.0</td>\n      <td>1.0</td>\n      <td>0.0</td>\n      <td>0.0</td>\n      <td>1.0</td>\n      <td>1.0</td>\n      <td>1.0</td>\n      <td>0.0</td>\n      <td>0.0</td>\n    </tr>\n  </tbody>\n</table>\n<p>5 rows × 64 columns</p>\n</div>"
     },
     "execution_count": 29,
     "metadata": {},
     "output_type": "execute_result"
    }
   ],
   "source": [
    "df[var_categoriques].head()"
   ]
  },
  {
   "cell_type": "code",
   "execution_count": 30,
   "metadata": {
    "ExecuteTime": {
     "start_time": "2023-04-19T12:30:36.098130Z",
     "end_time": "2023-04-19T12:30:36.145381Z"
    }
   },
   "outputs": [],
   "source": [
    "preprocessor = ColumnTransformer(\n",
    "    remainder=\"passthrough\",\n",
    "    transformers=[\n",
    "        (\"ohe\", OneHotEncoder(), var_cat_ohe),\n",
    "        (\"scaler\", RobustScaler(), var_numeriques),\n",
    "    ],\n",
    ")"
   ]
  },
  {
   "cell_type": "code",
   "execution_count": 32,
   "metadata": {
    "ExecuteTime": {
     "start_time": "2023-04-19T12:30:50.128865Z",
     "end_time": "2023-04-19T12:30:50.136696Z"
    }
   },
   "outputs": [],
   "source": [
    "nouveau_df = pd.DataFrame(preprocessor.transform(X), index=df.index)"
   ]
  },
  {
   "cell_type": "code",
   "execution_count": 33,
   "metadata": {
    "ExecuteTime": {
     "start_time": "2023-04-19T12:30:50.328507Z",
     "end_time": "2023-04-19T12:30:50.374350Z"
    }
   },
   "outputs": [
    {
     "data": {
      "text/plain": "(707, 64)"
     },
     "execution_count": 33,
     "metadata": {},
     "output_type": "execute_result"
    }
   ],
   "source": [
    "nouveau_df.shape"
   ]
  },
  {
   "cell_type": "markdown",
   "metadata": {},
   "source": [
    "## Par défaut"
   ]
  },
  {
   "cell_type": "code",
   "execution_count": 99,
   "metadata": {
    "ExecuteTime": {
     "start_time": "2023-04-19T12:52:58.167918Z",
     "end_time": "2023-04-19T12:52:58.233965Z"
    }
   },
   "outputs": [],
   "source": [
    "X_train, X_test, y_train, y_test = train_test_split(\n",
    "    nouveau_df, y, test_size=0.2, random_state=SEED\n",
    ")"
   ]
  },
  {
   "cell_type": "code",
   "execution_count": 100,
   "outputs": [
    {
     "data": {
      "text/plain": "array([ 2,  7,  6,  7,  6,  1,  7,  4,  0,  9,  8,  3,  9,  8,  4,  2,  0,\n        5,  1,  6,  6,  0,  8,  3,  0,  8,  1, 10,  8, 10,  6,  0,  6, 10,\n        6,  2,  2,  9,  0,  6,  4,  9,  7,  0,  8,  8,  0,  0, 10,  6,  4,\n        6,  1,  1,  8,  7,  8,  6,  2,  6,  6,  1,  8,  0,  9,  9,  8,  0,\n        7,  2,  3,  9,  4,  8,  1,  7,  8,  2,  7,  8,  9,  4,  9,  6,  8,\n        7, 10,  6,  1,  5,  0,  4,  2,  0,  6,  9,  2,  9,  6,  0,  4,  8,\n        8,  7,  0,  4,  2,  3, 10,  0,  6,  1,  5,  4,  2,  7,  8,  6,  7,\n        2,  2,  4, 10,  5,  9,  3,  8,  6,  1,  8,  2, 10,  5,  6,  2,  3,\n        9,  8,  4,  9,  9,  1,  0,  5,  5,  5,  2,  9, 10,  7,  9,  3,  2,\n        8,  8,  1,  8,  2,  8,  9,  7,  2,  7, 10,  5,  0,  7,  2, 10,  8,\n        5,  8,  9,  6,  1,  1,  4,  8,  3,  6,  6,  4, 10,  9,  9,  0,  3,\n        2,  8, 10,  8,  3,  8,  2,  8,  7,  9,  8,  7,  3,  0,  4,  3,  2,\n        0,  0,  7,  5,  6,  6,  2,  5,  9, 10,  1,  3,  4,  5,  7,  2,  8,\n        8,  0,  2,  0,  8,  7,  4,  7,  1,  1,  1,  0,  8, 10,  7, 10,  8,\n        6,  1,  6,  0,  1,  5,  0, 10,  0,  7,  2,  1,  7,  2,  1,  2,  4,\n        0,  6,  6,  3,  2,  2,  3,  1,  4,  2,  4,  0,  9,  8,  0,  4,  9,\n        6,  1,  9,  2,  6,  8,  7,  5,  8,  4,  4, 10,  6,  7,  6,  3,  6,\n        1, 10,  9, 10,  8,  0,  2,  2,  4,  5,  3,  9, 10,  8,  3,  4,  8,\n       10,  9,  0, 10,  2,  3,  5,  0, 10, 10,  7,  4,  7,  8,  8,  7,  5,\n        3,  7,  3,  8,  7,  7,  7,  3,  2,  3,  5,  2,  2,  8,  7,  3,  6,\n        1,  9,  1,  9,  6,  0,  1,  7,  5,  5,  9, 10,  4,  9,  0, 10,  4,\n        1,  9,  6,  9,  3,  1,  8,  7,  7,  5,  1,  3,  8,  8,  7,  9,  9,\n        7,  6, 10, 10,  9,  8,  4,  9, 10,  2,  5,  5,  1, 10,  2,  2,  5,\n        9,  0,  5, 10,  5,  4,  5,  8,  3,  7,  7,  1,  8,  2,  6,  1,  7,\n        5,  6,  4,  2,  6,  3,  7,  6,  8,  1,  6,  3,  3,  2,  0,  8,  6,\n        0,  6,  0, 10, 10,  6,  2,  8,  6,  3,  0,  7,  6, 10,  2,  1,  8,\n       10,  0,  1,  3,  4, 10,  0,  8,  3,  6,  8,  9,  8, 10,  1, 10,  7,\n        4, 10,  4, 10,  2,  8,  0,  1,  6,  1,  1,  8, 10,  6,  0,  3,  3,\n        5,  7,  3,  7,  6, 10,  8,  2,  8,  6,  7,  2,  8,  9,  2,  8,  0,\n        4,  1,  6,  4,  0,  6,  9,  2,  4,  3,  0,  5,  8,  7,  4,  4, 10,\n        1,  2,  0,  0,  8,  1,  2,  7,  5,  6,  0,  0,  8, 10,  3,  6,  1,\n        9,  6,  1,  8, 10,  6,  3,  1,  9,  2,  8,  5,  5,  1,  5,  2,  4,\n        6,  9,  0,  5,  9,  5,  5,  5,  7,  6,  0,  8,  7,  9,  8,  0,  9,\n        3,  5,  9,  8])"
     },
     "execution_count": 100,
     "metadata": {},
     "output_type": "execute_result"
    }
   ],
   "source": [
    "y_train"
   ],
   "metadata": {
    "collapsed": false,
    "ExecuteTime": {
     "start_time": "2023-04-19T12:53:01.962444Z",
     "end_time": "2023-04-19T12:53:01.992022Z"
    }
   }
  },
  {
   "cell_type": "code",
   "execution_count": 101,
   "metadata": {
    "ExecuteTime": {
     "start_time": "2023-04-19T12:53:02.289546Z",
     "end_time": "2023-04-19T12:53:02.333192Z"
    }
   },
   "outputs": [
    {
     "data": {
      "text/plain": "(707, 64)"
     },
     "execution_count": 101,
     "metadata": {},
     "output_type": "execute_result"
    }
   ],
   "source": [
    "nouveau_df.shape"
   ]
  },
  {
   "cell_type": "code",
   "execution_count": 102,
   "outputs": [],
   "source": [
    "xgb = xgboost.XGBClassifier()"
   ],
   "metadata": {
    "collapsed": false,
    "ExecuteTime": {
     "start_time": "2023-04-19T12:53:02.598356Z",
     "end_time": "2023-04-19T12:53:02.644051Z"
    }
   }
  },
  {
   "cell_type": "code",
   "execution_count": 103,
   "outputs": [
    {
     "data": {
      "text/plain": "XGBClassifier(base_score=None, booster=None, callbacks=None,\n              colsample_bylevel=None, colsample_bynode=None,\n              colsample_bytree=None, early_stopping_rounds=None,\n              enable_categorical=False, eval_metric=None, feature_types=None,\n              gamma=None, gpu_id=None, grow_policy=None, importance_type=None,\n              interaction_constraints=None, learning_rate=None, max_bin=None,\n              max_cat_threshold=None, max_cat_to_onehot=None,\n              max_delta_step=None, max_depth=None, max_leaves=None,\n              min_child_weight=None, missing=nan, monotone_constraints=None,\n              n_estimators=100, n_jobs=None, num_parallel_tree=None,\n              objective='multi:softprob', predictor=None, ...)",
      "text/html": "<style>#sk-container-id-4 {color: black;background-color: white;}#sk-container-id-4 pre{padding: 0;}#sk-container-id-4 div.sk-toggleable {background-color: white;}#sk-container-id-4 label.sk-toggleable__label {cursor: pointer;display: block;width: 100%;margin-bottom: 0;padding: 0.3em;box-sizing: border-box;text-align: center;}#sk-container-id-4 label.sk-toggleable__label-arrow:before {content: \"▸\";float: left;margin-right: 0.25em;color: #696969;}#sk-container-id-4 label.sk-toggleable__label-arrow:hover:before {color: black;}#sk-container-id-4 div.sk-estimator:hover label.sk-toggleable__label-arrow:before {color: black;}#sk-container-id-4 div.sk-toggleable__content {max-height: 0;max-width: 0;overflow: hidden;text-align: left;background-color: #f0f8ff;}#sk-container-id-4 div.sk-toggleable__content pre {margin: 0.2em;color: black;border-radius: 0.25em;background-color: #f0f8ff;}#sk-container-id-4 input.sk-toggleable__control:checked~div.sk-toggleable__content {max-height: 200px;max-width: 100%;overflow: auto;}#sk-container-id-4 input.sk-toggleable__control:checked~label.sk-toggleable__label-arrow:before {content: \"▾\";}#sk-container-id-4 div.sk-estimator input.sk-toggleable__control:checked~label.sk-toggleable__label {background-color: #d4ebff;}#sk-container-id-4 div.sk-label input.sk-toggleable__control:checked~label.sk-toggleable__label {background-color: #d4ebff;}#sk-container-id-4 input.sk-hidden--visually {border: 0;clip: rect(1px 1px 1px 1px);clip: rect(1px, 1px, 1px, 1px);height: 1px;margin: -1px;overflow: hidden;padding: 0;position: absolute;width: 1px;}#sk-container-id-4 div.sk-estimator {font-family: monospace;background-color: #f0f8ff;border: 1px dotted black;border-radius: 0.25em;box-sizing: border-box;margin-bottom: 0.5em;}#sk-container-id-4 div.sk-estimator:hover {background-color: #d4ebff;}#sk-container-id-4 div.sk-parallel-item::after {content: \"\";width: 100%;border-bottom: 1px solid gray;flex-grow: 1;}#sk-container-id-4 div.sk-label:hover label.sk-toggleable__label {background-color: #d4ebff;}#sk-container-id-4 div.sk-serial::before {content: \"\";position: absolute;border-left: 1px solid gray;box-sizing: border-box;top: 0;bottom: 0;left: 50%;z-index: 0;}#sk-container-id-4 div.sk-serial {display: flex;flex-direction: column;align-items: center;background-color: white;padding-right: 0.2em;padding-left: 0.2em;position: relative;}#sk-container-id-4 div.sk-item {position: relative;z-index: 1;}#sk-container-id-4 div.sk-parallel {display: flex;align-items: stretch;justify-content: center;background-color: white;position: relative;}#sk-container-id-4 div.sk-item::before, #sk-container-id-4 div.sk-parallel-item::before {content: \"\";position: absolute;border-left: 1px solid gray;box-sizing: border-box;top: 0;bottom: 0;left: 50%;z-index: -1;}#sk-container-id-4 div.sk-parallel-item {display: flex;flex-direction: column;z-index: 1;position: relative;background-color: white;}#sk-container-id-4 div.sk-parallel-item:first-child::after {align-self: flex-end;width: 50%;}#sk-container-id-4 div.sk-parallel-item:last-child::after {align-self: flex-start;width: 50%;}#sk-container-id-4 div.sk-parallel-item:only-child::after {width: 0;}#sk-container-id-4 div.sk-dashed-wrapped {border: 1px dashed gray;margin: 0 0.4em 0.5em 0.4em;box-sizing: border-box;padding-bottom: 0.4em;background-color: white;}#sk-container-id-4 div.sk-label label {font-family: monospace;font-weight: bold;display: inline-block;line-height: 1.2em;}#sk-container-id-4 div.sk-label-container {text-align: center;}#sk-container-id-4 div.sk-container {/* jupyter's `normalize.less` sets `[hidden] { display: none; }` but bootstrap.min.css set `[hidden] { display: none !important; }` so we also need the `!important` here to be able to override the default hidden behavior on the sphinx rendered scikit-learn.org. See: https://github.com/scikit-learn/scikit-learn/issues/21755 */display: inline-block !important;position: relative;}#sk-container-id-4 div.sk-text-repr-fallback {display: none;}</style><div id=\"sk-container-id-4\" class=\"sk-top-container\"><div class=\"sk-text-repr-fallback\"><pre>XGBClassifier(base_score=None, booster=None, callbacks=None,\n              colsample_bylevel=None, colsample_bynode=None,\n              colsample_bytree=None, early_stopping_rounds=None,\n              enable_categorical=False, eval_metric=None, feature_types=None,\n              gamma=None, gpu_id=None, grow_policy=None, importance_type=None,\n              interaction_constraints=None, learning_rate=None, max_bin=None,\n              max_cat_threshold=None, max_cat_to_onehot=None,\n              max_delta_step=None, max_depth=None, max_leaves=None,\n              min_child_weight=None, missing=nan, monotone_constraints=None,\n              n_estimators=100, n_jobs=None, num_parallel_tree=None,\n              objective=&#x27;multi:softprob&#x27;, predictor=None, ...)</pre><b>In a Jupyter environment, please rerun this cell to show the HTML representation or trust the notebook. <br />On GitHub, the HTML representation is unable to render, please try loading this page with nbviewer.org.</b></div><div class=\"sk-container\" hidden><div class=\"sk-item\"><div class=\"sk-estimator sk-toggleable\"><input class=\"sk-toggleable__control sk-hidden--visually\" id=\"sk-estimator-id-10\" type=\"checkbox\" checked><label for=\"sk-estimator-id-10\" class=\"sk-toggleable__label sk-toggleable__label-arrow\">XGBClassifier</label><div class=\"sk-toggleable__content\"><pre>XGBClassifier(base_score=None, booster=None, callbacks=None,\n              colsample_bylevel=None, colsample_bynode=None,\n              colsample_bytree=None, early_stopping_rounds=None,\n              enable_categorical=False, eval_metric=None, feature_types=None,\n              gamma=None, gpu_id=None, grow_policy=None, importance_type=None,\n              interaction_constraints=None, learning_rate=None, max_bin=None,\n              max_cat_threshold=None, max_cat_to_onehot=None,\n              max_delta_step=None, max_depth=None, max_leaves=None,\n              min_child_weight=None, missing=nan, monotone_constraints=None,\n              n_estimators=100, n_jobs=None, num_parallel_tree=None,\n              objective=&#x27;multi:softprob&#x27;, predictor=None, ...)</pre></div></div></div></div></div>"
     },
     "execution_count": 103,
     "metadata": {},
     "output_type": "execute_result"
    }
   ],
   "source": [
    "xgb.fit(X_train, y_train)"
   ],
   "metadata": {
    "collapsed": false,
    "ExecuteTime": {
     "start_time": "2023-04-19T12:53:02.926265Z",
     "end_time": "2023-04-19T12:53:11.866536Z"
    }
   }
  },
  {
   "cell_type": "code",
   "execution_count": 131,
   "outputs": [
    {
     "name": "stdout",
     "output_type": "stream",
     "text": [
      "Learning rate set to 0.076856\n",
      "0:\tlearn: 2.3627971\ttotal: 63.3ms\tremaining: 1m 3s\n",
      "1:\tlearn: 2.3275472\ttotal: 75.4ms\tremaining: 37.6s\n",
      "2:\tlearn: 2.2899332\ttotal: 85.3ms\tremaining: 28.3s\n",
      "3:\tlearn: 2.2553277\ttotal: 94.6ms\tremaining: 23.6s\n",
      "4:\tlearn: 2.2192184\ttotal: 104ms\tremaining: 20.8s\n",
      "5:\tlearn: 2.1872529\ttotal: 113ms\tremaining: 18.7s\n",
      "6:\tlearn: 2.1631502\ttotal: 123ms\tremaining: 17.4s\n",
      "7:\tlearn: 2.1400406\ttotal: 131ms\tremaining: 16.2s\n",
      "8:\tlearn: 2.1172277\ttotal: 138ms\tremaining: 15.2s\n",
      "9:\tlearn: 2.0906811\ttotal: 145ms\tremaining: 14.4s\n",
      "10:\tlearn: 2.0651955\ttotal: 153ms\tremaining: 13.7s\n",
      "11:\tlearn: 2.0351482\ttotal: 160ms\tremaining: 13.2s\n",
      "12:\tlearn: 2.0096160\ttotal: 168ms\tremaining: 12.8s\n",
      "13:\tlearn: 1.9878753\ttotal: 175ms\tremaining: 12.3s\n",
      "14:\tlearn: 1.9649497\ttotal: 183ms\tremaining: 12s\n",
      "15:\tlearn: 1.9406329\ttotal: 190ms\tremaining: 11.7s\n",
      "16:\tlearn: 1.9249374\ttotal: 198ms\tremaining: 11.4s\n",
      "17:\tlearn: 1.9044035\ttotal: 206ms\tremaining: 11.2s\n",
      "18:\tlearn: 1.8865688\ttotal: 213ms\tremaining: 11s\n",
      "19:\tlearn: 1.8677239\ttotal: 220ms\tremaining: 10.8s\n",
      "20:\tlearn: 1.8467499\ttotal: 228ms\tremaining: 10.7s\n",
      "21:\tlearn: 1.8297798\ttotal: 236ms\tremaining: 10.5s\n",
      "22:\tlearn: 1.8116206\ttotal: 243ms\tremaining: 10.3s\n",
      "23:\tlearn: 1.7949058\ttotal: 252ms\tremaining: 10.2s\n",
      "24:\tlearn: 1.7789297\ttotal: 259ms\tremaining: 10.1s\n",
      "25:\tlearn: 1.7624769\ttotal: 267ms\tremaining: 10s\n",
      "26:\tlearn: 1.7488531\ttotal: 274ms\tremaining: 9.88s\n",
      "27:\tlearn: 1.7349513\ttotal: 281ms\tremaining: 9.77s\n",
      "28:\tlearn: 1.7198851\ttotal: 290ms\tremaining: 9.7s\n",
      "29:\tlearn: 1.7065512\ttotal: 297ms\tremaining: 9.6s\n",
      "30:\tlearn: 1.6917051\ttotal: 304ms\tremaining: 9.51s\n",
      "31:\tlearn: 1.6758510\ttotal: 312ms\tremaining: 9.42s\n",
      "32:\tlearn: 1.6625801\ttotal: 319ms\tremaining: 9.34s\n",
      "33:\tlearn: 1.6494461\ttotal: 326ms\tremaining: 9.26s\n",
      "34:\tlearn: 1.6356013\ttotal: 333ms\tremaining: 9.19s\n",
      "35:\tlearn: 1.6199853\ttotal: 340ms\tremaining: 9.12s\n",
      "36:\tlearn: 1.6088999\ttotal: 348ms\tremaining: 9.07s\n",
      "37:\tlearn: 1.5957863\ttotal: 356ms\tremaining: 9.02s\n",
      "38:\tlearn: 1.5836807\ttotal: 364ms\tremaining: 8.98s\n",
      "39:\tlearn: 1.5701963\ttotal: 371ms\tremaining: 8.91s\n",
      "40:\tlearn: 1.5568081\ttotal: 379ms\tremaining: 8.86s\n",
      "41:\tlearn: 1.5438839\ttotal: 387ms\tremaining: 8.82s\n",
      "42:\tlearn: 1.5324974\ttotal: 394ms\tremaining: 8.77s\n",
      "43:\tlearn: 1.5195858\ttotal: 402ms\tremaining: 8.73s\n",
      "44:\tlearn: 1.5072235\ttotal: 409ms\tremaining: 8.68s\n",
      "45:\tlearn: 1.4974411\ttotal: 417ms\tremaining: 8.64s\n",
      "46:\tlearn: 1.4837705\ttotal: 425ms\tremaining: 8.62s\n",
      "47:\tlearn: 1.4741949\ttotal: 432ms\tremaining: 8.57s\n",
      "48:\tlearn: 1.4635547\ttotal: 440ms\tremaining: 8.53s\n",
      "49:\tlearn: 1.4546172\ttotal: 448ms\tremaining: 8.51s\n",
      "50:\tlearn: 1.4440505\ttotal: 456ms\tremaining: 8.48s\n",
      "51:\tlearn: 1.4320250\ttotal: 463ms\tremaining: 8.45s\n",
      "52:\tlearn: 1.4202896\ttotal: 471ms\tremaining: 8.41s\n",
      "53:\tlearn: 1.4107720\ttotal: 478ms\tremaining: 8.38s\n",
      "54:\tlearn: 1.4014590\ttotal: 486ms\tremaining: 8.35s\n",
      "55:\tlearn: 1.3911313\ttotal: 494ms\tremaining: 8.32s\n",
      "56:\tlearn: 1.3821820\ttotal: 501ms\tremaining: 8.29s\n",
      "57:\tlearn: 1.3731531\ttotal: 509ms\tremaining: 8.26s\n",
      "58:\tlearn: 1.3618826\ttotal: 516ms\tremaining: 8.23s\n",
      "59:\tlearn: 1.3534313\ttotal: 524ms\tremaining: 8.2s\n",
      "60:\tlearn: 1.3442582\ttotal: 531ms\tremaining: 8.18s\n",
      "61:\tlearn: 1.3367018\ttotal: 538ms\tremaining: 8.14s\n",
      "62:\tlearn: 1.3274950\ttotal: 545ms\tremaining: 8.11s\n",
      "63:\tlearn: 1.3186037\ttotal: 553ms\tremaining: 8.09s\n",
      "64:\tlearn: 1.3079157\ttotal: 560ms\tremaining: 8.06s\n",
      "65:\tlearn: 1.2980186\ttotal: 568ms\tremaining: 8.04s\n",
      "66:\tlearn: 1.2890263\ttotal: 575ms\tremaining: 8.01s\n",
      "67:\tlearn: 1.2820112\ttotal: 582ms\tremaining: 7.98s\n",
      "68:\tlearn: 1.2728133\ttotal: 590ms\tremaining: 7.96s\n",
      "69:\tlearn: 1.2633867\ttotal: 597ms\tremaining: 7.93s\n",
      "70:\tlearn: 1.2526208\ttotal: 604ms\tremaining: 7.91s\n",
      "71:\tlearn: 1.2443749\ttotal: 612ms\tremaining: 7.89s\n",
      "72:\tlearn: 1.2352219\ttotal: 620ms\tremaining: 7.87s\n",
      "73:\tlearn: 1.2269817\ttotal: 628ms\tremaining: 7.86s\n",
      "74:\tlearn: 1.2177035\ttotal: 635ms\tremaining: 7.84s\n",
      "75:\tlearn: 1.2082525\ttotal: 643ms\tremaining: 7.82s\n",
      "76:\tlearn: 1.1982377\ttotal: 651ms\tremaining: 7.81s\n",
      "77:\tlearn: 1.1883012\ttotal: 660ms\tremaining: 7.8s\n",
      "78:\tlearn: 1.1811724\ttotal: 667ms\tremaining: 7.77s\n",
      "79:\tlearn: 1.1708186\ttotal: 675ms\tremaining: 7.76s\n",
      "80:\tlearn: 1.1629079\ttotal: 682ms\tremaining: 7.74s\n",
      "81:\tlearn: 1.1549707\ttotal: 690ms\tremaining: 7.72s\n",
      "82:\tlearn: 1.1469997\ttotal: 697ms\tremaining: 7.7s\n",
      "83:\tlearn: 1.1370949\ttotal: 705ms\tremaining: 7.69s\n",
      "84:\tlearn: 1.1284709\ttotal: 713ms\tremaining: 7.67s\n",
      "85:\tlearn: 1.1210568\ttotal: 720ms\tremaining: 7.65s\n",
      "86:\tlearn: 1.1139491\ttotal: 727ms\tremaining: 7.63s\n",
      "87:\tlearn: 1.1076964\ttotal: 735ms\tremaining: 7.61s\n",
      "88:\tlearn: 1.0995236\ttotal: 742ms\tremaining: 7.6s\n",
      "89:\tlearn: 1.0915505\ttotal: 751ms\tremaining: 7.59s\n",
      "90:\tlearn: 1.0838128\ttotal: 758ms\tremaining: 7.58s\n",
      "91:\tlearn: 1.0758424\ttotal: 766ms\tremaining: 7.56s\n",
      "92:\tlearn: 1.0667210\ttotal: 773ms\tremaining: 7.54s\n",
      "93:\tlearn: 1.0602091\ttotal: 780ms\tremaining: 7.52s\n",
      "94:\tlearn: 1.0522973\ttotal: 788ms\tremaining: 7.51s\n",
      "95:\tlearn: 1.0431098\ttotal: 796ms\tremaining: 7.49s\n",
      "96:\tlearn: 1.0342395\ttotal: 803ms\tremaining: 7.48s\n",
      "97:\tlearn: 1.0292847\ttotal: 811ms\tremaining: 7.46s\n",
      "98:\tlearn: 1.0221806\ttotal: 818ms\tremaining: 7.45s\n",
      "99:\tlearn: 1.0157770\ttotal: 826ms\tremaining: 7.43s\n",
      "100:\tlearn: 1.0079762\ttotal: 833ms\tremaining: 7.42s\n",
      "101:\tlearn: 1.0003754\ttotal: 841ms\tremaining: 7.41s\n",
      "102:\tlearn: 0.9927657\ttotal: 850ms\tremaining: 7.4s\n",
      "103:\tlearn: 0.9865120\ttotal: 857ms\tremaining: 7.38s\n",
      "104:\tlearn: 0.9780344\ttotal: 865ms\tremaining: 7.37s\n",
      "105:\tlearn: 0.9738265\ttotal: 872ms\tremaining: 7.36s\n",
      "106:\tlearn: 0.9674769\ttotal: 880ms\tremaining: 7.34s\n",
      "107:\tlearn: 0.9603828\ttotal: 888ms\tremaining: 7.33s\n",
      "108:\tlearn: 0.9540445\ttotal: 895ms\tremaining: 7.32s\n",
      "109:\tlearn: 0.9464161\ttotal: 903ms\tremaining: 7.3s\n",
      "110:\tlearn: 0.9386668\ttotal: 910ms\tremaining: 7.29s\n",
      "111:\tlearn: 0.9307601\ttotal: 917ms\tremaining: 7.27s\n",
      "112:\tlearn: 0.9245943\ttotal: 925ms\tremaining: 7.26s\n",
      "113:\tlearn: 0.9159221\ttotal: 932ms\tremaining: 7.25s\n",
      "114:\tlearn: 0.9092650\ttotal: 940ms\tremaining: 7.23s\n",
      "115:\tlearn: 0.9023411\ttotal: 948ms\tremaining: 7.22s\n",
      "116:\tlearn: 0.8961945\ttotal: 955ms\tremaining: 7.21s\n",
      "117:\tlearn: 0.8901595\ttotal: 963ms\tremaining: 7.2s\n",
      "118:\tlearn: 0.8837240\ttotal: 970ms\tremaining: 7.18s\n",
      "119:\tlearn: 0.8764286\ttotal: 978ms\tremaining: 7.17s\n",
      "120:\tlearn: 0.8698124\ttotal: 985ms\tremaining: 7.16s\n",
      "121:\tlearn: 0.8631937\ttotal: 992ms\tremaining: 7.14s\n",
      "122:\tlearn: 0.8561431\ttotal: 1000ms\tremaining: 7.13s\n",
      "123:\tlearn: 0.8524625\ttotal: 1.01s\tremaining: 7.12s\n",
      "124:\tlearn: 0.8455174\ttotal: 1.01s\tremaining: 7.1s\n",
      "125:\tlearn: 0.8394798\ttotal: 1.02s\tremaining: 7.09s\n",
      "126:\tlearn: 0.8352254\ttotal: 1.03s\tremaining: 7.08s\n",
      "127:\tlearn: 0.8304222\ttotal: 1.04s\tremaining: 7.07s\n",
      "128:\tlearn: 0.8260204\ttotal: 1.04s\tremaining: 7.05s\n",
      "129:\tlearn: 0.8200905\ttotal: 1.05s\tremaining: 7.04s\n",
      "130:\tlearn: 0.8136957\ttotal: 1.06s\tremaining: 7.03s\n",
      "131:\tlearn: 0.8073544\ttotal: 1.07s\tremaining: 7.02s\n",
      "132:\tlearn: 0.8010168\ttotal: 1.07s\tremaining: 7.01s\n",
      "133:\tlearn: 0.7976833\ttotal: 1.08s\tremaining: 7s\n",
      "134:\tlearn: 0.7926827\ttotal: 1.09s\tremaining: 6.99s\n",
      "135:\tlearn: 0.7899289\ttotal: 1.1s\tremaining: 6.97s\n",
      "136:\tlearn: 0.7836311\ttotal: 1.1s\tremaining: 6.96s\n",
      "137:\tlearn: 0.7793880\ttotal: 1.11s\tremaining: 6.95s\n",
      "138:\tlearn: 0.7734658\ttotal: 1.12s\tremaining: 6.94s\n",
      "139:\tlearn: 0.7681749\ttotal: 1.13s\tremaining: 6.93s\n",
      "140:\tlearn: 0.7632363\ttotal: 1.14s\tremaining: 6.92s\n",
      "141:\tlearn: 0.7593459\ttotal: 1.14s\tremaining: 6.91s\n",
      "142:\tlearn: 0.7535121\ttotal: 1.15s\tremaining: 6.9s\n",
      "143:\tlearn: 0.7481108\ttotal: 1.16s\tremaining: 6.89s\n",
      "144:\tlearn: 0.7442858\ttotal: 1.17s\tremaining: 6.87s\n",
      "145:\tlearn: 0.7389177\ttotal: 1.17s\tremaining: 6.86s\n",
      "146:\tlearn: 0.7345119\ttotal: 1.18s\tremaining: 6.85s\n",
      "147:\tlearn: 0.7293723\ttotal: 1.19s\tremaining: 6.84s\n",
      "148:\tlearn: 0.7255837\ttotal: 1.2s\tremaining: 6.83s\n",
      "149:\tlearn: 0.7204081\ttotal: 1.2s\tremaining: 6.82s\n",
      "150:\tlearn: 0.7151993\ttotal: 1.21s\tremaining: 6.8s\n",
      "151:\tlearn: 0.7098329\ttotal: 1.22s\tremaining: 6.79s\n",
      "152:\tlearn: 0.7060104\ttotal: 1.23s\tremaining: 6.78s\n",
      "153:\tlearn: 0.7020017\ttotal: 1.23s\tremaining: 6.78s\n",
      "154:\tlearn: 0.6970482\ttotal: 1.24s\tremaining: 6.76s\n",
      "155:\tlearn: 0.6929623\ttotal: 1.25s\tremaining: 6.75s\n",
      "156:\tlearn: 0.6885174\ttotal: 1.25s\tremaining: 6.74s\n",
      "157:\tlearn: 0.6839681\ttotal: 1.26s\tremaining: 6.73s\n",
      "158:\tlearn: 0.6783981\ttotal: 1.27s\tremaining: 6.72s\n",
      "159:\tlearn: 0.6740284\ttotal: 1.28s\tremaining: 6.71s\n",
      "160:\tlearn: 0.6694350\ttotal: 1.28s\tremaining: 6.7s\n",
      "161:\tlearn: 0.6662841\ttotal: 1.29s\tremaining: 6.69s\n",
      "162:\tlearn: 0.6621879\ttotal: 1.3s\tremaining: 6.68s\n",
      "163:\tlearn: 0.6574993\ttotal: 1.31s\tremaining: 6.67s\n",
      "164:\tlearn: 0.6530961\ttotal: 1.32s\tremaining: 6.66s\n",
      "165:\tlearn: 0.6494679\ttotal: 1.32s\tremaining: 6.65s\n",
      "166:\tlearn: 0.6457087\ttotal: 1.33s\tremaining: 6.64s\n",
      "167:\tlearn: 0.6417201\ttotal: 1.34s\tremaining: 6.63s\n",
      "168:\tlearn: 0.6379674\ttotal: 1.35s\tremaining: 6.62s\n",
      "169:\tlearn: 0.6345547\ttotal: 1.35s\tremaining: 6.61s\n",
      "170:\tlearn: 0.6305813\ttotal: 1.36s\tremaining: 6.6s\n",
      "171:\tlearn: 0.6265200\ttotal: 1.37s\tremaining: 6.59s\n",
      "172:\tlearn: 0.6228704\ttotal: 1.38s\tremaining: 6.58s\n",
      "173:\tlearn: 0.6185677\ttotal: 1.38s\tremaining: 6.57s\n",
      "174:\tlearn: 0.6148131\ttotal: 1.39s\tremaining: 6.56s\n",
      "175:\tlearn: 0.6107759\ttotal: 1.4s\tremaining: 6.55s\n",
      "176:\tlearn: 0.6070521\ttotal: 1.41s\tremaining: 6.54s\n",
      "177:\tlearn: 0.6041965\ttotal: 1.41s\tremaining: 6.53s\n",
      "178:\tlearn: 0.6000432\ttotal: 1.42s\tremaining: 6.52s\n",
      "179:\tlearn: 0.5966027\ttotal: 1.43s\tremaining: 6.51s\n",
      "180:\tlearn: 0.5924386\ttotal: 1.44s\tremaining: 6.5s\n",
      "181:\tlearn: 0.5882123\ttotal: 1.44s\tremaining: 6.49s\n",
      "182:\tlearn: 0.5849774\ttotal: 1.45s\tremaining: 6.48s\n",
      "183:\tlearn: 0.5818010\ttotal: 1.46s\tremaining: 6.47s\n",
      "184:\tlearn: 0.5785731\ttotal: 1.47s\tremaining: 6.47s\n",
      "185:\tlearn: 0.5752793\ttotal: 1.48s\tremaining: 6.46s\n",
      "186:\tlearn: 0.5715885\ttotal: 1.48s\tremaining: 6.45s\n",
      "187:\tlearn: 0.5683206\ttotal: 1.49s\tremaining: 6.44s\n",
      "188:\tlearn: 0.5653442\ttotal: 1.5s\tremaining: 6.43s\n",
      "189:\tlearn: 0.5612985\ttotal: 1.51s\tremaining: 6.43s\n",
      "190:\tlearn: 0.5588371\ttotal: 1.51s\tremaining: 6.42s\n",
      "191:\tlearn: 0.5550622\ttotal: 1.52s\tremaining: 6.41s\n",
      "192:\tlearn: 0.5520237\ttotal: 1.53s\tremaining: 6.4s\n",
      "193:\tlearn: 0.5488704\ttotal: 1.54s\tremaining: 6.39s\n",
      "194:\tlearn: 0.5461789\ttotal: 1.54s\tremaining: 6.38s\n",
      "195:\tlearn: 0.5425034\ttotal: 1.55s\tremaining: 6.37s\n",
      "196:\tlearn: 0.5393477\ttotal: 1.56s\tremaining: 6.36s\n",
      "197:\tlearn: 0.5359794\ttotal: 1.57s\tremaining: 6.35s\n",
      "198:\tlearn: 0.5334805\ttotal: 1.57s\tremaining: 6.34s\n",
      "199:\tlearn: 0.5312799\ttotal: 1.58s\tremaining: 6.33s\n",
      "200:\tlearn: 0.5282951\ttotal: 1.59s\tremaining: 6.32s\n",
      "201:\tlearn: 0.5259403\ttotal: 1.6s\tremaining: 6.31s\n",
      "202:\tlearn: 0.5229573\ttotal: 1.61s\tremaining: 6.3s\n",
      "203:\tlearn: 0.5205198\ttotal: 1.61s\tremaining: 6.29s\n",
      "204:\tlearn: 0.5172834\ttotal: 1.62s\tremaining: 6.29s\n",
      "205:\tlearn: 0.5148168\ttotal: 1.63s\tremaining: 6.28s\n",
      "206:\tlearn: 0.5120076\ttotal: 1.64s\tremaining: 6.27s\n",
      "207:\tlearn: 0.5086913\ttotal: 1.64s\tremaining: 6.26s\n",
      "208:\tlearn: 0.5054722\ttotal: 1.65s\tremaining: 6.25s\n",
      "209:\tlearn: 0.5032705\ttotal: 1.66s\tremaining: 6.24s\n",
      "210:\tlearn: 0.5012084\ttotal: 1.67s\tremaining: 6.23s\n",
      "211:\tlearn: 0.4977330\ttotal: 1.67s\tremaining: 6.22s\n",
      "212:\tlearn: 0.4950846\ttotal: 1.68s\tremaining: 6.21s\n",
      "213:\tlearn: 0.4923627\ttotal: 1.69s\tremaining: 6.21s\n",
      "214:\tlearn: 0.4899324\ttotal: 1.7s\tremaining: 6.2s\n",
      "215:\tlearn: 0.4881805\ttotal: 1.7s\tremaining: 6.19s\n",
      "216:\tlearn: 0.4853516\ttotal: 1.71s\tremaining: 6.18s\n",
      "217:\tlearn: 0.4828672\ttotal: 1.72s\tremaining: 6.17s\n",
      "218:\tlearn: 0.4799879\ttotal: 1.73s\tremaining: 6.16s\n",
      "219:\tlearn: 0.4771837\ttotal: 1.74s\tremaining: 6.16s\n",
      "220:\tlearn: 0.4748838\ttotal: 1.74s\tremaining: 6.15s\n",
      "221:\tlearn: 0.4721898\ttotal: 1.75s\tremaining: 6.14s\n",
      "222:\tlearn: 0.4708387\ttotal: 1.76s\tremaining: 6.13s\n",
      "223:\tlearn: 0.4678734\ttotal: 1.77s\tremaining: 6.12s\n",
      "224:\tlearn: 0.4651597\ttotal: 1.77s\tremaining: 6.11s\n",
      "225:\tlearn: 0.4623878\ttotal: 1.78s\tremaining: 6.11s\n",
      "226:\tlearn: 0.4604331\ttotal: 1.79s\tremaining: 6.1s\n",
      "227:\tlearn: 0.4583218\ttotal: 1.8s\tremaining: 6.09s\n",
      "228:\tlearn: 0.4556034\ttotal: 1.8s\tremaining: 6.08s\n",
      "229:\tlearn: 0.4532789\ttotal: 1.81s\tremaining: 6.07s\n",
      "230:\tlearn: 0.4505462\ttotal: 1.82s\tremaining: 6.06s\n",
      "231:\tlearn: 0.4481190\ttotal: 1.83s\tremaining: 6.05s\n",
      "232:\tlearn: 0.4454767\ttotal: 1.83s\tremaining: 6.04s\n",
      "233:\tlearn: 0.4431670\ttotal: 1.84s\tremaining: 6.04s\n",
      "234:\tlearn: 0.4403929\ttotal: 1.85s\tremaining: 6.03s\n",
      "235:\tlearn: 0.4378847\ttotal: 1.86s\tremaining: 6.02s\n",
      "236:\tlearn: 0.4352602\ttotal: 1.87s\tremaining: 6.01s\n",
      "237:\tlearn: 0.4324208\ttotal: 1.88s\tremaining: 6s\n",
      "238:\tlearn: 0.4300857\ttotal: 1.88s\tremaining: 6s\n",
      "239:\tlearn: 0.4275647\ttotal: 1.89s\tremaining: 5.99s\n",
      "240:\tlearn: 0.4255031\ttotal: 1.9s\tremaining: 5.98s\n",
      "241:\tlearn: 0.4230369\ttotal: 1.91s\tremaining: 5.97s\n",
      "242:\tlearn: 0.4208026\ttotal: 1.91s\tremaining: 5.96s\n",
      "243:\tlearn: 0.4193181\ttotal: 1.92s\tremaining: 5.95s\n",
      "244:\tlearn: 0.4173403\ttotal: 1.93s\tremaining: 5.94s\n",
      "245:\tlearn: 0.4155100\ttotal: 1.94s\tremaining: 5.93s\n",
      "246:\tlearn: 0.4133368\ttotal: 1.94s\tremaining: 5.93s\n",
      "247:\tlearn: 0.4111742\ttotal: 1.95s\tremaining: 5.92s\n",
      "248:\tlearn: 0.4089866\ttotal: 1.96s\tremaining: 5.91s\n",
      "249:\tlearn: 0.4076731\ttotal: 1.97s\tremaining: 5.9s\n",
      "250:\tlearn: 0.4053583\ttotal: 1.98s\tremaining: 5.89s\n",
      "251:\tlearn: 0.4032295\ttotal: 1.98s\tremaining: 5.88s\n",
      "252:\tlearn: 0.4018554\ttotal: 1.99s\tremaining: 5.88s\n",
      "253:\tlearn: 0.3999094\ttotal: 2s\tremaining: 5.87s\n",
      "254:\tlearn: 0.3979686\ttotal: 2s\tremaining: 5.86s\n",
      "255:\tlearn: 0.3958931\ttotal: 2.01s\tremaining: 5.85s\n",
      "256:\tlearn: 0.3943992\ttotal: 2.02s\tremaining: 5.84s\n",
      "257:\tlearn: 0.3928207\ttotal: 2.03s\tremaining: 5.83s\n",
      "258:\tlearn: 0.3909245\ttotal: 2.04s\tremaining: 5.83s\n",
      "259:\tlearn: 0.3888170\ttotal: 2.04s\tremaining: 5.82s\n",
      "260:\tlearn: 0.3874261\ttotal: 2.05s\tremaining: 5.81s\n",
      "261:\tlearn: 0.3854790\ttotal: 2.06s\tremaining: 5.8s\n",
      "262:\tlearn: 0.3837206\ttotal: 2.07s\tremaining: 5.8s\n",
      "263:\tlearn: 0.3817785\ttotal: 2.08s\tremaining: 5.79s\n",
      "264:\tlearn: 0.3795316\ttotal: 2.08s\tremaining: 5.78s\n",
      "265:\tlearn: 0.3776628\ttotal: 2.09s\tremaining: 5.77s\n",
      "266:\tlearn: 0.3762554\ttotal: 2.1s\tremaining: 5.77s\n",
      "267:\tlearn: 0.3742774\ttotal: 2.11s\tremaining: 5.76s\n",
      "268:\tlearn: 0.3722864\ttotal: 2.12s\tremaining: 5.75s\n",
      "269:\tlearn: 0.3701951\ttotal: 2.12s\tremaining: 5.74s\n",
      "270:\tlearn: 0.3681200\ttotal: 2.13s\tremaining: 5.73s\n",
      "271:\tlearn: 0.3665699\ttotal: 2.14s\tremaining: 5.73s\n",
      "272:\tlearn: 0.3646871\ttotal: 2.15s\tremaining: 5.72s\n",
      "273:\tlearn: 0.3628924\ttotal: 2.15s\tremaining: 5.71s\n",
      "274:\tlearn: 0.3610687\ttotal: 2.16s\tremaining: 5.7s\n",
      "275:\tlearn: 0.3593849\ttotal: 2.17s\tremaining: 5.69s\n",
      "276:\tlearn: 0.3577430\ttotal: 2.18s\tremaining: 5.68s\n",
      "277:\tlearn: 0.3563143\ttotal: 2.19s\tremaining: 5.68s\n",
      "278:\tlearn: 0.3548620\ttotal: 2.19s\tremaining: 5.67s\n",
      "279:\tlearn: 0.3537084\ttotal: 2.2s\tremaining: 5.66s\n",
      "280:\tlearn: 0.3519063\ttotal: 2.21s\tremaining: 5.65s\n",
      "281:\tlearn: 0.3510886\ttotal: 2.22s\tremaining: 5.65s\n",
      "282:\tlearn: 0.3502391\ttotal: 2.23s\tremaining: 5.64s\n",
      "283:\tlearn: 0.3484516\ttotal: 2.23s\tremaining: 5.63s\n",
      "284:\tlearn: 0.3468520\ttotal: 2.24s\tremaining: 5.62s\n",
      "285:\tlearn: 0.3457577\ttotal: 2.25s\tremaining: 5.62s\n",
      "286:\tlearn: 0.3450163\ttotal: 2.26s\tremaining: 5.61s\n",
      "287:\tlearn: 0.3433841\ttotal: 2.27s\tremaining: 5.6s\n",
      "288:\tlearn: 0.3416323\ttotal: 2.27s\tremaining: 5.59s\n",
      "289:\tlearn: 0.3399804\ttotal: 2.28s\tremaining: 5.59s\n",
      "290:\tlearn: 0.3383508\ttotal: 2.29s\tremaining: 5.58s\n",
      "291:\tlearn: 0.3370133\ttotal: 2.3s\tremaining: 5.57s\n",
      "292:\tlearn: 0.3354774\ttotal: 2.3s\tremaining: 5.56s\n",
      "293:\tlearn: 0.3336903\ttotal: 2.31s\tremaining: 5.55s\n",
      "294:\tlearn: 0.3319605\ttotal: 2.32s\tremaining: 5.54s\n",
      "295:\tlearn: 0.3303914\ttotal: 2.33s\tremaining: 5.54s\n",
      "296:\tlearn: 0.3294628\ttotal: 2.33s\tremaining: 5.53s\n",
      "297:\tlearn: 0.3277726\ttotal: 2.34s\tremaining: 5.52s\n",
      "298:\tlearn: 0.3260721\ttotal: 2.35s\tremaining: 5.51s\n",
      "299:\tlearn: 0.3251477\ttotal: 2.36s\tremaining: 5.5s\n",
      "300:\tlearn: 0.3239231\ttotal: 2.37s\tremaining: 5.49s\n",
      "301:\tlearn: 0.3225763\ttotal: 2.37s\tremaining: 5.49s\n",
      "302:\tlearn: 0.3210824\ttotal: 2.38s\tremaining: 5.48s\n",
      "303:\tlearn: 0.3196452\ttotal: 2.39s\tremaining: 5.47s\n",
      "304:\tlearn: 0.3181537\ttotal: 2.4s\tremaining: 5.46s\n",
      "305:\tlearn: 0.3166972\ttotal: 2.4s\tremaining: 5.45s\n",
      "306:\tlearn: 0.3152583\ttotal: 2.41s\tremaining: 5.44s\n",
      "307:\tlearn: 0.3138552\ttotal: 2.42s\tremaining: 5.43s\n",
      "308:\tlearn: 0.3129081\ttotal: 2.43s\tremaining: 5.42s\n",
      "309:\tlearn: 0.3114696\ttotal: 2.43s\tremaining: 5.42s\n",
      "310:\tlearn: 0.3106171\ttotal: 2.44s\tremaining: 5.41s\n",
      "311:\tlearn: 0.3090802\ttotal: 2.45s\tremaining: 5.4s\n",
      "312:\tlearn: 0.3075127\ttotal: 2.46s\tremaining: 5.39s\n",
      "313:\tlearn: 0.3067734\ttotal: 2.46s\tremaining: 5.38s\n",
      "314:\tlearn: 0.3055501\ttotal: 2.47s\tremaining: 5.38s\n",
      "315:\tlearn: 0.3043574\ttotal: 2.48s\tremaining: 5.37s\n",
      "316:\tlearn: 0.3030527\ttotal: 2.49s\tremaining: 5.36s\n",
      "317:\tlearn: 0.3017630\ttotal: 2.49s\tremaining: 5.35s\n",
      "318:\tlearn: 0.3005615\ttotal: 2.5s\tremaining: 5.34s\n",
      "319:\tlearn: 0.2993917\ttotal: 2.51s\tremaining: 5.33s\n",
      "320:\tlearn: 0.2981887\ttotal: 2.52s\tremaining: 5.32s\n",
      "321:\tlearn: 0.2970834\ttotal: 2.52s\tremaining: 5.32s\n",
      "322:\tlearn: 0.2956608\ttotal: 2.53s\tremaining: 5.31s\n",
      "323:\tlearn: 0.2944780\ttotal: 2.54s\tremaining: 5.3s\n",
      "324:\tlearn: 0.2930042\ttotal: 2.55s\tremaining: 5.29s\n",
      "325:\tlearn: 0.2916993\ttotal: 2.56s\tremaining: 5.28s\n",
      "326:\tlearn: 0.2906366\ttotal: 2.56s\tremaining: 5.27s\n",
      "327:\tlearn: 0.2892955\ttotal: 2.57s\tremaining: 5.26s\n",
      "328:\tlearn: 0.2879814\ttotal: 2.58s\tremaining: 5.26s\n",
      "329:\tlearn: 0.2865673\ttotal: 2.58s\tremaining: 5.25s\n",
      "330:\tlearn: 0.2852543\ttotal: 2.59s\tremaining: 5.24s\n",
      "331:\tlearn: 0.2841603\ttotal: 2.6s\tremaining: 5.23s\n",
      "332:\tlearn: 0.2830560\ttotal: 2.61s\tremaining: 5.22s\n",
      "333:\tlearn: 0.2820048\ttotal: 2.62s\tremaining: 5.22s\n",
      "334:\tlearn: 0.2813214\ttotal: 2.62s\tremaining: 5.21s\n",
      "335:\tlearn: 0.2801078\ttotal: 2.63s\tremaining: 5.2s\n",
      "336:\tlearn: 0.2789041\ttotal: 2.64s\tremaining: 5.19s\n",
      "337:\tlearn: 0.2777911\ttotal: 2.65s\tremaining: 5.18s\n",
      "338:\tlearn: 0.2770249\ttotal: 2.65s\tremaining: 5.18s\n",
      "339:\tlearn: 0.2758118\ttotal: 2.66s\tremaining: 5.17s\n",
      "340:\tlearn: 0.2750275\ttotal: 2.67s\tremaining: 5.16s\n",
      "341:\tlearn: 0.2738958\ttotal: 2.68s\tremaining: 5.15s\n",
      "342:\tlearn: 0.2726425\ttotal: 2.69s\tremaining: 5.14s\n",
      "343:\tlearn: 0.2717133\ttotal: 2.69s\tremaining: 5.14s\n",
      "344:\tlearn: 0.2703779\ttotal: 2.7s\tremaining: 5.13s\n",
      "345:\tlearn: 0.2695364\ttotal: 2.71s\tremaining: 5.12s\n",
      "346:\tlearn: 0.2686378\ttotal: 2.71s\tremaining: 5.11s\n",
      "347:\tlearn: 0.2675984\ttotal: 2.72s\tremaining: 5.1s\n",
      "348:\tlearn: 0.2664953\ttotal: 2.73s\tremaining: 5.09s\n",
      "349:\tlearn: 0.2655564\ttotal: 2.74s\tremaining: 5.08s\n",
      "350:\tlearn: 0.2644374\ttotal: 2.75s\tremaining: 5.08s\n",
      "351:\tlearn: 0.2635297\ttotal: 2.75s\tremaining: 5.07s\n",
      "352:\tlearn: 0.2622057\ttotal: 2.76s\tremaining: 5.06s\n",
      "353:\tlearn: 0.2611573\ttotal: 2.77s\tremaining: 5.05s\n",
      "354:\tlearn: 0.2600955\ttotal: 2.78s\tremaining: 5.04s\n",
      "355:\tlearn: 0.2591694\ttotal: 2.78s\tremaining: 5.04s\n",
      "356:\tlearn: 0.2579911\ttotal: 2.79s\tremaining: 5.03s\n",
      "357:\tlearn: 0.2571194\ttotal: 2.8s\tremaining: 5.02s\n",
      "358:\tlearn: 0.2563279\ttotal: 2.81s\tremaining: 5.01s\n",
      "359:\tlearn: 0.2551732\ttotal: 2.81s\tremaining: 5s\n",
      "360:\tlearn: 0.2542213\ttotal: 2.82s\tremaining: 5s\n",
      "361:\tlearn: 0.2533498\ttotal: 2.83s\tremaining: 4.99s\n",
      "362:\tlearn: 0.2522733\ttotal: 2.84s\tremaining: 4.98s\n",
      "363:\tlearn: 0.2512408\ttotal: 2.85s\tremaining: 4.97s\n",
      "364:\tlearn: 0.2504012\ttotal: 2.85s\tremaining: 4.96s\n",
      "365:\tlearn: 0.2495434\ttotal: 2.86s\tremaining: 4.95s\n",
      "366:\tlearn: 0.2483483\ttotal: 2.87s\tremaining: 4.95s\n",
      "367:\tlearn: 0.2477400\ttotal: 2.88s\tremaining: 4.94s\n",
      "368:\tlearn: 0.2467909\ttotal: 2.88s\tremaining: 4.93s\n",
      "369:\tlearn: 0.2459027\ttotal: 2.89s\tremaining: 4.92s\n",
      "370:\tlearn: 0.2448969\ttotal: 2.9s\tremaining: 4.92s\n",
      "371:\tlearn: 0.2441948\ttotal: 2.91s\tremaining: 4.91s\n",
      "372:\tlearn: 0.2431980\ttotal: 2.91s\tremaining: 4.9s\n",
      "373:\tlearn: 0.2423332\ttotal: 2.92s\tremaining: 4.89s\n",
      "374:\tlearn: 0.2413445\ttotal: 2.93s\tremaining: 4.88s\n",
      "375:\tlearn: 0.2402779\ttotal: 2.94s\tremaining: 4.88s\n",
      "376:\tlearn: 0.2391485\ttotal: 2.94s\tremaining: 4.87s\n",
      "377:\tlearn: 0.2383085\ttotal: 2.95s\tremaining: 4.86s\n",
      "378:\tlearn: 0.2374581\ttotal: 2.96s\tremaining: 4.85s\n",
      "379:\tlearn: 0.2366715\ttotal: 2.97s\tremaining: 4.84s\n",
      "380:\tlearn: 0.2356942\ttotal: 2.98s\tremaining: 4.83s\n",
      "381:\tlearn: 0.2348698\ttotal: 2.98s\tremaining: 4.83s\n",
      "382:\tlearn: 0.2341392\ttotal: 2.99s\tremaining: 4.82s\n",
      "383:\tlearn: 0.2333278\ttotal: 3s\tremaining: 4.81s\n",
      "384:\tlearn: 0.2325823\ttotal: 3.01s\tremaining: 4.8s\n",
      "385:\tlearn: 0.2317834\ttotal: 3.01s\tremaining: 4.79s\n",
      "386:\tlearn: 0.2312598\ttotal: 3.02s\tremaining: 4.79s\n",
      "387:\tlearn: 0.2304693\ttotal: 3.03s\tremaining: 4.78s\n",
      "388:\tlearn: 0.2296685\ttotal: 3.04s\tremaining: 4.77s\n",
      "389:\tlearn: 0.2290497\ttotal: 3.04s\tremaining: 4.76s\n",
      "390:\tlearn: 0.2282599\ttotal: 3.05s\tremaining: 4.75s\n",
      "391:\tlearn: 0.2274700\ttotal: 3.06s\tremaining: 4.75s\n",
      "392:\tlearn: 0.2268352\ttotal: 3.07s\tremaining: 4.74s\n",
      "393:\tlearn: 0.2262491\ttotal: 3.08s\tremaining: 4.73s\n",
      "394:\tlearn: 0.2254219\ttotal: 3.08s\tremaining: 4.72s\n",
      "395:\tlearn: 0.2249003\ttotal: 3.09s\tremaining: 4.72s\n",
      "396:\tlearn: 0.2242110\ttotal: 3.1s\tremaining: 4.71s\n",
      "397:\tlearn: 0.2234634\ttotal: 3.11s\tremaining: 4.7s\n",
      "398:\tlearn: 0.2225634\ttotal: 3.11s\tremaining: 4.69s\n",
      "399:\tlearn: 0.2218136\ttotal: 3.12s\tremaining: 4.68s\n",
      "400:\tlearn: 0.2212471\ttotal: 3.13s\tremaining: 4.67s\n",
      "401:\tlearn: 0.2204791\ttotal: 3.14s\tremaining: 4.67s\n",
      "402:\tlearn: 0.2197602\ttotal: 3.14s\tremaining: 4.66s\n",
      "403:\tlearn: 0.2190231\ttotal: 3.15s\tremaining: 4.65s\n",
      "404:\tlearn: 0.2182997\ttotal: 3.16s\tremaining: 4.64s\n",
      "405:\tlearn: 0.2174698\ttotal: 3.17s\tremaining: 4.63s\n",
      "406:\tlearn: 0.2165916\ttotal: 3.17s\tremaining: 4.63s\n",
      "407:\tlearn: 0.2157456\ttotal: 3.18s\tremaining: 4.62s\n",
      "408:\tlearn: 0.2151993\ttotal: 3.19s\tremaining: 4.61s\n",
      "409:\tlearn: 0.2143953\ttotal: 3.2s\tremaining: 4.6s\n",
      "410:\tlearn: 0.2134701\ttotal: 3.2s\tremaining: 4.59s\n",
      "411:\tlearn: 0.2127938\ttotal: 3.21s\tremaining: 4.58s\n",
      "412:\tlearn: 0.2121503\ttotal: 3.22s\tremaining: 4.58s\n",
      "413:\tlearn: 0.2114197\ttotal: 3.23s\tremaining: 4.57s\n",
      "414:\tlearn: 0.2105513\ttotal: 3.23s\tremaining: 4.56s\n",
      "415:\tlearn: 0.2098992\ttotal: 3.24s\tremaining: 4.55s\n",
      "416:\tlearn: 0.2091666\ttotal: 3.25s\tremaining: 4.54s\n",
      "417:\tlearn: 0.2086640\ttotal: 3.26s\tremaining: 4.54s\n",
      "418:\tlearn: 0.2078137\ttotal: 3.27s\tremaining: 4.53s\n",
      "419:\tlearn: 0.2070921\ttotal: 3.27s\tremaining: 4.52s\n",
      "420:\tlearn: 0.2065335\ttotal: 3.28s\tremaining: 4.51s\n",
      "421:\tlearn: 0.2059294\ttotal: 3.29s\tremaining: 4.5s\n",
      "422:\tlearn: 0.2054482\ttotal: 3.3s\tremaining: 4.5s\n",
      "423:\tlearn: 0.2047219\ttotal: 3.3s\tremaining: 4.49s\n",
      "424:\tlearn: 0.2040326\ttotal: 3.31s\tremaining: 4.48s\n",
      "425:\tlearn: 0.2035048\ttotal: 3.32s\tremaining: 4.47s\n",
      "426:\tlearn: 0.2028403\ttotal: 3.33s\tremaining: 4.46s\n",
      "427:\tlearn: 0.2022248\ttotal: 3.33s\tremaining: 4.46s\n",
      "428:\tlearn: 0.2015854\ttotal: 3.34s\tremaining: 4.45s\n",
      "429:\tlearn: 0.2010427\ttotal: 3.35s\tremaining: 4.44s\n",
      "430:\tlearn: 0.2003330\ttotal: 3.36s\tremaining: 4.43s\n",
      "431:\tlearn: 0.1995560\ttotal: 3.36s\tremaining: 4.42s\n",
      "432:\tlearn: 0.1988905\ttotal: 3.37s\tremaining: 4.42s\n",
      "433:\tlearn: 0.1984025\ttotal: 3.38s\tremaining: 4.41s\n",
      "434:\tlearn: 0.1977181\ttotal: 3.39s\tremaining: 4.4s\n",
      "435:\tlearn: 0.1972558\ttotal: 3.39s\tremaining: 4.39s\n",
      "436:\tlearn: 0.1964728\ttotal: 3.4s\tremaining: 4.38s\n",
      "437:\tlearn: 0.1957057\ttotal: 3.41s\tremaining: 4.37s\n",
      "438:\tlearn: 0.1953764\ttotal: 3.42s\tremaining: 4.37s\n",
      "439:\tlearn: 0.1947776\ttotal: 3.42s\tremaining: 4.36s\n",
      "440:\tlearn: 0.1940035\ttotal: 3.43s\tremaining: 4.35s\n",
      "441:\tlearn: 0.1933538\ttotal: 3.44s\tremaining: 4.34s\n",
      "442:\tlearn: 0.1928578\ttotal: 3.45s\tremaining: 4.33s\n",
      "443:\tlearn: 0.1923279\ttotal: 3.46s\tremaining: 4.33s\n",
      "444:\tlearn: 0.1917513\ttotal: 3.46s\tremaining: 4.32s\n",
      "445:\tlearn: 0.1910774\ttotal: 3.47s\tremaining: 4.31s\n",
      "446:\tlearn: 0.1903991\ttotal: 3.48s\tremaining: 4.3s\n",
      "447:\tlearn: 0.1897919\ttotal: 3.49s\tremaining: 4.3s\n",
      "448:\tlearn: 0.1892811\ttotal: 3.5s\tremaining: 4.29s\n",
      "449:\tlearn: 0.1887194\ttotal: 3.5s\tremaining: 4.28s\n",
      "450:\tlearn: 0.1881716\ttotal: 3.51s\tremaining: 4.27s\n",
      "451:\tlearn: 0.1875993\ttotal: 3.52s\tremaining: 4.26s\n",
      "452:\tlearn: 0.1869643\ttotal: 3.52s\tremaining: 4.26s\n",
      "453:\tlearn: 0.1864438\ttotal: 3.53s\tremaining: 4.25s\n",
      "454:\tlearn: 0.1859384\ttotal: 3.54s\tremaining: 4.24s\n",
      "455:\tlearn: 0.1852906\ttotal: 3.55s\tremaining: 4.23s\n",
      "456:\tlearn: 0.1846917\ttotal: 3.56s\tremaining: 4.22s\n",
      "457:\tlearn: 0.1842307\ttotal: 3.56s\tremaining: 4.22s\n",
      "458:\tlearn: 0.1838769\ttotal: 3.57s\tremaining: 4.21s\n",
      "459:\tlearn: 0.1835458\ttotal: 3.58s\tremaining: 4.2s\n",
      "460:\tlearn: 0.1829732\ttotal: 3.58s\tremaining: 4.19s\n",
      "461:\tlearn: 0.1825928\ttotal: 3.59s\tremaining: 4.18s\n",
      "462:\tlearn: 0.1821116\ttotal: 3.6s\tremaining: 4.17s\n",
      "463:\tlearn: 0.1814646\ttotal: 3.61s\tremaining: 4.17s\n",
      "464:\tlearn: 0.1808168\ttotal: 3.62s\tremaining: 4.16s\n",
      "465:\tlearn: 0.1803753\ttotal: 3.62s\tremaining: 4.15s\n",
      "466:\tlearn: 0.1797996\ttotal: 3.63s\tremaining: 4.14s\n",
      "467:\tlearn: 0.1792702\ttotal: 3.64s\tremaining: 4.13s\n",
      "468:\tlearn: 0.1787586\ttotal: 3.65s\tremaining: 4.13s\n",
      "469:\tlearn: 0.1782249\ttotal: 3.65s\tremaining: 4.12s\n",
      "470:\tlearn: 0.1776133\ttotal: 3.66s\tremaining: 4.11s\n",
      "471:\tlearn: 0.1770197\ttotal: 3.67s\tremaining: 4.1s\n",
      "472:\tlearn: 0.1765718\ttotal: 3.68s\tremaining: 4.1s\n",
      "473:\tlearn: 0.1762662\ttotal: 3.68s\tremaining: 4.09s\n",
      "474:\tlearn: 0.1756217\ttotal: 3.69s\tremaining: 4.08s\n",
      "475:\tlearn: 0.1750844\ttotal: 3.7s\tremaining: 4.07s\n",
      "476:\tlearn: 0.1745870\ttotal: 3.71s\tremaining: 4.06s\n",
      "477:\tlearn: 0.1739619\ttotal: 3.71s\tremaining: 4.05s\n",
      "478:\tlearn: 0.1733885\ttotal: 3.72s\tremaining: 4.05s\n",
      "479:\tlearn: 0.1730137\ttotal: 3.73s\tremaining: 4.04s\n",
      "480:\tlearn: 0.1725808\ttotal: 3.74s\tremaining: 4.03s\n",
      "481:\tlearn: 0.1722032\ttotal: 3.74s\tremaining: 4.02s\n",
      "482:\tlearn: 0.1716515\ttotal: 3.75s\tremaining: 4.02s\n",
      "483:\tlearn: 0.1713746\ttotal: 3.76s\tremaining: 4.01s\n",
      "484:\tlearn: 0.1709138\ttotal: 3.77s\tremaining: 4s\n",
      "485:\tlearn: 0.1704305\ttotal: 3.77s\tremaining: 3.99s\n",
      "486:\tlearn: 0.1698993\ttotal: 3.78s\tremaining: 3.98s\n",
      "487:\tlearn: 0.1696053\ttotal: 3.79s\tremaining: 3.98s\n",
      "488:\tlearn: 0.1690382\ttotal: 3.8s\tremaining: 3.97s\n",
      "489:\tlearn: 0.1684835\ttotal: 3.81s\tremaining: 3.96s\n",
      "490:\tlearn: 0.1680117\ttotal: 3.81s\tremaining: 3.96s\n",
      "491:\tlearn: 0.1675400\ttotal: 3.82s\tremaining: 3.95s\n",
      "492:\tlearn: 0.1670513\ttotal: 3.83s\tremaining: 3.94s\n",
      "493:\tlearn: 0.1665861\ttotal: 3.84s\tremaining: 3.93s\n",
      "494:\tlearn: 0.1660797\ttotal: 3.85s\tremaining: 3.92s\n",
      "495:\tlearn: 0.1656627\ttotal: 3.85s\tremaining: 3.92s\n",
      "496:\tlearn: 0.1652335\ttotal: 3.86s\tremaining: 3.91s\n",
      "497:\tlearn: 0.1647094\ttotal: 3.87s\tremaining: 3.9s\n",
      "498:\tlearn: 0.1643960\ttotal: 3.88s\tremaining: 3.89s\n",
      "499:\tlearn: 0.1639902\ttotal: 3.89s\tremaining: 3.89s\n",
      "500:\tlearn: 0.1635359\ttotal: 3.89s\tremaining: 3.88s\n",
      "501:\tlearn: 0.1631019\ttotal: 3.9s\tremaining: 3.87s\n",
      "502:\tlearn: 0.1626483\ttotal: 3.91s\tremaining: 3.86s\n",
      "503:\tlearn: 0.1622337\ttotal: 3.92s\tremaining: 3.85s\n",
      "504:\tlearn: 0.1618082\ttotal: 3.92s\tremaining: 3.85s\n",
      "505:\tlearn: 0.1614697\ttotal: 3.93s\tremaining: 3.84s\n",
      "506:\tlearn: 0.1610040\ttotal: 3.94s\tremaining: 3.83s\n",
      "507:\tlearn: 0.1604966\ttotal: 3.95s\tremaining: 3.82s\n",
      "508:\tlearn: 0.1603033\ttotal: 3.96s\tremaining: 3.81s\n",
      "509:\tlearn: 0.1600384\ttotal: 3.96s\tremaining: 3.81s\n",
      "510:\tlearn: 0.1596165\ttotal: 3.97s\tremaining: 3.8s\n",
      "511:\tlearn: 0.1591218\ttotal: 3.98s\tremaining: 3.79s\n",
      "512:\tlearn: 0.1588334\ttotal: 3.99s\tremaining: 3.78s\n",
      "513:\tlearn: 0.1583578\ttotal: 3.99s\tremaining: 3.78s\n",
      "514:\tlearn: 0.1579412\ttotal: 4s\tremaining: 3.77s\n",
      "515:\tlearn: 0.1574113\ttotal: 4.01s\tremaining: 3.76s\n",
      "516:\tlearn: 0.1571036\ttotal: 4.02s\tremaining: 3.75s\n",
      "517:\tlearn: 0.1566779\ttotal: 4.02s\tremaining: 3.74s\n",
      "518:\tlearn: 0.1563947\ttotal: 4.03s\tremaining: 3.74s\n",
      "519:\tlearn: 0.1559588\ttotal: 4.04s\tremaining: 3.73s\n",
      "520:\tlearn: 0.1556041\ttotal: 4.05s\tremaining: 3.72s\n",
      "521:\tlearn: 0.1552990\ttotal: 4.05s\tremaining: 3.71s\n",
      "522:\tlearn: 0.1548641\ttotal: 4.06s\tremaining: 3.71s\n",
      "523:\tlearn: 0.1543748\ttotal: 4.07s\tremaining: 3.7s\n",
      "524:\tlearn: 0.1539703\ttotal: 4.08s\tremaining: 3.69s\n",
      "525:\tlearn: 0.1536353\ttotal: 4.09s\tremaining: 3.68s\n",
      "526:\tlearn: 0.1531541\ttotal: 4.09s\tremaining: 3.67s\n",
      "527:\tlearn: 0.1526884\ttotal: 4.1s\tremaining: 3.67s\n",
      "528:\tlearn: 0.1522749\ttotal: 4.11s\tremaining: 3.66s\n",
      "529:\tlearn: 0.1518404\ttotal: 4.12s\tremaining: 3.65s\n",
      "530:\tlearn: 0.1514111\ttotal: 4.12s\tremaining: 3.64s\n",
      "531:\tlearn: 0.1510501\ttotal: 4.13s\tremaining: 3.63s\n",
      "532:\tlearn: 0.1506594\ttotal: 4.14s\tremaining: 3.63s\n",
      "533:\tlearn: 0.1503230\ttotal: 4.15s\tremaining: 3.62s\n",
      "534:\tlearn: 0.1499306\ttotal: 4.16s\tremaining: 3.61s\n",
      "535:\tlearn: 0.1495936\ttotal: 4.16s\tremaining: 3.6s\n",
      "536:\tlearn: 0.1491994\ttotal: 4.17s\tremaining: 3.6s\n",
      "537:\tlearn: 0.1488376\ttotal: 4.18s\tremaining: 3.59s\n",
      "538:\tlearn: 0.1484103\ttotal: 4.19s\tremaining: 3.58s\n",
      "539:\tlearn: 0.1479783\ttotal: 4.2s\tremaining: 3.57s\n",
      "540:\tlearn: 0.1475700\ttotal: 4.2s\tremaining: 3.56s\n",
      "541:\tlearn: 0.1472218\ttotal: 4.21s\tremaining: 3.56s\n",
      "542:\tlearn: 0.1468316\ttotal: 4.22s\tremaining: 3.55s\n",
      "543:\tlearn: 0.1465350\ttotal: 4.23s\tremaining: 3.54s\n",
      "544:\tlearn: 0.1461596\ttotal: 4.23s\tremaining: 3.53s\n",
      "545:\tlearn: 0.1459379\ttotal: 4.24s\tremaining: 3.53s\n",
      "546:\tlearn: 0.1455039\ttotal: 4.25s\tremaining: 3.52s\n",
      "547:\tlearn: 0.1452264\ttotal: 4.26s\tremaining: 3.51s\n",
      "548:\tlearn: 0.1448767\ttotal: 4.26s\tremaining: 3.5s\n",
      "549:\tlearn: 0.1445095\ttotal: 4.27s\tremaining: 3.5s\n",
      "550:\tlearn: 0.1442730\ttotal: 4.28s\tremaining: 3.49s\n",
      "551:\tlearn: 0.1439945\ttotal: 4.29s\tremaining: 3.48s\n",
      "552:\tlearn: 0.1435563\ttotal: 4.3s\tremaining: 3.47s\n",
      "553:\tlearn: 0.1431837\ttotal: 4.3s\tremaining: 3.46s\n",
      "554:\tlearn: 0.1428433\ttotal: 4.31s\tremaining: 3.46s\n",
      "555:\tlearn: 0.1425400\ttotal: 4.32s\tremaining: 3.45s\n",
      "556:\tlearn: 0.1423069\ttotal: 4.33s\tremaining: 3.44s\n",
      "557:\tlearn: 0.1419305\ttotal: 4.33s\tremaining: 3.43s\n",
      "558:\tlearn: 0.1416783\ttotal: 4.34s\tremaining: 3.43s\n",
      "559:\tlearn: 0.1414283\ttotal: 4.35s\tremaining: 3.42s\n",
      "560:\tlearn: 0.1410536\ttotal: 4.36s\tremaining: 3.41s\n",
      "561:\tlearn: 0.1407728\ttotal: 4.37s\tremaining: 3.4s\n",
      "562:\tlearn: 0.1403418\ttotal: 4.37s\tremaining: 3.4s\n",
      "563:\tlearn: 0.1400268\ttotal: 4.38s\tremaining: 3.39s\n",
      "564:\tlearn: 0.1396937\ttotal: 4.39s\tremaining: 3.38s\n",
      "565:\tlearn: 0.1393551\ttotal: 4.4s\tremaining: 3.37s\n",
      "566:\tlearn: 0.1389854\ttotal: 4.41s\tremaining: 3.37s\n",
      "567:\tlearn: 0.1385888\ttotal: 4.42s\tremaining: 3.36s\n",
      "568:\tlearn: 0.1382476\ttotal: 4.42s\tremaining: 3.35s\n",
      "569:\tlearn: 0.1378152\ttotal: 4.43s\tremaining: 3.34s\n",
      "570:\tlearn: 0.1374843\ttotal: 4.44s\tremaining: 3.33s\n",
      "571:\tlearn: 0.1372000\ttotal: 4.45s\tremaining: 3.33s\n",
      "572:\tlearn: 0.1368674\ttotal: 4.45s\tremaining: 3.32s\n",
      "573:\tlearn: 0.1364751\ttotal: 4.46s\tremaining: 3.31s\n",
      "574:\tlearn: 0.1361285\ttotal: 4.47s\tremaining: 3.3s\n",
      "575:\tlearn: 0.1357734\ttotal: 4.48s\tremaining: 3.3s\n",
      "576:\tlearn: 0.1354415\ttotal: 4.49s\tremaining: 3.29s\n",
      "577:\tlearn: 0.1351102\ttotal: 4.49s\tremaining: 3.28s\n",
      "578:\tlearn: 0.1347721\ttotal: 4.5s\tremaining: 3.27s\n",
      "579:\tlearn: 0.1345193\ttotal: 4.51s\tremaining: 3.27s\n",
      "580:\tlearn: 0.1342794\ttotal: 4.52s\tremaining: 3.26s\n",
      "581:\tlearn: 0.1340712\ttotal: 4.52s\tremaining: 3.25s\n",
      "582:\tlearn: 0.1337274\ttotal: 4.53s\tremaining: 3.24s\n",
      "583:\tlearn: 0.1333613\ttotal: 4.54s\tremaining: 3.23s\n",
      "584:\tlearn: 0.1330943\ttotal: 4.55s\tremaining: 3.23s\n",
      "585:\tlearn: 0.1327261\ttotal: 4.55s\tremaining: 3.22s\n",
      "586:\tlearn: 0.1323186\ttotal: 4.56s\tremaining: 3.21s\n",
      "587:\tlearn: 0.1319736\ttotal: 4.57s\tremaining: 3.2s\n",
      "588:\tlearn: 0.1316036\ttotal: 4.58s\tremaining: 3.19s\n",
      "589:\tlearn: 0.1313076\ttotal: 4.58s\tremaining: 3.19s\n",
      "590:\tlearn: 0.1309572\ttotal: 4.59s\tremaining: 3.18s\n",
      "591:\tlearn: 0.1306819\ttotal: 4.6s\tremaining: 3.17s\n",
      "592:\tlearn: 0.1303740\ttotal: 4.61s\tremaining: 3.16s\n",
      "593:\tlearn: 0.1300793\ttotal: 4.62s\tremaining: 3.15s\n",
      "594:\tlearn: 0.1297814\ttotal: 4.62s\tremaining: 3.15s\n",
      "595:\tlearn: 0.1295593\ttotal: 4.63s\tremaining: 3.14s\n",
      "596:\tlearn: 0.1292492\ttotal: 4.64s\tremaining: 3.13s\n",
      "597:\tlearn: 0.1288893\ttotal: 4.65s\tremaining: 3.12s\n",
      "598:\tlearn: 0.1286674\ttotal: 4.65s\tremaining: 3.12s\n",
      "599:\tlearn: 0.1283839\ttotal: 4.66s\tremaining: 3.11s\n",
      "600:\tlearn: 0.1280310\ttotal: 4.67s\tremaining: 3.1s\n",
      "601:\tlearn: 0.1277612\ttotal: 4.68s\tremaining: 3.09s\n",
      "602:\tlearn: 0.1275168\ttotal: 4.69s\tremaining: 3.08s\n",
      "603:\tlearn: 0.1271305\ttotal: 4.69s\tremaining: 3.08s\n",
      "604:\tlearn: 0.1269443\ttotal: 4.7s\tremaining: 3.07s\n",
      "605:\tlearn: 0.1267422\ttotal: 4.71s\tremaining: 3.06s\n",
      "606:\tlearn: 0.1264297\ttotal: 4.72s\tremaining: 3.06s\n",
      "607:\tlearn: 0.1262010\ttotal: 4.73s\tremaining: 3.05s\n",
      "608:\tlearn: 0.1259463\ttotal: 4.73s\tremaining: 3.04s\n",
      "609:\tlearn: 0.1255856\ttotal: 4.74s\tremaining: 3.03s\n",
      "610:\tlearn: 0.1252745\ttotal: 4.75s\tremaining: 3.02s\n",
      "611:\tlearn: 0.1249557\ttotal: 4.76s\tremaining: 3.02s\n",
      "612:\tlearn: 0.1246483\ttotal: 4.77s\tremaining: 3.01s\n",
      "613:\tlearn: 0.1243387\ttotal: 4.77s\tremaining: 3s\n",
      "614:\tlearn: 0.1240598\ttotal: 4.78s\tremaining: 2.99s\n",
      "615:\tlearn: 0.1237122\ttotal: 4.79s\tremaining: 2.98s\n",
      "616:\tlearn: 0.1234091\ttotal: 4.8s\tremaining: 2.98s\n",
      "617:\tlearn: 0.1231116\ttotal: 4.8s\tremaining: 2.97s\n",
      "618:\tlearn: 0.1227911\ttotal: 4.81s\tremaining: 2.96s\n",
      "619:\tlearn: 0.1225345\ttotal: 4.82s\tremaining: 2.95s\n",
      "620:\tlearn: 0.1222778\ttotal: 4.83s\tremaining: 2.95s\n",
      "621:\tlearn: 0.1220123\ttotal: 4.83s\tremaining: 2.94s\n",
      "622:\tlearn: 0.1218243\ttotal: 4.84s\tremaining: 2.93s\n",
      "623:\tlearn: 0.1215320\ttotal: 4.85s\tremaining: 2.92s\n",
      "624:\tlearn: 0.1213753\ttotal: 4.86s\tremaining: 2.91s\n",
      "625:\tlearn: 0.1211197\ttotal: 4.87s\tremaining: 2.91s\n",
      "626:\tlearn: 0.1209073\ttotal: 4.87s\tremaining: 2.9s\n",
      "627:\tlearn: 0.1206048\ttotal: 4.88s\tremaining: 2.89s\n",
      "628:\tlearn: 0.1203726\ttotal: 4.89s\tremaining: 2.88s\n",
      "629:\tlearn: 0.1200928\ttotal: 4.9s\tremaining: 2.88s\n",
      "630:\tlearn: 0.1199263\ttotal: 4.91s\tremaining: 2.87s\n",
      "631:\tlearn: 0.1197035\ttotal: 4.91s\tremaining: 2.86s\n",
      "632:\tlearn: 0.1194871\ttotal: 4.92s\tremaining: 2.85s\n",
      "633:\tlearn: 0.1192939\ttotal: 4.93s\tremaining: 2.84s\n",
      "634:\tlearn: 0.1189962\ttotal: 4.94s\tremaining: 2.84s\n",
      "635:\tlearn: 0.1187524\ttotal: 4.94s\tremaining: 2.83s\n",
      "636:\tlearn: 0.1184923\ttotal: 4.95s\tremaining: 2.82s\n",
      "637:\tlearn: 0.1182265\ttotal: 4.96s\tremaining: 2.81s\n",
      "638:\tlearn: 0.1180342\ttotal: 4.97s\tremaining: 2.81s\n",
      "639:\tlearn: 0.1177933\ttotal: 4.97s\tremaining: 2.8s\n",
      "640:\tlearn: 0.1175366\ttotal: 4.98s\tremaining: 2.79s\n",
      "641:\tlearn: 0.1173142\ttotal: 4.99s\tremaining: 2.78s\n",
      "642:\tlearn: 0.1170881\ttotal: 5s\tremaining: 2.77s\n",
      "643:\tlearn: 0.1168643\ttotal: 5.01s\tremaining: 2.77s\n",
      "644:\tlearn: 0.1166777\ttotal: 5.01s\tremaining: 2.76s\n",
      "645:\tlearn: 0.1164155\ttotal: 5.02s\tremaining: 2.75s\n",
      "646:\tlearn: 0.1161289\ttotal: 5.03s\tremaining: 2.74s\n",
      "647:\tlearn: 0.1159360\ttotal: 5.04s\tremaining: 2.74s\n",
      "648:\tlearn: 0.1156497\ttotal: 5.04s\tremaining: 2.73s\n",
      "649:\tlearn: 0.1154538\ttotal: 5.05s\tremaining: 2.72s\n",
      "650:\tlearn: 0.1152096\ttotal: 5.06s\tremaining: 2.71s\n",
      "651:\tlearn: 0.1149554\ttotal: 5.07s\tremaining: 2.71s\n",
      "652:\tlearn: 0.1146647\ttotal: 5.08s\tremaining: 2.7s\n",
      "653:\tlearn: 0.1144413\ttotal: 5.08s\tremaining: 2.69s\n",
      "654:\tlearn: 0.1141751\ttotal: 5.09s\tremaining: 2.68s\n",
      "655:\tlearn: 0.1138701\ttotal: 5.1s\tremaining: 2.67s\n",
      "656:\tlearn: 0.1136566\ttotal: 5.11s\tremaining: 2.67s\n",
      "657:\tlearn: 0.1133463\ttotal: 5.12s\tremaining: 2.66s\n",
      "658:\tlearn: 0.1131256\ttotal: 5.12s\tremaining: 2.65s\n",
      "659:\tlearn: 0.1129089\ttotal: 5.13s\tremaining: 2.64s\n",
      "660:\tlearn: 0.1126529\ttotal: 5.14s\tremaining: 2.63s\n",
      "661:\tlearn: 0.1123679\ttotal: 5.14s\tremaining: 2.63s\n",
      "662:\tlearn: 0.1121661\ttotal: 5.15s\tremaining: 2.62s\n",
      "663:\tlearn: 0.1119577\ttotal: 5.16s\tremaining: 2.61s\n",
      "664:\tlearn: 0.1117298\ttotal: 5.17s\tremaining: 2.6s\n",
      "665:\tlearn: 0.1115017\ttotal: 5.18s\tremaining: 2.6s\n",
      "666:\tlearn: 0.1113029\ttotal: 5.18s\tremaining: 2.59s\n",
      "667:\tlearn: 0.1110670\ttotal: 5.19s\tremaining: 2.58s\n",
      "668:\tlearn: 0.1108448\ttotal: 5.2s\tremaining: 2.57s\n",
      "669:\tlearn: 0.1106247\ttotal: 5.21s\tremaining: 2.56s\n",
      "670:\tlearn: 0.1104395\ttotal: 5.21s\tremaining: 2.56s\n",
      "671:\tlearn: 0.1102568\ttotal: 5.22s\tremaining: 2.55s\n",
      "672:\tlearn: 0.1100551\ttotal: 5.23s\tremaining: 2.54s\n",
      "673:\tlearn: 0.1097768\ttotal: 5.24s\tremaining: 2.53s\n",
      "674:\tlearn: 0.1095872\ttotal: 5.25s\tremaining: 2.52s\n",
      "675:\tlearn: 0.1093999\ttotal: 5.25s\tremaining: 2.52s\n",
      "676:\tlearn: 0.1091743\ttotal: 5.26s\tremaining: 2.51s\n",
      "677:\tlearn: 0.1089844\ttotal: 5.27s\tremaining: 2.5s\n",
      "678:\tlearn: 0.1088045\ttotal: 5.28s\tremaining: 2.49s\n",
      "679:\tlearn: 0.1085432\ttotal: 5.28s\tremaining: 2.49s\n",
      "680:\tlearn: 0.1083317\ttotal: 5.29s\tremaining: 2.48s\n",
      "681:\tlearn: 0.1080859\ttotal: 5.3s\tremaining: 2.47s\n",
      "682:\tlearn: 0.1078486\ttotal: 5.31s\tremaining: 2.46s\n",
      "683:\tlearn: 0.1075783\ttotal: 5.32s\tremaining: 2.46s\n",
      "684:\tlearn: 0.1073194\ttotal: 5.33s\tremaining: 2.45s\n",
      "685:\tlearn: 0.1070690\ttotal: 5.33s\tremaining: 2.44s\n",
      "686:\tlearn: 0.1068392\ttotal: 5.34s\tremaining: 2.43s\n",
      "687:\tlearn: 0.1066384\ttotal: 5.35s\tremaining: 2.43s\n",
      "688:\tlearn: 0.1064239\ttotal: 5.36s\tremaining: 2.42s\n",
      "689:\tlearn: 0.1062321\ttotal: 5.37s\tremaining: 2.41s\n",
      "690:\tlearn: 0.1060187\ttotal: 5.37s\tremaining: 2.4s\n",
      "691:\tlearn: 0.1057892\ttotal: 5.38s\tremaining: 2.4s\n",
      "692:\tlearn: 0.1055539\ttotal: 5.39s\tremaining: 2.39s\n",
      "693:\tlearn: 0.1053453\ttotal: 5.4s\tremaining: 2.38s\n",
      "694:\tlearn: 0.1051195\ttotal: 5.4s\tremaining: 2.37s\n",
      "695:\tlearn: 0.1049060\ttotal: 5.41s\tremaining: 2.36s\n",
      "696:\tlearn: 0.1046689\ttotal: 5.42s\tremaining: 2.36s\n",
      "697:\tlearn: 0.1044198\ttotal: 5.43s\tremaining: 2.35s\n",
      "698:\tlearn: 0.1042001\ttotal: 5.43s\tremaining: 2.34s\n",
      "699:\tlearn: 0.1039505\ttotal: 5.44s\tremaining: 2.33s\n",
      "700:\tlearn: 0.1037077\ttotal: 5.45s\tremaining: 2.33s\n",
      "701:\tlearn: 0.1035055\ttotal: 5.46s\tremaining: 2.32s\n",
      "702:\tlearn: 0.1032915\ttotal: 5.47s\tremaining: 2.31s\n",
      "703:\tlearn: 0.1030881\ttotal: 5.47s\tremaining: 2.3s\n",
      "704:\tlearn: 0.1029044\ttotal: 5.48s\tremaining: 2.29s\n",
      "705:\tlearn: 0.1026981\ttotal: 5.49s\tremaining: 2.29s\n",
      "706:\tlearn: 0.1024688\ttotal: 5.5s\tremaining: 2.28s\n",
      "707:\tlearn: 0.1022968\ttotal: 5.51s\tremaining: 2.27s\n",
      "708:\tlearn: 0.1020802\ttotal: 5.51s\tremaining: 2.26s\n",
      "709:\tlearn: 0.1019106\ttotal: 5.52s\tremaining: 2.25s\n",
      "710:\tlearn: 0.1017663\ttotal: 5.53s\tremaining: 2.25s\n",
      "711:\tlearn: 0.1015705\ttotal: 5.54s\tremaining: 2.24s\n",
      "712:\tlearn: 0.1013951\ttotal: 5.55s\tremaining: 2.23s\n",
      "713:\tlearn: 0.1011743\ttotal: 5.55s\tremaining: 2.22s\n",
      "714:\tlearn: 0.1009881\ttotal: 5.56s\tremaining: 2.22s\n",
      "715:\tlearn: 0.1007790\ttotal: 5.57s\tremaining: 2.21s\n",
      "716:\tlearn: 0.1005635\ttotal: 5.58s\tremaining: 2.2s\n",
      "717:\tlearn: 0.1003523\ttotal: 5.58s\tremaining: 2.19s\n",
      "718:\tlearn: 0.1001793\ttotal: 5.59s\tremaining: 2.19s\n",
      "719:\tlearn: 0.1000129\ttotal: 5.6s\tremaining: 2.18s\n",
      "720:\tlearn: 0.0997793\ttotal: 5.61s\tremaining: 2.17s\n",
      "721:\tlearn: 0.0995711\ttotal: 5.62s\tremaining: 2.16s\n",
      "722:\tlearn: 0.0994449\ttotal: 5.62s\tremaining: 2.15s\n",
      "723:\tlearn: 0.0992756\ttotal: 5.63s\tremaining: 2.15s\n",
      "724:\tlearn: 0.0990858\ttotal: 5.64s\tremaining: 2.14s\n",
      "725:\tlearn: 0.0989676\ttotal: 5.65s\tremaining: 2.13s\n",
      "726:\tlearn: 0.0987643\ttotal: 5.66s\tremaining: 2.12s\n",
      "727:\tlearn: 0.0985498\ttotal: 5.66s\tremaining: 2.12s\n",
      "728:\tlearn: 0.0983849\ttotal: 5.67s\tremaining: 2.11s\n",
      "729:\tlearn: 0.0982100\ttotal: 5.68s\tremaining: 2.1s\n",
      "730:\tlearn: 0.0980204\ttotal: 5.69s\tremaining: 2.09s\n",
      "731:\tlearn: 0.0978853\ttotal: 5.69s\tremaining: 2.08s\n",
      "732:\tlearn: 0.0977407\ttotal: 5.7s\tremaining: 2.08s\n",
      "733:\tlearn: 0.0975309\ttotal: 5.71s\tremaining: 2.07s\n",
      "734:\tlearn: 0.0973963\ttotal: 5.72s\tremaining: 2.06s\n",
      "735:\tlearn: 0.0971949\ttotal: 5.73s\tremaining: 2.05s\n",
      "736:\tlearn: 0.0970065\ttotal: 5.73s\tremaining: 2.05s\n",
      "737:\tlearn: 0.0968584\ttotal: 5.74s\tremaining: 2.04s\n",
      "738:\tlearn: 0.0966633\ttotal: 5.75s\tremaining: 2.03s\n",
      "739:\tlearn: 0.0964747\ttotal: 5.76s\tremaining: 2.02s\n",
      "740:\tlearn: 0.0963200\ttotal: 5.76s\tremaining: 2.01s\n",
      "741:\tlearn: 0.0961519\ttotal: 5.77s\tremaining: 2.01s\n",
      "742:\tlearn: 0.0959868\ttotal: 5.78s\tremaining: 2s\n",
      "743:\tlearn: 0.0957944\ttotal: 5.79s\tremaining: 1.99s\n",
      "744:\tlearn: 0.0956775\ttotal: 5.79s\tremaining: 1.98s\n",
      "745:\tlearn: 0.0954878\ttotal: 5.8s\tremaining: 1.98s\n",
      "746:\tlearn: 0.0953104\ttotal: 5.81s\tremaining: 1.97s\n",
      "747:\tlearn: 0.0950706\ttotal: 5.82s\tremaining: 1.96s\n",
      "748:\tlearn: 0.0948991\ttotal: 5.83s\tremaining: 1.95s\n",
      "749:\tlearn: 0.0947815\ttotal: 5.83s\tremaining: 1.95s\n",
      "750:\tlearn: 0.0946331\ttotal: 5.84s\tremaining: 1.94s\n",
      "751:\tlearn: 0.0944734\ttotal: 5.85s\tremaining: 1.93s\n",
      "752:\tlearn: 0.0943074\ttotal: 5.86s\tremaining: 1.92s\n",
      "753:\tlearn: 0.0941121\ttotal: 5.87s\tremaining: 1.91s\n",
      "754:\tlearn: 0.0939584\ttotal: 5.87s\tremaining: 1.91s\n",
      "755:\tlearn: 0.0937964\ttotal: 5.88s\tremaining: 1.9s\n",
      "756:\tlearn: 0.0936251\ttotal: 5.89s\tremaining: 1.89s\n",
      "757:\tlearn: 0.0934235\ttotal: 5.9s\tremaining: 1.88s\n",
      "758:\tlearn: 0.0932682\ttotal: 5.9s\tremaining: 1.87s\n",
      "759:\tlearn: 0.0931433\ttotal: 5.91s\tremaining: 1.87s\n",
      "760:\tlearn: 0.0929896\ttotal: 5.92s\tremaining: 1.86s\n",
      "761:\tlearn: 0.0928362\ttotal: 5.93s\tremaining: 1.85s\n",
      "762:\tlearn: 0.0926524\ttotal: 5.93s\tremaining: 1.84s\n",
      "763:\tlearn: 0.0925343\ttotal: 5.94s\tremaining: 1.83s\n",
      "764:\tlearn: 0.0923166\ttotal: 5.95s\tremaining: 1.83s\n",
      "765:\tlearn: 0.0921656\ttotal: 5.96s\tremaining: 1.82s\n",
      "766:\tlearn: 0.0920194\ttotal: 5.96s\tremaining: 1.81s\n",
      "767:\tlearn: 0.0918192\ttotal: 5.97s\tremaining: 1.8s\n",
      "768:\tlearn: 0.0916331\ttotal: 5.98s\tremaining: 1.8s\n",
      "769:\tlearn: 0.0914766\ttotal: 5.99s\tremaining: 1.79s\n",
      "770:\tlearn: 0.0912986\ttotal: 6s\tremaining: 1.78s\n",
      "771:\tlearn: 0.0911388\ttotal: 6s\tremaining: 1.77s\n",
      "772:\tlearn: 0.0910394\ttotal: 6.01s\tremaining: 1.76s\n",
      "773:\tlearn: 0.0908769\ttotal: 6.02s\tremaining: 1.76s\n",
      "774:\tlearn: 0.0906943\ttotal: 6.03s\tremaining: 1.75s\n",
      "775:\tlearn: 0.0905233\ttotal: 6.03s\tremaining: 1.74s\n",
      "776:\tlearn: 0.0903655\ttotal: 6.04s\tremaining: 1.73s\n",
      "777:\tlearn: 0.0902375\ttotal: 6.05s\tremaining: 1.73s\n",
      "778:\tlearn: 0.0900490\ttotal: 6.06s\tremaining: 1.72s\n",
      "779:\tlearn: 0.0899421\ttotal: 6.07s\tremaining: 1.71s\n",
      "780:\tlearn: 0.0897579\ttotal: 6.07s\tremaining: 1.7s\n",
      "781:\tlearn: 0.0896505\ttotal: 6.08s\tremaining: 1.7s\n",
      "782:\tlearn: 0.0895048\ttotal: 6.09s\tremaining: 1.69s\n",
      "783:\tlearn: 0.0893396\ttotal: 6.1s\tremaining: 1.68s\n",
      "784:\tlearn: 0.0892065\ttotal: 6.11s\tremaining: 1.67s\n",
      "785:\tlearn: 0.0890742\ttotal: 6.11s\tremaining: 1.66s\n",
      "786:\tlearn: 0.0889160\ttotal: 6.12s\tremaining: 1.66s\n",
      "787:\tlearn: 0.0888143\ttotal: 6.13s\tremaining: 1.65s\n",
      "788:\tlearn: 0.0886561\ttotal: 6.14s\tremaining: 1.64s\n",
      "789:\tlearn: 0.0885191\ttotal: 6.14s\tremaining: 1.63s\n",
      "790:\tlearn: 0.0883665\ttotal: 6.15s\tremaining: 1.63s\n",
      "791:\tlearn: 0.0882371\ttotal: 6.16s\tremaining: 1.62s\n",
      "792:\tlearn: 0.0881084\ttotal: 6.17s\tremaining: 1.61s\n",
      "793:\tlearn: 0.0879401\ttotal: 6.17s\tremaining: 1.6s\n",
      "794:\tlearn: 0.0878435\ttotal: 6.18s\tremaining: 1.59s\n",
      "795:\tlearn: 0.0876968\ttotal: 6.19s\tremaining: 1.59s\n",
      "796:\tlearn: 0.0875563\ttotal: 6.2s\tremaining: 1.58s\n",
      "797:\tlearn: 0.0873987\ttotal: 6.21s\tremaining: 1.57s\n",
      "798:\tlearn: 0.0872656\ttotal: 6.21s\tremaining: 1.56s\n",
      "799:\tlearn: 0.0871326\ttotal: 6.22s\tremaining: 1.55s\n",
      "800:\tlearn: 0.0870091\ttotal: 6.23s\tremaining: 1.55s\n",
      "801:\tlearn: 0.0868758\ttotal: 6.24s\tremaining: 1.54s\n",
      "802:\tlearn: 0.0867163\ttotal: 6.25s\tremaining: 1.53s\n",
      "803:\tlearn: 0.0865490\ttotal: 6.25s\tremaining: 1.52s\n",
      "804:\tlearn: 0.0864161\ttotal: 6.26s\tremaining: 1.52s\n",
      "805:\tlearn: 0.0862534\ttotal: 6.27s\tremaining: 1.51s\n",
      "806:\tlearn: 0.0860848\ttotal: 6.28s\tremaining: 1.5s\n",
      "807:\tlearn: 0.0859239\ttotal: 6.28s\tremaining: 1.49s\n",
      "808:\tlearn: 0.0857445\ttotal: 6.29s\tremaining: 1.49s\n",
      "809:\tlearn: 0.0855876\ttotal: 6.3s\tremaining: 1.48s\n",
      "810:\tlearn: 0.0854291\ttotal: 6.3s\tremaining: 1.47s\n",
      "811:\tlearn: 0.0853148\ttotal: 6.31s\tremaining: 1.46s\n",
      "812:\tlearn: 0.0851624\ttotal: 6.32s\tremaining: 1.45s\n",
      "813:\tlearn: 0.0850311\ttotal: 6.33s\tremaining: 1.45s\n",
      "814:\tlearn: 0.0849181\ttotal: 6.34s\tremaining: 1.44s\n",
      "815:\tlearn: 0.0847694\ttotal: 6.34s\tremaining: 1.43s\n",
      "816:\tlearn: 0.0846509\ttotal: 6.35s\tremaining: 1.42s\n",
      "817:\tlearn: 0.0845273\ttotal: 6.36s\tremaining: 1.42s\n",
      "818:\tlearn: 0.0843927\ttotal: 6.37s\tremaining: 1.41s\n",
      "819:\tlearn: 0.0842712\ttotal: 6.38s\tremaining: 1.4s\n",
      "820:\tlearn: 0.0840778\ttotal: 6.38s\tremaining: 1.39s\n",
      "821:\tlearn: 0.0839582\ttotal: 6.39s\tremaining: 1.38s\n",
      "822:\tlearn: 0.0838132\ttotal: 6.4s\tremaining: 1.38s\n",
      "823:\tlearn: 0.0836553\ttotal: 6.41s\tremaining: 1.37s\n",
      "824:\tlearn: 0.0835362\ttotal: 6.42s\tremaining: 1.36s\n",
      "825:\tlearn: 0.0833888\ttotal: 6.42s\tremaining: 1.35s\n",
      "826:\tlearn: 0.0832552\ttotal: 6.43s\tremaining: 1.34s\n",
      "827:\tlearn: 0.0830955\ttotal: 6.44s\tremaining: 1.34s\n",
      "828:\tlearn: 0.0829752\ttotal: 6.45s\tremaining: 1.33s\n",
      "829:\tlearn: 0.0828343\ttotal: 6.45s\tremaining: 1.32s\n",
      "830:\tlearn: 0.0827091\ttotal: 6.46s\tremaining: 1.31s\n",
      "831:\tlearn: 0.0825597\ttotal: 6.47s\tremaining: 1.31s\n",
      "832:\tlearn: 0.0824335\ttotal: 6.47s\tremaining: 1.3s\n",
      "833:\tlearn: 0.0822919\ttotal: 6.48s\tremaining: 1.29s\n",
      "834:\tlearn: 0.0821662\ttotal: 6.49s\tremaining: 1.28s\n",
      "835:\tlearn: 0.0820454\ttotal: 6.5s\tremaining: 1.27s\n",
      "836:\tlearn: 0.0819159\ttotal: 6.51s\tremaining: 1.27s\n",
      "837:\tlearn: 0.0817570\ttotal: 6.51s\tremaining: 1.26s\n",
      "838:\tlearn: 0.0816240\ttotal: 6.52s\tremaining: 1.25s\n",
      "839:\tlearn: 0.0815152\ttotal: 6.53s\tremaining: 1.24s\n",
      "840:\tlearn: 0.0813749\ttotal: 6.54s\tremaining: 1.24s\n",
      "841:\tlearn: 0.0812317\ttotal: 6.54s\tremaining: 1.23s\n",
      "842:\tlearn: 0.0810762\ttotal: 6.55s\tremaining: 1.22s\n",
      "843:\tlearn: 0.0809707\ttotal: 6.56s\tremaining: 1.21s\n",
      "844:\tlearn: 0.0808624\ttotal: 6.57s\tremaining: 1.2s\n",
      "845:\tlearn: 0.0807226\ttotal: 6.58s\tremaining: 1.2s\n",
      "846:\tlearn: 0.0805745\ttotal: 6.58s\tremaining: 1.19s\n",
      "847:\tlearn: 0.0804583\ttotal: 6.59s\tremaining: 1.18s\n",
      "848:\tlearn: 0.0803772\ttotal: 6.6s\tremaining: 1.17s\n",
      "849:\tlearn: 0.0802459\ttotal: 6.61s\tremaining: 1.17s\n",
      "850:\tlearn: 0.0800881\ttotal: 6.62s\tremaining: 1.16s\n",
      "851:\tlearn: 0.0799750\ttotal: 6.62s\tremaining: 1.15s\n",
      "852:\tlearn: 0.0798614\ttotal: 6.63s\tremaining: 1.14s\n",
      "853:\tlearn: 0.0797190\ttotal: 6.64s\tremaining: 1.13s\n",
      "854:\tlearn: 0.0795702\ttotal: 6.65s\tremaining: 1.13s\n",
      "855:\tlearn: 0.0794583\ttotal: 6.65s\tremaining: 1.12s\n",
      "856:\tlearn: 0.0793432\ttotal: 6.66s\tremaining: 1.11s\n",
      "857:\tlearn: 0.0791994\ttotal: 6.67s\tremaining: 1.1s\n",
      "858:\tlearn: 0.0790745\ttotal: 6.68s\tremaining: 1.09s\n",
      "859:\tlearn: 0.0789480\ttotal: 6.68s\tremaining: 1.09s\n",
      "860:\tlearn: 0.0788375\ttotal: 6.69s\tremaining: 1.08s\n",
      "861:\tlearn: 0.0787161\ttotal: 6.7s\tremaining: 1.07s\n",
      "862:\tlearn: 0.0786042\ttotal: 6.71s\tremaining: 1.06s\n",
      "863:\tlearn: 0.0784695\ttotal: 6.72s\tremaining: 1.06s\n",
      "864:\tlearn: 0.0783505\ttotal: 6.72s\tremaining: 1.05s\n",
      "865:\tlearn: 0.0782308\ttotal: 6.73s\tremaining: 1.04s\n",
      "866:\tlearn: 0.0781060\ttotal: 6.74s\tremaining: 1.03s\n",
      "867:\tlearn: 0.0779901\ttotal: 6.75s\tremaining: 1.03s\n",
      "868:\tlearn: 0.0778676\ttotal: 6.75s\tremaining: 1.02s\n",
      "869:\tlearn: 0.0777581\ttotal: 6.76s\tremaining: 1.01s\n",
      "870:\tlearn: 0.0776601\ttotal: 6.77s\tremaining: 1s\n",
      "871:\tlearn: 0.0775152\ttotal: 6.78s\tremaining: 995ms\n",
      "872:\tlearn: 0.0773886\ttotal: 6.79s\tremaining: 987ms\n",
      "873:\tlearn: 0.0772688\ttotal: 6.79s\tremaining: 979ms\n",
      "874:\tlearn: 0.0771407\ttotal: 6.8s\tremaining: 972ms\n",
      "875:\tlearn: 0.0770131\ttotal: 6.81s\tremaining: 964ms\n",
      "876:\tlearn: 0.0768915\ttotal: 6.82s\tremaining: 956ms\n",
      "877:\tlearn: 0.0767526\ttotal: 6.82s\tremaining: 948ms\n",
      "878:\tlearn: 0.0766292\ttotal: 6.83s\tremaining: 940ms\n",
      "879:\tlearn: 0.0765291\ttotal: 6.84s\tremaining: 933ms\n",
      "880:\tlearn: 0.0764012\ttotal: 6.85s\tremaining: 925ms\n",
      "881:\tlearn: 0.0762786\ttotal: 6.86s\tremaining: 917ms\n",
      "882:\tlearn: 0.0761399\ttotal: 6.86s\tremaining: 910ms\n",
      "883:\tlearn: 0.0760342\ttotal: 6.87s\tremaining: 902ms\n",
      "884:\tlearn: 0.0758986\ttotal: 6.88s\tremaining: 894ms\n",
      "885:\tlearn: 0.0758102\ttotal: 6.89s\tremaining: 886ms\n",
      "886:\tlearn: 0.0756966\ttotal: 6.89s\tremaining: 878ms\n",
      "887:\tlearn: 0.0755998\ttotal: 6.9s\tremaining: 871ms\n",
      "888:\tlearn: 0.0754821\ttotal: 6.91s\tremaining: 863ms\n",
      "889:\tlearn: 0.0754090\ttotal: 6.92s\tremaining: 855ms\n",
      "890:\tlearn: 0.0753263\ttotal: 6.93s\tremaining: 847ms\n",
      "891:\tlearn: 0.0752245\ttotal: 6.93s\tremaining: 840ms\n",
      "892:\tlearn: 0.0751026\ttotal: 6.94s\tremaining: 832ms\n",
      "893:\tlearn: 0.0750182\ttotal: 6.95s\tremaining: 824ms\n",
      "894:\tlearn: 0.0749061\ttotal: 6.96s\tremaining: 816ms\n",
      "895:\tlearn: 0.0747727\ttotal: 6.96s\tremaining: 808ms\n",
      "896:\tlearn: 0.0746535\ttotal: 6.97s\tremaining: 801ms\n",
      "897:\tlearn: 0.0745159\ttotal: 6.98s\tremaining: 793ms\n",
      "898:\tlearn: 0.0743922\ttotal: 6.99s\tremaining: 785ms\n",
      "899:\tlearn: 0.0742869\ttotal: 6.99s\tremaining: 777ms\n",
      "900:\tlearn: 0.0741755\ttotal: 7s\tremaining: 769ms\n",
      "901:\tlearn: 0.0740652\ttotal: 7.01s\tremaining: 762ms\n",
      "902:\tlearn: 0.0739387\ttotal: 7.02s\tremaining: 754ms\n",
      "903:\tlearn: 0.0738234\ttotal: 7.02s\tremaining: 746ms\n",
      "904:\tlearn: 0.0737128\ttotal: 7.03s\tremaining: 738ms\n",
      "905:\tlearn: 0.0735843\ttotal: 7.04s\tremaining: 730ms\n",
      "906:\tlearn: 0.0734401\ttotal: 7.05s\tremaining: 723ms\n",
      "907:\tlearn: 0.0733363\ttotal: 7.06s\tremaining: 715ms\n",
      "908:\tlearn: 0.0732529\ttotal: 7.06s\tremaining: 707ms\n",
      "909:\tlearn: 0.0731465\ttotal: 7.07s\tremaining: 699ms\n",
      "910:\tlearn: 0.0730675\ttotal: 7.08s\tremaining: 692ms\n",
      "911:\tlearn: 0.0729608\ttotal: 7.09s\tremaining: 684ms\n",
      "912:\tlearn: 0.0728517\ttotal: 7.1s\tremaining: 676ms\n",
      "913:\tlearn: 0.0727693\ttotal: 7.1s\tremaining: 668ms\n",
      "914:\tlearn: 0.0726634\ttotal: 7.11s\tremaining: 661ms\n",
      "915:\tlearn: 0.0725617\ttotal: 7.12s\tremaining: 653ms\n",
      "916:\tlearn: 0.0724598\ttotal: 7.13s\tremaining: 645ms\n",
      "917:\tlearn: 0.0723606\ttotal: 7.13s\tremaining: 637ms\n",
      "918:\tlearn: 0.0722465\ttotal: 7.14s\tremaining: 630ms\n",
      "919:\tlearn: 0.0721365\ttotal: 7.15s\tremaining: 622ms\n",
      "920:\tlearn: 0.0720286\ttotal: 7.16s\tremaining: 614ms\n",
      "921:\tlearn: 0.0719333\ttotal: 7.16s\tremaining: 606ms\n",
      "922:\tlearn: 0.0717971\ttotal: 7.17s\tremaining: 598ms\n",
      "923:\tlearn: 0.0716993\ttotal: 7.18s\tremaining: 591ms\n",
      "924:\tlearn: 0.0715937\ttotal: 7.19s\tremaining: 583ms\n",
      "925:\tlearn: 0.0714930\ttotal: 7.19s\tremaining: 575ms\n",
      "926:\tlearn: 0.0713825\ttotal: 7.2s\tremaining: 567ms\n",
      "927:\tlearn: 0.0712642\ttotal: 7.21s\tremaining: 559ms\n",
      "928:\tlearn: 0.0711864\ttotal: 7.22s\tremaining: 552ms\n",
      "929:\tlearn: 0.0711089\ttotal: 7.22s\tremaining: 544ms\n",
      "930:\tlearn: 0.0710253\ttotal: 7.23s\tremaining: 536ms\n",
      "931:\tlearn: 0.0709147\ttotal: 7.24s\tremaining: 528ms\n",
      "932:\tlearn: 0.0708198\ttotal: 7.25s\tremaining: 521ms\n",
      "933:\tlearn: 0.0707098\ttotal: 7.25s\tremaining: 513ms\n",
      "934:\tlearn: 0.0705683\ttotal: 7.26s\tremaining: 505ms\n",
      "935:\tlearn: 0.0704598\ttotal: 7.27s\tremaining: 497ms\n",
      "936:\tlearn: 0.0703808\ttotal: 7.28s\tremaining: 490ms\n",
      "937:\tlearn: 0.0702820\ttotal: 7.29s\tremaining: 482ms\n",
      "938:\tlearn: 0.0701957\ttotal: 7.29s\tremaining: 474ms\n",
      "939:\tlearn: 0.0701195\ttotal: 7.3s\tremaining: 466ms\n",
      "940:\tlearn: 0.0700081\ttotal: 7.31s\tremaining: 458ms\n",
      "941:\tlearn: 0.0699381\ttotal: 7.32s\tremaining: 451ms\n",
      "942:\tlearn: 0.0698331\ttotal: 7.33s\tremaining: 443ms\n",
      "943:\tlearn: 0.0697226\ttotal: 7.33s\tremaining: 435ms\n",
      "944:\tlearn: 0.0696051\ttotal: 7.34s\tremaining: 427ms\n",
      "945:\tlearn: 0.0695086\ttotal: 7.35s\tremaining: 420ms\n",
      "946:\tlearn: 0.0694127\ttotal: 7.36s\tremaining: 412ms\n",
      "947:\tlearn: 0.0692990\ttotal: 7.37s\tremaining: 404ms\n",
      "948:\tlearn: 0.0692070\ttotal: 7.37s\tremaining: 396ms\n",
      "949:\tlearn: 0.0691023\ttotal: 7.38s\tremaining: 388ms\n",
      "950:\tlearn: 0.0690059\ttotal: 7.39s\tremaining: 381ms\n",
      "951:\tlearn: 0.0689050\ttotal: 7.39s\tremaining: 373ms\n",
      "952:\tlearn: 0.0688297\ttotal: 7.4s\tremaining: 365ms\n",
      "953:\tlearn: 0.0687200\ttotal: 7.41s\tremaining: 357ms\n",
      "954:\tlearn: 0.0686201\ttotal: 7.42s\tremaining: 350ms\n",
      "955:\tlearn: 0.0685307\ttotal: 7.42s\tremaining: 342ms\n",
      "956:\tlearn: 0.0684362\ttotal: 7.43s\tremaining: 334ms\n",
      "957:\tlearn: 0.0683566\ttotal: 7.44s\tremaining: 326ms\n",
      "958:\tlearn: 0.0682651\ttotal: 7.45s\tremaining: 318ms\n",
      "959:\tlearn: 0.0681771\ttotal: 7.46s\tremaining: 311ms\n",
      "960:\tlearn: 0.0681265\ttotal: 7.46s\tremaining: 303ms\n",
      "961:\tlearn: 0.0680132\ttotal: 7.47s\tremaining: 295ms\n",
      "962:\tlearn: 0.0679084\ttotal: 7.48s\tremaining: 287ms\n",
      "963:\tlearn: 0.0677940\ttotal: 7.49s\tremaining: 280ms\n",
      "964:\tlearn: 0.0676885\ttotal: 7.49s\tremaining: 272ms\n",
      "965:\tlearn: 0.0675990\ttotal: 7.5s\tremaining: 264ms\n",
      "966:\tlearn: 0.0675140\ttotal: 7.51s\tremaining: 256ms\n",
      "967:\tlearn: 0.0674106\ttotal: 7.52s\tremaining: 248ms\n",
      "968:\tlearn: 0.0673128\ttotal: 7.53s\tremaining: 241ms\n",
      "969:\tlearn: 0.0672108\ttotal: 7.53s\tremaining: 233ms\n",
      "970:\tlearn: 0.0671239\ttotal: 7.54s\tremaining: 225ms\n",
      "971:\tlearn: 0.0670390\ttotal: 7.55s\tremaining: 217ms\n",
      "972:\tlearn: 0.0669414\ttotal: 7.56s\tremaining: 210ms\n",
      "973:\tlearn: 0.0668544\ttotal: 7.56s\tremaining: 202ms\n",
      "974:\tlearn: 0.0667644\ttotal: 7.57s\tremaining: 194ms\n",
      "975:\tlearn: 0.0666951\ttotal: 7.58s\tremaining: 186ms\n",
      "976:\tlearn: 0.0666169\ttotal: 7.59s\tremaining: 179ms\n",
      "977:\tlearn: 0.0665206\ttotal: 7.59s\tremaining: 171ms\n",
      "978:\tlearn: 0.0664348\ttotal: 7.6s\tremaining: 163ms\n",
      "979:\tlearn: 0.0663058\ttotal: 7.61s\tremaining: 155ms\n",
      "980:\tlearn: 0.0662071\ttotal: 7.62s\tremaining: 148ms\n",
      "981:\tlearn: 0.0661162\ttotal: 7.62s\tremaining: 140ms\n",
      "982:\tlearn: 0.0660343\ttotal: 7.63s\tremaining: 132ms\n",
      "983:\tlearn: 0.0659485\ttotal: 7.64s\tremaining: 124ms\n",
      "984:\tlearn: 0.0658298\ttotal: 7.65s\tremaining: 116ms\n",
      "985:\tlearn: 0.0657233\ttotal: 7.65s\tremaining: 109ms\n",
      "986:\tlearn: 0.0656093\ttotal: 7.66s\tremaining: 101ms\n",
      "987:\tlearn: 0.0655424\ttotal: 7.67s\tremaining: 93.2ms\n",
      "988:\tlearn: 0.0654466\ttotal: 7.68s\tremaining: 85.4ms\n",
      "989:\tlearn: 0.0653577\ttotal: 7.68s\tremaining: 77.6ms\n",
      "990:\tlearn: 0.0652543\ttotal: 7.69s\tremaining: 69.9ms\n",
      "991:\tlearn: 0.0651780\ttotal: 7.7s\tremaining: 62.1ms\n",
      "992:\tlearn: 0.0650821\ttotal: 7.71s\tremaining: 54.3ms\n",
      "993:\tlearn: 0.0649946\ttotal: 7.72s\tremaining: 46.6ms\n",
      "994:\tlearn: 0.0649207\ttotal: 7.72s\tremaining: 38.8ms\n",
      "995:\tlearn: 0.0648503\ttotal: 7.73s\tremaining: 31.1ms\n",
      "996:\tlearn: 0.0647554\ttotal: 7.74s\tremaining: 23.3ms\n",
      "997:\tlearn: 0.0646831\ttotal: 7.75s\tremaining: 15.5ms\n",
      "998:\tlearn: 0.0645939\ttotal: 7.75s\tremaining: 7.76ms\n",
      "999:\tlearn: 0.0645165\ttotal: 7.76s\tremaining: 0us\n"
     ]
    },
    {
     "data": {
      "text/plain": "<catboost.core.CatBoostClassifier at 0x7fcf02656ad0>"
     },
     "execution_count": 131,
     "metadata": {},
     "output_type": "execute_result"
    }
   ],
   "source": [
    "rf = CatBoostClassifier(random_state=SEED, verbose=False)\n",
    "rf.fit(X_train, y_train)"
   ],
   "metadata": {
    "collapsed": false,
    "ExecuteTime": {
     "start_time": "2023-04-19T12:54:43.927499Z",
     "end_time": "2023-04-19T12:54:51.838983Z"
    }
   }
  },
  {
   "cell_type": "code",
   "execution_count": 156,
   "outputs": [],
   "source": [
    "y_pred = rf.predict_proba(X_test)"
   ],
   "metadata": {
    "collapsed": false,
    "ExecuteTime": {
     "start_time": "2023-04-19T13:53:20.456910Z",
     "end_time": "2023-04-19T13:53:20.505779Z"
    }
   }
  },
  {
   "cell_type": "code",
   "execution_count": 157,
   "outputs": [
    {
     "name": "stderr",
     "output_type": "stream",
     "text": [
      "/home/ab2/.cache/pypoetry/virtualenvs/kaggle-competitions-ww632Mhq-py3.10/lib/python3.10/site-packages/sklearn/preprocessing/_label.py:155: DataConversionWarning: A column-vector y was passed when a 1d array was expected. Please change the shape of y to (n_samples, ), for example using ravel().\n",
      "  y = column_or_1d(y, warn=True)\n"
     ]
    },
    {
     "data": {
      "text/plain": "array([['Japanese_encephalitis', 'Tungiasis', 'Rift_Valley_fever'],\n       ['Tungiasis', 'West_Nile_fever', 'Rift_Valley_fever'],\n       ['Rift_Valley_fever', 'West_Nile_fever', 'Plague'],\n       ...,\n       ['Plague', 'Yellow_Fever', 'Zika'],\n       ['Yellow_Fever', 'Japanese_encephalitis', 'Zika'],\n       ['West_Nile_fever', 'Lyme_disease', 'Plague']], dtype=object)"
     },
     "execution_count": 157,
     "metadata": {},
     "output_type": "execute_result"
    }
   ],
   "source": [
    "top3_predictions(rf, X_train)"
   ],
   "metadata": {
    "collapsed": false,
    "ExecuteTime": {
     "start_time": "2023-04-19T13:53:21.351996Z",
     "end_time": "2023-04-19T13:53:21.382797Z"
    }
   }
  },
  {
   "cell_type": "code",
   "execution_count": 158,
   "outputs": [
    {
     "data": {
      "text/plain": "0.35563380281690143"
     },
     "execution_count": 158,
     "metadata": {},
     "output_type": "execute_result"
    }
   ],
   "source": [
    "map3_score(y_test, y_pred)"
   ],
   "metadata": {
    "collapsed": false,
    "ExecuteTime": {
     "start_time": "2023-04-19T13:53:33.360644Z",
     "end_time": "2023-04-19T13:53:33.418419Z"
    }
   }
  },
  {
   "cell_type": "code",
   "execution_count": 51,
   "metadata": {},
   "outputs": [
    {
     "name": "stderr",
     "output_type": "stream",
     "text": [
      "/home/ab2/.cache/pypoetry/virtualenvs/kaggle-competitions-ww632Mhq-py3.10/lib/python3.10/site-packages/sklearn/model_selection/_validation.py:794: UserWarning: Scoring failed. The score on this train-test partition for these parameters will be set to nan. Details: \n",
      "Traceback (most recent call last):\n",
      "  File \"/home/ab2/.cache/pypoetry/virtualenvs/kaggle-competitions-ww632Mhq-py3.10/lib/python3.10/site-packages/sklearn/metrics/_scorer.py\", line 115, in __call__\n",
      "    score = scorer._score(cached_call, estimator, *args, **kwargs)\n",
      "  File \"/home/ab2/.cache/pypoetry/virtualenvs/kaggle-competitions-ww632Mhq-py3.10/lib/python3.10/site-packages/sklearn/metrics/_scorer.py\", line 282, in _score\n",
      "    return self._sign * self._score_func(y_true, y_pred, **self._kwargs)\n",
      "  File \"/home/ab2/.cache/pypoetry/virtualenvs/kaggle-competitions-ww632Mhq-py3.10/lib/python3.10/site-packages/sklearn/metrics/_classification.py\", line 1146, in f1_score\n",
      "    return fbeta_score(\n",
      "  File \"/home/ab2/.cache/pypoetry/virtualenvs/kaggle-competitions-ww632Mhq-py3.10/lib/python3.10/site-packages/sklearn/metrics/_classification.py\", line 1287, in fbeta_score\n",
      "    _, _, f, _ = precision_recall_fscore_support(\n",
      "  File \"/home/ab2/.cache/pypoetry/virtualenvs/kaggle-competitions-ww632Mhq-py3.10/lib/python3.10/site-packages/sklearn/metrics/_classification.py\", line 1573, in precision_recall_fscore_support\n",
      "    labels = _check_set_wise_labels(y_true, y_pred, average, labels, pos_label)\n",
      "  File \"/home/ab2/.cache/pypoetry/virtualenvs/kaggle-competitions-ww632Mhq-py3.10/lib/python3.10/site-packages/sklearn/metrics/_classification.py\", line 1391, in _check_set_wise_labels\n",
      "    raise ValueError(\n",
      "ValueError: Target is multiclass but average='binary'. Please choose another average setting, one of [None, 'micro', 'macro', 'weighted'].\n",
      "\n",
      "  warnings.warn(\n",
      "/home/ab2/.cache/pypoetry/virtualenvs/kaggle-competitions-ww632Mhq-py3.10/lib/python3.10/site-packages/sklearn/model_selection/_validation.py:794: UserWarning: Scoring failed. The score on this train-test partition for these parameters will be set to nan. Details: \n",
      "Traceback (most recent call last):\n",
      "  File \"/home/ab2/.cache/pypoetry/virtualenvs/kaggle-competitions-ww632Mhq-py3.10/lib/python3.10/site-packages/sklearn/metrics/_scorer.py\", line 115, in __call__\n",
      "    score = scorer._score(cached_call, estimator, *args, **kwargs)\n",
      "  File \"/home/ab2/.cache/pypoetry/virtualenvs/kaggle-competitions-ww632Mhq-py3.10/lib/python3.10/site-packages/sklearn/metrics/_scorer.py\", line 282, in _score\n",
      "    return self._sign * self._score_func(y_true, y_pred, **self._kwargs)\n",
      "  File \"/home/ab2/.cache/pypoetry/virtualenvs/kaggle-competitions-ww632Mhq-py3.10/lib/python3.10/site-packages/sklearn/metrics/_classification.py\", line 1146, in f1_score\n",
      "    return fbeta_score(\n",
      "  File \"/home/ab2/.cache/pypoetry/virtualenvs/kaggle-competitions-ww632Mhq-py3.10/lib/python3.10/site-packages/sklearn/metrics/_classification.py\", line 1287, in fbeta_score\n",
      "    _, _, f, _ = precision_recall_fscore_support(\n",
      "  File \"/home/ab2/.cache/pypoetry/virtualenvs/kaggle-competitions-ww632Mhq-py3.10/lib/python3.10/site-packages/sklearn/metrics/_classification.py\", line 1573, in precision_recall_fscore_support\n",
      "    labels = _check_set_wise_labels(y_true, y_pred, average, labels, pos_label)\n",
      "  File \"/home/ab2/.cache/pypoetry/virtualenvs/kaggle-competitions-ww632Mhq-py3.10/lib/python3.10/site-packages/sklearn/metrics/_classification.py\", line 1391, in _check_set_wise_labels\n",
      "    raise ValueError(\n",
      "ValueError: Target is multiclass but average='binary'. Please choose another average setting, one of [None, 'micro', 'macro', 'weighted'].\n",
      "\n",
      "  warnings.warn(\n",
      "/home/ab2/.cache/pypoetry/virtualenvs/kaggle-competitions-ww632Mhq-py3.10/lib/python3.10/site-packages/sklearn/model_selection/_validation.py:794: UserWarning: Scoring failed. The score on this train-test partition for these parameters will be set to nan. Details: \n",
      "Traceback (most recent call last):\n",
      "  File \"/home/ab2/.cache/pypoetry/virtualenvs/kaggle-competitions-ww632Mhq-py3.10/lib/python3.10/site-packages/sklearn/metrics/_scorer.py\", line 115, in __call__\n",
      "    score = scorer._score(cached_call, estimator, *args, **kwargs)\n",
      "  File \"/home/ab2/.cache/pypoetry/virtualenvs/kaggle-competitions-ww632Mhq-py3.10/lib/python3.10/site-packages/sklearn/metrics/_scorer.py\", line 282, in _score\n",
      "    return self._sign * self._score_func(y_true, y_pred, **self._kwargs)\n",
      "  File \"/home/ab2/.cache/pypoetry/virtualenvs/kaggle-competitions-ww632Mhq-py3.10/lib/python3.10/site-packages/sklearn/metrics/_classification.py\", line 1146, in f1_score\n",
      "    return fbeta_score(\n",
      "  File \"/home/ab2/.cache/pypoetry/virtualenvs/kaggle-competitions-ww632Mhq-py3.10/lib/python3.10/site-packages/sklearn/metrics/_classification.py\", line 1287, in fbeta_score\n",
      "    _, _, f, _ = precision_recall_fscore_support(\n",
      "  File \"/home/ab2/.cache/pypoetry/virtualenvs/kaggle-competitions-ww632Mhq-py3.10/lib/python3.10/site-packages/sklearn/metrics/_classification.py\", line 1573, in precision_recall_fscore_support\n",
      "    labels = _check_set_wise_labels(y_true, y_pred, average, labels, pos_label)\n",
      "  File \"/home/ab2/.cache/pypoetry/virtualenvs/kaggle-competitions-ww632Mhq-py3.10/lib/python3.10/site-packages/sklearn/metrics/_classification.py\", line 1391, in _check_set_wise_labels\n",
      "    raise ValueError(\n",
      "ValueError: Target is multiclass but average='binary'. Please choose another average setting, one of [None, 'micro', 'macro', 'weighted'].\n",
      "\n",
      "  warnings.warn(\n",
      "/home/ab2/.cache/pypoetry/virtualenvs/kaggle-competitions-ww632Mhq-py3.10/lib/python3.10/site-packages/sklearn/model_selection/_validation.py:794: UserWarning: Scoring failed. The score on this train-test partition for these parameters will be set to nan. Details: \n",
      "Traceback (most recent call last):\n",
      "  File \"/home/ab2/.cache/pypoetry/virtualenvs/kaggle-competitions-ww632Mhq-py3.10/lib/python3.10/site-packages/sklearn/metrics/_scorer.py\", line 115, in __call__\n",
      "    score = scorer._score(cached_call, estimator, *args, **kwargs)\n",
      "  File \"/home/ab2/.cache/pypoetry/virtualenvs/kaggle-competitions-ww632Mhq-py3.10/lib/python3.10/site-packages/sklearn/metrics/_scorer.py\", line 282, in _score\n",
      "    return self._sign * self._score_func(y_true, y_pred, **self._kwargs)\n",
      "  File \"/home/ab2/.cache/pypoetry/virtualenvs/kaggle-competitions-ww632Mhq-py3.10/lib/python3.10/site-packages/sklearn/metrics/_classification.py\", line 1146, in f1_score\n",
      "    return fbeta_score(\n",
      "  File \"/home/ab2/.cache/pypoetry/virtualenvs/kaggle-competitions-ww632Mhq-py3.10/lib/python3.10/site-packages/sklearn/metrics/_classification.py\", line 1287, in fbeta_score\n",
      "    _, _, f, _ = precision_recall_fscore_support(\n",
      "  File \"/home/ab2/.cache/pypoetry/virtualenvs/kaggle-competitions-ww632Mhq-py3.10/lib/python3.10/site-packages/sklearn/metrics/_classification.py\", line 1573, in precision_recall_fscore_support\n",
      "    labels = _check_set_wise_labels(y_true, y_pred, average, labels, pos_label)\n",
      "  File \"/home/ab2/.cache/pypoetry/virtualenvs/kaggle-competitions-ww632Mhq-py3.10/lib/python3.10/site-packages/sklearn/metrics/_classification.py\", line 1391, in _check_set_wise_labels\n",
      "    raise ValueError(\n",
      "ValueError: Target is multiclass but average='binary'. Please choose another average setting, one of [None, 'micro', 'macro', 'weighted'].\n",
      "\n",
      "  warnings.warn(\n",
      "/home/ab2/.cache/pypoetry/virtualenvs/kaggle-competitions-ww632Mhq-py3.10/lib/python3.10/site-packages/sklearn/model_selection/_validation.py:794: UserWarning: Scoring failed. The score on this train-test partition for these parameters will be set to nan. Details: \n",
      "Traceback (most recent call last):\n",
      "  File \"/home/ab2/.cache/pypoetry/virtualenvs/kaggle-competitions-ww632Mhq-py3.10/lib/python3.10/site-packages/sklearn/metrics/_scorer.py\", line 115, in __call__\n",
      "    score = scorer._score(cached_call, estimator, *args, **kwargs)\n",
      "  File \"/home/ab2/.cache/pypoetry/virtualenvs/kaggle-competitions-ww632Mhq-py3.10/lib/python3.10/site-packages/sklearn/metrics/_scorer.py\", line 282, in _score\n",
      "    return self._sign * self._score_func(y_true, y_pred, **self._kwargs)\n",
      "  File \"/home/ab2/.cache/pypoetry/virtualenvs/kaggle-competitions-ww632Mhq-py3.10/lib/python3.10/site-packages/sklearn/metrics/_classification.py\", line 1146, in f1_score\n",
      "    return fbeta_score(\n",
      "  File \"/home/ab2/.cache/pypoetry/virtualenvs/kaggle-competitions-ww632Mhq-py3.10/lib/python3.10/site-packages/sklearn/metrics/_classification.py\", line 1287, in fbeta_score\n",
      "    _, _, f, _ = precision_recall_fscore_support(\n",
      "  File \"/home/ab2/.cache/pypoetry/virtualenvs/kaggle-competitions-ww632Mhq-py3.10/lib/python3.10/site-packages/sklearn/metrics/_classification.py\", line 1573, in precision_recall_fscore_support\n",
      "    labels = _check_set_wise_labels(y_true, y_pred, average, labels, pos_label)\n",
      "  File \"/home/ab2/.cache/pypoetry/virtualenvs/kaggle-competitions-ww632Mhq-py3.10/lib/python3.10/site-packages/sklearn/metrics/_classification.py\", line 1391, in _check_set_wise_labels\n",
      "    raise ValueError(\n",
      "ValueError: Target is multiclass but average='binary'. Please choose another average setting, one of [None, 'micro', 'macro', 'weighted'].\n",
      "\n",
      "  warnings.warn(\n"
     ]
    },
    {
     "ename": "ValueError",
     "evalue": "The constant target value must be present in the training data. You provided constant=Lyme_disease. Possible values are: [0, 1, 2, 3, 4, 5, 6, 7, 8, 9, 10].",
     "output_type": "error",
     "traceback": [
      "\u001B[0;31m---------------------------------------------------------------------------\u001B[0m",
      "\u001B[0;31mValueError\u001B[0m                                Traceback (most recent call last)",
      "Cell \u001B[0;32mIn[51], line 2\u001B[0m\n\u001B[1;32m      1\u001B[0m prefix \u001B[38;5;241m=\u001B[39m \u001B[38;5;124m\"\u001B[39m\u001B[38;5;124mdéfaut\u001B[39m\u001B[38;5;124m\"\u001B[39m\n\u001B[0;32m----> 2\u001B[0m results \u001B[38;5;241m=\u001B[39m \u001B[43mevaluate_models\u001B[49m\u001B[43m(\u001B[49m\u001B[43mmodels\u001B[49m\u001B[43m,\u001B[49m\u001B[43m \u001B[49m\u001B[43mprefix\u001B[49m\u001B[43m,\u001B[49m\u001B[43m \u001B[49m\u001B[43mX_train\u001B[49m\u001B[43m,\u001B[49m\u001B[43m \u001B[49m\u001B[43mX_test\u001B[49m\u001B[43m,\u001B[49m\u001B[43m \u001B[49m\u001B[43my_train\u001B[49m\u001B[43m,\u001B[49m\u001B[43m \u001B[49m\u001B[43my_test\u001B[49m\u001B[43m)\u001B[49m\n",
      "Cell \u001B[0;32mIn[12], line 9\u001B[0m, in \u001B[0;36mevaluate_models\u001B[0;34m(models, prefix, X_train, X_test, y_train, y_test)\u001B[0m\n\u001B[1;32m      6\u001B[0m \u001B[38;5;28;01mfor\u001B[39;00m model, model_name \u001B[38;5;129;01min\u001B[39;00m models:\n\u001B[1;32m      7\u001B[0m     name \u001B[38;5;241m=\u001B[39m \u001B[38;5;124mf\u001B[39m\u001B[38;5;124m\"\u001B[39m\u001B[38;5;132;01m{\u001B[39;00mprefix\u001B[38;5;132;01m}\u001B[39;00m\u001B[38;5;124m/\u001B[39m\u001B[38;5;132;01m{\u001B[39;00mmodel_name\u001B[38;5;132;01m}\u001B[39;00m\u001B[38;5;124m\"\u001B[39m\n\u001B[0;32m----> 9\u001B[0m     \u001B[43mmodel\u001B[49m\u001B[38;5;241;43m.\u001B[39;49m\u001B[43mfit\u001B[49m\u001B[43m(\u001B[49m\u001B[43mX_train\u001B[49m\u001B[43m,\u001B[49m\u001B[43m \u001B[49m\u001B[43my_train\u001B[49m\u001B[43m)\u001B[49m\n\u001B[1;32m     10\u001B[0m     y_pred \u001B[38;5;241m=\u001B[39m model\u001B[38;5;241m.\u001B[39mpredict(X_test)\n\u001B[1;32m     11\u001B[0m     precision \u001B[38;5;241m=\u001B[39m accuracy_score(y_test, y_pred)\n",
      "File \u001B[0;32m~/.cache/pypoetry/virtualenvs/kaggle-competitions-ww632Mhq-py3.10/lib/python3.10/site-packages/sklearn/dummy.py:224\u001B[0m, in \u001B[0;36mDummyClassifier.fit\u001B[0;34m(self, X, y, sample_weight)\u001B[0m\n\u001B[1;32m    214\u001B[0m         \u001B[38;5;28;01mif\u001B[39;00m \u001B[38;5;129;01mnot\u001B[39;00m \u001B[38;5;28many\u001B[39m(constant[k][\u001B[38;5;241m0\u001B[39m] \u001B[38;5;241m==\u001B[39m c \u001B[38;5;28;01mfor\u001B[39;00m c \u001B[38;5;129;01min\u001B[39;00m \u001B[38;5;28mself\u001B[39m\u001B[38;5;241m.\u001B[39mclasses_[k]):\n\u001B[1;32m    215\u001B[0m             \u001B[38;5;66;03m# Checking in case of constant strategy if the constant\u001B[39;00m\n\u001B[1;32m    216\u001B[0m             \u001B[38;5;66;03m# provided by the user is in y.\u001B[39;00m\n\u001B[1;32m    217\u001B[0m             err_msg \u001B[38;5;241m=\u001B[39m (\n\u001B[1;32m    218\u001B[0m                 \u001B[38;5;124m\"\u001B[39m\u001B[38;5;124mThe constant target value must be present in \u001B[39m\u001B[38;5;124m\"\u001B[39m\n\u001B[1;32m    219\u001B[0m                 \u001B[38;5;124m\"\u001B[39m\u001B[38;5;124mthe training data. You provided constant=\u001B[39m\u001B[38;5;132;01m{}\u001B[39;00m\u001B[38;5;124m. \u001B[39m\u001B[38;5;124m\"\u001B[39m\n\u001B[0;32m   (...)\u001B[0m\n\u001B[1;32m    222\u001B[0m                 )\n\u001B[1;32m    223\u001B[0m             )\n\u001B[0;32m--> 224\u001B[0m             \u001B[38;5;28;01mraise\u001B[39;00m \u001B[38;5;167;01mValueError\u001B[39;00m(err_msg)\n\u001B[1;32m    226\u001B[0m \u001B[38;5;28;01mif\u001B[39;00m \u001B[38;5;28mself\u001B[39m\u001B[38;5;241m.\u001B[39mn_outputs_ \u001B[38;5;241m==\u001B[39m \u001B[38;5;241m1\u001B[39m:\n\u001B[1;32m    227\u001B[0m     \u001B[38;5;28mself\u001B[39m\u001B[38;5;241m.\u001B[39mn_classes_ \u001B[38;5;241m=\u001B[39m \u001B[38;5;28mself\u001B[39m\u001B[38;5;241m.\u001B[39mn_classes_[\u001B[38;5;241m0\u001B[39m]\n",
      "\u001B[0;31mValueError\u001B[0m: The constant target value must be present in the training data. You provided constant=Lyme_disease. Possible values are: [0, 1, 2, 3, 4, 5, 6, 7, 8, 9, 10]."
     ]
    }
   ],
   "source": [
    "prefix = \"défaut\"\n",
    "results = evaluate_models(models, prefix, X_train, X_test, y_train, y_test)"
   ]
  },
  {
   "cell_type": "code",
   "execution_count": null,
   "metadata": {},
   "outputs": [],
   "source": [
    "sorted(results, key=lambda x: x[1], reverse=True)"
   ]
  },
  {
   "cell_type": "markdown",
   "metadata": {},
   "source": [
    "## Équilibrage des classes"
   ]
  },
  {
   "cell_type": "markdown",
   "metadata": {},
   "source": [
    "### Under-sampling (manuel)"
   ]
  },
  {
   "cell_type": "code",
   "execution_count": null,
   "metadata": {},
   "outputs": [],
   "source": [
    "# samples0 = df[df[\"Response\"] == 0].sample(350, random_state=SEED)"
   ]
  },
  {
   "cell_type": "code",
   "execution_count": null,
   "metadata": {},
   "outputs": [],
   "source": [
    "# X_eq = pd.concat((samples0, df[df[\"Response\"] == 1]))"
   ]
  },
  {
   "cell_type": "code",
   "execution_count": null,
   "metadata": {},
   "outputs": [],
   "source": [
    "# X_eq[\"Response\"].hist()"
   ]
  },
  {
   "cell_type": "code",
   "execution_count": null,
   "metadata": {},
   "outputs": [],
   "source": [
    "# y_eq = X_eq.pop(\"Response\").astype(int)"
   ]
  },
  {
   "cell_type": "code",
   "execution_count": null,
   "metadata": {},
   "outputs": [],
   "source": [
    "# X_eq = pd.get_dummies(X_eq.drop(columns=[\"Dt_Customer\"]))"
   ]
  },
  {
   "cell_type": "code",
   "execution_count": null,
   "metadata": {},
   "outputs": [],
   "source": [
    "# df[\"Response\"].value_counts()"
   ]
  },
  {
   "cell_type": "code",
   "execution_count": null,
   "metadata": {},
   "outputs": [],
   "source": [
    "NB_A_SUPPRIMER = 1400\n",
    "drop_indices = np.random.choice(\n",
    "    nouveau_df[y[\"Response\"] == 0].index, NB_A_SUPPRIMER, replace=False\n",
    ")\n",
    "df_subset = nouveau_df.drop(drop_indices)"
   ]
  },
  {
   "cell_type": "code",
   "execution_count": null,
   "metadata": {},
   "outputs": [],
   "source": [
    "y_eq = y.drop(index=drop_indices)"
   ]
  },
  {
   "cell_type": "code",
   "execution_count": null,
   "metadata": {},
   "outputs": [],
   "source": [
    "X_train, X_test, y_train, y_test = train_test_split(\n",
    "    df_subset, y_eq, test_size=0.2, random_state=SEED\n",
    ")"
   ]
  },
  {
   "cell_type": "code",
   "execution_count": null,
   "metadata": {},
   "outputs": [],
   "source": [
    "prefix = \"éq_classes\"\n",
    "results = evaluate_models(models, prefix, X_train, X_test, y_train, y_test)"
   ]
  },
  {
   "cell_type": "code",
   "execution_count": null,
   "metadata": {},
   "outputs": [],
   "source": [
    "sorted(results, key=lambda x: x[1], reverse=True)"
   ]
  },
  {
   "cell_type": "markdown",
   "metadata": {},
   "source": [
    "### Over-sampling (SMOTE)"
   ]
  },
  {
   "cell_type": "code",
   "execution_count": null,
   "metadata": {},
   "outputs": [],
   "source": [
    "cat_cols = list(X.select_dtypes(include=[\"category\", \"int\", \"bool\"]).columns)"
   ]
  },
  {
   "cell_type": "code",
   "execution_count": null,
   "metadata": {},
   "outputs": [],
   "source": [
    "cat_cols_index = list(map(lambda c: list(X.columns).index(c), cat_cols))"
   ]
  },
  {
   "cell_type": "code",
   "execution_count": null,
   "metadata": {},
   "outputs": [],
   "source": [
    "list(X.iloc[:, cat_cols_index].columns)"
   ]
  },
  {
   "cell_type": "code",
   "execution_count": null,
   "metadata": {},
   "outputs": [],
   "source": [
    "sm = SMOTENC(\n",
    "    categorical_features=cat_cols_index,\n",
    "    random_state=SEED,\n",
    ")"
   ]
  },
  {
   "cell_type": "code",
   "execution_count": null,
   "metadata": {},
   "outputs": [],
   "source": [
    "X_train, X_test, y_train, y_test = train_test_split(\n",
    "    nouveau_df, y, test_size=0.2, random_state=SEED\n",
    ")"
   ]
  },
  {
   "cell_type": "code",
   "execution_count": null,
   "metadata": {},
   "outputs": [],
   "source": [
    "X_train_sm, y_train_sm = sm.fit_resample(X_train, y_train)"
   ]
  },
  {
   "cell_type": "code",
   "execution_count": null,
   "metadata": {},
   "outputs": [],
   "source": [
    "y_train_sm.value_counts(normalize=True)"
   ]
  },
  {
   "cell_type": "code",
   "execution_count": null,
   "metadata": {},
   "outputs": [],
   "source": [
    "prefix = \"SMOTE\"\n",
    "results = evaluate_models(models, prefix, X_train_sm, X_test, y_train_sm, y_test)"
   ]
  },
  {
   "cell_type": "code",
   "execution_count": null,
   "metadata": {},
   "outputs": [],
   "source": [
    "sorted(results, key=lambda x: x[1], reverse=True)"
   ]
  },
  {
   "cell_type": "markdown",
   "metadata": {},
   "source": [
    "# Réseau de neurones"
   ]
  },
  {
   "cell_type": "code",
   "execution_count": null,
   "metadata": {},
   "outputs": [],
   "source": [
    "X_train, X_test, y_train, y_test = train_test_split(\n",
    "    df_subset, y_eq, test_size=0.2, random_state=SEED\n",
    ")"
   ]
  },
  {
   "cell_type": "code",
   "execution_count": null,
   "metadata": {},
   "outputs": [],
   "source": [
    "X_train = np.asarray(X_train).astype(\"float32\")\n",
    "y_train = np.asarray(y_train).astype(\"float32\")\n",
    "X_test = np.asarray(X_test).astype(\"float32\")\n",
    "y_test = np.asarray(y_test).astype(\"float32\")"
   ]
  },
  {
   "cell_type": "code",
   "execution_count": null,
   "metadata": {},
   "outputs": [],
   "source": [
    "X_train.shape"
   ]
  },
  {
   "cell_type": "code",
   "execution_count": null,
   "metadata": {},
   "outputs": [],
   "source": [
    "np.random.seed(0)\n",
    "model = keras.Sequential(\n",
    "    [\n",
    "        layers.Dense(400, activation=\"relu\", input_shape=[X_train.shape[1]]),\n",
    "        layers.Dense(400, activation=\"relu\"),\n",
    "        layers.Dense(400, activation=\"sigmoid\"),\n",
    "        layers.Dense(400, activation=\"relu\"),\n",
    "        layers.Dense(1, activation=\"sigmoid\"),\n",
    "    ]\n",
    ")"
   ]
  },
  {
   "cell_type": "code",
   "execution_count": null,
   "metadata": {},
   "outputs": [],
   "source": [
    "model.compile(\n",
    "    optimizer=\"adam\",\n",
    "    loss=\"binary_crossentropy\",\n",
    "    metrics=[\"binary_accuracy\"],  # \"binary_accuracy\"\n",
    ")"
   ]
  },
  {
   "cell_type": "code",
   "execution_count": null,
   "metadata": {},
   "outputs": [],
   "source": [
    "early_stopping = keras.callbacks.EarlyStopping(\n",
    "    patience=10,\n",
    "    min_delta=0.001,\n",
    "    restore_best_weights=True,\n",
    ")"
   ]
  },
  {
   "cell_type": "code",
   "execution_count": null,
   "metadata": {},
   "outputs": [],
   "source": [
    "history = model.fit(\n",
    "    X_train,\n",
    "    y_train,\n",
    "    validation_data=(X_test, y_test),\n",
    "    # validation_split=0.2,\n",
    "    batch_size=512,\n",
    "    epochs=1000,\n",
    "    callbacks=[early_stopping],\n",
    "    verbose=0,  # hide the output because we have so many epochs\n",
    ")"
   ]
  },
  {
   "cell_type": "code",
   "execution_count": null,
   "metadata": {},
   "outputs": [],
   "source": [
    "history_df = pd.DataFrame(history.history)\n",
    "# Start the plot at epoch 5\n",
    "history_df.loc[5:, [\"loss\", \"val_loss\"]].plot()\n",
    "history_df.loc[5:, [\"binary_accuracy\", \"val_binary_accuracy\"]].plot()\n",
    "\n",
    "print(\n",
    "    (\"Best Validation Loss: {:0.4f}\" + \"\\nBest Validation Accuracy: {:0.4f}\").format(\n",
    "        history_df[\"val_loss\"].min(), history_df[\"val_binary_accuracy\"].max()\n",
    "    )\n",
    ")"
   ]
  },
  {
   "cell_type": "code",
   "execution_count": null,
   "metadata": {},
   "outputs": [],
   "source": [
    "y_pred = model.predict(X_test)"
   ]
  },
  {
   "cell_type": "code",
   "execution_count": null,
   "metadata": {},
   "outputs": [],
   "source": [
    "sns.histplot(y_pred > 0.5, discrete=True)"
   ]
  },
  {
   "cell_type": "code",
   "execution_count": null,
   "metadata": {},
   "outputs": [],
   "source": [
    "y_pred_old = y_pred"
   ]
  },
  {
   "cell_type": "code",
   "execution_count": null,
   "metadata": {},
   "outputs": [],
   "source": [
    "y_pred = y_pred > 0.5"
   ]
  },
  {
   "cell_type": "code",
   "execution_count": null,
   "metadata": {},
   "outputs": [],
   "source": [
    "print(classification_report(y_test, y_pred, labels=LABELS))"
   ]
  },
  {
   "cell_type": "code",
   "execution_count": null,
   "metadata": {},
   "outputs": [],
   "source": [
    "cm = confusion_matrix(y_test, y_pred, labels=LABELS)\n",
    "disp = ConfusionMatrixDisplay(confusion_matrix=cm, display_labels=LABELS)\n",
    "disp.plot()"
   ]
  },
  {
   "cell_type": "code",
   "execution_count": null,
   "metadata": {},
   "outputs": [],
   "source": [
    "nom_modele = \"Réseau de Neurones\"\n",
    "# ajout_score(model, nom_modele, y_test, y_pred)"
   ]
  },
  {
   "cell_type": "markdown",
   "metadata": {},
   "source": [
    "# Diagnostic du modèle"
   ]
  },
  {
   "cell_type": "markdown",
   "metadata": {},
   "source": [
    "## RandomForest feature importance"
   ]
  },
  {
   "cell_type": "code",
   "execution_count": null,
   "metadata": {},
   "outputs": [],
   "source": [
    "nom_colonnes = preprocessor.get_feature_names_out(X.columns)"
   ]
  },
  {
   "cell_type": "code",
   "execution_count": null,
   "metadata": {},
   "outputs": [],
   "source": [
    "nom_colonnes = list(map(lambda x: x.split(\"__\")[1], nom_colonnes))"
   ]
  },
  {
   "cell_type": "code",
   "execution_count": null,
   "metadata": {},
   "outputs": [],
   "source": [
    "rf = models[6][0]"
   ]
  },
  {
   "cell_type": "code",
   "execution_count": null,
   "metadata": {},
   "outputs": [],
   "source": [
    "fi = rf.feature_importances_"
   ]
  },
  {
   "cell_type": "code",
   "execution_count": null,
   "metadata": {},
   "outputs": [],
   "source": [
    "fi = pd.DataFrame(fi.reshape((1, len(fi))), columns=nom_colonnes)"
   ]
  },
  {
   "cell_type": "code",
   "execution_count": null,
   "metadata": {},
   "outputs": [],
   "source": [
    "fi = fi.sort_values(\n",
    "    by=0, axis=1, ascending=False\n",
    ")  # trier les colonnes en fonction de la ligne 0"
   ]
  },
  {
   "cell_type": "code",
   "execution_count": null,
   "metadata": {},
   "outputs": [],
   "source": [
    "plt.figure(figsize=(5, 12))\n",
    "plt.title(\"Importance donnée par le modèle RandomForest\")\n",
    "sns.barplot(fi, orient=\"h\", color=\"gray\")"
   ]
  },
  {
   "cell_type": "markdown",
   "metadata": {},
   "source": [
    "## Permutation importance"
   ]
  },
  {
   "cell_type": "code",
   "execution_count": null,
   "metadata": {},
   "outputs": [],
   "source": [
    "result = permutation_importance(rf, X_test, y_test, n_repeats=10, random_state=SEED)"
   ]
  },
  {
   "cell_type": "code",
   "execution_count": null,
   "metadata": {},
   "outputs": [],
   "source": [
    "# sns.histplot(result.importances_std < 0.015)"
   ]
  },
  {
   "cell_type": "code",
   "execution_count": null,
   "metadata": {},
   "outputs": [],
   "source": [
    "pi_results = result.importances_mean"
   ]
  },
  {
   "cell_type": "code",
   "execution_count": null,
   "metadata": {},
   "outputs": [],
   "source": [
    "pi_results = pd.DataFrame(\n",
    "    pi_results.reshape((1, len(pi_results))), columns=nom_colonnes\n",
    ")\n",
    "pi_results = pi_results.sort_values(by=0, axis=1, ascending=False)"
   ]
  },
  {
   "cell_type": "code",
   "execution_count": null,
   "metadata": {},
   "outputs": [],
   "source": [
    "plt.figure(figsize=(5, 12))\n",
    "plt.title(\"Importance de Permutation du modèle RandomForest\")\n",
    "sns.barplot(pi_results, orient=\"h\", color=\"gray\")"
   ]
  },
  {
   "cell_type": "markdown",
   "metadata": {},
   "source": [
    "# Pour aller plus loin"
   ]
  },
  {
   "cell_type": "markdown",
   "metadata": {},
   "source": [
    "- afficher les intervalles de confiance des scores de validation croisée\n",
    "- optimiser les hyper-paramètres des modèles (avec une recherche en grille ou une recherche bayésienne)\n",
    "- tester les modèles sur différents sous-ensembles de variables pour les comparer"
   ]
  },
  {
   "cell_type": "markdown",
   "metadata": {},
   "source": [
    "# Sauvegarde des données"
   ]
  },
  {
   "cell_type": "code",
   "execution_count": null,
   "metadata": {},
   "outputs": [],
   "source": [
    "score_modeles_df = pd.DataFrame(\n",
    "    score_modeles, columns=[\"Modèle\", \"Métrique\", \"Valeur\", \"Précision\"]\n",
    ")"
   ]
  },
  {
   "cell_type": "code",
   "execution_count": null,
   "metadata": {},
   "outputs": [],
   "source": [
    "score_modeles_df.to_csv(\"data/results/classifications.csv\", index=False)"
   ]
  }
 ],
 "metadata": {
  "kernelspec": {
   "display_name": "python3",
   "language": "python",
   "name": "python3"
  }
 },
 "nbformat": 4,
 "nbformat_minor": 1
}
