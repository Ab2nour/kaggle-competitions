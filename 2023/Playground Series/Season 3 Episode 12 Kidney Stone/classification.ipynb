{
 "cells": [
  {
   "cell_type": "markdown",
   "source": [
    "# Import des outils / jeu de données"
   ],
   "metadata": {
    "collapsed": false
   }
  },
  {
   "cell_type": "code",
   "execution_count": 76,
   "outputs": [],
   "source": [
    "from sklearn.metrics import roc_auc_score\n",
    "import matplotlib.pyplot as plt\n",
    "import numpy as np\n",
    "import pandas as pd\n",
    "import seaborn as sns\n",
    "import xgboost\n",
    "from catboost import CatBoostClassifier\n",
    "from imblearn.over_sampling import SMOTENC\n",
    "from keras import layers\n",
    "from lightgbm import LGBMClassifier\n",
    "from scipy.stats import boxcox\n",
    "from sklearn.compose import ColumnTransformer\n",
    "from sklearn.discriminant_analysis import LinearDiscriminantAnalysis\n",
    "from sklearn.dummy import DummyClassifier\n",
    "from sklearn.ensemble import IsolationForest, RandomForestClassifier, VotingClassifier\n",
    "from sklearn.feature_selection import mutual_info_regression\n",
    "from sklearn.gaussian_process import GaussianProcessClassifier\n",
    "from sklearn.inspection import permutation_importance\n",
    "from sklearn.linear_model import LogisticRegression\n",
    "from sklearn.metrics import (\n",
    "    ConfusionMatrixDisplay,\n",
    "    accuracy_score,\n",
    "    classification_report,\n",
    "    confusion_matrix,\n",
    "    f1_score,\n",
    "    make_scorer,\n",
    ")\n",
    "from sklearn.model_selection import GridSearchCV, cross_val_score, train_test_split\n",
    "from sklearn.naive_bayes import BernoulliNB, ComplementNB\n",
    "from sklearn.neighbors import KNeighborsClassifier\n",
    "from sklearn.pipeline import Pipeline\n",
    "from sklearn.preprocessing import OneHotEncoder, RobustScaler, StandardScaler\n",
    "from sklearn.svm import LinearSVC\n",
    "from sklearn.tree import DecisionTreeClassifier\n",
    "from tensorflow import keras\n",
    "from sklearn.preprocessing import RobustScaler, StandardScaler\n",
    "from sklearn.pipeline import Pipeline"
   ],
   "metadata": {
    "collapsed": false,
    "ExecuteTime": {
     "start_time": "2023-04-17T20:50:11.520795Z",
     "end_time": "2023-04-17T20:50:11.960614Z"
    }
   }
  },
  {
   "cell_type": "code",
   "execution_count": 77,
   "outputs": [],
   "source": [
    "SEED = 0"
   ],
   "metadata": {
    "collapsed": false,
    "ExecuteTime": {
     "start_time": "2023-04-17T20:50:11.534783Z",
     "end_time": "2023-04-17T20:50:11.976391Z"
    }
   }
  },
  {
   "cell_type": "code",
   "execution_count": 78,
   "outputs": [],
   "source": [
    "np.random.seed(SEED)\n",
    "sns.set_theme()"
   ],
   "metadata": {
    "collapsed": false,
    "ExecuteTime": {
     "start_time": "2023-04-17T20:50:11.534901Z",
     "end_time": "2023-04-17T20:50:11.976614Z"
    }
   }
  },
  {
   "cell_type": "code",
   "execution_count": 79,
   "outputs": [],
   "source": [
    "df = pd.read_csv(\n",
    "    \"data/train.csv\",\n",
    "    index_col=\"id\",\n",
    ")"
   ],
   "metadata": {
    "collapsed": false,
    "ExecuteTime": {
     "start_time": "2023-04-17T20:50:11.534975Z",
     "end_time": "2023-04-17T20:50:11.994661Z"
    }
   }
  },
  {
   "cell_type": "code",
   "execution_count": 80,
   "outputs": [],
   "source": [
    "TARGET = \"target\""
   ],
   "metadata": {
    "collapsed": false,
    "ExecuteTime": {
     "start_time": "2023-04-17T20:50:11.574611Z",
     "end_time": "2023-04-17T20:50:12.050604Z"
    }
   }
  },
  {
   "cell_type": "code",
   "execution_count": 81,
   "outputs": [],
   "source": [
    "X = df.copy()#.drop(columns=[\"ph\"])\n",
    "y = X.pop(TARGET)"
   ],
   "metadata": {
    "collapsed": false,
    "ExecuteTime": {
     "start_time": "2023-04-17T20:50:11.574841Z",
     "end_time": "2023-04-17T20:50:12.055287Z"
    }
   }
  },
  {
   "cell_type": "code",
   "execution_count": 82,
   "outputs": [
    {
     "data": {
      "text/plain": "     gravity    ph  osmo  cond  urea  calc\nid                                        \n0      1.013  6.19   443  14.8   124  1.45\n1      1.025  5.40   703  23.6   394  4.18\n2      1.009  6.13   371  24.5   159  9.04\n3      1.021  4.91   442  20.8   398  6.63\n4      1.021  5.53   874  17.8   385  2.21\n..       ...   ...   ...   ...   ...   ...\n409    1.011  5.21   527  21.4    75  1.53\n410    1.024  5.53   577  19.7   224  0.77\n411    1.018  6.28   455  22.2   270  7.68\n412    1.008  7.12   325  12.6    75  1.03\n413    1.011  6.13   364   9.9   159  0.27\n\n[414 rows x 6 columns]",
      "text/html": "<div>\n<style scoped>\n    .dataframe tbody tr th:only-of-type {\n        vertical-align: middle;\n    }\n\n    .dataframe tbody tr th {\n        vertical-align: top;\n    }\n\n    .dataframe thead th {\n        text-align: right;\n    }\n</style>\n<table border=\"1\" class=\"dataframe\">\n  <thead>\n    <tr style=\"text-align: right;\">\n      <th></th>\n      <th>gravity</th>\n      <th>ph</th>\n      <th>osmo</th>\n      <th>cond</th>\n      <th>urea</th>\n      <th>calc</th>\n    </tr>\n    <tr>\n      <th>id</th>\n      <th></th>\n      <th></th>\n      <th></th>\n      <th></th>\n      <th></th>\n      <th></th>\n    </tr>\n  </thead>\n  <tbody>\n    <tr>\n      <th>0</th>\n      <td>1.013</td>\n      <td>6.19</td>\n      <td>443</td>\n      <td>14.8</td>\n      <td>124</td>\n      <td>1.45</td>\n    </tr>\n    <tr>\n      <th>1</th>\n      <td>1.025</td>\n      <td>5.40</td>\n      <td>703</td>\n      <td>23.6</td>\n      <td>394</td>\n      <td>4.18</td>\n    </tr>\n    <tr>\n      <th>2</th>\n      <td>1.009</td>\n      <td>6.13</td>\n      <td>371</td>\n      <td>24.5</td>\n      <td>159</td>\n      <td>9.04</td>\n    </tr>\n    <tr>\n      <th>3</th>\n      <td>1.021</td>\n      <td>4.91</td>\n      <td>442</td>\n      <td>20.8</td>\n      <td>398</td>\n      <td>6.63</td>\n    </tr>\n    <tr>\n      <th>4</th>\n      <td>1.021</td>\n      <td>5.53</td>\n      <td>874</td>\n      <td>17.8</td>\n      <td>385</td>\n      <td>2.21</td>\n    </tr>\n    <tr>\n      <th>...</th>\n      <td>...</td>\n      <td>...</td>\n      <td>...</td>\n      <td>...</td>\n      <td>...</td>\n      <td>...</td>\n    </tr>\n    <tr>\n      <th>409</th>\n      <td>1.011</td>\n      <td>5.21</td>\n      <td>527</td>\n      <td>21.4</td>\n      <td>75</td>\n      <td>1.53</td>\n    </tr>\n    <tr>\n      <th>410</th>\n      <td>1.024</td>\n      <td>5.53</td>\n      <td>577</td>\n      <td>19.7</td>\n      <td>224</td>\n      <td>0.77</td>\n    </tr>\n    <tr>\n      <th>411</th>\n      <td>1.018</td>\n      <td>6.28</td>\n      <td>455</td>\n      <td>22.2</td>\n      <td>270</td>\n      <td>7.68</td>\n    </tr>\n    <tr>\n      <th>412</th>\n      <td>1.008</td>\n      <td>7.12</td>\n      <td>325</td>\n      <td>12.6</td>\n      <td>75</td>\n      <td>1.03</td>\n    </tr>\n    <tr>\n      <th>413</th>\n      <td>1.011</td>\n      <td>6.13</td>\n      <td>364</td>\n      <td>9.9</td>\n      <td>159</td>\n      <td>0.27</td>\n    </tr>\n  </tbody>\n</table>\n<p>414 rows × 6 columns</p>\n</div>"
     },
     "execution_count": 82,
     "metadata": {},
     "output_type": "execute_result"
    }
   ],
   "source": [
    "X"
   ],
   "metadata": {
    "collapsed": false,
    "ExecuteTime": {
     "start_time": "2023-04-17T20:50:11.575058Z",
     "end_time": "2023-04-17T20:50:12.058996Z"
    }
   }
  },
  {
   "cell_type": "markdown",
   "source": [
    "## Variables globales"
   ],
   "metadata": {
    "collapsed": false
   }
  },
  {
   "cell_type": "code",
   "execution_count": 83,
   "outputs": [],
   "source": [
    "LABELS = (0, 1)"
   ],
   "metadata": {
    "collapsed": false,
    "ExecuteTime": {
     "start_time": "2023-04-17T20:50:11.575348Z",
     "end_time": "2023-04-17T20:50:12.076626Z"
    }
   }
  },
  {
   "cell_type": "markdown",
   "source": [
    "## Fonctions et variables utiles"
   ],
   "metadata": {
    "collapsed": false
   }
  },
  {
   "cell_type": "code",
   "execution_count": 84,
   "outputs": [],
   "source": [
    "score_modeles = []"
   ],
   "metadata": {
    "collapsed": false,
    "ExecuteTime": {
     "start_time": "2023-04-17T20:50:11.575488Z",
     "end_time": "2023-04-17T20:50:12.079344Z"
    }
   }
  },
  {
   "cell_type": "code",
   "execution_count": 85,
   "outputs": [],
   "source": [
    "def ajout_score(model, nom_modele, y_test, y_pred):\n",
    "    \"\"\"Ajoute le score F1 de la classe 1 à score_modeles.\"\"\"\n",
    "    clf_report = pd.DataFrame(classification_report(y_test, y_pred, output_dict=True)).T\n",
    "\n",
    "    score_auc = roc_auc_score(y_test, y_pred)\n",
    "\n",
    "    score_modeles.extend(([nom_modele, \"score_auc\", score_auc],))"
   ],
   "metadata": {
    "collapsed": false,
    "ExecuteTime": {
     "start_time": "2023-04-17T20:50:11.579075Z",
     "end_time": "2023-04-17T20:50:12.107366Z"
    }
   }
  },
  {
   "cell_type": "code",
   "execution_count": 86,
   "outputs": [],
   "source": [
    "def evaluate_models(models, prefix, X_train, X_test, y_train, y_test):\n",
    "    \"\"\"Evalue tous les modèles dans `models` et sauvegarde les résultats avec un préfixe `prefix`\n",
    "    (utile pour distinguer les différentes stratégies de pré-traitement des données).\"\"\"\n",
    "    results = []\n",
    "\n",
    "    for model, model_name in models:\n",
    "        name = f\"{prefix}/{model_name}\"\n",
    "\n",
    "        scores = cross_val_score(\n",
    "            model,\n",
    "            X_train,\n",
    "            y_train,\n",
    "            cv=5,\n",
    "            scoring=\"roc_auc\",\n",
    "        )\n",
    "        scores_mean = scores.mean()\n",
    "\n",
    "        results.append(\n",
    "            [\n",
    "                name,\n",
    "                scores_mean,\n",
    "            ]\n",
    "        )\n",
    "        score_modeles.extend(\n",
    "            (\n",
    "                [\n",
    "                    name,\n",
    "                    \"score_f1_classe1\",\n",
    "                    scores_mean,\n",
    "                ],\n",
    "            )\n",
    "        )\n",
    "\n",
    "    return results"
   ],
   "metadata": {
    "collapsed": false,
    "ExecuteTime": {
     "start_time": "2023-04-17T20:50:11.588721Z",
     "end_time": "2023-04-17T20:50:12.120876Z"
    }
   }
  },
  {
   "cell_type": "markdown",
   "source": [
    "# Liste des modèles"
   ],
   "metadata": {
    "collapsed": false
   }
  },
  {
   "cell_type": "code",
   "execution_count": 87,
   "outputs": [],
   "source": [
    "xgb_params = {\n",
    "    \"max_depth\"\n",
    "}"
   ],
   "metadata": {
    "collapsed": false,
    "ExecuteTime": {
     "start_time": "2023-04-17T20:50:11.588820Z",
     "end_time": "2023-04-17T20:50:12.121021Z"
    }
   }
  },
  {
   "cell_type": "code",
   "execution_count": 88,
   "outputs": [],
   "source": [
    "models = [\n",
    "    [DummyClassifier(strategy=\"uniform\", random_state=SEED), \"DummyClassifier_Uniform\"],\n",
    "    [\n",
    "        DummyClassifier(strategy=\"constant\", constant=0, random_state=SEED),\n",
    "        \"DummyClassifier_Constant0\",\n",
    "    ],\n",
    "    [\n",
    "        DummyClassifier(strategy=\"constant\", constant=1, random_state=SEED),\n",
    "        \"DummyClassifier_Constant1\",\n",
    "    ],\n",
    "    [LogisticRegression(random_state=SEED), \"LogisticRegression\"],\n",
    "    [LinearDiscriminantAnalysis(), \"LinearDiscriminantAnalysis\"],\n",
    "    [DecisionTreeClassifier(random_state=SEED), \"DecisionTreeClassifier\"],\n",
    "    [RandomForestClassifier(random_state=SEED), \"RandomForestClassifier\"],\n",
    "    [xgboost.XGBClassifier(random_state=SEED), \"XGBClassifier\"],\n",
    "    [CatBoostClassifier(random_state=SEED, verbose=False), \"CatBoostClassifier\"],\n",
    "    [LGBMClassifier(random_state=SEED), \"LGBMClassifier\"],\n",
    "    [LinearSVC(random_state=SEED), \"LinearSVC\"],\n",
    "    [KNeighborsClassifier(), \"KNeighborsClassifier5\"],\n",
    "    [KNeighborsClassifier(n_neighbors=15), \"KNeighborsClassifier15\"],\n",
    "    [\n",
    "        VotingClassifier(\n",
    "            estimators=[\n",
    "                (\"lr\", LogisticRegression(random_state=SEED)),\n",
    "                (\"lda\", LinearDiscriminantAnalysis()),\n",
    "                (\"dt\", RandomForestClassifier(random_state=SEED)),\n",
    "                (\"xgb\", xgboost.XGBClassifier(random_state=SEED)),\n",
    "                (\"catboost\", CatBoostClassifier(random_state=SEED, verbose=False)),\n",
    "            ],\n",
    "            voting=\"soft\",\n",
    "        ),\n",
    "        \"VotingClassifier\",\n",
    "    ],\n",
    "]"
   ],
   "metadata": {
    "collapsed": false,
    "ExecuteTime": {
     "start_time": "2023-04-17T20:50:11.589809Z",
     "end_time": "2023-04-17T20:50:12.129623Z"
    }
   }
  },
  {
   "cell_type": "code",
   "execution_count": 89,
   "outputs": [],
   "source": [
    "X_train, X_test, y_train, y_test = train_test_split(\n",
    "    X, y, test_size=0.2, random_state=SEED\n",
    ")"
   ],
   "metadata": {
    "collapsed": false,
    "ExecuteTime": {
     "start_time": "2023-04-17T20:50:11.615992Z",
     "end_time": "2023-04-17T20:50:12.132751Z"
    }
   }
  },
  {
   "cell_type": "markdown",
   "source": [
    "# Traitement des données"
   ],
   "metadata": {
    "collapsed": false
   }
  },
  {
   "cell_type": "markdown",
   "source": [
    "## Par défaut"
   ],
   "metadata": {
    "collapsed": false
   }
  },
  {
   "cell_type": "code",
   "execution_count": 90,
   "outputs": [],
   "source": [
    "from sklearn.preprocessing import PolynomialFeatures\n",
    "\n",
    "# poly = PolynomialFeatures(degree=2)"
   ],
   "metadata": {
    "collapsed": false,
    "ExecuteTime": {
     "start_time": "2023-04-17T20:50:11.616118Z",
     "end_time": "2023-04-17T20:50:12.132956Z"
    }
   }
  },
  {
   "cell_type": "code",
   "execution_count": 91,
   "outputs": [],
   "source": [
    "pipeline_num = Pipeline(\n",
    "    steps=[\n",
    "        (\"poly\", PolynomialFeatures(degree=2)),\n",
    "        (\"scaler\", StandardScaler()),\n",
    "    ]\n",
    ")"
   ],
   "metadata": {
    "collapsed": false,
    "ExecuteTime": {
     "start_time": "2023-04-17T20:50:11.616228Z",
     "end_time": "2023-04-17T20:50:12.149701Z"
    }
   }
  },
  {
   "cell_type": "code",
   "execution_count": 92,
   "outputs": [],
   "source": [
    "X_fe = X.copy()\n",
    "for var in X.columns:\n",
    "    for var2 in X.columns:\n",
    "        if var != var2:\n",
    "            X_fe[f\"{var}/{var2}\"] = X[var] / X[var2]"
   ],
   "metadata": {
    "collapsed": false,
    "ExecuteTime": {
     "start_time": "2023-04-17T20:50:11.616348Z",
     "end_time": "2023-04-17T20:50:12.152368Z"
    }
   }
  },
  {
   "cell_type": "code",
   "execution_count": 93,
   "outputs": [],
   "source": [
    "var_ohe = [\"osmo\", \"urea\"]\n",
    "var_scaler = [\"gravity\", \"ph\", \"cond\", \"calc\"]"
   ],
   "metadata": {
    "collapsed": false,
    "ExecuteTime": {
     "start_time": "2023-04-17T20:50:11.616502Z",
     "end_time": "2023-04-17T20:50:12.168152Z"
    }
   }
  },
  {
   "cell_type": "code",
   "execution_count": 94,
   "outputs": [],
   "source": [
    "preprocessor = ColumnTransformer(\n",
    "    remainder=\"passthrough\",\n",
    "    transformers=[\n",
    "        # (\"ohe\", OneHotEncoder(), var_ohe),\n",
    "        (\"scaler\", pipeline_num, var_scaler),\n",
    "    ],\n",
    ")"
   ],
   "metadata": {
    "collapsed": false,
    "ExecuteTime": {
     "start_time": "2023-04-17T20:50:11.630186Z",
     "end_time": "2023-04-17T20:50:12.174189Z"
    }
   }
  },
  {
   "cell_type": "code",
   "execution_count": 95,
   "outputs": [
    {
     "data": {
      "text/plain": "gravity    28\nph         71\nosmo       80\ncond       65\nurea       73\ncalc       85\ntarget      2\ndtype: int64"
     },
     "execution_count": 95,
     "metadata": {},
     "output_type": "execute_result"
    }
   ],
   "source": [
    "df.nunique()"
   ],
   "metadata": {
    "collapsed": false,
    "ExecuteTime": {
     "start_time": "2023-04-17T20:50:11.630285Z",
     "end_time": "2023-04-17T20:50:12.176949Z"
    }
   }
  },
  {
   "cell_type": "code",
   "execution_count": 96,
   "outputs": [],
   "source": [
    "X2 = preprocessor.fit_transform(X_fe)#.toarray()\n",
    "# X_test = preprocessor.transform(X_test)"
   ],
   "metadata": {
    "collapsed": false,
    "ExecuteTime": {
     "start_time": "2023-04-17T20:50:11.632584Z",
     "end_time": "2023-04-17T20:50:12.219129Z"
    }
   }
  },
  {
   "cell_type": "code",
   "execution_count": 97,
   "outputs": [
    {
     "data": {
      "text/plain": "(414, 47)"
     },
     "execution_count": 97,
     "metadata": {},
     "output_type": "execute_result"
    }
   ],
   "source": [
    "X2.shape"
   ],
   "metadata": {
    "collapsed": false,
    "ExecuteTime": {
     "start_time": "2023-04-17T20:50:11.650478Z",
     "end_time": "2023-04-17T20:50:12.221874Z"
    }
   }
  },
  {
   "cell_type": "code",
   "execution_count": 98,
   "outputs": [
    {
     "name": "stderr",
     "output_type": "stream",
     "text": [
      "/home/ab2/.cache/pypoetry/virtualenvs/kaggle-competitions-ww632Mhq-py3.10/lib/python3.10/site-packages/sklearn/linear_model/_logistic.py:458: ConvergenceWarning: lbfgs failed to converge (status=1):\n",
      "STOP: TOTAL NO. of ITERATIONS REACHED LIMIT.\n",
      "\n",
      "Increase the number of iterations (max_iter) or scale the data as shown in:\n",
      "    https://scikit-learn.org/stable/modules/preprocessing.html\n",
      "Please also refer to the documentation for alternative solver options:\n",
      "    https://scikit-learn.org/stable/modules/linear_model.html#logistic-regression\n",
      "  n_iter_i = _check_optimize_result(\n",
      "/home/ab2/.cache/pypoetry/virtualenvs/kaggle-competitions-ww632Mhq-py3.10/lib/python3.10/site-packages/sklearn/linear_model/_logistic.py:458: ConvergenceWarning: lbfgs failed to converge (status=1):\n",
      "STOP: TOTAL NO. of ITERATIONS REACHED LIMIT.\n",
      "\n",
      "Increase the number of iterations (max_iter) or scale the data as shown in:\n",
      "    https://scikit-learn.org/stable/modules/preprocessing.html\n",
      "Please also refer to the documentation for alternative solver options:\n",
      "    https://scikit-learn.org/stable/modules/linear_model.html#logistic-regression\n",
      "  n_iter_i = _check_optimize_result(\n",
      "/home/ab2/.cache/pypoetry/virtualenvs/kaggle-competitions-ww632Mhq-py3.10/lib/python3.10/site-packages/sklearn/linear_model/_logistic.py:458: ConvergenceWarning: lbfgs failed to converge (status=1):\n",
      "STOP: TOTAL NO. of ITERATIONS REACHED LIMIT.\n",
      "\n",
      "Increase the number of iterations (max_iter) or scale the data as shown in:\n",
      "    https://scikit-learn.org/stable/modules/preprocessing.html\n",
      "Please also refer to the documentation for alternative solver options:\n",
      "    https://scikit-learn.org/stable/modules/linear_model.html#logistic-regression\n",
      "  n_iter_i = _check_optimize_result(\n",
      "/home/ab2/.cache/pypoetry/virtualenvs/kaggle-competitions-ww632Mhq-py3.10/lib/python3.10/site-packages/sklearn/linear_model/_logistic.py:458: ConvergenceWarning: lbfgs failed to converge (status=1):\n",
      "STOP: TOTAL NO. of ITERATIONS REACHED LIMIT.\n",
      "\n",
      "Increase the number of iterations (max_iter) or scale the data as shown in:\n",
      "    https://scikit-learn.org/stable/modules/preprocessing.html\n",
      "Please also refer to the documentation for alternative solver options:\n",
      "    https://scikit-learn.org/stable/modules/linear_model.html#logistic-regression\n",
      "  n_iter_i = _check_optimize_result(\n",
      "/home/ab2/.cache/pypoetry/virtualenvs/kaggle-competitions-ww632Mhq-py3.10/lib/python3.10/site-packages/sklearn/linear_model/_logistic.py:458: ConvergenceWarning: lbfgs failed to converge (status=1):\n",
      "STOP: TOTAL NO. of ITERATIONS REACHED LIMIT.\n",
      "\n",
      "Increase the number of iterations (max_iter) or scale the data as shown in:\n",
      "    https://scikit-learn.org/stable/modules/preprocessing.html\n",
      "Please also refer to the documentation for alternative solver options:\n",
      "    https://scikit-learn.org/stable/modules/linear_model.html#logistic-regression\n",
      "  n_iter_i = _check_optimize_result(\n",
      "/home/ab2/.cache/pypoetry/virtualenvs/kaggle-competitions-ww632Mhq-py3.10/lib/python3.10/site-packages/sklearn/svm/_base.py:1244: ConvergenceWarning: Liblinear failed to converge, increase the number of iterations.\n",
      "  warnings.warn(\n",
      "/home/ab2/.cache/pypoetry/virtualenvs/kaggle-competitions-ww632Mhq-py3.10/lib/python3.10/site-packages/sklearn/svm/_base.py:1244: ConvergenceWarning: Liblinear failed to converge, increase the number of iterations.\n",
      "  warnings.warn(\n",
      "/home/ab2/.cache/pypoetry/virtualenvs/kaggle-competitions-ww632Mhq-py3.10/lib/python3.10/site-packages/sklearn/svm/_base.py:1244: ConvergenceWarning: Liblinear failed to converge, increase the number of iterations.\n",
      "  warnings.warn(\n",
      "/home/ab2/.cache/pypoetry/virtualenvs/kaggle-competitions-ww632Mhq-py3.10/lib/python3.10/site-packages/sklearn/svm/_base.py:1244: ConvergenceWarning: Liblinear failed to converge, increase the number of iterations.\n",
      "  warnings.warn(\n",
      "/home/ab2/.cache/pypoetry/virtualenvs/kaggle-competitions-ww632Mhq-py3.10/lib/python3.10/site-packages/sklearn/svm/_base.py:1244: ConvergenceWarning: Liblinear failed to converge, increase the number of iterations.\n",
      "  warnings.warn(\n",
      "/home/ab2/.cache/pypoetry/virtualenvs/kaggle-competitions-ww632Mhq-py3.10/lib/python3.10/site-packages/sklearn/linear_model/_logistic.py:458: ConvergenceWarning: lbfgs failed to converge (status=1):\n",
      "STOP: TOTAL NO. of ITERATIONS REACHED LIMIT.\n",
      "\n",
      "Increase the number of iterations (max_iter) or scale the data as shown in:\n",
      "    https://scikit-learn.org/stable/modules/preprocessing.html\n",
      "Please also refer to the documentation for alternative solver options:\n",
      "    https://scikit-learn.org/stable/modules/linear_model.html#logistic-regression\n",
      "  n_iter_i = _check_optimize_result(\n",
      "/home/ab2/.cache/pypoetry/virtualenvs/kaggle-competitions-ww632Mhq-py3.10/lib/python3.10/site-packages/sklearn/linear_model/_logistic.py:458: ConvergenceWarning: lbfgs failed to converge (status=1):\n",
      "STOP: TOTAL NO. of ITERATIONS REACHED LIMIT.\n",
      "\n",
      "Increase the number of iterations (max_iter) or scale the data as shown in:\n",
      "    https://scikit-learn.org/stable/modules/preprocessing.html\n",
      "Please also refer to the documentation for alternative solver options:\n",
      "    https://scikit-learn.org/stable/modules/linear_model.html#logistic-regression\n",
      "  n_iter_i = _check_optimize_result(\n",
      "/home/ab2/.cache/pypoetry/virtualenvs/kaggle-competitions-ww632Mhq-py3.10/lib/python3.10/site-packages/sklearn/linear_model/_logistic.py:458: ConvergenceWarning: lbfgs failed to converge (status=1):\n",
      "STOP: TOTAL NO. of ITERATIONS REACHED LIMIT.\n",
      "\n",
      "Increase the number of iterations (max_iter) or scale the data as shown in:\n",
      "    https://scikit-learn.org/stable/modules/preprocessing.html\n",
      "Please also refer to the documentation for alternative solver options:\n",
      "    https://scikit-learn.org/stable/modules/linear_model.html#logistic-regression\n",
      "  n_iter_i = _check_optimize_result(\n",
      "/home/ab2/.cache/pypoetry/virtualenvs/kaggle-competitions-ww632Mhq-py3.10/lib/python3.10/site-packages/sklearn/linear_model/_logistic.py:458: ConvergenceWarning: lbfgs failed to converge (status=1):\n",
      "STOP: TOTAL NO. of ITERATIONS REACHED LIMIT.\n",
      "\n",
      "Increase the number of iterations (max_iter) or scale the data as shown in:\n",
      "    https://scikit-learn.org/stable/modules/preprocessing.html\n",
      "Please also refer to the documentation for alternative solver options:\n",
      "    https://scikit-learn.org/stable/modules/linear_model.html#logistic-regression\n",
      "  n_iter_i = _check_optimize_result(\n",
      "/home/ab2/.cache/pypoetry/virtualenvs/kaggle-competitions-ww632Mhq-py3.10/lib/python3.10/site-packages/sklearn/linear_model/_logistic.py:458: ConvergenceWarning: lbfgs failed to converge (status=1):\n",
      "STOP: TOTAL NO. of ITERATIONS REACHED LIMIT.\n",
      "\n",
      "Increase the number of iterations (max_iter) or scale the data as shown in:\n",
      "    https://scikit-learn.org/stable/modules/preprocessing.html\n",
      "Please also refer to the documentation for alternative solver options:\n",
      "    https://scikit-learn.org/stable/modules/linear_model.html#logistic-regression\n",
      "  n_iter_i = _check_optimize_result(\n"
     ]
    }
   ],
   "source": [
    "prefix = \"défaut\"\n",
    "results = evaluate_models(models, prefix, X2, X_test, y, y_test)"
   ],
   "metadata": {
    "collapsed": false,
    "ExecuteTime": {
     "start_time": "2023-04-17T20:50:11.650564Z",
     "end_time": "2023-04-17T20:50:38.609558Z"
    }
   }
  },
  {
   "cell_type": "code",
   "execution_count": 99,
   "outputs": [
    {
     "data": {
      "text/plain": "[['défaut/LogisticRegression', 0.7776831179005093],\n ['défaut/VotingClassifier', 0.7748367933150542],\n ['défaut/KNeighborsClassifier15', 0.7742900509204856],\n ['défaut/RandomForestClassifier', 0.7692796056926492],\n ['défaut/CatBoostClassifier', 0.76533163598381],\n ['défaut/LinearDiscriminantAnalysis', 0.7621360490925709],\n ['défaut/KNeighborsClassifier5', 0.7612449405927666],\n ['défaut/LGBMClassifier', 0.750153414283849],\n ['défaut/XGBClassifier', 0.7480447839143493],\n ['défaut/LinearSVC', 0.7002415458937199],\n ['défaut/DecisionTreeClassifier', 0.6215628672150412],\n ['défaut/DummyClassifier_Uniform', 0.5],\n ['défaut/DummyClassifier_Constant0', 0.5],\n ['défaut/DummyClassifier_Constant1', 0.5]]"
     },
     "execution_count": 99,
     "metadata": {},
     "output_type": "execute_result"
    }
   ],
   "source": [
    "sorted(results, key=lambda x: x[1], reverse=True)"
   ],
   "metadata": {
    "collapsed": false,
    "ExecuteTime": {
     "start_time": "2023-04-17T20:50:38.611172Z",
     "end_time": "2023-04-17T20:50:38.617113Z"
    }
   }
  },
  {
   "cell_type": "markdown",
   "source": [
    "## XGB optimisé à la main"
   ],
   "metadata": {
    "collapsed": false
   }
  },
  {
   "cell_type": "code",
   "execution_count": 100,
   "outputs": [],
   "source": [
    "xgb = xgboost.XGBClassifier(\n",
    "    n_estimators=500, learning_rate=0.05, n_jobs=4, random_state=0,\n",
    "    # colsample_bytree=0.95,\n",
    "    eval_metric=\"auc\",\n",
    "    max_depth=20,\n",
    ")"
   ],
   "metadata": {
    "collapsed": false,
    "ExecuteTime": {
     "start_time": "2023-04-17T20:50:38.616071Z",
     "end_time": "2023-04-17T20:50:38.622949Z"
    }
   }
  },
  {
   "cell_type": "code",
   "execution_count": 101,
   "outputs": [
    {
     "data": {
      "text/plain": "XGBClassifier(base_score=None, booster=None, callbacks=None,\n              colsample_bylevel=None, colsample_bynode=None,\n              colsample_bytree=None, early_stopping_rounds=None,\n              enable_categorical=False, eval_metric='auc', feature_types=None,\n              gamma=None, gpu_id=None, grow_policy=None, importance_type=None,\n              interaction_constraints=None, learning_rate=0.05, max_bin=None,\n              max_cat_threshold=None, max_cat_to_onehot=None,\n              max_delta_step=None, max_depth=20, max_leaves=None,\n              min_child_weight=None, missing=nan, monotone_constraints=None,\n              n_estimators=500, n_jobs=4, num_parallel_tree=None,\n              predictor=None, random_state=0, ...)",
      "text/html": "<style>#sk-container-id-3 {color: black;background-color: white;}#sk-container-id-3 pre{padding: 0;}#sk-container-id-3 div.sk-toggleable {background-color: white;}#sk-container-id-3 label.sk-toggleable__label {cursor: pointer;display: block;width: 100%;margin-bottom: 0;padding: 0.3em;box-sizing: border-box;text-align: center;}#sk-container-id-3 label.sk-toggleable__label-arrow:before {content: \"▸\";float: left;margin-right: 0.25em;color: #696969;}#sk-container-id-3 label.sk-toggleable__label-arrow:hover:before {color: black;}#sk-container-id-3 div.sk-estimator:hover label.sk-toggleable__label-arrow:before {color: black;}#sk-container-id-3 div.sk-toggleable__content {max-height: 0;max-width: 0;overflow: hidden;text-align: left;background-color: #f0f8ff;}#sk-container-id-3 div.sk-toggleable__content pre {margin: 0.2em;color: black;border-radius: 0.25em;background-color: #f0f8ff;}#sk-container-id-3 input.sk-toggleable__control:checked~div.sk-toggleable__content {max-height: 200px;max-width: 100%;overflow: auto;}#sk-container-id-3 input.sk-toggleable__control:checked~label.sk-toggleable__label-arrow:before {content: \"▾\";}#sk-container-id-3 div.sk-estimator input.sk-toggleable__control:checked~label.sk-toggleable__label {background-color: #d4ebff;}#sk-container-id-3 div.sk-label input.sk-toggleable__control:checked~label.sk-toggleable__label {background-color: #d4ebff;}#sk-container-id-3 input.sk-hidden--visually {border: 0;clip: rect(1px 1px 1px 1px);clip: rect(1px, 1px, 1px, 1px);height: 1px;margin: -1px;overflow: hidden;padding: 0;position: absolute;width: 1px;}#sk-container-id-3 div.sk-estimator {font-family: monospace;background-color: #f0f8ff;border: 1px dotted black;border-radius: 0.25em;box-sizing: border-box;margin-bottom: 0.5em;}#sk-container-id-3 div.sk-estimator:hover {background-color: #d4ebff;}#sk-container-id-3 div.sk-parallel-item::after {content: \"\";width: 100%;border-bottom: 1px solid gray;flex-grow: 1;}#sk-container-id-3 div.sk-label:hover label.sk-toggleable__label {background-color: #d4ebff;}#sk-container-id-3 div.sk-serial::before {content: \"\";position: absolute;border-left: 1px solid gray;box-sizing: border-box;top: 0;bottom: 0;left: 50%;z-index: 0;}#sk-container-id-3 div.sk-serial {display: flex;flex-direction: column;align-items: center;background-color: white;padding-right: 0.2em;padding-left: 0.2em;position: relative;}#sk-container-id-3 div.sk-item {position: relative;z-index: 1;}#sk-container-id-3 div.sk-parallel {display: flex;align-items: stretch;justify-content: center;background-color: white;position: relative;}#sk-container-id-3 div.sk-item::before, #sk-container-id-3 div.sk-parallel-item::before {content: \"\";position: absolute;border-left: 1px solid gray;box-sizing: border-box;top: 0;bottom: 0;left: 50%;z-index: -1;}#sk-container-id-3 div.sk-parallel-item {display: flex;flex-direction: column;z-index: 1;position: relative;background-color: white;}#sk-container-id-3 div.sk-parallel-item:first-child::after {align-self: flex-end;width: 50%;}#sk-container-id-3 div.sk-parallel-item:last-child::after {align-self: flex-start;width: 50%;}#sk-container-id-3 div.sk-parallel-item:only-child::after {width: 0;}#sk-container-id-3 div.sk-dashed-wrapped {border: 1px dashed gray;margin: 0 0.4em 0.5em 0.4em;box-sizing: border-box;padding-bottom: 0.4em;background-color: white;}#sk-container-id-3 div.sk-label label {font-family: monospace;font-weight: bold;display: inline-block;line-height: 1.2em;}#sk-container-id-3 div.sk-label-container {text-align: center;}#sk-container-id-3 div.sk-container {/* jupyter's `normalize.less` sets `[hidden] { display: none; }` but bootstrap.min.css set `[hidden] { display: none !important; }` so we also need the `!important` here to be able to override the default hidden behavior on the sphinx rendered scikit-learn.org. See: https://github.com/scikit-learn/scikit-learn/issues/21755 */display: inline-block !important;position: relative;}#sk-container-id-3 div.sk-text-repr-fallback {display: none;}</style><div id=\"sk-container-id-3\" class=\"sk-top-container\"><div class=\"sk-text-repr-fallback\"><pre>XGBClassifier(base_score=None, booster=None, callbacks=None,\n              colsample_bylevel=None, colsample_bynode=None,\n              colsample_bytree=None, early_stopping_rounds=None,\n              enable_categorical=False, eval_metric=&#x27;auc&#x27;, feature_types=None,\n              gamma=None, gpu_id=None, grow_policy=None, importance_type=None,\n              interaction_constraints=None, learning_rate=0.05, max_bin=None,\n              max_cat_threshold=None, max_cat_to_onehot=None,\n              max_delta_step=None, max_depth=20, max_leaves=None,\n              min_child_weight=None, missing=nan, monotone_constraints=None,\n              n_estimators=500, n_jobs=4, num_parallel_tree=None,\n              predictor=None, random_state=0, ...)</pre><b>In a Jupyter environment, please rerun this cell to show the HTML representation or trust the notebook. <br />On GitHub, the HTML representation is unable to render, please try loading this page with nbviewer.org.</b></div><div class=\"sk-container\" hidden><div class=\"sk-item\"><div class=\"sk-estimator sk-toggleable\"><input class=\"sk-toggleable__control sk-hidden--visually\" id=\"sk-estimator-id-8\" type=\"checkbox\" checked><label for=\"sk-estimator-id-8\" class=\"sk-toggleable__label sk-toggleable__label-arrow\">XGBClassifier</label><div class=\"sk-toggleable__content\"><pre>XGBClassifier(base_score=None, booster=None, callbacks=None,\n              colsample_bylevel=None, colsample_bynode=None,\n              colsample_bytree=None, early_stopping_rounds=None,\n              enable_categorical=False, eval_metric=&#x27;auc&#x27;, feature_types=None,\n              gamma=None, gpu_id=None, grow_policy=None, importance_type=None,\n              interaction_constraints=None, learning_rate=0.05, max_bin=None,\n              max_cat_threshold=None, max_cat_to_onehot=None,\n              max_delta_step=None, max_depth=20, max_leaves=None,\n              min_child_weight=None, missing=nan, monotone_constraints=None,\n              n_estimators=500, n_jobs=4, num_parallel_tree=None,\n              predictor=None, random_state=0, ...)</pre></div></div></div></div></div>"
     },
     "execution_count": 101,
     "metadata": {},
     "output_type": "execute_result"
    }
   ],
   "source": [
    "xgb.fit(X_train, y_train)"
   ],
   "metadata": {
    "collapsed": false,
    "ExecuteTime": {
     "start_time": "2023-04-17T20:50:38.619407Z",
     "end_time": "2023-04-17T20:50:38.782679Z"
    }
   }
  },
  {
   "cell_type": "code",
   "execution_count": 102,
   "outputs": [],
   "source": [
    "y_pred = xgb.predict(X_test)"
   ],
   "metadata": {
    "collapsed": false,
    "ExecuteTime": {
     "start_time": "2023-04-17T20:50:38.778937Z",
     "end_time": "2023-04-17T20:50:38.788994Z"
    }
   }
  },
  {
   "cell_type": "code",
   "execution_count": 103,
   "outputs": [
    {
     "data": {
      "text/plain": "0.6549418604651163"
     },
     "execution_count": 103,
     "metadata": {},
     "output_type": "execute_result"
    }
   ],
   "source": [
    "roc_auc_score(y_test, y_pred)"
   ],
   "metadata": {
    "collapsed": false,
    "ExecuteTime": {
     "start_time": "2023-04-17T20:50:38.783701Z",
     "end_time": "2023-04-17T20:50:38.789300Z"
    }
   }
  },
  {
   "cell_type": "markdown",
   "source": [
    "## Équilibrage des classes"
   ],
   "metadata": {
    "collapsed": false
   }
  },
  {
   "cell_type": "markdown",
   "source": [
    "### Under-sampling (manuel)"
   ],
   "metadata": {
    "collapsed": false
   }
  },
  {
   "cell_type": "code",
   "execution_count": 104,
   "outputs": [],
   "source": [
    "samples0 = df[df[TARGET] == 0].sample(190, random_state=SEED)"
   ],
   "metadata": {
    "collapsed": false,
    "ExecuteTime": {
     "start_time": "2023-04-17T20:50:38.788929Z",
     "end_time": "2023-04-17T20:50:38.795150Z"
    }
   }
  },
  {
   "cell_type": "code",
   "execution_count": 105,
   "outputs": [],
   "source": [
    "X_eq = pd.concat((samples0, df[df[TARGET] == 1]))"
   ],
   "metadata": {
    "collapsed": false,
    "ExecuteTime": {
     "start_time": "2023-04-17T20:50:38.792855Z",
     "end_time": "2023-04-17T20:50:38.852087Z"
    }
   }
  },
  {
   "cell_type": "code",
   "execution_count": 106,
   "outputs": [
    {
     "data": {
      "text/plain": "<Axes: >"
     },
     "execution_count": 106,
     "metadata": {},
     "output_type": "execute_result"
    },
    {
     "data": {
      "text/plain": "<Figure size 640x480 with 1 Axes>",
      "image/png": "[encoded data removed]"
     },
     "metadata": {},
     "output_type": "display_data"
    }
   ],
   "source": [
    "X_eq[TARGET].hist()"
   ],
   "metadata": {
    "collapsed": false,
    "ExecuteTime": {
     "start_time": "2023-04-17T20:50:38.839717Z",
     "end_time": "2023-04-17T20:50:39.041819Z"
    }
   }
  },
  {
   "cell_type": "code",
   "execution_count": 107,
   "outputs": [],
   "source": [
    "y_eq = X_eq.pop(TARGET).astype(int)"
   ],
   "metadata": {
    "collapsed": false,
    "ExecuteTime": {
     "start_time": "2023-04-17T20:50:39.035812Z",
     "end_time": "2023-04-17T20:50:39.042005Z"
    }
   }
  },
  {
   "cell_type": "code",
   "execution_count": 108,
   "outputs": [],
   "source": [
    "X_train, X_test, y_train, y_test = train_test_split(\n",
    "    X_eq, y_eq, test_size=0.2, random_state=SEED\n",
    ")"
   ],
   "metadata": {
    "collapsed": false,
    "ExecuteTime": {
     "start_time": "2023-04-17T20:50:39.035929Z",
     "end_time": "2023-04-17T20:50:39.042095Z"
    }
   }
  },
  {
   "cell_type": "code",
   "execution_count": 109,
   "outputs": [
    {
     "name": "stderr",
     "output_type": "stream",
     "text": [
      "/home/ab2/.cache/pypoetry/virtualenvs/kaggle-competitions-ww632Mhq-py3.10/lib/python3.10/site-packages/sklearn/linear_model/_logistic.py:458: ConvergenceWarning: lbfgs failed to converge (status=1):\n",
      "STOP: TOTAL NO. of ITERATIONS REACHED LIMIT.\n",
      "\n",
      "Increase the number of iterations (max_iter) or scale the data as shown in:\n",
      "    https://scikit-learn.org/stable/modules/preprocessing.html\n",
      "Please also refer to the documentation for alternative solver options:\n",
      "    https://scikit-learn.org/stable/modules/linear_model.html#logistic-regression\n",
      "  n_iter_i = _check_optimize_result(\n",
      "/home/ab2/.cache/pypoetry/virtualenvs/kaggle-competitions-ww632Mhq-py3.10/lib/python3.10/site-packages/sklearn/linear_model/_logistic.py:458: ConvergenceWarning: lbfgs failed to converge (status=1):\n",
      "STOP: TOTAL NO. of ITERATIONS REACHED LIMIT.\n",
      "\n",
      "Increase the number of iterations (max_iter) or scale the data as shown in:\n",
      "    https://scikit-learn.org/stable/modules/preprocessing.html\n",
      "Please also refer to the documentation for alternative solver options:\n",
      "    https://scikit-learn.org/stable/modules/linear_model.html#logistic-regression\n",
      "  n_iter_i = _check_optimize_result(\n",
      "/home/ab2/.cache/pypoetry/virtualenvs/kaggle-competitions-ww632Mhq-py3.10/lib/python3.10/site-packages/sklearn/linear_model/_logistic.py:458: ConvergenceWarning: lbfgs failed to converge (status=1):\n",
      "STOP: TOTAL NO. of ITERATIONS REACHED LIMIT.\n",
      "\n",
      "Increase the number of iterations (max_iter) or scale the data as shown in:\n",
      "    https://scikit-learn.org/stable/modules/preprocessing.html\n",
      "Please also refer to the documentation for alternative solver options:\n",
      "    https://scikit-learn.org/stable/modules/linear_model.html#logistic-regression\n",
      "  n_iter_i = _check_optimize_result(\n",
      "/home/ab2/.cache/pypoetry/virtualenvs/kaggle-competitions-ww632Mhq-py3.10/lib/python3.10/site-packages/sklearn/linear_model/_logistic.py:458: ConvergenceWarning: lbfgs failed to converge (status=1):\n",
      "STOP: TOTAL NO. of ITERATIONS REACHED LIMIT.\n",
      "\n",
      "Increase the number of iterations (max_iter) or scale the data as shown in:\n",
      "    https://scikit-learn.org/stable/modules/preprocessing.html\n",
      "Please also refer to the documentation for alternative solver options:\n",
      "    https://scikit-learn.org/stable/modules/linear_model.html#logistic-regression\n",
      "  n_iter_i = _check_optimize_result(\n",
      "/home/ab2/.cache/pypoetry/virtualenvs/kaggle-competitions-ww632Mhq-py3.10/lib/python3.10/site-packages/sklearn/svm/_base.py:1244: ConvergenceWarning: Liblinear failed to converge, increase the number of iterations.\n",
      "  warnings.warn(\n",
      "/home/ab2/.cache/pypoetry/virtualenvs/kaggle-competitions-ww632Mhq-py3.10/lib/python3.10/site-packages/sklearn/svm/_base.py:1244: ConvergenceWarning: Liblinear failed to converge, increase the number of iterations.\n",
      "  warnings.warn(\n",
      "/home/ab2/.cache/pypoetry/virtualenvs/kaggle-competitions-ww632Mhq-py3.10/lib/python3.10/site-packages/sklearn/svm/_base.py:1244: ConvergenceWarning: Liblinear failed to converge, increase the number of iterations.\n",
      "  warnings.warn(\n",
      "/home/ab2/.cache/pypoetry/virtualenvs/kaggle-competitions-ww632Mhq-py3.10/lib/python3.10/site-packages/sklearn/svm/_base.py:1244: ConvergenceWarning: Liblinear failed to converge, increase the number of iterations.\n",
      "  warnings.warn(\n",
      "/home/ab2/.cache/pypoetry/virtualenvs/kaggle-competitions-ww632Mhq-py3.10/lib/python3.10/site-packages/sklearn/svm/_base.py:1244: ConvergenceWarning: Liblinear failed to converge, increase the number of iterations.\n",
      "  warnings.warn(\n",
      "/home/ab2/.cache/pypoetry/virtualenvs/kaggle-competitions-ww632Mhq-py3.10/lib/python3.10/site-packages/sklearn/linear_model/_logistic.py:458: ConvergenceWarning: lbfgs failed to converge (status=1):\n",
      "STOP: TOTAL NO. of ITERATIONS REACHED LIMIT.\n",
      "\n",
      "Increase the number of iterations (max_iter) or scale the data as shown in:\n",
      "    https://scikit-learn.org/stable/modules/preprocessing.html\n",
      "Please also refer to the documentation for alternative solver options:\n",
      "    https://scikit-learn.org/stable/modules/linear_model.html#logistic-regression\n",
      "  n_iter_i = _check_optimize_result(\n",
      "/home/ab2/.cache/pypoetry/virtualenvs/kaggle-competitions-ww632Mhq-py3.10/lib/python3.10/site-packages/sklearn/linear_model/_logistic.py:458: ConvergenceWarning: lbfgs failed to converge (status=1):\n",
      "STOP: TOTAL NO. of ITERATIONS REACHED LIMIT.\n",
      "\n",
      "Increase the number of iterations (max_iter) or scale the data as shown in:\n",
      "    https://scikit-learn.org/stable/modules/preprocessing.html\n",
      "Please also refer to the documentation for alternative solver options:\n",
      "    https://scikit-learn.org/stable/modules/linear_model.html#logistic-regression\n",
      "  n_iter_i = _check_optimize_result(\n",
      "/home/ab2/.cache/pypoetry/virtualenvs/kaggle-competitions-ww632Mhq-py3.10/lib/python3.10/site-packages/sklearn/linear_model/_logistic.py:458: ConvergenceWarning: lbfgs failed to converge (status=1):\n",
      "STOP: TOTAL NO. of ITERATIONS REACHED LIMIT.\n",
      "\n",
      "Increase the number of iterations (max_iter) or scale the data as shown in:\n",
      "    https://scikit-learn.org/stable/modules/preprocessing.html\n",
      "Please also refer to the documentation for alternative solver options:\n",
      "    https://scikit-learn.org/stable/modules/linear_model.html#logistic-regression\n",
      "  n_iter_i = _check_optimize_result(\n",
      "/home/ab2/.cache/pypoetry/virtualenvs/kaggle-competitions-ww632Mhq-py3.10/lib/python3.10/site-packages/sklearn/linear_model/_logistic.py:458: ConvergenceWarning: lbfgs failed to converge (status=1):\n",
      "STOP: TOTAL NO. of ITERATIONS REACHED LIMIT.\n",
      "\n",
      "Increase the number of iterations (max_iter) or scale the data as shown in:\n",
      "    https://scikit-learn.org/stable/modules/preprocessing.html\n",
      "Please also refer to the documentation for alternative solver options:\n",
      "    https://scikit-learn.org/stable/modules/linear_model.html#logistic-regression\n",
      "  n_iter_i = _check_optimize_result(\n"
     ]
    }
   ],
   "source": [
    "prefix = \"éq_classes\"\n",
    "results = evaluate_models(models, prefix, X_train, X_test, y_train, y_test)"
   ],
   "metadata": {
    "collapsed": false,
    "ExecuteTime": {
     "start_time": "2023-04-17T20:50:39.036025Z",
     "end_time": "2023-04-17T20:50:45.614990Z"
    }
   }
  },
  {
   "cell_type": "code",
   "execution_count": 110,
   "outputs": [
    {
     "data": {
      "text/plain": "[['éq_classes/VotingClassifier', 0.8233333333333333],\n ['éq_classes/CatBoostClassifier', 0.8187212952663453],\n ['éq_classes/RandomForestClassifier', 0.8170058089234953],\n ['éq_classes/LinearDiscriminantAnalysis', 0.807799283154122],\n ['éq_classes/LogisticRegression', 0.8045977011494252],\n ['éq_classes/XGBClassifier', 0.7874126807563959],\n ['éq_classes/LGBMClassifier', 0.7788520578420467],\n ['éq_classes/LinearSVC', 0.772081819305401],\n ['éq_classes/DecisionTreeClassifier', 0.661245828698554],\n ['éq_classes/KNeighborsClassifier15', 0.6469186750710666],\n ['éq_classes/KNeighborsClassifier5', 0.6216350265727352],\n ['éq_classes/DummyClassifier_Uniform', 0.5],\n ['éq_classes/DummyClassifier_Constant0', 0.5],\n ['éq_classes/DummyClassifier_Constant1', 0.5]]"
     },
     "execution_count": 110,
     "metadata": {},
     "output_type": "execute_result"
    }
   ],
   "source": [
    "sorted(results, key=lambda x: x[1], reverse=True)"
   ],
   "metadata": {
    "collapsed": false,
    "ExecuteTime": {
     "start_time": "2023-04-17T20:50:45.616786Z",
     "end_time": "2023-04-17T20:50:45.621245Z"
    }
   }
  },
  {
   "cell_type": "markdown",
   "source": [
    "### Over-sampling (SMOTE)"
   ],
   "metadata": {
    "collapsed": false
   }
  },
  {
   "cell_type": "code",
   "execution_count": 111,
   "outputs": [],
   "source": [
    "cat_cols = list(X.select_dtypes(include=[\"category\", \"int\", \"bool\"]).columns)"
   ],
   "metadata": {
    "collapsed": false,
    "ExecuteTime": {
     "start_time": "2023-04-17T20:50:45.624107Z",
     "end_time": "2023-04-17T20:50:45.625410Z"
    }
   }
  },
  {
   "cell_type": "code",
   "execution_count": 112,
   "outputs": [],
   "source": [
    "cat_cols_index = list(map(lambda c: list(X.columns).index(c), cat_cols))"
   ],
   "metadata": {
    "collapsed": false,
    "ExecuteTime": {
     "start_time": "2023-04-17T20:50:45.626635Z",
     "end_time": "2023-04-17T20:50:45.629162Z"
    }
   }
  },
  {
   "cell_type": "code",
   "execution_count": 113,
   "outputs": [
    {
     "data": {
      "text/plain": "['osmo', 'urea']"
     },
     "execution_count": 113,
     "metadata": {},
     "output_type": "execute_result"
    }
   ],
   "source": [
    "list(X.iloc[:, cat_cols_index].columns)"
   ],
   "metadata": {
    "collapsed": false,
    "ExecuteTime": {
     "start_time": "2023-04-17T20:50:45.629951Z",
     "end_time": "2023-04-17T20:50:45.635299Z"
    }
   }
  },
  {
   "cell_type": "code",
   "execution_count": 114,
   "outputs": [],
   "source": [
    "from imblearn.over_sampling import SMOTE\n",
    "\n",
    "sm = SMOTE(\n",
    "    random_state=SEED,\n",
    ")"
   ],
   "metadata": {
    "collapsed": false,
    "ExecuteTime": {
     "start_time": "2023-04-17T20:50:45.667972Z",
     "end_time": "2023-04-17T20:50:45.692957Z"
    }
   }
  },
  {
   "cell_type": "markdown",
   "source": [
    "#### Original"
   ],
   "metadata": {
    "collapsed": false
   }
  },
  {
   "cell_type": "code",
   "execution_count": null,
   "outputs": [],
   "source": [
    "X_train, X_test, y_train, y_test = train_test_split(\n",
    "    X_eq, y_eq, test_size=0.2, random_state=SEED\n",
    ")"
   ],
   "metadata": {
    "collapsed": false
   }
  },
  {
   "cell_type": "code",
   "execution_count": 192,
   "outputs": [],
   "source": [
    "# mieux\n",
    "X_train, X_test, y_train, y_test = train_test_split(\n",
    "    X, y, test_size=0.2, random_state=SEED\n",
    ")"
   ],
   "metadata": {
    "collapsed": false,
    "ExecuteTime": {
     "start_time": "2023-04-17T21:05:03.478091Z",
     "end_time": "2023-04-17T21:05:03.519788Z"
    }
   }
  },
  {
   "cell_type": "markdown",
   "source": [
    "#### Partie qui change"
   ],
   "metadata": {
    "collapsed": false
   }
  },
  {
   "cell_type": "code",
   "execution_count": 193,
   "outputs": [
    {
     "data": {
      "text/plain": "Index(['gravity', 'ph', 'osmo', 'cond', 'urea', 'calc', 'gravity/ph',\n       'gravity/osmo', 'gravity/cond', 'gravity/urea', 'gravity/calc',\n       'ph/gravity', 'ph/osmo', 'ph/cond', 'ph/urea', 'ph/calc',\n       'osmo/gravity', 'osmo/ph', 'osmo/cond', 'osmo/urea', 'osmo/calc',\n       'cond/gravity', 'cond/ph', 'cond/osmo', 'cond/urea', 'cond/calc',\n       'urea/gravity', 'urea/ph', 'urea/osmo', 'urea/cond', 'urea/calc',\n       'calc/gravity', 'calc/ph', 'calc/osmo', 'calc/cond', 'calc/urea'],\n      dtype='object')"
     },
     "execution_count": 193,
     "metadata": {},
     "output_type": "execute_result"
    }
   ],
   "source": [
    "X_fe.columns"
   ],
   "metadata": {
    "collapsed": false,
    "ExecuteTime": {
     "start_time": "2023-04-17T21:05:03.969890Z",
     "end_time": "2023-04-17T21:05:03.983554Z"
    }
   }
  },
  {
   "cell_type": "code",
   "execution_count": 194,
   "outputs": [
    {
     "data": {
      "text/plain": "<Axes: >"
     },
     "execution_count": 194,
     "metadata": {},
     "output_type": "execute_result"
    },
    {
     "data": {
      "text/plain": "<Figure size 640x480 with 2 Axes>",
      "image/png": "[encoded data removed]"
     },
     "metadata": {},
     "output_type": "display_data"
    }
   ],
   "source": [
    "sns.heatmap(X_fe.corr(), cmap=\"BrBG\")"
   ],
   "metadata": {
    "collapsed": false,
    "ExecuteTime": {
     "start_time": "2023-04-17T21:05:04.180105Z",
     "end_time": "2023-04-17T21:05:04.518390Z"
    }
   }
  },
  {
   "cell_type": "code",
   "execution_count": 195,
   "outputs": [],
   "source": [
    "# X_train, X_test, y_train, y_test = train_test_split(\n",
    "#     X_fe, y, test_size=0.2, random_state=SEED\n",
    "# )"
   ],
   "metadata": {
    "collapsed": false,
    "ExecuteTime": {
     "start_time": "2023-04-17T21:05:04.560318Z",
     "end_time": "2023-04-17T21:05:04.628117Z"
    }
   }
  },
  {
   "cell_type": "markdown",
   "source": [
    "#### Après partie qui change"
   ],
   "metadata": {
    "collapsed": false
   }
  },
  {
   "cell_type": "code",
   "execution_count": 196,
   "outputs": [],
   "source": [
    "X_train_sm, y_train_sm = sm.fit_resample(X_train, y_train)"
   ],
   "metadata": {
    "collapsed": false,
    "ExecuteTime": {
     "start_time": "2023-04-17T21:05:06.041301Z",
     "end_time": "2023-04-17T21:05:06.074030Z"
    }
   }
  },
  {
   "cell_type": "code",
   "execution_count": 197,
   "outputs": [],
   "source": [
    "# X_train_sm = preprocessor.fit_transform(X_train_sm)\n",
    "# X_test = preprocessor.fit_transform(X_test)"
   ],
   "metadata": {
    "collapsed": false,
    "ExecuteTime": {
     "start_time": "2023-04-17T21:05:06.778854Z",
     "end_time": "2023-04-17T21:05:06.786819Z"
    }
   }
  },
  {
   "cell_type": "code",
   "execution_count": 198,
   "outputs": [
    {
     "data": {
      "text/plain": "1    0.5\n0    0.5\nName: target, dtype: float64"
     },
     "execution_count": 198,
     "metadata": {},
     "output_type": "execute_result"
    }
   ],
   "source": [
    "y_train_sm.value_counts(normalize=True)"
   ],
   "metadata": {
    "collapsed": false,
    "ExecuteTime": {
     "start_time": "2023-04-17T21:05:07.019837Z",
     "end_time": "2023-04-17T21:05:07.023875Z"
    }
   }
  },
  {
   "cell_type": "code",
   "execution_count": 199,
   "outputs": [
    {
     "name": "stderr",
     "output_type": "stream",
     "text": [
      "/home/ab2/.cache/pypoetry/virtualenvs/kaggle-competitions-ww632Mhq-py3.10/lib/python3.10/site-packages/sklearn/linear_model/_logistic.py:458: ConvergenceWarning: lbfgs failed to converge (status=1):\n",
      "STOP: TOTAL NO. of ITERATIONS REACHED LIMIT.\n",
      "\n",
      "Increase the number of iterations (max_iter) or scale the data as shown in:\n",
      "    https://scikit-learn.org/stable/modules/preprocessing.html\n",
      "Please also refer to the documentation for alternative solver options:\n",
      "    https://scikit-learn.org/stable/modules/linear_model.html#logistic-regression\n",
      "  n_iter_i = _check_optimize_result(\n",
      "/home/ab2/.cache/pypoetry/virtualenvs/kaggle-competitions-ww632Mhq-py3.10/lib/python3.10/site-packages/sklearn/svm/_base.py:1244: ConvergenceWarning: Liblinear failed to converge, increase the number of iterations.\n",
      "  warnings.warn(\n",
      "/home/ab2/.cache/pypoetry/virtualenvs/kaggle-competitions-ww632Mhq-py3.10/lib/python3.10/site-packages/sklearn/svm/_base.py:1244: ConvergenceWarning: Liblinear failed to converge, increase the number of iterations.\n",
      "  warnings.warn(\n",
      "/home/ab2/.cache/pypoetry/virtualenvs/kaggle-competitions-ww632Mhq-py3.10/lib/python3.10/site-packages/sklearn/svm/_base.py:1244: ConvergenceWarning: Liblinear failed to converge, increase the number of iterations.\n",
      "  warnings.warn(\n",
      "/home/ab2/.cache/pypoetry/virtualenvs/kaggle-competitions-ww632Mhq-py3.10/lib/python3.10/site-packages/sklearn/svm/_base.py:1244: ConvergenceWarning: Liblinear failed to converge, increase the number of iterations.\n",
      "  warnings.warn(\n",
      "/home/ab2/.cache/pypoetry/virtualenvs/kaggle-competitions-ww632Mhq-py3.10/lib/python3.10/site-packages/sklearn/svm/_base.py:1244: ConvergenceWarning: Liblinear failed to converge, increase the number of iterations.\n",
      "  warnings.warn(\n",
      "/home/ab2/.cache/pypoetry/virtualenvs/kaggle-competitions-ww632Mhq-py3.10/lib/python3.10/site-packages/sklearn/linear_model/_logistic.py:458: ConvergenceWarning: lbfgs failed to converge (status=1):\n",
      "STOP: TOTAL NO. of ITERATIONS REACHED LIMIT.\n",
      "\n",
      "Increase the number of iterations (max_iter) or scale the data as shown in:\n",
      "    https://scikit-learn.org/stable/modules/preprocessing.html\n",
      "Please also refer to the documentation for alternative solver options:\n",
      "    https://scikit-learn.org/stable/modules/linear_model.html#logistic-regression\n",
      "  n_iter_i = _check_optimize_result(\n"
     ]
    }
   ],
   "source": [
    "prefix = \"SMOTE\"\n",
    "results = evaluate_models(models, prefix, X_train_sm, X_test, y_train_sm, y_test)"
   ],
   "metadata": {
    "collapsed": false,
    "ExecuteTime": {
     "start_time": "2023-04-17T21:05:07.648512Z",
     "end_time": "2023-04-17T21:05:21.867132Z"
    }
   }
  },
  {
   "cell_type": "code",
   "execution_count": 200,
   "outputs": [
    {
     "data": {
      "text/plain": "[['SMOTE/RandomForestClassifier', 0.8443905817174514],\n ['SMOTE/VotingClassifier', 0.8322714681440443],\n ['SMOTE/CatBoostClassifier', 0.8314404432132964],\n ['SMOTE/XGBClassifier', 0.8259695290858726],\n ['SMOTE/LGBMClassifier', 0.8236149584487535],\n ['SMOTE/LogisticRegression', 0.7861495844875347],\n ['SMOTE/LinearDiscriminantAnalysis', 0.7814404432132964],\n ['SMOTE/LinearSVC', 0.7455678670360112],\n ['SMOTE/DecisionTreeClassifier', 0.7078947368421054],\n ['SMOTE/KNeighborsClassifier5', 0.6702908587257618],\n ['SMOTE/KNeighborsClassifier15', 0.6344875346260388],\n ['SMOTE/DummyClassifier_Uniform', 0.5],\n ['SMOTE/DummyClassifier_Constant0', 0.5],\n ['SMOTE/DummyClassifier_Constant1', 0.5]]"
     },
     "execution_count": 200,
     "metadata": {},
     "output_type": "execute_result"
    }
   ],
   "source": [
    "sorted(results, key=lambda x: x[1], reverse=True)"
   ],
   "metadata": {
    "collapsed": false,
    "ExecuteTime": {
     "start_time": "2023-04-17T21:05:21.867347Z",
     "end_time": "2023-04-17T21:05:21.875376Z"
    }
   }
  },
  {
   "cell_type": "code",
   "execution_count": 179,
   "outputs": [
    {
     "data": {
      "text/plain": "[['SMOTE/CatBoostClassifier', 0.8344875346260388],\n ['SMOTE/VotingClassifier', 0.8271468144044322],\n ['SMOTE/RandomForestClassifier', 0.8266620498614958],\n ['SMOTE/LGBMClassifier', 0.810803324099723],\n ['SMOTE/LinearDiscriminantAnalysis', 0.8029085872576177],\n ['SMOTE/XGBClassifier', 0.8018005540166205],\n ['SMOTE/LogisticRegression', 0.7994459833795015],\n ['SMOTE/LinearSVC', 0.7785318559556786],\n ['SMOTE/DecisionTreeClassifier', 0.6578947368421053],\n ['SMOTE/KNeighborsClassifier5', 0.6499307479224378],\n ['SMOTE/KNeighborsClassifier15', 0.6357340720221607],\n ['SMOTE/DummyClassifier_Uniform', 0.5],\n ['SMOTE/DummyClassifier_Constant0', 0.5],\n ['SMOTE/DummyClassifier_Constant1', 0.5]]"
     },
     "execution_count": 179,
     "metadata": {},
     "output_type": "execute_result"
    }
   ],
   "source": [
    "sorted(results, key=lambda x: x[1], reverse=True)"
   ],
   "metadata": {
    "collapsed": false,
    "ExecuteTime": {
     "start_time": "2023-04-17T21:03:24.413281Z",
     "end_time": "2023-04-17T21:03:24.417838Z"
    }
   }
  },
  {
   "cell_type": "markdown",
   "source": [
    "# Soumission Kaggle"
   ],
   "metadata": {
    "collapsed": false
   }
  },
  {
   "cell_type": "code",
   "execution_count": 185,
   "outputs": [],
   "source": [
    "X_kaggle = pd.read_csv(\"data/test.csv\", index_col=\"id\")"
   ],
   "metadata": {
    "collapsed": false,
    "ExecuteTime": {
     "start_time": "2023-04-17T21:04:21.666635Z",
     "end_time": "2023-04-17T21:04:21.676006Z"
    }
   }
  },
  {
   "cell_type": "code",
   "execution_count": 186,
   "outputs": [
    {
     "data": {
      "text/plain": "     gravity    ph  osmo  cond  urea   calc\nid                                         \n414    1.017  5.24   345  11.5   152   1.16\n415    1.020  5.68   874  29.0   385   3.46\n416    1.024  5.36   698  19.5   354  13.00\n417    1.020  5.33   668  25.3   252   3.46\n418    1.011  5.87   567  29.0   457   2.36",
      "text/html": "<div>\n<style scoped>\n    .dataframe tbody tr th:only-of-type {\n        vertical-align: middle;\n    }\n\n    .dataframe tbody tr th {\n        vertical-align: top;\n    }\n\n    .dataframe thead th {\n        text-align: right;\n    }\n</style>\n<table border=\"1\" class=\"dataframe\">\n  <thead>\n    <tr style=\"text-align: right;\">\n      <th></th>\n      <th>gravity</th>\n      <th>ph</th>\n      <th>osmo</th>\n      <th>cond</th>\n      <th>urea</th>\n      <th>calc</th>\n    </tr>\n    <tr>\n      <th>id</th>\n      <th></th>\n      <th></th>\n      <th></th>\n      <th></th>\n      <th></th>\n      <th></th>\n    </tr>\n  </thead>\n  <tbody>\n    <tr>\n      <th>414</th>\n      <td>1.017</td>\n      <td>5.24</td>\n      <td>345</td>\n      <td>11.5</td>\n      <td>152</td>\n      <td>1.16</td>\n    </tr>\n    <tr>\n      <th>415</th>\n      <td>1.020</td>\n      <td>5.68</td>\n      <td>874</td>\n      <td>29.0</td>\n      <td>385</td>\n      <td>3.46</td>\n    </tr>\n    <tr>\n      <th>416</th>\n      <td>1.024</td>\n      <td>5.36</td>\n      <td>698</td>\n      <td>19.5</td>\n      <td>354</td>\n      <td>13.00</td>\n    </tr>\n    <tr>\n      <th>417</th>\n      <td>1.020</td>\n      <td>5.33</td>\n      <td>668</td>\n      <td>25.3</td>\n      <td>252</td>\n      <td>3.46</td>\n    </tr>\n    <tr>\n      <th>418</th>\n      <td>1.011</td>\n      <td>5.87</td>\n      <td>567</td>\n      <td>29.0</td>\n      <td>457</td>\n      <td>2.36</td>\n    </tr>\n  </tbody>\n</table>\n</div>"
     },
     "execution_count": 186,
     "metadata": {},
     "output_type": "execute_result"
    }
   ],
   "source": [
    "X_kaggle.head()"
   ],
   "metadata": {
    "collapsed": false,
    "ExecuteTime": {
     "start_time": "2023-04-17T21:04:21.908861Z",
     "end_time": "2023-04-17T21:04:21.912679Z"
    }
   }
  },
  {
   "cell_type": "code",
   "execution_count": 217,
   "outputs": [],
   "source": [
    "best_model = models[7][0]"
   ],
   "metadata": {
    "collapsed": false,
    "ExecuteTime": {
     "start_time": "2023-04-17T21:16:59.255535Z",
     "end_time": "2023-04-17T21:16:59.299707Z"
    }
   }
  },
  {
   "cell_type": "code",
   "execution_count": 218,
   "outputs": [
    {
     "data": {
      "text/plain": "XGBClassifier(base_score=None, booster=None, callbacks=None,\n              colsample_bylevel=None, colsample_bynode=None,\n              colsample_bytree=None, early_stopping_rounds=None,\n              enable_categorical=False, eval_metric=None, feature_types=None,\n              gamma=None, gpu_id=None, grow_policy=None, importance_type=None,\n              interaction_constraints=None, learning_rate=None, max_bin=None,\n              max_cat_threshold=None, max_cat_to_onehot=None,\n              max_delta_step=None, max_depth=None, max_leaves=None,\n              min_child_weight=None, missing=nan, monotone_constraints=None,\n              n_estimators=100, n_jobs=None, num_parallel_tree=None,\n              predictor=None, random_state=0, ...)",
      "text/html": "<style>#sk-container-id-7 {color: black;background-color: white;}#sk-container-id-7 pre{padding: 0;}#sk-container-id-7 div.sk-toggleable {background-color: white;}#sk-container-id-7 label.sk-toggleable__label {cursor: pointer;display: block;width: 100%;margin-bottom: 0;padding: 0.3em;box-sizing: border-box;text-align: center;}#sk-container-id-7 label.sk-toggleable__label-arrow:before {content: \"▸\";float: left;margin-right: 0.25em;color: #696969;}#sk-container-id-7 label.sk-toggleable__label-arrow:hover:before {color: black;}#sk-container-id-7 div.sk-estimator:hover label.sk-toggleable__label-arrow:before {color: black;}#sk-container-id-7 div.sk-toggleable__content {max-height: 0;max-width: 0;overflow: hidden;text-align: left;background-color: #f0f8ff;}#sk-container-id-7 div.sk-toggleable__content pre {margin: 0.2em;color: black;border-radius: 0.25em;background-color: #f0f8ff;}#sk-container-id-7 input.sk-toggleable__control:checked~div.sk-toggleable__content {max-height: 200px;max-width: 100%;overflow: auto;}#sk-container-id-7 input.sk-toggleable__control:checked~label.sk-toggleable__label-arrow:before {content: \"▾\";}#sk-container-id-7 div.sk-estimator input.sk-toggleable__control:checked~label.sk-toggleable__label {background-color: #d4ebff;}#sk-container-id-7 div.sk-label input.sk-toggleable__control:checked~label.sk-toggleable__label {background-color: #d4ebff;}#sk-container-id-7 input.sk-hidden--visually {border: 0;clip: rect(1px 1px 1px 1px);clip: rect(1px, 1px, 1px, 1px);height: 1px;margin: -1px;overflow: hidden;padding: 0;position: absolute;width: 1px;}#sk-container-id-7 div.sk-estimator {font-family: monospace;background-color: #f0f8ff;border: 1px dotted black;border-radius: 0.25em;box-sizing: border-box;margin-bottom: 0.5em;}#sk-container-id-7 div.sk-estimator:hover {background-color: #d4ebff;}#sk-container-id-7 div.sk-parallel-item::after {content: \"\";width: 100%;border-bottom: 1px solid gray;flex-grow: 1;}#sk-container-id-7 div.sk-label:hover label.sk-toggleable__label {background-color: #d4ebff;}#sk-container-id-7 div.sk-serial::before {content: \"\";position: absolute;border-left: 1px solid gray;box-sizing: border-box;top: 0;bottom: 0;left: 50%;z-index: 0;}#sk-container-id-7 div.sk-serial {display: flex;flex-direction: column;align-items: center;background-color: white;padding-right: 0.2em;padding-left: 0.2em;position: relative;}#sk-container-id-7 div.sk-item {position: relative;z-index: 1;}#sk-container-id-7 div.sk-parallel {display: flex;align-items: stretch;justify-content: center;background-color: white;position: relative;}#sk-container-id-7 div.sk-item::before, #sk-container-id-7 div.sk-parallel-item::before {content: \"\";position: absolute;border-left: 1px solid gray;box-sizing: border-box;top: 0;bottom: 0;left: 50%;z-index: -1;}#sk-container-id-7 div.sk-parallel-item {display: flex;flex-direction: column;z-index: 1;position: relative;background-color: white;}#sk-container-id-7 div.sk-parallel-item:first-child::after {align-self: flex-end;width: 50%;}#sk-container-id-7 div.sk-parallel-item:last-child::after {align-self: flex-start;width: 50%;}#sk-container-id-7 div.sk-parallel-item:only-child::after {width: 0;}#sk-container-id-7 div.sk-dashed-wrapped {border: 1px dashed gray;margin: 0 0.4em 0.5em 0.4em;box-sizing: border-box;padding-bottom: 0.4em;background-color: white;}#sk-container-id-7 div.sk-label label {font-family: monospace;font-weight: bold;display: inline-block;line-height: 1.2em;}#sk-container-id-7 div.sk-label-container {text-align: center;}#sk-container-id-7 div.sk-container {/* jupyter's `normalize.less` sets `[hidden] { display: none; }` but bootstrap.min.css set `[hidden] { display: none !important; }` so we also need the `!important` here to be able to override the default hidden behavior on the sphinx rendered scikit-learn.org. See: https://github.com/scikit-learn/scikit-learn/issues/21755 */display: inline-block !important;position: relative;}#sk-container-id-7 div.sk-text-repr-fallback {display: none;}</style><div id=\"sk-container-id-7\" class=\"sk-top-container\"><div class=\"sk-text-repr-fallback\"><pre>XGBClassifier(base_score=None, booster=None, callbacks=None,\n              colsample_bylevel=None, colsample_bynode=None,\n              colsample_bytree=None, early_stopping_rounds=None,\n              enable_categorical=False, eval_metric=None, feature_types=None,\n              gamma=None, gpu_id=None, grow_policy=None, importance_type=None,\n              interaction_constraints=None, learning_rate=None, max_bin=None,\n              max_cat_threshold=None, max_cat_to_onehot=None,\n              max_delta_step=None, max_depth=None, max_leaves=None,\n              min_child_weight=None, missing=nan, monotone_constraints=None,\n              n_estimators=100, n_jobs=None, num_parallel_tree=None,\n              predictor=None, random_state=0, ...)</pre><b>In a Jupyter environment, please rerun this cell to show the HTML representation or trust the notebook. <br />On GitHub, the HTML representation is unable to render, please try loading this page with nbviewer.org.</b></div><div class=\"sk-container\" hidden><div class=\"sk-item\"><div class=\"sk-estimator sk-toggleable\"><input class=\"sk-toggleable__control sk-hidden--visually\" id=\"sk-estimator-id-12\" type=\"checkbox\" checked><label for=\"sk-estimator-id-12\" class=\"sk-toggleable__label sk-toggleable__label-arrow\">XGBClassifier</label><div class=\"sk-toggleable__content\"><pre>XGBClassifier(base_score=None, booster=None, callbacks=None,\n              colsample_bylevel=None, colsample_bynode=None,\n              colsample_bytree=None, early_stopping_rounds=None,\n              enable_categorical=False, eval_metric=None, feature_types=None,\n              gamma=None, gpu_id=None, grow_policy=None, importance_type=None,\n              interaction_constraints=None, learning_rate=None, max_bin=None,\n              max_cat_threshold=None, max_cat_to_onehot=None,\n              max_delta_step=None, max_depth=None, max_leaves=None,\n              min_child_weight=None, missing=nan, monotone_constraints=None,\n              n_estimators=100, n_jobs=None, num_parallel_tree=None,\n              predictor=None, random_state=0, ...)</pre></div></div></div></div></div>"
     },
     "execution_count": 218,
     "metadata": {},
     "output_type": "execute_result"
    }
   ],
   "source": [
    "best_model"
   ],
   "metadata": {
    "collapsed": false,
    "ExecuteTime": {
     "start_time": "2023-04-17T21:16:59.415534Z",
     "end_time": "2023-04-17T21:16:59.427745Z"
    }
   }
  },
  {
   "cell_type": "code",
   "execution_count": 219,
   "outputs": [
    {
     "data": {
      "text/plain": "XGBClassifier(base_score=None, booster=None, callbacks=None,\n              colsample_bylevel=None, colsample_bynode=None,\n              colsample_bytree=None, early_stopping_rounds=None,\n              enable_categorical=False, eval_metric=None, feature_types=None,\n              gamma=None, gpu_id=None, grow_policy=None, importance_type=None,\n              interaction_constraints=None, learning_rate=None, max_bin=None,\n              max_cat_threshold=None, max_cat_to_onehot=None,\n              max_delta_step=None, max_depth=None, max_leaves=None,\n              min_child_weight=None, missing=nan, monotone_constraints=None,\n              n_estimators=100, n_jobs=None, num_parallel_tree=None,\n              predictor=None, random_state=0, ...)",
      "text/html": "<style>#sk-container-id-8 {color: black;background-color: white;}#sk-container-id-8 pre{padding: 0;}#sk-container-id-8 div.sk-toggleable {background-color: white;}#sk-container-id-8 label.sk-toggleable__label {cursor: pointer;display: block;width: 100%;margin-bottom: 0;padding: 0.3em;box-sizing: border-box;text-align: center;}#sk-container-id-8 label.sk-toggleable__label-arrow:before {content: \"▸\";float: left;margin-right: 0.25em;color: #696969;}#sk-container-id-8 label.sk-toggleable__label-arrow:hover:before {color: black;}#sk-container-id-8 div.sk-estimator:hover label.sk-toggleable__label-arrow:before {color: black;}#sk-container-id-8 div.sk-toggleable__content {max-height: 0;max-width: 0;overflow: hidden;text-align: left;background-color: #f0f8ff;}#sk-container-id-8 div.sk-toggleable__content pre {margin: 0.2em;color: black;border-radius: 0.25em;background-color: #f0f8ff;}#sk-container-id-8 input.sk-toggleable__control:checked~div.sk-toggleable__content {max-height: 200px;max-width: 100%;overflow: auto;}#sk-container-id-8 input.sk-toggleable__control:checked~label.sk-toggleable__label-arrow:before {content: \"▾\";}#sk-container-id-8 div.sk-estimator input.sk-toggleable__control:checked~label.sk-toggleable__label {background-color: #d4ebff;}#sk-container-id-8 div.sk-label input.sk-toggleable__control:checked~label.sk-toggleable__label {background-color: #d4ebff;}#sk-container-id-8 input.sk-hidden--visually {border: 0;clip: rect(1px 1px 1px 1px);clip: rect(1px, 1px, 1px, 1px);height: 1px;margin: -1px;overflow: hidden;padding: 0;position: absolute;width: 1px;}#sk-container-id-8 div.sk-estimator {font-family: monospace;background-color: #f0f8ff;border: 1px dotted black;border-radius: 0.25em;box-sizing: border-box;margin-bottom: 0.5em;}#sk-container-id-8 div.sk-estimator:hover {background-color: #d4ebff;}#sk-container-id-8 div.sk-parallel-item::after {content: \"\";width: 100%;border-bottom: 1px solid gray;flex-grow: 1;}#sk-container-id-8 div.sk-label:hover label.sk-toggleable__label {background-color: #d4ebff;}#sk-container-id-8 div.sk-serial::before {content: \"\";position: absolute;border-left: 1px solid gray;box-sizing: border-box;top: 0;bottom: 0;left: 50%;z-index: 0;}#sk-container-id-8 div.sk-serial {display: flex;flex-direction: column;align-items: center;background-color: white;padding-right: 0.2em;padding-left: 0.2em;position: relative;}#sk-container-id-8 div.sk-item {position: relative;z-index: 1;}#sk-container-id-8 div.sk-parallel {display: flex;align-items: stretch;justify-content: center;background-color: white;position: relative;}#sk-container-id-8 div.sk-item::before, #sk-container-id-8 div.sk-parallel-item::before {content: \"\";position: absolute;border-left: 1px solid gray;box-sizing: border-box;top: 0;bottom: 0;left: 50%;z-index: -1;}#sk-container-id-8 div.sk-parallel-item {display: flex;flex-direction: column;z-index: 1;position: relative;background-color: white;}#sk-container-id-8 div.sk-parallel-item:first-child::after {align-self: flex-end;width: 50%;}#sk-container-id-8 div.sk-parallel-item:last-child::after {align-self: flex-start;width: 50%;}#sk-container-id-8 div.sk-parallel-item:only-child::after {width: 0;}#sk-container-id-8 div.sk-dashed-wrapped {border: 1px dashed gray;margin: 0 0.4em 0.5em 0.4em;box-sizing: border-box;padding-bottom: 0.4em;background-color: white;}#sk-container-id-8 div.sk-label label {font-family: monospace;font-weight: bold;display: inline-block;line-height: 1.2em;}#sk-container-id-8 div.sk-label-container {text-align: center;}#sk-container-id-8 div.sk-container {/* jupyter's `normalize.less` sets `[hidden] { display: none; }` but bootstrap.min.css set `[hidden] { display: none !important; }` so we also need the `!important` here to be able to override the default hidden behavior on the sphinx rendered scikit-learn.org. See: https://github.com/scikit-learn/scikit-learn/issues/21755 */display: inline-block !important;position: relative;}#sk-container-id-8 div.sk-text-repr-fallback {display: none;}</style><div id=\"sk-container-id-8\" class=\"sk-top-container\"><div class=\"sk-text-repr-fallback\"><pre>XGBClassifier(base_score=None, booster=None, callbacks=None,\n              colsample_bylevel=None, colsample_bynode=None,\n              colsample_bytree=None, early_stopping_rounds=None,\n              enable_categorical=False, eval_metric=None, feature_types=None,\n              gamma=None, gpu_id=None, grow_policy=None, importance_type=None,\n              interaction_constraints=None, learning_rate=None, max_bin=None,\n              max_cat_threshold=None, max_cat_to_onehot=None,\n              max_delta_step=None, max_depth=None, max_leaves=None,\n              min_child_weight=None, missing=nan, monotone_constraints=None,\n              n_estimators=100, n_jobs=None, num_parallel_tree=None,\n              predictor=None, random_state=0, ...)</pre><b>In a Jupyter environment, please rerun this cell to show the HTML representation or trust the notebook. <br />On GitHub, the HTML representation is unable to render, please try loading this page with nbviewer.org.</b></div><div class=\"sk-container\" hidden><div class=\"sk-item\"><div class=\"sk-estimator sk-toggleable\"><input class=\"sk-toggleable__control sk-hidden--visually\" id=\"sk-estimator-id-13\" type=\"checkbox\" checked><label for=\"sk-estimator-id-13\" class=\"sk-toggleable__label sk-toggleable__label-arrow\">XGBClassifier</label><div class=\"sk-toggleable__content\"><pre>XGBClassifier(base_score=None, booster=None, callbacks=None,\n              colsample_bylevel=None, colsample_bynode=None,\n              colsample_bytree=None, early_stopping_rounds=None,\n              enable_categorical=False, eval_metric=None, feature_types=None,\n              gamma=None, gpu_id=None, grow_policy=None, importance_type=None,\n              interaction_constraints=None, learning_rate=None, max_bin=None,\n              max_cat_threshold=None, max_cat_to_onehot=None,\n              max_delta_step=None, max_depth=None, max_leaves=None,\n              min_child_weight=None, missing=nan, monotone_constraints=None,\n              n_estimators=100, n_jobs=None, num_parallel_tree=None,\n              predictor=None, random_state=0, ...)</pre></div></div></div></div></div>"
     },
     "execution_count": 219,
     "metadata": {},
     "output_type": "execute_result"
    }
   ],
   "source": [
    "best_model.fit(X_train_sm, y_train_sm)"
   ],
   "metadata": {
    "collapsed": false,
    "ExecuteTime": {
     "start_time": "2023-04-17T21:17:03.033839Z",
     "end_time": "2023-04-17T21:17:03.178863Z"
    }
   }
  },
  {
   "cell_type": "code",
   "execution_count": 220,
   "outputs": [],
   "source": [
    "kaggle_pred = best_model.predict_proba(X_kaggle)"
   ],
   "metadata": {
    "collapsed": false,
    "ExecuteTime": {
     "start_time": "2023-04-17T21:17:03.417246Z",
     "end_time": "2023-04-17T21:17:03.444040Z"
    }
   }
  },
  {
   "cell_type": "code",
   "execution_count": 221,
   "outputs": [
    {
     "data": {
      "text/plain": "array([[9.57635760e-01, 4.23642099e-02],\n       [1.11627817e-01, 8.88372183e-01],\n       [2.83143520e-02, 9.71685648e-01],\n       [4.46120381e-01, 5.53879619e-01],\n       [7.18798399e-01, 2.81201631e-01],\n       [2.48896599e-01, 7.51103401e-01],\n       [8.34273458e-01, 1.65726528e-01],\n       [4.04486418e-01, 5.95513582e-01],\n       [4.29535449e-01, 5.70464551e-01],\n       [9.92434561e-01, 7.56544946e-03],\n       [9.72642899e-01, 2.73571201e-02],\n       [9.89162266e-01, 1.08377188e-02],\n       [4.93061543e-03, 9.95069385e-01],\n       [5.83133101e-02, 9.41686690e-01],\n       [4.79548872e-01, 5.20451128e-01],\n       [8.54037523e-01, 1.45962447e-01],\n       [7.70783067e-01, 2.29216903e-01],\n       [9.60007429e-01, 3.99925634e-02],\n       [9.71451163e-01, 2.85488330e-02],\n       [9.96536672e-01, 3.46330344e-03],\n       [9.88738120e-01, 1.12618785e-02],\n       [9.94478941e-01, 5.52108185e-03],\n       [9.52842057e-01, 4.71579693e-02],\n       [7.05352604e-01, 2.94647396e-01],\n       [2.35846639e-02, 9.76415336e-01],\n       [9.39805031e-01, 6.01949766e-02],\n       [9.09077108e-01, 9.09228846e-02],\n       [9.97932911e-01, 2.06711213e-03],\n       [8.72784495e-01, 1.27215520e-01],\n       [3.88693810e-03, 9.96113062e-01],\n       [7.98475742e-03, 9.92015243e-01],\n       [6.88220859e-01, 3.11779112e-01],\n       [2.02910066e-01, 7.97089934e-01],\n       [4.04486418e-01, 5.95513582e-01],\n       [9.29744840e-02, 9.07025516e-01],\n       [2.73940027e-01, 7.26059973e-01],\n       [5.39712608e-01, 4.60287392e-01],\n       [5.52529931e-01, 4.47470039e-01],\n       [9.99801695e-01, 1.98298570e-04],\n       [3.09920311e-03, 9.96900797e-01],\n       [7.86843181e-01, 2.13156834e-01],\n       [5.93525171e-03, 9.94064748e-01],\n       [4.42206860e-04, 9.99557793e-01],\n       [9.36904907e-01, 6.30951151e-02],\n       [4.38749790e-04, 9.99561250e-01],\n       [5.85820675e-02, 9.41417933e-01],\n       [7.72314072e-02, 9.22768593e-01],\n       [1.97082818e-01, 8.02917182e-01],\n       [8.02181184e-01, 1.97818816e-01],\n       [9.89719868e-01, 1.02801379e-02],\n       [1.70066357e-02, 9.82993364e-01],\n       [1.93363428e-03, 9.98066366e-01],\n       [7.90188849e-01, 2.09811166e-01],\n       [9.93391991e-01, 6.60797954e-03],\n       [9.76373076e-01, 2.36269217e-02],\n       [2.49280155e-01, 7.50719845e-01],\n       [7.27509260e-02, 9.27249074e-01],\n       [9.31434631e-01, 6.85653389e-02],\n       [5.99939704e-01, 4.00060296e-01],\n       [1.54446542e-01, 8.45553458e-01],\n       [7.10086226e-02, 9.28991377e-01],\n       [9.69604790e-01, 3.03952172e-02],\n       [8.89367819e-01, 1.10632189e-01],\n       [9.97010827e-01, 2.98918737e-03],\n       [9.69744742e-01, 3.02552525e-02],\n       [2.17728615e-02, 9.78227139e-01],\n       [9.99098778e-01, 9.01237188e-04],\n       [5.10221720e-03, 9.94897783e-01],\n       [9.95178223e-01, 4.82178479e-03],\n       [7.92777777e-01, 2.07222238e-01],\n       [9.96230781e-01, 3.76922032e-03],\n       [2.42151439e-01, 7.57848561e-01],\n       [9.67435241e-01, 3.25647667e-02],\n       [8.67358208e-01, 1.32641822e-01],\n       [5.17633796e-01, 4.82366174e-01],\n       [9.97643352e-01, 2.35663517e-03],\n       [3.92976403e-01, 6.07023597e-01],\n       [9.38362002e-01, 6.16379678e-02],\n       [1.72969460e-01, 8.27030540e-01],\n       [4.35870171e-01, 5.64129829e-01],\n       [9.83705044e-01, 1.62949320e-02],\n       [9.83739913e-01, 1.62600838e-02],\n       [7.33952284e-01, 2.66047746e-01],\n       [9.20569122e-01, 7.94308931e-02],\n       [1.19841099e-03, 9.98801589e-01],\n       [9.75736260e-01, 2.42637433e-02],\n       [9.99361515e-01, 6.38498226e-04],\n       [8.44009161e-01, 1.55990809e-01],\n       [9.53431129e-01, 4.65688482e-02],\n       [3.38298678e-02, 9.66170132e-01],\n       [6.94553137e-01, 3.05446863e-01],\n       [6.45756721e-03, 9.93542433e-01],\n       [9.96350646e-01, 3.64932441e-03],\n       [9.87793028e-01, 1.22069595e-02],\n       [1.73427463e-02, 9.82657254e-01],\n       [2.32398510e-04, 9.99767601e-01],\n       [9.94952679e-01, 5.04730549e-03],\n       [9.63889480e-01, 3.61105204e-02],\n       [9.55432773e-01, 4.45672125e-02],\n       [5.63657284e-03, 9.94363427e-01],\n       [9.90777969e-01, 9.22201853e-03],\n       [2.43916631e-01, 7.56083369e-01],\n       [1.06480002e-01, 8.93519998e-01],\n       [1.05793834e-01, 8.94206166e-01],\n       [1.47375107e-01, 8.52624893e-01],\n       [9.58289504e-02, 9.04171050e-01],\n       [7.52873421e-01, 2.47126549e-01],\n       [2.41346538e-01, 7.58653462e-01],\n       [8.78703594e-02, 9.12129641e-01],\n       [1.98588967e-02, 9.80141103e-01],\n       [5.36583185e-01, 4.63416815e-01],\n       [9.72312450e-01, 2.76875701e-02],\n       [1.38604939e-01, 8.61395061e-01],\n       [9.88398314e-01, 1.16016651e-02],\n       [9.92465317e-01, 7.53470464e-03],\n       [9.86579478e-01, 1.34205446e-02],\n       [8.21701527e-01, 1.78298503e-01],\n       [7.10522592e-01, 2.89477408e-01],\n       [9.98431146e-01, 1.56886538e-03],\n       [1.13171935e-02, 9.88682806e-01],\n       [9.97184515e-01, 2.81547476e-03],\n       [8.85597408e-01, 1.14402570e-01],\n       [9.99080539e-01, 9.19443730e-04],\n       [9.99535501e-01, 4.64522920e-04],\n       [9.99137819e-01, 8.62196903e-04],\n       [6.84203684e-01, 3.15796316e-01],\n       [4.28138375e-02, 9.57186162e-01],\n       [2.12013721e-03, 9.97879863e-01],\n       [3.19248378e-01, 6.80751622e-01],\n       [9.99672174e-01, 3.27816728e-04],\n       [3.47720981e-01, 6.52279019e-01],\n       [9.99791145e-01, 2.08825149e-04],\n       [9.96455431e-01, 3.54454922e-03],\n       [9.38617289e-01, 6.13826923e-02],\n       [6.45529389e-01, 3.54470611e-01],\n       [9.58859921e-04, 9.99041140e-01],\n       [2.39696920e-01, 7.60303080e-01],\n       [3.37656736e-02, 9.66234326e-01],\n       [9.96112227e-01, 3.88779538e-03],\n       [7.64330685e-01, 2.35669300e-01],\n       [9.95380878e-01, 4.61909734e-03],\n       [9.96988475e-01, 3.01151723e-03],\n       [9.95484412e-01, 4.51555941e-03],\n       [3.64013910e-01, 6.35986090e-01],\n       [1.61736608e-02, 9.83826339e-01],\n       [3.90267432e-01, 6.09732568e-01],\n       [9.97560740e-01, 2.43923650e-03],\n       [3.45039964e-02, 9.65496004e-01],\n       [9.25540924e-02, 9.07445908e-01],\n       [6.24720693e-01, 3.75279307e-01],\n       [5.73370457e-02, 9.42662954e-01],\n       [4.99446273e-01, 5.00553727e-01],\n       [9.90061820e-01, 9.93815437e-03],\n       [3.59486222e-01, 6.40513778e-01],\n       [5.61431170e-01, 4.38568830e-01],\n       [1.12412155e-01, 8.87587845e-01],\n       [1.49714947e-03, 9.98502851e-01],\n       [5.80698013e-01, 4.19301957e-01],\n       [9.56204891e-01, 4.37951088e-02],\n       [1.54642463e-02, 9.84535754e-01],\n       [1.07308388e-01, 8.92691612e-01],\n       [6.42404556e-02, 9.35759544e-01],\n       [5.92771173e-01, 4.07228798e-01],\n       [6.35193288e-01, 3.64806712e-01],\n       [7.05528855e-02, 9.29447114e-01],\n       [9.99609709e-01, 3.90294561e-04],\n       [4.30115163e-01, 5.69884837e-01],\n       [9.98856425e-01, 1.14356400e-03],\n       [1.28316939e-01, 8.71683061e-01],\n       [6.43619657e-01, 3.56380373e-01],\n       [5.83575189e-01, 4.16424811e-01],\n       [9.99405742e-01, 5.94267796e-04],\n       [1.91628933e-03, 9.98083711e-01],\n       [5.28234243e-03, 9.94717658e-01],\n       [9.70092416e-01, 2.99075563e-02],\n       [9.99781013e-01, 2.18959685e-04],\n       [9.52944338e-01, 4.70556542e-02],\n       [3.13841105e-02, 9.68615890e-01],\n       [5.52712083e-02, 9.44728792e-01],\n       [8.13241422e-01, 1.86758563e-01],\n       [2.69162655e-03, 9.97308373e-01],\n       [4.37474251e-03, 9.95625257e-01],\n       [9.90190625e-01, 9.80935432e-03],\n       [9.96002018e-01, 3.99797596e-03],\n       [6.74614370e-01, 3.25385630e-01],\n       [9.86619294e-01, 1.33806951e-02],\n       [9.89681840e-01, 1.03181368e-02],\n       [9.80851531e-01, 1.91484615e-02],\n       [2.35884666e-01, 7.64115334e-01],\n       [7.38320351e-01, 2.61679679e-01],\n       [9.95798767e-01, 4.20123199e-03],\n       [1.78885460e-02, 9.82111454e-01],\n       [1.00705028e-02, 9.89929497e-01],\n       [1.69989526e-01, 8.30010474e-01],\n       [3.02691460e-01, 6.97308540e-01],\n       [8.95104706e-01, 1.04895309e-01],\n       [7.17212677e-01, 2.82787353e-01],\n       [9.94791687e-01, 5.20834001e-03],\n       [5.85592270e-01, 4.14407700e-01],\n       [1.82595253e-02, 9.81740475e-01],\n       [4.42797482e-01, 5.57202518e-01],\n       [5.46754003e-02, 9.45324600e-01],\n       [9.86890614e-01, 1.31093906e-02],\n       [9.94360030e-01, 5.63995866e-03],\n       [2.66416192e-01, 7.33583808e-01],\n       [8.80921841e-01, 1.19078152e-01],\n       [7.65173435e-02, 9.23482656e-01],\n       [4.51248884e-03, 9.95487511e-01],\n       [9.59761202e-01, 4.02387716e-02],\n       [2.49353647e-02, 9.75064635e-01],\n       [9.95694816e-01, 4.30516666e-03],\n       [1.01357281e-01, 8.98642719e-01],\n       [4.34044003e-02, 9.56595600e-01],\n       [7.82053113e-01, 2.17946872e-01],\n       [4.79816258e-01, 5.20183742e-01],\n       [9.13825989e-01, 8.61740410e-02],\n       [5.11420250e-01, 4.88579780e-01],\n       [2.39883661e-02, 9.76011634e-01],\n       [9.51850057e-01, 4.81499471e-02],\n       [9.98906851e-01, 1.09314185e-03],\n       [7.62939453e-03, 9.92370605e-01],\n       [2.83892632e-01, 7.16107368e-01],\n       [5.54078698e-01, 4.45921332e-01],\n       [3.20622623e-01, 6.79377377e-01],\n       [9.62525785e-01, 3.74741964e-02],\n       [9.99844670e-01, 1.55323389e-04],\n       [9.82430220e-01, 1.75697878e-02],\n       [9.96013403e-01, 3.98657890e-03],\n       [1.99438095e-01, 8.00561905e-01],\n       [7.85637081e-01, 2.14362904e-01],\n       [8.85946333e-01, 1.14053681e-01],\n       [9.25486326e-01, 7.45136440e-02],\n       [2.80627310e-01, 7.19372690e-01],\n       [1.94794536e-02, 9.80520546e-01],\n       [5.62149286e-02, 9.43785071e-01],\n       [4.02291179e-01, 5.97708821e-01],\n       [5.20110190e-01, 4.79889810e-01],\n       [8.62427354e-01, 1.37572646e-01],\n       [2.08329141e-01, 7.91670859e-01],\n       [2.34767795e-02, 9.76523221e-01],\n       [9.34812367e-01, 6.51876554e-02],\n       [9.73823428e-01, 2.61766016e-02],\n       [7.77302384e-02, 9.22269762e-01],\n       [9.58559752e-01, 4.14402559e-02],\n       [9.38837945e-01, 6.11620583e-02],\n       [9.95860696e-01, 4.13932465e-03],\n       [3.94022465e-03, 9.96059775e-01],\n       [6.02186918e-02, 9.39781308e-01],\n       [1.14601612e-01, 8.85398388e-01],\n       [4.37986553e-01, 5.62013447e-01],\n       [4.13949490e-02, 9.58605051e-01],\n       [9.99413431e-01, 5.86559589e-04],\n       [7.85602093e-01, 2.14397922e-01],\n       [9.96377707e-01, 3.62231885e-03],\n       [7.76371956e-01, 2.23628014e-01],\n       [2.24769115e-04, 9.99775231e-01],\n       [5.18750489e-01, 4.81249511e-01],\n       [2.14462280e-02, 9.78553772e-01],\n       [1.53245986e-01, 8.46754014e-01],\n       [9.00520921e-01, 9.94791016e-02],\n       [7.97055423e-01, 2.02944562e-01],\n       [8.01976502e-01, 1.98023498e-01],\n       [5.76515615e-01, 4.23484385e-01],\n       [2.83009410e-02, 9.71699059e-01],\n       [9.99056756e-01, 9.43233201e-04],\n       [9.87913609e-01, 1.20864119e-02],\n       [4.31795120e-02, 9.56820488e-01],\n       [3.44821334e-01, 6.55178666e-01],\n       [9.99708414e-01, 2.91564560e-04],\n       [3.60978603e-01, 6.39021397e-01],\n       [9.72322822e-02, 9.02767718e-01],\n       [5.88114858e-02, 9.41188514e-01],\n       [9.79990959e-01, 2.00090688e-02],\n       [5.86282611e-02, 9.41371739e-01],\n       [9.97941315e-01, 2.05865549e-03],\n       [2.62733221e-01, 7.37266779e-01]], dtype=float32)"
     },
     "execution_count": 221,
     "metadata": {},
     "output_type": "execute_result"
    }
   ],
   "source": [
    "kaggle_pred"
   ],
   "metadata": {
    "collapsed": false,
    "ExecuteTime": {
     "start_time": "2023-04-17T21:17:05.977693Z",
     "end_time": "2023-04-17T21:17:05.982218Z"
    }
   }
  },
  {
   "cell_type": "code",
   "execution_count": 222,
   "outputs": [],
   "source": [
    "kaggle_pred = pd.DataFrame(kaggle_pred[:, 1], index=X_kaggle.index, columns=[\"target\"])"
   ],
   "metadata": {
    "collapsed": false,
    "ExecuteTime": {
     "start_time": "2023-04-17T21:17:21.153958Z",
     "end_time": "2023-04-17T21:17:21.168988Z"
    }
   }
  },
  {
   "cell_type": "code",
   "execution_count": 223,
   "outputs": [],
   "source": [
    "kaggle_pred.to_csv(\"data/results/xgb_kaggle.csv\")"
   ],
   "metadata": {
    "collapsed": false,
    "ExecuteTime": {
     "start_time": "2023-04-17T21:17:28.753805Z",
     "end_time": "2023-04-17T21:17:28.761130Z"
    }
   }
  },
  {
   "cell_type": "markdown",
   "source": [
    "# Sauvegarde des données"
   ],
   "metadata": {
    "collapsed": false
   }
  },
  {
   "cell_type": "code",
   "execution_count": null,
   "outputs": [],
   "source": [
    "score_modeles_df = pd.DataFrame(score_modeles, columns=[\"Modèle\", \"Métrique\", \"Valeur\"])"
   ],
   "metadata": {
    "collapsed": false,
    "ExecuteTime": {
     "start_time": "2023-04-08T14:40:59.125754Z",
     "end_time": "2023-04-08T14:40:59.135831Z"
    }
   }
  },
  {
   "cell_type": "code",
   "execution_count": null,
   "outputs": [],
   "source": [
    "score_modeles_df.to_csv(\"data/results/classifications.csv\", index=False)"
   ],
   "metadata": {
    "collapsed": false,
    "ExecuteTime": {
     "start_time": "2023-04-08T14:41:01.977800Z",
     "end_time": "2023-04-08T14:41:01.994391Z"
    }
   }
  }
 ],
 "metadata": {
  "kernelspec": {
   "display_name": "Python 3",
   "language": "python",
   "name": "python3"
  },
  "language_info": {
   "codemirror_mode": {
    "name": "ipython",
    "version": 2
   },
   "file_extension": ".py",
   "mimetype": "text/x-python",
   "name": "python",
   "nbconvert_exporter": "python",
   "pygments_lexer": "ipython2",
   "version": "2.7.6"
  }
 },
 "nbformat": 4,
 "nbformat_minor": 0
}
